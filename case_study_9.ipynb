{
 "cells": [
  {
   "cell_type": "markdown",
   "metadata": {},
   "source": [
    "# DonorsChoose"
   ]
  },
  {
   "cell_type": "markdown",
   "metadata": {},
   "source": [
    "<p>\n",
    "DonorsChoose.org receives hundreds of thousands of project proposals each year for classroom projects in need of funding. Right now, a large number of volunteers is needed to manually screen each submission before it's approved to be posted on the DonorsChoose.org website.\n",
    "</p>\n",
    "<p>\n",
    "    Next year, DonorsChoose.org expects to receive close to 500,000 project proposals. As a result, there are three main problems they need to solve:\n",
    "<ul>\n",
    "<li>\n",
    "    How to scale current manual processes and resources to screen 500,000 projects so that they can be posted as quickly and as efficiently as possible</li>\n",
    "    <li>How to increase the consistency of project vetting across different volunteers to improve the experience for teachers</li>\n",
    "    <li>How to focus volunteer time on the applications that need the most assistance</li>\n",
    "    </ul>\n",
    "</p>    \n",
    "<p>\n",
    "The goal of the competition is to predict whether or not a DonorsChoose.org project proposal submitted by a teacher will be approved, using the text of project descriptions as well as additional metadata about the project, teacher, and school. DonorsChoose.org can then use this information to identify projects most likely to need further review before approval.\n",
    "</p>"
   ]
  },
  {
   "cell_type": "markdown",
   "metadata": {},
   "source": [
    "## About the DonorsChoose Data Set\n",
    "\n",
    "The `train.csv` data set provided by DonorsChoose contains the following features:\n",
    "\n",
    "Feature | Description \n",
    "----------|---------------\n",
    "**`project_id`** | A unique identifier for the proposed project. **Example:** `p036502`   \n",
    "**`project_title`**    | Title of the project. **Examples:**<br><ul><li><code>Art Will Make You Happy!</code></li><li><code>First Grade Fun</code></li></ul> \n",
    "**`project_grade_category`** | Grade level of students for which the project is targeted. One of the following enumerated values: <br/><ul><li><code>Grades PreK-2</code></li><li><code>Grades 3-5</code></li><li><code>Grades 6-8</code></li><li><code>Grades 9-12</code></li></ul>  \n",
    " **`project_subject_categories`** | One or more (comma-separated) subject categories for the project from the following enumerated list of values:  <br/><ul><li><code>Applied Learning</code></li><li><code>Care &amp; Hunger</code></li><li><code>Health &amp; Sports</code></li><li><code>History &amp; Civics</code></li><li><code>Literacy &amp; Language</code></li><li><code>Math &amp; Science</code></li><li><code>Music &amp; The Arts</code></li><li><code>Special Needs</code></li><li><code>Warmth</code></li></ul><br/> **Examples:** <br/><ul><li><code>Music &amp; The Arts</code></li><li><code>Literacy &amp; Language, Math &amp; Science</code></li>  \n",
    "  **`school_state`** | State where school is located ([Two-letter U.S. postal code](https://en.wikipedia.org/wiki/List_of_U.S._state_abbreviations#Postal_codes)). **Example:** `WY`\n",
    "**`project_subject_subcategories`** | One or more (comma-separated) subject subcategories for the project. **Examples:** <br/><ul><li><code>Literacy</code></li><li><code>Literature &amp; Writing, Social Sciences</code></li></ul> \n",
    "**`project_resource_summary`** | An explanation of the resources needed for the project. **Example:** <br/><ul><li><code>My students need hands on literacy materials to manage sensory needs!</code</li></ul> \n",
    "**`project_essay_1`**    | First application essay<sup>*</sup>  \n",
    "**`project_essay_2`**    | Second application essay<sup>*</sup> \n",
    "**`project_essay_3`**    | Third application essay<sup>*</sup> \n",
    "**`project_essay_4`**    | Fourth application essay<sup>*</sup> \n",
    "**`project_submitted_datetime`** | Datetime when project application was submitted. **Example:** `2016-04-28 12:43:56.245`   \n",
    "**`teacher_id`** | A unique identifier for the teacher of the proposed project. **Example:** `bdf8baa8fedef6bfeec7ae4ff1c15c56`  \n",
    "**`teacher_prefix`** | Teacher's title. One of the following enumerated values: <br/><ul><li><code>nan</code></li><li><code>Dr.</code></li><li><code>Mr.</code></li><li><code>Mrs.</code></li><li><code>Ms.</code></li><li><code>Teacher.</code></li></ul>  \n",
    "**`teacher_number_of_previously_posted_projects`** | Number of project applications previously submitted by the same teacher. **Example:** `2` \n",
    "\n",
    "<sup>*</sup> See the section <b>Notes on the Essay Data</b> for more details about these features.\n",
    "\n",
    "Additionally, the `resources.csv` data set provides more data about the resources required for each project. Each line in this file represents a resource required by a project:\n",
    "\n",
    "Feature | Description \n",
    "----------|---------------\n",
    "**`id`** | A `project_id` value from the `train.csv` file.  **Example:** `p036502`   \n",
    "**`description`** | Desciption of the resource. **Example:** `Tenor Saxophone Reeds, Box of 25`   \n",
    "**`quantity`** | Quantity of the resource required. **Example:** `3`   \n",
    "**`price`** | Price of the resource required. **Example:** `9.95`   \n",
    "\n",
    "**Note:** Many projects require multiple resources. The `id` value corresponds to a `project_id` in train.csv, so you use it as a key to retrieve all resources needed for a project:\n",
    "\n",
    "The data set contains the following label (the value you will attempt to predict):\n",
    "\n",
    "Label | Description\n",
    "----------|---------------\n",
    "`project_is_approved` | A binary flag indicating whether DonorsChoose approved the project. A value of `0` indicates the project was not approved, and a value of `1` indicates the project was approved."
   ]
  },
  {
   "cell_type": "markdown",
   "metadata": {},
   "source": [
    "### Notes on the Essay Data\n",
    "\n",
    "<ul>\n",
    "Prior to May 17, 2016, the prompts for the essays were as follows:\n",
    "<li>__project_essay_1:__ \"Introduce us to your classroom\"</li>\n",
    "<li>__project_essay_2:__ \"Tell us more about your students\"</li>\n",
    "<li>__project_essay_3:__ \"Describe how your students will use the materials you're requesting\"</li>\n",
    "<li>__project_essay_4:__ \"Close by sharing why your project will make a difference\"</li>\n",
    "</ul>\n",
    "\n",
    "\n",
    "<ul>\n",
    "Starting on May 17, 2016, the number of essays was reduced from 4 to 2, and the prompts for the first 2 essays were changed to the following:<br>\n",
    "<li>__project_essay_1:__ \"Describe your students: What makes your students special? Specific details about their background, your neighborhood, and your school are all helpful.\"</li>\n",
    "<li>__project_essay_2:__ \"About your project: How will these materials make a difference in your students' learning and improve their school lives?\"</li>\n",
    "<br>For all projects with project_submitted_datetime of 2016-05-17 and later, the values of project_essay_3 and project_essay_4 will be NaN.\n",
    "</ul>"
   ]
  },
  {
   "cell_type": "code",
   "execution_count": 1,
   "metadata": {},
   "outputs": [
    {
     "name": "stderr",
     "output_type": "stream",
     "text": [
      "C:\\Users\\kishan\\Anaconda3\\lib\\site-packages\\gensim\\utils.py:1197: UserWarning: detected Windows; aliasing chunkize to chunkize_serial\n",
      "  warnings.warn(\"detected Windows; aliasing chunkize to chunkize_serial\")\n"
     ]
    }
   ],
   "source": [
    "%matplotlib inline \n",
    "import warnings\n",
    "warnings.filterwarnings(\"ignore\")\n",
    "import sqlite3\n",
    "import pandas as pd\n",
    "import numpy as np\n",
    "import nltk\n",
    "import string\n",
    "import matplotlib.pyplot as plt\n",
    "import seaborn as sns\n",
    "from sklearn.feature_extraction.text import TfidfTransformer\n",
    "from sklearn.feature_extraction.text import TfidfVectorizer\n",
    "\n",
    "from sklearn.feature_extraction.text import CountVectorizer\n",
    "from sklearn.metrics import confusion_matrix\n",
    "from sklearn import metrics\n",
    "from sklearn.metrics import roc_curve, auc\n",
    "from nltk.stem.porter import PorterStemmer\n",
    "\n",
    "import re\n",
    "# Tutorial about Python regular expressions: https://pymotw.com/2/re/\n",
    "import string\n",
    "from nltk.corpus import stopwords\n",
    "from nltk.stem import PorterStemmer\n",
    "from nltk.stem.wordnet import WordNetLemmatizer\n",
    "\n",
    "from gensim.models import Word2Vec\n",
    "from gensim.models import KeyedVectors\n",
    "import pickle\n",
    "\n",
    "from tqdm import tqdm\n",
    "import os\n",
    "from collections import Counter"
   ]
  },
  {
   "cell_type": "markdown",
   "metadata": {},
   "source": [
    "# Reading data"
   ]
  },
  {
   "cell_type": "code",
   "execution_count": 2,
   "metadata": {},
   "outputs": [],
   "source": [
    "project_data=pd.read_csv('train_data.csv')\n",
    "resource_data=pd.read_csv('resources.csv')"
   ]
  },
  {
   "cell_type": "code",
   "execution_count": 3,
   "metadata": {
    "scrolled": true
   },
   "outputs": [
    {
     "data": {
      "text/plain": [
       "(109248, 17)"
      ]
     },
     "execution_count": 3,
     "metadata": {},
     "output_type": "execute_result"
    }
   ],
   "source": [
    "project_data.shape"
   ]
  },
  {
   "cell_type": "code",
   "execution_count": 4,
   "metadata": {
    "scrolled": true
   },
   "outputs": [
    {
     "data": {
      "text/plain": [
       "(1541272, 4)"
      ]
     },
     "execution_count": 4,
     "metadata": {},
     "output_type": "execute_result"
    }
   ],
   "source": [
    "resource_data.shape"
   ]
  },
  {
   "cell_type": "code",
   "execution_count": 5,
   "metadata": {},
   "outputs": [
    {
     "data": {
      "text/plain": [
       "array(['Unnamed: 0', 'id', 'teacher_id', 'teacher_prefix', 'school_state',\n",
       "       'project_submitted_datetime', 'project_grade_category',\n",
       "       'project_subject_categories', 'project_subject_subcategories',\n",
       "       'project_title', 'project_essay_1', 'project_essay_2',\n",
       "       'project_essay_3', 'project_essay_4', 'project_resource_summary',\n",
       "       'teacher_number_of_previously_posted_projects',\n",
       "       'project_is_approved'], dtype=object)"
      ]
     },
     "execution_count": 5,
     "metadata": {},
     "output_type": "execute_result"
    }
   ],
   "source": [
    "project_data.columns.values # Colums represents feature "
   ]
  },
  {
   "cell_type": "code",
   "execution_count": 6,
   "metadata": {},
   "outputs": [
    {
     "data": {
      "text/html": [
       "<div>\n",
       "<style scoped>\n",
       "    .dataframe tbody tr th:only-of-type {\n",
       "        vertical-align: middle;\n",
       "    }\n",
       "\n",
       "    .dataframe tbody tr th {\n",
       "        vertical-align: top;\n",
       "    }\n",
       "\n",
       "    .dataframe thead th {\n",
       "        text-align: right;\n",
       "    }\n",
       "</style>\n",
       "<table border=\"1\" class=\"dataframe\">\n",
       "  <thead>\n",
       "    <tr style=\"text-align: right;\">\n",
       "      <th></th>\n",
       "      <th>Unnamed: 0</th>\n",
       "      <th>id</th>\n",
       "      <th>teacher_id</th>\n",
       "      <th>teacher_prefix</th>\n",
       "      <th>school_state</th>\n",
       "      <th>project_submitted_datetime</th>\n",
       "      <th>project_grade_category</th>\n",
       "      <th>project_subject_categories</th>\n",
       "      <th>project_subject_subcategories</th>\n",
       "      <th>project_title</th>\n",
       "      <th>project_essay_1</th>\n",
       "      <th>project_essay_2</th>\n",
       "      <th>project_essay_3</th>\n",
       "      <th>project_essay_4</th>\n",
       "      <th>project_resource_summary</th>\n",
       "      <th>teacher_number_of_previously_posted_projects</th>\n",
       "      <th>project_is_approved</th>\n",
       "    </tr>\n",
       "  </thead>\n",
       "  <tbody>\n",
       "    <tr>\n",
       "      <th>0</th>\n",
       "      <td>160221</td>\n",
       "      <td>p253737</td>\n",
       "      <td>c90749f5d961ff158d4b4d1e7dc665fc</td>\n",
       "      <td>Mrs.</td>\n",
       "      <td>IN</td>\n",
       "      <td>2016-12-05 13:43:57</td>\n",
       "      <td>Grades PreK-2</td>\n",
       "      <td>Literacy &amp; Language</td>\n",
       "      <td>ESL, Literacy</td>\n",
       "      <td>Educational Support for English Learners at Home</td>\n",
       "      <td>My students are English learners that are work...</td>\n",
       "      <td>\\\"The limits of your language are the limits o...</td>\n",
       "      <td>NaN</td>\n",
       "      <td>NaN</td>\n",
       "      <td>My students need opportunities to practice beg...</td>\n",
       "      <td>0</td>\n",
       "      <td>0</td>\n",
       "    </tr>\n",
       "    <tr>\n",
       "      <th>1</th>\n",
       "      <td>140945</td>\n",
       "      <td>p258326</td>\n",
       "      <td>897464ce9ddc600bced1151f324dd63a</td>\n",
       "      <td>Mr.</td>\n",
       "      <td>FL</td>\n",
       "      <td>2016-10-25 09:22:10</td>\n",
       "      <td>Grades 6-8</td>\n",
       "      <td>History &amp; Civics, Health &amp; Sports</td>\n",
       "      <td>Civics &amp; Government, Team Sports</td>\n",
       "      <td>Wanted: Projector for Hungry Learners</td>\n",
       "      <td>Our students arrive to our school eager to lea...</td>\n",
       "      <td>The projector we need for our school is very c...</td>\n",
       "      <td>NaN</td>\n",
       "      <td>NaN</td>\n",
       "      <td>My students need a projector to help with view...</td>\n",
       "      <td>7</td>\n",
       "      <td>1</td>\n",
       "    </tr>\n",
       "  </tbody>\n",
       "</table>\n",
       "</div>"
      ],
      "text/plain": [
       "   Unnamed: 0       id                        teacher_id teacher_prefix  \\\n",
       "0      160221  p253737  c90749f5d961ff158d4b4d1e7dc665fc           Mrs.   \n",
       "1      140945  p258326  897464ce9ddc600bced1151f324dd63a            Mr.   \n",
       "\n",
       "  school_state project_submitted_datetime project_grade_category  \\\n",
       "0           IN        2016-12-05 13:43:57          Grades PreK-2   \n",
       "1           FL        2016-10-25 09:22:10             Grades 6-8   \n",
       "\n",
       "          project_subject_categories     project_subject_subcategories  \\\n",
       "0                Literacy & Language                     ESL, Literacy   \n",
       "1  History & Civics, Health & Sports  Civics & Government, Team Sports   \n",
       "\n",
       "                                      project_title  \\\n",
       "0  Educational Support for English Learners at Home   \n",
       "1             Wanted: Projector for Hungry Learners   \n",
       "\n",
       "                                     project_essay_1  \\\n",
       "0  My students are English learners that are work...   \n",
       "1  Our students arrive to our school eager to lea...   \n",
       "\n",
       "                                     project_essay_2 project_essay_3  \\\n",
       "0  \\\"The limits of your language are the limits o...             NaN   \n",
       "1  The projector we need for our school is very c...             NaN   \n",
       "\n",
       "  project_essay_4                           project_resource_summary  \\\n",
       "0             NaN  My students need opportunities to practice beg...   \n",
       "1             NaN  My students need a projector to help with view...   \n",
       "\n",
       "   teacher_number_of_previously_posted_projects  project_is_approved  \n",
       "0                                             0                    0  \n",
       "1                                             7                    1  "
      ]
     },
     "execution_count": 6,
     "metadata": {},
     "output_type": "execute_result"
    }
   ],
   "source": [
    "project_data.head(2)"
   ]
  },
  {
   "cell_type": "code",
   "execution_count": 7,
   "metadata": {},
   "outputs": [],
   "source": [
    "y_value_counts=project_data['project_is_approved'].value_counts()"
   ]
  },
  {
   "cell_type": "code",
   "execution_count": 8,
   "metadata": {},
   "outputs": [
    {
     "data": {
      "text/plain": [
       "1    92706\n",
       "0    16542\n",
       "Name: project_is_approved, dtype: int64"
      ]
     },
     "execution_count": 8,
     "metadata": {},
     "output_type": "execute_result"
    }
   ],
   "source": [
    "y_value_counts"
   ]
  },
  {
   "cell_type": "code",
   "execution_count": 9,
   "metadata": {},
   "outputs": [
    {
     "name": "stdout",
     "output_type": "stream",
     "text": [
      "% of projects accepted are 0.8485830404217927\n"
     ]
    }
   ],
   "source": [
    "print(\"% of projects accepted are\",y_value_counts[1]/(y_value_counts[1]+y_value_counts[0]))"
   ]
  },
  {
   "cell_type": "code",
   "execution_count": 10,
   "metadata": {},
   "outputs": [],
   "source": [
    "# Pandas dataframe grouby count, mean: https://stackoverflow.com/a/19385591/4084039\n",
    "temp = pd.DataFrame(project_data.groupby(\"school_state\")[\"project_is_approved\"].apply(np.mean)).reset_index()\n"
   ]
  },
  {
   "cell_type": "code",
   "execution_count": 11,
   "metadata": {},
   "outputs": [
    {
     "name": "stdout",
     "output_type": "stream",
     "text": [
      "States with lowest % approvals\n",
      "   school_state  project_is_approved\n",
      "46           VT             0.800000\n",
      "7            DC             0.802326\n",
      "43           TX             0.813142\n",
      "26           MT             0.816327\n",
      "18           LA             0.831245\n",
      "==================================================\n",
      "States with highest % approvals\n",
      "   school_state  project_is_approved\n",
      "30           NH             0.873563\n",
      "35           OH             0.875152\n",
      "47           WA             0.876178\n",
      "28           ND             0.888112\n",
      "8            DE             0.897959\n"
     ]
    }
   ],
   "source": [
    "# https://www.csi.cuny.edu/sites/default/files/pdf/administration/ops/2letterstabbrev.pdf\n",
    "temp.sort_values(by=['project_is_approved'], inplace=True)\n",
    "print(\"States with lowest % approvals\")\n",
    "print(temp.head(5))\n",
    "print('='*50)\n",
    "print(\"States with highest % approvals\")\n",
    "print(temp.tail(5))"
   ]
  },
  {
   "cell_type": "markdown",
   "metadata": {},
   "source": [
    "## Data Analysis\n"
   ]
  },
  {
   "cell_type": "code",
   "execution_count": 12,
   "metadata": {},
   "outputs": [],
   "source": [
    "#stacked bar plots matplotlib: https://matplotlib.org/gallery/lines_bars_and_markers/bar_stacked.html\n",
    "def stack_plot(data, xtick, col2='project_is_approved', col3='total'):\n",
    "    ind = np.arange(data.shape[0])\n",
    "    \n",
    "    plt.figure(figsize=(20,5))\n",
    "    p1 = plt.bar(ind, data[col3].values)\n",
    "    p2 = plt.bar(ind, data[col2].values)\n",
    "\n",
    "    plt.ylabel('Projects')\n",
    "    plt.title('% of projects aproved state wise')\n",
    "    plt.xticks(ind, list(data[xtick].values))\n",
    "    plt.legend((p1[0], p2[0]), ('total', 'accepted'))\n",
    "    plt.show()"
   ]
  },
  {
   "cell_type": "code",
   "execution_count": 13,
   "metadata": {},
   "outputs": [],
   "source": [
    "def univariate_barplots(data, col1, col2='project_is_approved', top=False):\n",
    "    # Count number of zeros in dataframe python: https://stackoverflow.com/a/51540521/4084039\n",
    "    temp = pd.DataFrame(project_data.groupby(col1)[col2].agg(lambda x: x.eq(1).sum())).reset_index()\n",
    "\n",
    "    # Pandas dataframe grouby count: https://stackoverflow.com/a/19385591/4084039\n",
    "    temp['total'] = pd.DataFrame(project_data.groupby(col1)[col2].agg({'total':'count'})).reset_index()['total']\n",
    "    temp['Avg'] = pd.DataFrame(project_data.groupby(col1)[col2].agg({'Avg':'mean'})).reset_index()['Avg']\n",
    "    \n",
    "    temp.sort_values(by=['total'],inplace=True, ascending=False)\n",
    "    \n",
    "    if top:\n",
    "        temp = temp[0:top]\n",
    "    \n",
    "    stack_plot(temp, xtick=col1, col2=col2, col3='total')\n",
    "    print(temp.head(5))\n",
    "    print(\"=\"*50)\n",
    "    print(temp.tail(5))"
   ]
  },
  {
   "cell_type": "markdown",
   "metadata": {},
   "source": [
    "# ANALYZING CATEGORICAL FEATURES"
   ]
  },
  {
   "cell_type": "markdown",
   "metadata": {},
   "source": [
    "## Univariate Analysis on school state"
   ]
  },
  {
   "cell_type": "code",
   "execution_count": 14,
   "metadata": {},
   "outputs": [
    {
     "data": {
      "image/png": "[encoded data removed]",
      "text/plain": [
       "<Figure size 1440x360 with 1 Axes>"
      ]
     },
     "metadata": {},
     "output_type": "display_data"
    },
    {
     "name": "stdout",
     "output_type": "stream",
     "text": [
      "   school_state  project_is_approved  total       Avg\n",
      "4            CA                13205  15388  0.858136\n",
      "43           TX                 6014   7396  0.813142\n",
      "34           NY                 6291   7318  0.859661\n",
      "9            FL                 5144   6185  0.831690\n",
      "27           NC                 4353   5091  0.855038\n",
      "==================================================\n",
      "   school_state  project_is_approved  total       Avg\n",
      "39           RI                  243    285  0.852632\n",
      "26           MT                  200    245  0.816327\n",
      "28           ND                  127    143  0.888112\n",
      "50           WY                   82     98  0.836735\n",
      "46           VT                   64     80  0.800000\n"
     ]
    }
   ],
   "source": [
    "univariate_barplots(project_data, 'school_state', 'project_is_approved', False)"
   ]
  },
  {
   "cell_type": "markdown",
   "metadata": {},
   "source": [
    "## Univariate analysis on teacher prefix"
   ]
  },
  {
   "cell_type": "code",
   "execution_count": 15,
   "metadata": {},
   "outputs": [
    {
     "data": {
      "image/png": "[encoded data removed]",
      "text/plain": [
       "<Figure size 1440x360 with 1 Axes>"
      ]
     },
     "metadata": {},
     "output_type": "display_data"
    },
    {
     "name": "stdout",
     "output_type": "stream",
     "text": [
      "  teacher_prefix  project_is_approved  total       Avg\n",
      "2           Mrs.                48997  57269  0.855559\n",
      "3            Ms.                32860  38955  0.843537\n",
      "1            Mr.                 8960  10648  0.841473\n",
      "4        Teacher                 1877   2360  0.795339\n",
      "0            Dr.                    9     13  0.692308\n",
      "==================================================\n",
      "  teacher_prefix  project_is_approved  total       Avg\n",
      "2           Mrs.                48997  57269  0.855559\n",
      "3            Ms.                32860  38955  0.843537\n",
      "1            Mr.                 8960  10648  0.841473\n",
      "4        Teacher                 1877   2360  0.795339\n",
      "0            Dr.                    9     13  0.692308\n"
     ]
    }
   ],
   "source": [
    "univariate_barplots(project_data, 'teacher_prefix', 'project_is_approved' , top=False)"
   ]
  },
  {
   "cell_type": "markdown",
   "metadata": {},
   "source": [
    "## Univariate analysis on Project Grade Category"
   ]
  },
  {
   "cell_type": "code",
   "execution_count": 16,
   "metadata": {},
   "outputs": [
    {
     "data": {
      "image/png": "[encoded data removed]",
      "text/plain": [
       "<Figure size 1440x360 with 1 Axes>"
      ]
     },
     "metadata": {},
     "output_type": "display_data"
    },
    {
     "name": "stdout",
     "output_type": "stream",
     "text": [
      "  project_grade_category  project_is_approved  total       Avg\n",
      "3          Grades PreK-2                37536  44225  0.848751\n",
      "0             Grades 3-5                31729  37137  0.854377\n",
      "1             Grades 6-8                14258  16923  0.842522\n",
      "2            Grades 9-12                 9183  10963  0.837636\n",
      "==================================================\n",
      "  project_grade_category  project_is_approved  total       Avg\n",
      "3          Grades PreK-2                37536  44225  0.848751\n",
      "0             Grades 3-5                31729  37137  0.854377\n",
      "1             Grades 6-8                14258  16923  0.842522\n",
      "2            Grades 9-12                 9183  10963  0.837636\n"
     ]
    }
   ],
   "source": [
    "univariate_barplots(project_data, 'project_grade_category', 'project_is_approved', top=False)"
   ]
  },
  {
   "cell_type": "markdown",
   "metadata": {},
   "source": [
    "## Univariate analysis on Project Subject Categories"
   ]
  },
  {
   "cell_type": "code",
   "execution_count": 17,
   "metadata": {},
   "outputs": [],
   "source": [
    "catogories = list(project_data['project_subject_categories'].values)\n",
    "# remove special characters from list of strings python: https://stackoverflow.com/a/47301924/4084039\n",
    "\n",
    "# https://www.geeksforgeeks.org/removing-stop-words-nltk-python/\n",
    "# https://stackoverflow.com/questions/23669024/how-to-strip-a-specific-word-from-a-string\n",
    "# https://stackoverflow.com/questions/8270092/remove-all-whitespace-in-a-string-in-python\n",
    "cat_list = []\n",
    "for i in catogories:\n",
    "    temp = \"\"\n",
    "    # consider we have text like this \"Math & Science, Warmth, Care & Hunger\"\n",
    "    for j in i.split(','): # it will split it in three parts [\"Math & Science\", \"Warmth\", \"Care & Hunger\"]\n",
    "        if 'The' in j.split(): # this will split each of the catogory based on space \"Math & Science\"=> \"Math\",\"&\", \"Science\"\n",
    "            j=j.replace('The','') # if we have the words \"The\" we are going to replace it with ''(i.e removing 'The')\n",
    "        j = j.replace(' ','') # we are placeing all the ' '(space) with ''(empty) ex:\"Math & Science\"=>\"Math&Science\"\n",
    "        temp+=j.strip()+\" \" #\" abc \".strip() will return \"abc\", remove the trailing spaces\n",
    "        temp = temp.replace('&','_') # we are replacing the & value into \n",
    "    cat_list.append(temp.strip())"
   ]
  },
  {
   "cell_type": "code",
   "execution_count": 18,
   "metadata": {},
   "outputs": [
    {
     "data": {
      "text/html": [
       "<div>\n",
       "<style scoped>\n",
       "    .dataframe tbody tr th:only-of-type {\n",
       "        vertical-align: middle;\n",
       "    }\n",
       "\n",
       "    .dataframe tbody tr th {\n",
       "        vertical-align: top;\n",
       "    }\n",
       "\n",
       "    .dataframe thead th {\n",
       "        text-align: right;\n",
       "    }\n",
       "</style>\n",
       "<table border=\"1\" class=\"dataframe\">\n",
       "  <thead>\n",
       "    <tr style=\"text-align: right;\">\n",
       "      <th></th>\n",
       "      <th>Unnamed: 0</th>\n",
       "      <th>id</th>\n",
       "      <th>teacher_id</th>\n",
       "      <th>teacher_prefix</th>\n",
       "      <th>school_state</th>\n",
       "      <th>project_submitted_datetime</th>\n",
       "      <th>project_grade_category</th>\n",
       "      <th>project_subject_subcategories</th>\n",
       "      <th>project_title</th>\n",
       "      <th>project_essay_1</th>\n",
       "      <th>project_essay_2</th>\n",
       "      <th>project_essay_3</th>\n",
       "      <th>project_essay_4</th>\n",
       "      <th>project_resource_summary</th>\n",
       "      <th>teacher_number_of_previously_posted_projects</th>\n",
       "      <th>project_is_approved</th>\n",
       "      <th>clean_categories</th>\n",
       "    </tr>\n",
       "  </thead>\n",
       "  <tbody>\n",
       "    <tr>\n",
       "      <th>0</th>\n",
       "      <td>160221</td>\n",
       "      <td>p253737</td>\n",
       "      <td>c90749f5d961ff158d4b4d1e7dc665fc</td>\n",
       "      <td>Mrs.</td>\n",
       "      <td>IN</td>\n",
       "      <td>2016-12-05 13:43:57</td>\n",
       "      <td>Grades PreK-2</td>\n",
       "      <td>ESL, Literacy</td>\n",
       "      <td>Educational Support for English Learners at Home</td>\n",
       "      <td>My students are English learners that are work...</td>\n",
       "      <td>\\\"The limits of your language are the limits o...</td>\n",
       "      <td>NaN</td>\n",
       "      <td>NaN</td>\n",
       "      <td>My students need opportunities to practice beg...</td>\n",
       "      <td>0</td>\n",
       "      <td>0</td>\n",
       "      <td>Literacy_Language</td>\n",
       "    </tr>\n",
       "    <tr>\n",
       "      <th>1</th>\n",
       "      <td>140945</td>\n",
       "      <td>p258326</td>\n",
       "      <td>897464ce9ddc600bced1151f324dd63a</td>\n",
       "      <td>Mr.</td>\n",
       "      <td>FL</td>\n",
       "      <td>2016-10-25 09:22:10</td>\n",
       "      <td>Grades 6-8</td>\n",
       "      <td>Civics &amp; Government, Team Sports</td>\n",
       "      <td>Wanted: Projector for Hungry Learners</td>\n",
       "      <td>Our students arrive to our school eager to lea...</td>\n",
       "      <td>The projector we need for our school is very c...</td>\n",
       "      <td>NaN</td>\n",
       "      <td>NaN</td>\n",
       "      <td>My students need a projector to help with view...</td>\n",
       "      <td>7</td>\n",
       "      <td>1</td>\n",
       "      <td>History_Civics Health_Sports</td>\n",
       "    </tr>\n",
       "  </tbody>\n",
       "</table>\n",
       "</div>"
      ],
      "text/plain": [
       "   Unnamed: 0       id                        teacher_id teacher_prefix  \\\n",
       "0      160221  p253737  c90749f5d961ff158d4b4d1e7dc665fc           Mrs.   \n",
       "1      140945  p258326  897464ce9ddc600bced1151f324dd63a            Mr.   \n",
       "\n",
       "  school_state project_submitted_datetime project_grade_category  \\\n",
       "0           IN        2016-12-05 13:43:57          Grades PreK-2   \n",
       "1           FL        2016-10-25 09:22:10             Grades 6-8   \n",
       "\n",
       "      project_subject_subcategories  \\\n",
       "0                     ESL, Literacy   \n",
       "1  Civics & Government, Team Sports   \n",
       "\n",
       "                                      project_title  \\\n",
       "0  Educational Support for English Learners at Home   \n",
       "1             Wanted: Projector for Hungry Learners   \n",
       "\n",
       "                                     project_essay_1  \\\n",
       "0  My students are English learners that are work...   \n",
       "1  Our students arrive to our school eager to lea...   \n",
       "\n",
       "                                     project_essay_2 project_essay_3  \\\n",
       "0  \\\"The limits of your language are the limits o...             NaN   \n",
       "1  The projector we need for our school is very c...             NaN   \n",
       "\n",
       "  project_essay_4                           project_resource_summary  \\\n",
       "0             NaN  My students need opportunities to practice beg...   \n",
       "1             NaN  My students need a projector to help with view...   \n",
       "\n",
       "   teacher_number_of_previously_posted_projects  project_is_approved  \\\n",
       "0                                             0                    0   \n",
       "1                                             7                    1   \n",
       "\n",
       "               clean_categories  \n",
       "0             Literacy_Language  \n",
       "1  History_Civics Health_Sports  "
      ]
     },
     "execution_count": 18,
     "metadata": {},
     "output_type": "execute_result"
    }
   ],
   "source": [
    "project_data['clean_categories'] = cat_list\n",
    "project_data.drop(['project_subject_categories'], axis=1, inplace=True)\n",
    "project_data.head(2)"
   ]
  },
  {
   "cell_type": "code",
   "execution_count": 19,
   "metadata": {},
   "outputs": [
    {
     "data": {
      "image/png": "[encoded data removed]",
      "text/plain": [
       "<Figure size 1440x360 with 1 Axes>"
      ]
     },
     "metadata": {},
     "output_type": "display_data"
    },
    {
     "name": "stdout",
     "output_type": "stream",
     "text": [
      "                  clean_categories  project_is_approved  total       Avg\n",
      "24               Literacy_Language                20520  23655  0.867470\n",
      "32                    Math_Science                13991  17072  0.819529\n",
      "28  Literacy_Language Math_Science                12725  14636  0.869432\n",
      "8                    Health_Sports                 8640  10177  0.848973\n",
      "40                      Music_Arts                 4429   5180  0.855019\n",
      "==================================================\n",
      "                    clean_categories  project_is_approved  total       Avg\n",
      "19  History_Civics Literacy_Language                 1271   1421  0.894441\n",
      "14        Health_Sports SpecialNeeds                 1215   1391  0.873472\n",
      "50                Warmth Care_Hunger                 1212   1309  0.925898\n",
      "33      Math_Science AppliedLearning                 1019   1220  0.835246\n",
      "4       AppliedLearning Math_Science                  855   1052  0.812738\n"
     ]
    }
   ],
   "source": [
    "univariate_barplots(project_data, 'clean_categories', 'project_is_approved', top=20)"
   ]
  },
  {
   "cell_type": "code",
   "execution_count": 20,
   "metadata": {},
   "outputs": [],
   "source": [
    "from collections import Counter\n",
    "my_counter = Counter()\n",
    "for word in project_data['clean_categories'].values:\n",
    "    my_counter.update(word.split())"
   ]
  },
  {
   "cell_type": "code",
   "execution_count": 21,
   "metadata": {},
   "outputs": [
    {
     "data": {
      "image/png": "[encoded data removed]",
      "text/plain": [
       "<Figure size 1440x360 with 1 Axes>"
      ]
     },
     "metadata": {},
     "output_type": "display_data"
    }
   ],
   "source": [
    "# dict sort by value python: https://stackoverflow.com/a/613218/4084039\n",
    "cat_dict = dict(my_counter) \n",
    "sorted_cat_dict = dict(sorted(cat_dict.items(), key=lambda kv: kv[1]))\n",
    "\n",
    "\n",
    "ind = np.arange(len(sorted_cat_dict))\n",
    "plt.figure(figsize=(20,5))\n",
    "p1 = plt.bar(ind, list(sorted_cat_dict.values()))\n",
    "\n",
    "plt.ylabel('Projects')\n",
    "plt.title('Number of times these categories names repeated in projects')\n",
    "plt.xticks(ind, list(sorted_cat_dict.keys()))\n",
    "plt.show()"
   ]
  },
  {
   "cell_type": "code",
   "execution_count": 22,
   "metadata": {},
   "outputs": [
    {
     "name": "stdout",
     "output_type": "stream",
     "text": [
      "Warmth               :      1388\n",
      "Care_Hunger          :      1388\n",
      "History_Civics       :      5914\n",
      "Music_Arts           :     10293\n",
      "AppliedLearning      :     12135\n",
      "SpecialNeeds         :     13642\n",
      "Health_Sports        :     14223\n",
      "Math_Science         :     41421\n",
      "Literacy_Language    :     52239\n"
     ]
    }
   ],
   "source": [
    "for i, j in sorted_cat_dict.items():\n",
    "    print(\"{:20} :{:10}\".format(i,j))"
   ]
  },
  {
   "cell_type": "markdown",
   "metadata": {},
   "source": [
    "## Univariate analysis on Project Subject Subcategories"
   ]
  },
  {
   "cell_type": "code",
   "execution_count": 23,
   "metadata": {},
   "outputs": [],
   "source": [
    "sub_catogories = list(project_data['project_subject_subcategories'].values)\n",
    "# remove special characters from list of strings python: https://stackoverflow.com/a/47301924/4084039\n",
    "\n",
    "# https://www.geeksforgeeks.org/removing-stop-words-nltk-python/\n",
    "# https://stackoverflow.com/questions/23669024/how-to-strip-a-specific-word-from-a-string\n",
    "# https://stackoverflow.com/questions/8270092/remove-all-whitespace-in-a-string-in-python\n",
    "\n",
    "sub_cat_list = []\n",
    "for i in sub_catogories:\n",
    "    temp = \"\"\n",
    "    # consider we have text like this \"Math & Science, Warmth, Care & Hunger\"\n",
    "    for j in i.split(','): # it will split it in three parts [\"Math & Science\", \"Warmth\", \"Care & Hunger\"]\n",
    "        if 'The' in j.split(): # this will split each of the catogory based on space \"Math & Science\"=> \"Math\",\"&\", \"Science\"\n",
    "            j=j.replace('The','') # if we have the words \"The\" we are going to replace it with ''(i.e removing 'The')\n",
    "        j = j.replace(' ','') # we are placeing all the ' '(space) with ''(empty) ex:\"Math & Science\"=>\"Math&Science\"\n",
    "        temp +=j.strip()+\" \"#\" abc \".strip() will return \"abc\", remove the trailing spaces\n",
    "        temp = temp.replace('&','_')\n",
    "    sub_cat_list.append(temp.strip())"
   ]
  },
  {
   "cell_type": "code",
   "execution_count": 24,
   "metadata": {},
   "outputs": [
    {
     "data": {
      "text/html": [
       "<div>\n",
       "<style scoped>\n",
       "    .dataframe tbody tr th:only-of-type {\n",
       "        vertical-align: middle;\n",
       "    }\n",
       "\n",
       "    .dataframe tbody tr th {\n",
       "        vertical-align: top;\n",
       "    }\n",
       "\n",
       "    .dataframe thead th {\n",
       "        text-align: right;\n",
       "    }\n",
       "</style>\n",
       "<table border=\"1\" class=\"dataframe\">\n",
       "  <thead>\n",
       "    <tr style=\"text-align: right;\">\n",
       "      <th></th>\n",
       "      <th>Unnamed: 0</th>\n",
       "      <th>id</th>\n",
       "      <th>teacher_id</th>\n",
       "      <th>teacher_prefix</th>\n",
       "      <th>school_state</th>\n",
       "      <th>project_submitted_datetime</th>\n",
       "      <th>project_grade_category</th>\n",
       "      <th>project_title</th>\n",
       "      <th>project_essay_1</th>\n",
       "      <th>project_essay_2</th>\n",
       "      <th>project_essay_3</th>\n",
       "      <th>project_essay_4</th>\n",
       "      <th>project_resource_summary</th>\n",
       "      <th>teacher_number_of_previously_posted_projects</th>\n",
       "      <th>project_is_approved</th>\n",
       "      <th>clean_categories</th>\n",
       "      <th>clean_subcategories</th>\n",
       "    </tr>\n",
       "  </thead>\n",
       "  <tbody>\n",
       "    <tr>\n",
       "      <th>0</th>\n",
       "      <td>160221</td>\n",
       "      <td>p253737</td>\n",
       "      <td>c90749f5d961ff158d4b4d1e7dc665fc</td>\n",
       "      <td>Mrs.</td>\n",
       "      <td>IN</td>\n",
       "      <td>2016-12-05 13:43:57</td>\n",
       "      <td>Grades PreK-2</td>\n",
       "      <td>Educational Support for English Learners at Home</td>\n",
       "      <td>My students are English learners that are work...</td>\n",
       "      <td>\\\"The limits of your language are the limits o...</td>\n",
       "      <td>NaN</td>\n",
       "      <td>NaN</td>\n",
       "      <td>My students need opportunities to practice beg...</td>\n",
       "      <td>0</td>\n",
       "      <td>0</td>\n",
       "      <td>Literacy_Language</td>\n",
       "      <td>ESL Literacy</td>\n",
       "    </tr>\n",
       "    <tr>\n",
       "      <th>1</th>\n",
       "      <td>140945</td>\n",
       "      <td>p258326</td>\n",
       "      <td>897464ce9ddc600bced1151f324dd63a</td>\n",
       "      <td>Mr.</td>\n",
       "      <td>FL</td>\n",
       "      <td>2016-10-25 09:22:10</td>\n",
       "      <td>Grades 6-8</td>\n",
       "      <td>Wanted: Projector for Hungry Learners</td>\n",
       "      <td>Our students arrive to our school eager to lea...</td>\n",
       "      <td>The projector we need for our school is very c...</td>\n",
       "      <td>NaN</td>\n",
       "      <td>NaN</td>\n",
       "      <td>My students need a projector to help with view...</td>\n",
       "      <td>7</td>\n",
       "      <td>1</td>\n",
       "      <td>History_Civics Health_Sports</td>\n",
       "      <td>Civics_Government TeamSports</td>\n",
       "    </tr>\n",
       "  </tbody>\n",
       "</table>\n",
       "</div>"
      ],
      "text/plain": [
       "   Unnamed: 0       id                        teacher_id teacher_prefix  \\\n",
       "0      160221  p253737  c90749f5d961ff158d4b4d1e7dc665fc           Mrs.   \n",
       "1      140945  p258326  897464ce9ddc600bced1151f324dd63a            Mr.   \n",
       "\n",
       "  school_state project_submitted_datetime project_grade_category  \\\n",
       "0           IN        2016-12-05 13:43:57          Grades PreK-2   \n",
       "1           FL        2016-10-25 09:22:10             Grades 6-8   \n",
       "\n",
       "                                      project_title  \\\n",
       "0  Educational Support for English Learners at Home   \n",
       "1             Wanted: Projector for Hungry Learners   \n",
       "\n",
       "                                     project_essay_1  \\\n",
       "0  My students are English learners that are work...   \n",
       "1  Our students arrive to our school eager to lea...   \n",
       "\n",
       "                                     project_essay_2 project_essay_3  \\\n",
       "0  \\\"The limits of your language are the limits o...             NaN   \n",
       "1  The projector we need for our school is very c...             NaN   \n",
       "\n",
       "  project_essay_4                           project_resource_summary  \\\n",
       "0             NaN  My students need opportunities to practice beg...   \n",
       "1             NaN  My students need a projector to help with view...   \n",
       "\n",
       "   teacher_number_of_previously_posted_projects  project_is_approved  \\\n",
       "0                                             0                    0   \n",
       "1                                             7                    1   \n",
       "\n",
       "               clean_categories           clean_subcategories  \n",
       "0             Literacy_Language                  ESL Literacy  \n",
       "1  History_Civics Health_Sports  Civics_Government TeamSports  "
      ]
     },
     "execution_count": 24,
     "metadata": {},
     "output_type": "execute_result"
    }
   ],
   "source": [
    "project_data['clean_subcategories'] = sub_cat_list\n",
    "project_data.drop(['project_subject_subcategories'], axis=1, inplace=True)\n",
    "project_data.head(2)"
   ]
  },
  {
   "cell_type": "code",
   "execution_count": 25,
   "metadata": {},
   "outputs": [
    {
     "data": {
      "image/png": "[encoded data removed]",
      "text/plain": [
       "<Figure size 1440x360 with 1 Axes>"
      ]
     },
     "metadata": {},
     "output_type": "display_data"
    },
    {
     "name": "stdout",
     "output_type": "stream",
     "text": [
      "                clean_subcategories  project_is_approved  total       Avg\n",
      "317                        Literacy                 8371   9486  0.882458\n",
      "319            Literacy Mathematics                 7260   8325  0.872072\n",
      "331  Literature_Writing Mathematics                 5140   5923  0.867803\n",
      "318     Literacy Literature_Writing                 4823   5571  0.865733\n",
      "342                     Mathematics                 4385   5379  0.815207\n",
      "==================================================\n",
      "                    clean_subcategories  project_is_approved  total       Avg\n",
      "196       EnvironmentalScience Literacy                  389    444  0.876126\n",
      "127                                 ESL                  349    421  0.828979\n",
      "79                   College_CareerPrep                  343    421  0.814727\n",
      "17   AppliedSciences Literature_Writing                  361    420  0.859524\n",
      "3    AppliedSciences College_CareerPrep                  330    405  0.814815\n"
     ]
    }
   ],
   "source": [
    "univariate_barplots(project_data, 'clean_subcategories', 'project_is_approved', top=50)"
   ]
  },
  {
   "cell_type": "code",
   "execution_count": 26,
   "metadata": {},
   "outputs": [],
   "source": [
    "# count of all the words in corpus python: https://stackoverflow.com/a/22898595/4084039\n",
    "from collections import Counter\n",
    "my_counter = Counter()\n",
    "for word in project_data['clean_subcategories'].values:\n",
    "    my_counter.update(word.split())"
   ]
  },
  {
   "cell_type": "code",
   "execution_count": 27,
   "metadata": {},
   "outputs": [
    {
     "data": {
      "image/png": "[encoded data removed]",
      "text/plain": [
       "<Figure size 1440x360 with 1 Axes>"
      ]
     },
     "metadata": {},
     "output_type": "display_data"
    }
   ],
   "source": [
    "# dict sort by value python: https://stackoverflow.com/a/613218/4084039\n",
    "sub_cat_dict = dict(my_counter)\n",
    "sorted_sub_cat_dict = dict(sorted(sub_cat_dict.items(), key=lambda kv: kv[1]))\n",
    "\n",
    "\n",
    "ind = np.arange(len(sorted_sub_cat_dict))\n",
    "plt.figure(figsize=(20,5))\n",
    "p1 = plt.bar(ind, list(sorted_sub_cat_dict.values()))\n",
    "\n",
    "plt.ylabel('Projects')\n",
    "plt.title('% of projects aproved state wise')\n",
    "plt.xticks(ind, list(sorted_sub_cat_dict.keys()))\n",
    "plt.show()"
   ]
  },
  {
   "cell_type": "markdown",
   "metadata": {},
   "source": [
    "# 1.2.6 Univariate Analysis: Text features "
   ]
  },
  {
   "cell_type": "markdown",
   "metadata": {},
   "source": [
    "## univariate analysis on project titles"
   ]
  },
  {
   "cell_type": "code",
   "execution_count": 28,
   "metadata": {},
   "outputs": [
    {
     "data": {
      "image/png": "[encoded data removed]",
      "text/plain": [
       "<Figure size 1440x360 with 1 Axes>"
      ]
     },
     "metadata": {},
     "output_type": "display_data"
    }
   ],
   "source": [
    "#How to calculate number of words in a string in DataFrame: https://stackoverflow.com/a/37483537/4084039\n",
    "word_count = project_data['project_title'].str.split().apply(len).value_counts()\n",
    "word_dict = dict(word_count) \n",
    "word_dict = dict(sorted(word_dict.items(), key=lambda kv: kv[1]))\n",
    "\n",
    "\n",
    "ind = np.arange(len(word_dict))\n",
    "plt.figure(figsize=(20,5))\n",
    "p1 = plt.bar(ind, list(word_dict.values()))\n",
    "\n",
    "plt.ylabel('Numeber of projects')\n",
    "plt.title('Words for each title of the project')\n",
    "plt.xticks(ind, list(word_dict.keys()))\n",
    "plt.show()"
   ]
  },
  {
   "cell_type": "code",
   "execution_count": 29,
   "metadata": {},
   "outputs": [],
   "source": [
    "approved_word_count = project_data[project_data['project_is_approved']==1]['project_title'].str.split().apply(len)\n",
    "approved_word_count = approved_word_count.values\n",
    "\n",
    "rejected_word_count = project_data[project_data['project_is_approved']==0]['project_title'].str.split().apply(len)\n",
    "rejected_word_count = rejected_word_count.values"
   ]
  },
  {
   "cell_type": "markdown",
   "metadata": {},
   "source": [
    "#### Box plot on number of words in project title"
   ]
  },
  {
   "cell_type": "code",
   "execution_count": 30,
   "metadata": {},
   "outputs": [
    {
     "data": {
      "image/png": "[encoded data removed]",
      "text/plain": [
       "<Figure size 432x288 with 1 Axes>"
      ]
     },
     "metadata": {},
     "output_type": "display_data"
    }
   ],
   "source": [
    "# https://glowingpython.blogspot.com/2012/09/boxplot-with-matplotlib.html\n",
    "plt.boxplot([approved_word_count, rejected_word_count])\n",
    "plt.xticks([1,2],('Approved Projects','Rejected Projects'))\n",
    "plt.ylabel('Words in project title')\n",
    "plt.grid()\n",
    "plt.show()"
   ]
  },
  {
   "cell_type": "code",
   "execution_count": 31,
   "metadata": {},
   "outputs": [
    {
     "data": {
      "image/png": "[encoded data removed]",
      "text/plain": [
       "<Figure size 720x216 with 1 Axes>"
      ]
     },
     "metadata": {},
     "output_type": "display_data"
    }
   ],
   "source": [
    "plt.figure(figsize=(10,3))\n",
    "sns.distplot(approved_word_count, hist=False, label=\"Approved Projects\")\n",
    "sns.distplot(rejected_word_count, hist=False, label=\"Not Approved Projects\")\n",
    "plt.legend()\n",
    "plt.show()"
   ]
  },
  {
   "cell_type": "markdown",
   "metadata": {},
   "source": [
    "## Univariate anaysis on project essay "
   ]
  },
  {
   "cell_type": "code",
   "execution_count": 32,
   "metadata": {},
   "outputs": [],
   "source": [
    "# merge two column text dataframe: \n",
    "project_data[\"essay\"] = project_data[\"project_essay_1\"].map(str) +\\\n",
    "                        project_data[\"project_essay_2\"].map(str) + \\\n",
    "                        project_data[\"project_essay_3\"].map(str) + \\\n",
    "                        project_data[\"project_essay_4\"].map(str)"
   ]
  },
  {
   "cell_type": "code",
   "execution_count": 33,
   "metadata": {},
   "outputs": [
    {
     "data": {
      "image/png": "[encoded data removed]",
      "text/plain": [
       "<Figure size 1440x360 with 1 Axes>"
      ]
     },
     "metadata": {},
     "output_type": "display_data"
    }
   ],
   "source": [
    "#How to calculate number of words in a string in DataFrame: https://stackoverflow.com/a/37483537/4084039\n",
    "word_count = project_data['essay'].str.split().apply(len).value_counts()\n",
    "word_dict = dict(word_count)\n",
    "word_dict = dict(sorted(word_dict.items(), key=lambda kv: kv[1]))\n",
    "\n",
    "\n",
    "ind = np.arange(len(word_dict))\n",
    "plt.figure(figsize=(20,5))\n",
    "p1 = plt.bar(ind, list(word_dict.values()))\n",
    "\n",
    "plt.ylabel('Number of projects')\n",
    "plt.xlabel('Number of words in each eassay')\n",
    "plt.title('Words for each essay of the project')\n",
    "plt.xticks(ind, list(word_dict.keys()))\n",
    "plt.show()"
   ]
  },
  {
   "cell_type": "code",
   "execution_count": 34,
   "metadata": {},
   "outputs": [],
   "source": [
    "approved_word_count = project_data[project_data['project_is_approved']==1]['essay'].str.split().apply(len)\n",
    "approved_word_count = approved_word_count.values\n",
    "\n",
    "rejected_word_count = project_data[project_data['project_is_approved']==0]['essay'].str.split().apply(len)\n",
    "rejected_word_count = rejected_word_count.values"
   ]
  },
  {
   "cell_type": "code",
   "execution_count": 35,
   "metadata": {},
   "outputs": [
    {
     "data": {
      "image/png": "[encoded data removed]",
      "text/plain": [
       "<Figure size 432x288 with 1 Axes>"
      ]
     },
     "metadata": {},
     "output_type": "display_data"
    }
   ],
   "source": [
    "plt.boxplot([approved_word_count, rejected_word_count])\n",
    "plt.xticks([1,2],('Approved Projects','Rejected Projects'))\n",
    "plt.ylabel('Words in project title')\n",
    "plt.grid()\n",
    "plt.show()"
   ]
  },
  {
   "cell_type": "markdown",
   "metadata": {},
   "source": [
    "#### Distplot for number of words in project essay"
   ]
  },
  {
   "cell_type": "code",
   "execution_count": 36,
   "metadata": {},
   "outputs": [
    {
     "name": "stderr",
     "output_type": "stream",
     "text": [
      "C:\\Users\\kishan\\Anaconda3\\lib\\site-packages\\matplotlib\\axes\\_axes.py:6462: UserWarning: The 'normed' kwarg is deprecated, and has been replaced by the 'density' kwarg.\n",
      "  warnings.warn(\"The 'normed' kwarg is deprecated, and has been \"\n"
     ]
    },
    {
     "data": {
      "image/png": "[encoded data removed]",
      "text/plain": [
       "<Figure size 432x288 with 1 Axes>"
      ]
     },
     "metadata": {},
     "output_type": "display_data"
    }
   ],
   "source": [
    "sns.distplot(word_count.values)\n",
    "plt.title('Words for each essay of the project')\n",
    "plt.xlabel('Number of words in each eassay')\n",
    "plt.show()"
   ]
  },
  {
   "cell_type": "markdown",
   "metadata": {},
   "source": [
    "## Univariate Analysis on numerical feature : price"
   ]
  },
  {
   "cell_type": "code",
   "execution_count": 37,
   "metadata": {},
   "outputs": [
    {
     "data": {
      "text/html": [
       "<div>\n",
       "<style scoped>\n",
       "    .dataframe tbody tr th:only-of-type {\n",
       "        vertical-align: middle;\n",
       "    }\n",
       "\n",
       "    .dataframe tbody tr th {\n",
       "        vertical-align: top;\n",
       "    }\n",
       "\n",
       "    .dataframe thead th {\n",
       "        text-align: right;\n",
       "    }\n",
       "</style>\n",
       "<table border=\"1\" class=\"dataframe\">\n",
       "  <thead>\n",
       "    <tr style=\"text-align: right;\">\n",
       "      <th></th>\n",
       "      <th>id</th>\n",
       "      <th>price</th>\n",
       "      <th>quantity</th>\n",
       "    </tr>\n",
       "  </thead>\n",
       "  <tbody>\n",
       "    <tr>\n",
       "      <th>0</th>\n",
       "      <td>p000001</td>\n",
       "      <td>459.56</td>\n",
       "      <td>7</td>\n",
       "    </tr>\n",
       "    <tr>\n",
       "      <th>1</th>\n",
       "      <td>p000002</td>\n",
       "      <td>515.89</td>\n",
       "      <td>21</td>\n",
       "    </tr>\n",
       "  </tbody>\n",
       "</table>\n",
       "</div>"
      ],
      "text/plain": [
       "        id   price  quantity\n",
       "0  p000001  459.56         7\n",
       "1  p000002  515.89        21"
      ]
     },
     "execution_count": 37,
     "metadata": {},
     "output_type": "execute_result"
    }
   ],
   "source": [
    "# https://stackoverflow.com/questions/22407798/how-to-reset-a-dataframes-indexes-for-all-groups-in-one-step\n",
    "price_data = resource_data.groupby('id').agg({'price':'sum', 'quantity':'sum'}).reset_index()\n",
    "price_data.head(2)\n",
    "#We are calculating total sum of price and quantity for each project"
   ]
  },
  {
   "cell_type": "code",
   "execution_count": 38,
   "metadata": {},
   "outputs": [],
   "source": [
    "# join two dataframes in python: \n",
    "project_data = pd.merge(project_data, price_data, on='id', how='left')"
   ]
  },
  {
   "cell_type": "code",
   "execution_count": 39,
   "metadata": {},
   "outputs": [],
   "source": [
    "approved_price = project_data[project_data['project_is_approved']==1]['price'].values\n",
    "\n",
    "rejected_price = project_data[project_data['project_is_approved']==0]['price'].values"
   ]
  },
  {
   "cell_type": "code",
   "execution_count": 40,
   "metadata": {},
   "outputs": [
    {
     "data": {
      "image/png": "[encoded data removed]",
      "text/plain": [
       "<Figure size 432x288 with 1 Axes>"
      ]
     },
     "metadata": {},
     "output_type": "display_data"
    }
   ],
   "source": [
    "# https://glowingpython.blogspot.com/2012/09/boxplot-with-matplotlib.html\n",
    "plt.boxplot([approved_price, rejected_price])\n",
    "plt.title('Box Plots of Cost per approved and not approved Projects')\n",
    "plt.xticks([1,2],('Approved Projects','Rejected Projects'))\n",
    "plt.ylabel('Words in project title')\n",
    "plt.grid()\n",
    "plt.show()"
   ]
  },
  {
   "cell_type": "code",
   "execution_count": 41,
   "metadata": {},
   "outputs": [
    {
     "data": {
      "image/png": "[encoded data removed]",
      "text/plain": [
       "<Figure size 720x216 with 1 Axes>"
      ]
     },
     "metadata": {},
     "output_type": "display_data"
    }
   ],
   "source": [
    "plt.figure(figsize=(10,3))\n",
    "sns.distplot(approved_price, hist=False, label=\"Approved Projects\")\n",
    "sns.distplot(rejected_price, hist=False, label=\"Not Approved Projects\")\n",
    "plt.title('Cost per approved and not approved Projects')\n",
    "plt.xlabel('Cost of a project')\n",
    "plt.legend()\n",
    "plt.show()"
   ]
  },
  {
   "cell_type": "markdown",
   "metadata": {},
   "source": [
    "## univariate analysis on number of previously posted projects "
   ]
  },
  {
   "cell_type": "code",
   "execution_count": 42,
   "metadata": {},
   "outputs": [
    {
     "data": {
      "text/html": [
       "<div>\n",
       "<style scoped>\n",
       "    .dataframe tbody tr th:only-of-type {\n",
       "        vertical-align: middle;\n",
       "    }\n",
       "\n",
       "    .dataframe tbody tr th {\n",
       "        vertical-align: top;\n",
       "    }\n",
       "\n",
       "    .dataframe thead th {\n",
       "        text-align: right;\n",
       "    }\n",
       "</style>\n",
       "<table border=\"1\" class=\"dataframe\">\n",
       "  <thead>\n",
       "    <tr style=\"text-align: right;\">\n",
       "      <th></th>\n",
       "      <th>teacher_number_of_previously_posted_projects</th>\n",
       "    </tr>\n",
       "  </thead>\n",
       "  <tbody>\n",
       "    <tr>\n",
       "      <th>1</th>\n",
       "      <td>7</td>\n",
       "    </tr>\n",
       "    <tr>\n",
       "      <th>3</th>\n",
       "      <td>4</td>\n",
       "    </tr>\n",
       "    <tr>\n",
       "      <th>4</th>\n",
       "      <td>1</td>\n",
       "    </tr>\n",
       "    <tr>\n",
       "      <th>5</th>\n",
       "      <td>1</td>\n",
       "    </tr>\n",
       "    <tr>\n",
       "      <th>6</th>\n",
       "      <td>1</td>\n",
       "    </tr>\n",
       "    <tr>\n",
       "      <th>7</th>\n",
       "      <td>7</td>\n",
       "    </tr>\n",
       "    <tr>\n",
       "      <th>8</th>\n",
       "      <td>28</td>\n",
       "    </tr>\n",
       "    <tr>\n",
       "      <th>9</th>\n",
       "      <td>36</td>\n",
       "    </tr>\n",
       "    <tr>\n",
       "      <th>10</th>\n",
       "      <td>37</td>\n",
       "    </tr>\n",
       "    <tr>\n",
       "      <th>11</th>\n",
       "      <td>32</td>\n",
       "    </tr>\n",
       "    <tr>\n",
       "      <th>13</th>\n",
       "      <td>30</td>\n",
       "    </tr>\n",
       "    <tr>\n",
       "      <th>15</th>\n",
       "      <td>3</td>\n",
       "    </tr>\n",
       "    <tr>\n",
       "      <th>16</th>\n",
       "      <td>1</td>\n",
       "    </tr>\n",
       "    <tr>\n",
       "      <th>17</th>\n",
       "      <td>0</td>\n",
       "    </tr>\n",
       "    <tr>\n",
       "      <th>18</th>\n",
       "      <td>0</td>\n",
       "    </tr>\n",
       "    <tr>\n",
       "      <th>19</th>\n",
       "      <td>9</td>\n",
       "    </tr>\n",
       "    <tr>\n",
       "      <th>20</th>\n",
       "      <td>23</td>\n",
       "    </tr>\n",
       "    <tr>\n",
       "      <th>21</th>\n",
       "      <td>0</td>\n",
       "    </tr>\n",
       "    <tr>\n",
       "      <th>23</th>\n",
       "      <td>2</td>\n",
       "    </tr>\n",
       "    <tr>\n",
       "      <th>24</th>\n",
       "      <td>0</td>\n",
       "    </tr>\n",
       "    <tr>\n",
       "      <th>26</th>\n",
       "      <td>2</td>\n",
       "    </tr>\n",
       "    <tr>\n",
       "      <th>27</th>\n",
       "      <td>2</td>\n",
       "    </tr>\n",
       "    <tr>\n",
       "      <th>29</th>\n",
       "      <td>0</td>\n",
       "    </tr>\n",
       "    <tr>\n",
       "      <th>30</th>\n",
       "      <td>0</td>\n",
       "    </tr>\n",
       "    <tr>\n",
       "      <th>31</th>\n",
       "      <td>6</td>\n",
       "    </tr>\n",
       "    <tr>\n",
       "      <th>32</th>\n",
       "      <td>48</td>\n",
       "    </tr>\n",
       "    <tr>\n",
       "      <th>33</th>\n",
       "      <td>84</td>\n",
       "    </tr>\n",
       "    <tr>\n",
       "      <th>34</th>\n",
       "      <td>0</td>\n",
       "    </tr>\n",
       "    <tr>\n",
       "      <th>35</th>\n",
       "      <td>22</td>\n",
       "    </tr>\n",
       "    <tr>\n",
       "      <th>36</th>\n",
       "      <td>13</td>\n",
       "    </tr>\n",
       "    <tr>\n",
       "      <th>...</th>\n",
       "      <td>...</td>\n",
       "    </tr>\n",
       "    <tr>\n",
       "      <th>109213</th>\n",
       "      <td>0</td>\n",
       "    </tr>\n",
       "    <tr>\n",
       "      <th>109214</th>\n",
       "      <td>0</td>\n",
       "    </tr>\n",
       "    <tr>\n",
       "      <th>109217</th>\n",
       "      <td>0</td>\n",
       "    </tr>\n",
       "    <tr>\n",
       "      <th>109220</th>\n",
       "      <td>3</td>\n",
       "    </tr>\n",
       "    <tr>\n",
       "      <th>109221</th>\n",
       "      <td>1</td>\n",
       "    </tr>\n",
       "    <tr>\n",
       "      <th>109222</th>\n",
       "      <td>34</td>\n",
       "    </tr>\n",
       "    <tr>\n",
       "      <th>109223</th>\n",
       "      <td>12</td>\n",
       "    </tr>\n",
       "    <tr>\n",
       "      <th>109224</th>\n",
       "      <td>7</td>\n",
       "    </tr>\n",
       "    <tr>\n",
       "      <th>109226</th>\n",
       "      <td>47</td>\n",
       "    </tr>\n",
       "    <tr>\n",
       "      <th>109227</th>\n",
       "      <td>0</td>\n",
       "    </tr>\n",
       "    <tr>\n",
       "      <th>109228</th>\n",
       "      <td>8</td>\n",
       "    </tr>\n",
       "    <tr>\n",
       "      <th>109229</th>\n",
       "      <td>0</td>\n",
       "    </tr>\n",
       "    <tr>\n",
       "      <th>109230</th>\n",
       "      <td>0</td>\n",
       "    </tr>\n",
       "    <tr>\n",
       "      <th>109231</th>\n",
       "      <td>7</td>\n",
       "    </tr>\n",
       "    <tr>\n",
       "      <th>109232</th>\n",
       "      <td>0</td>\n",
       "    </tr>\n",
       "    <tr>\n",
       "      <th>109233</th>\n",
       "      <td>1</td>\n",
       "    </tr>\n",
       "    <tr>\n",
       "      <th>109234</th>\n",
       "      <td>9</td>\n",
       "    </tr>\n",
       "    <tr>\n",
       "      <th>109235</th>\n",
       "      <td>1</td>\n",
       "    </tr>\n",
       "    <tr>\n",
       "      <th>109236</th>\n",
       "      <td>6</td>\n",
       "    </tr>\n",
       "    <tr>\n",
       "      <th>109237</th>\n",
       "      <td>4</td>\n",
       "    </tr>\n",
       "    <tr>\n",
       "      <th>109238</th>\n",
       "      <td>41</td>\n",
       "    </tr>\n",
       "    <tr>\n",
       "      <th>109239</th>\n",
       "      <td>6</td>\n",
       "    </tr>\n",
       "    <tr>\n",
       "      <th>109240</th>\n",
       "      <td>10</td>\n",
       "    </tr>\n",
       "    <tr>\n",
       "      <th>109241</th>\n",
       "      <td>0</td>\n",
       "    </tr>\n",
       "    <tr>\n",
       "      <th>109242</th>\n",
       "      <td>26</td>\n",
       "    </tr>\n",
       "    <tr>\n",
       "      <th>109243</th>\n",
       "      <td>0</td>\n",
       "    </tr>\n",
       "    <tr>\n",
       "      <th>109244</th>\n",
       "      <td>0</td>\n",
       "    </tr>\n",
       "    <tr>\n",
       "      <th>109245</th>\n",
       "      <td>3</td>\n",
       "    </tr>\n",
       "    <tr>\n",
       "      <th>109246</th>\n",
       "      <td>0</td>\n",
       "    </tr>\n",
       "    <tr>\n",
       "      <th>109247</th>\n",
       "      <td>0</td>\n",
       "    </tr>\n",
       "  </tbody>\n",
       "</table>\n",
       "<p>92706 rows × 1 columns</p>\n",
       "</div>"
      ],
      "text/plain": [
       "        teacher_number_of_previously_posted_projects\n",
       "1                                                  7\n",
       "3                                                  4\n",
       "4                                                  1\n",
       "5                                                  1\n",
       "6                                                  1\n",
       "7                                                  7\n",
       "8                                                 28\n",
       "9                                                 36\n",
       "10                                                37\n",
       "11                                                32\n",
       "13                                                30\n",
       "15                                                 3\n",
       "16                                                 1\n",
       "17                                                 0\n",
       "18                                                 0\n",
       "19                                                 9\n",
       "20                                                23\n",
       "21                                                 0\n",
       "23                                                 2\n",
       "24                                                 0\n",
       "26                                                 2\n",
       "27                                                 2\n",
       "29                                                 0\n",
       "30                                                 0\n",
       "31                                                 6\n",
       "32                                                48\n",
       "33                                                84\n",
       "34                                                 0\n",
       "35                                                22\n",
       "36                                                13\n",
       "...                                              ...\n",
       "109213                                             0\n",
       "109214                                             0\n",
       "109217                                             0\n",
       "109220                                             3\n",
       "109221                                             1\n",
       "109222                                            34\n",
       "109223                                            12\n",
       "109224                                             7\n",
       "109226                                            47\n",
       "109227                                             0\n",
       "109228                                             8\n",
       "109229                                             0\n",
       "109230                                             0\n",
       "109231                                             7\n",
       "109232                                             0\n",
       "109233                                             1\n",
       "109234                                             9\n",
       "109235                                             1\n",
       "109236                                             6\n",
       "109237                                             4\n",
       "109238                                            41\n",
       "109239                                             6\n",
       "109240                                            10\n",
       "109241                                             0\n",
       "109242                                            26\n",
       "109243                                             0\n",
       "109244                                             0\n",
       "109245                                             3\n",
       "109246                                             0\n",
       "109247                                             0\n",
       "\n",
       "[92706 rows x 1 columns]"
      ]
     },
     "execution_count": 42,
     "metadata": {},
     "output_type": "execute_result"
    }
   ],
   "source": [
    "project_data[project_data['project_is_approved']==1][['teacher_number_of_previously_posted_projects']]"
   ]
  },
  {
   "cell_type": "code",
   "execution_count": 43,
   "metadata": {},
   "outputs": [
    {
     "data": {
      "text/html": [
       "<div>\n",
       "<style scoped>\n",
       "    .dataframe tbody tr th:only-of-type {\n",
       "        vertical-align: middle;\n",
       "    }\n",
       "\n",
       "    .dataframe tbody tr th {\n",
       "        vertical-align: top;\n",
       "    }\n",
       "\n",
       "    .dataframe thead th {\n",
       "        text-align: right;\n",
       "    }\n",
       "</style>\n",
       "<table border=\"1\" class=\"dataframe\">\n",
       "  <thead>\n",
       "    <tr style=\"text-align: right;\">\n",
       "      <th></th>\n",
       "      <th>teacher_number_of_previously_posted_projects</th>\n",
       "    </tr>\n",
       "  </thead>\n",
       "  <tbody>\n",
       "    <tr>\n",
       "      <th>0</th>\n",
       "      <td>0</td>\n",
       "    </tr>\n",
       "    <tr>\n",
       "      <th>2</th>\n",
       "      <td>1</td>\n",
       "    </tr>\n",
       "    <tr>\n",
       "      <th>12</th>\n",
       "      <td>5</td>\n",
       "    </tr>\n",
       "    <tr>\n",
       "      <th>14</th>\n",
       "      <td>15</td>\n",
       "    </tr>\n",
       "    <tr>\n",
       "      <th>22</th>\n",
       "      <td>0</td>\n",
       "    </tr>\n",
       "    <tr>\n",
       "      <th>25</th>\n",
       "      <td>11</td>\n",
       "    </tr>\n",
       "    <tr>\n",
       "      <th>28</th>\n",
       "      <td>5</td>\n",
       "    </tr>\n",
       "    <tr>\n",
       "      <th>40</th>\n",
       "      <td>2</td>\n",
       "    </tr>\n",
       "    <tr>\n",
       "      <th>55</th>\n",
       "      <td>7</td>\n",
       "    </tr>\n",
       "    <tr>\n",
       "      <th>56</th>\n",
       "      <td>0</td>\n",
       "    </tr>\n",
       "    <tr>\n",
       "      <th>65</th>\n",
       "      <td>2</td>\n",
       "    </tr>\n",
       "    <tr>\n",
       "      <th>68</th>\n",
       "      <td>8</td>\n",
       "    </tr>\n",
       "    <tr>\n",
       "      <th>70</th>\n",
       "      <td>1</td>\n",
       "    </tr>\n",
       "    <tr>\n",
       "      <th>73</th>\n",
       "      <td>3</td>\n",
       "    </tr>\n",
       "    <tr>\n",
       "      <th>77</th>\n",
       "      <td>1</td>\n",
       "    </tr>\n",
       "    <tr>\n",
       "      <th>79</th>\n",
       "      <td>2</td>\n",
       "    </tr>\n",
       "    <tr>\n",
       "      <th>82</th>\n",
       "      <td>0</td>\n",
       "    </tr>\n",
       "    <tr>\n",
       "      <th>89</th>\n",
       "      <td>5</td>\n",
       "    </tr>\n",
       "    <tr>\n",
       "      <th>96</th>\n",
       "      <td>2</td>\n",
       "    </tr>\n",
       "    <tr>\n",
       "      <th>101</th>\n",
       "      <td>1</td>\n",
       "    </tr>\n",
       "    <tr>\n",
       "      <th>105</th>\n",
       "      <td>0</td>\n",
       "    </tr>\n",
       "    <tr>\n",
       "      <th>106</th>\n",
       "      <td>0</td>\n",
       "    </tr>\n",
       "    <tr>\n",
       "      <th>107</th>\n",
       "      <td>20</td>\n",
       "    </tr>\n",
       "    <tr>\n",
       "      <th>108</th>\n",
       "      <td>1</td>\n",
       "    </tr>\n",
       "    <tr>\n",
       "      <th>111</th>\n",
       "      <td>0</td>\n",
       "    </tr>\n",
       "    <tr>\n",
       "      <th>112</th>\n",
       "      <td>3</td>\n",
       "    </tr>\n",
       "    <tr>\n",
       "      <th>113</th>\n",
       "      <td>0</td>\n",
       "    </tr>\n",
       "    <tr>\n",
       "      <th>114</th>\n",
       "      <td>0</td>\n",
       "    </tr>\n",
       "    <tr>\n",
       "      <th>130</th>\n",
       "      <td>3</td>\n",
       "    </tr>\n",
       "    <tr>\n",
       "      <th>131</th>\n",
       "      <td>15</td>\n",
       "    </tr>\n",
       "    <tr>\n",
       "      <th>...</th>\n",
       "      <td>...</td>\n",
       "    </tr>\n",
       "    <tr>\n",
       "      <th>109051</th>\n",
       "      <td>0</td>\n",
       "    </tr>\n",
       "    <tr>\n",
       "      <th>109052</th>\n",
       "      <td>0</td>\n",
       "    </tr>\n",
       "    <tr>\n",
       "      <th>109057</th>\n",
       "      <td>0</td>\n",
       "    </tr>\n",
       "    <tr>\n",
       "      <th>109060</th>\n",
       "      <td>0</td>\n",
       "    </tr>\n",
       "    <tr>\n",
       "      <th>109064</th>\n",
       "      <td>0</td>\n",
       "    </tr>\n",
       "    <tr>\n",
       "      <th>109072</th>\n",
       "      <td>3</td>\n",
       "    </tr>\n",
       "    <tr>\n",
       "      <th>109074</th>\n",
       "      <td>2</td>\n",
       "    </tr>\n",
       "    <tr>\n",
       "      <th>109076</th>\n",
       "      <td>45</td>\n",
       "    </tr>\n",
       "    <tr>\n",
       "      <th>109097</th>\n",
       "      <td>0</td>\n",
       "    </tr>\n",
       "    <tr>\n",
       "      <th>109106</th>\n",
       "      <td>0</td>\n",
       "    </tr>\n",
       "    <tr>\n",
       "      <th>109113</th>\n",
       "      <td>4</td>\n",
       "    </tr>\n",
       "    <tr>\n",
       "      <th>109120</th>\n",
       "      <td>0</td>\n",
       "    </tr>\n",
       "    <tr>\n",
       "      <th>109125</th>\n",
       "      <td>5</td>\n",
       "    </tr>\n",
       "    <tr>\n",
       "      <th>109132</th>\n",
       "      <td>3</td>\n",
       "    </tr>\n",
       "    <tr>\n",
       "      <th>109134</th>\n",
       "      <td>0</td>\n",
       "    </tr>\n",
       "    <tr>\n",
       "      <th>109136</th>\n",
       "      <td>12</td>\n",
       "    </tr>\n",
       "    <tr>\n",
       "      <th>109156</th>\n",
       "      <td>4</td>\n",
       "    </tr>\n",
       "    <tr>\n",
       "      <th>109169</th>\n",
       "      <td>0</td>\n",
       "    </tr>\n",
       "    <tr>\n",
       "      <th>109172</th>\n",
       "      <td>0</td>\n",
       "    </tr>\n",
       "    <tr>\n",
       "      <th>109179</th>\n",
       "      <td>18</td>\n",
       "    </tr>\n",
       "    <tr>\n",
       "      <th>109186</th>\n",
       "      <td>1</td>\n",
       "    </tr>\n",
       "    <tr>\n",
       "      <th>109187</th>\n",
       "      <td>1</td>\n",
       "    </tr>\n",
       "    <tr>\n",
       "      <th>109191</th>\n",
       "      <td>2</td>\n",
       "    </tr>\n",
       "    <tr>\n",
       "      <th>109196</th>\n",
       "      <td>0</td>\n",
       "    </tr>\n",
       "    <tr>\n",
       "      <th>109206</th>\n",
       "      <td>0</td>\n",
       "    </tr>\n",
       "    <tr>\n",
       "      <th>109215</th>\n",
       "      <td>3</td>\n",
       "    </tr>\n",
       "    <tr>\n",
       "      <th>109216</th>\n",
       "      <td>9</td>\n",
       "    </tr>\n",
       "    <tr>\n",
       "      <th>109218</th>\n",
       "      <td>4</td>\n",
       "    </tr>\n",
       "    <tr>\n",
       "      <th>109219</th>\n",
       "      <td>0</td>\n",
       "    </tr>\n",
       "    <tr>\n",
       "      <th>109225</th>\n",
       "      <td>1</td>\n",
       "    </tr>\n",
       "  </tbody>\n",
       "</table>\n",
       "<p>16542 rows × 1 columns</p>\n",
       "</div>"
      ],
      "text/plain": [
       "        teacher_number_of_previously_posted_projects\n",
       "0                                                  0\n",
       "2                                                  1\n",
       "12                                                 5\n",
       "14                                                15\n",
       "22                                                 0\n",
       "25                                                11\n",
       "28                                                 5\n",
       "40                                                 2\n",
       "55                                                 7\n",
       "56                                                 0\n",
       "65                                                 2\n",
       "68                                                 8\n",
       "70                                                 1\n",
       "73                                                 3\n",
       "77                                                 1\n",
       "79                                                 2\n",
       "82                                                 0\n",
       "89                                                 5\n",
       "96                                                 2\n",
       "101                                                1\n",
       "105                                                0\n",
       "106                                                0\n",
       "107                                               20\n",
       "108                                                1\n",
       "111                                                0\n",
       "112                                                3\n",
       "113                                                0\n",
       "114                                                0\n",
       "130                                                3\n",
       "131                                               15\n",
       "...                                              ...\n",
       "109051                                             0\n",
       "109052                                             0\n",
       "109057                                             0\n",
       "109060                                             0\n",
       "109064                                             0\n",
       "109072                                             3\n",
       "109074                                             2\n",
       "109076                                            45\n",
       "109097                                             0\n",
       "109106                                             0\n",
       "109113                                             4\n",
       "109120                                             0\n",
       "109125                                             5\n",
       "109132                                             3\n",
       "109134                                             0\n",
       "109136                                            12\n",
       "109156                                             4\n",
       "109169                                             0\n",
       "109172                                             0\n",
       "109179                                            18\n",
       "109186                                             1\n",
       "109187                                             1\n",
       "109191                                             2\n",
       "109196                                             0\n",
       "109206                                             0\n",
       "109215                                             3\n",
       "109216                                             9\n",
       "109218                                             4\n",
       "109219                                             0\n",
       "109225                                             1\n",
       "\n",
       "[16542 rows x 1 columns]"
      ]
     },
     "execution_count": 43,
     "metadata": {},
     "output_type": "execute_result"
    }
   ],
   "source": [
    "project_data[project_data['project_is_approved']==0][['teacher_number_of_previously_posted_projects']]"
   ]
  },
  {
   "cell_type": "code",
   "execution_count": 44,
   "metadata": {},
   "outputs": [
    {
     "name": "stderr",
     "output_type": "stream",
     "text": [
      "No handles with labels found to put in legend.\n",
      "C:\\Users\\kishan\\Anaconda3\\lib\\site-packages\\matplotlib\\axes\\_axes.py:6462: UserWarning: The 'normed' kwarg is deprecated, and has been replaced by the 'density' kwarg.\n",
      "  warnings.warn(\"The 'normed' kwarg is deprecated, and has been \"\n",
      "C:\\Users\\kishan\\Anaconda3\\lib\\site-packages\\matplotlib\\axes\\_axes.py:6462: UserWarning: The 'normed' kwarg is deprecated, and has been replaced by the 'density' kwarg.\n",
      "  warnings.warn(\"The 'normed' kwarg is deprecated, and has been \"\n"
     ]
    },
    {
     "data": {
      "text/plain": [
       "<matplotlib.axes._subplots.AxesSubplot at 0x21d0638abe0>"
      ]
     },
     "execution_count": 44,
     "metadata": {},
     "output_type": "execute_result"
    },
    {
     "data": {
      "image/png": "[encoded data removed]",
      "text/plain": [
       "<Figure size 720x432 with 1 Axes>"
      ]
     },
     "metadata": {},
     "output_type": "display_data"
    }
   ],
   "source": [
    "x=project_data[project_data['project_is_approved']==1][['teacher_number_of_previously_posted_projects']].values\n",
    "y=project_data[project_data['project_is_approved']==0]['teacher_number_of_previously_posted_projects'].values\n",
    "plt.figure(figsize=(10,6))\n",
    "plt.legend()\n",
    "plt.xlabel(\"number of projects submitted already submitted by teacher\")\n",
    "sns.distplot(x,label=\"accepted\",color=\"b\")\n",
    "sns.distplot(y,label=\"rejected\",color=\"g\")"
   ]
  },
  {
   "cell_type": "code",
   "execution_count": 45,
   "metadata": {},
   "outputs": [],
   "source": [
    "#How to apply lambda function to column in python data frame https://stackoverflow.com/questions/37428218/how-to-properly-apply-a-lambda-function-into-a-pandas-data-frame-column\n",
    "num_digits_present = project_data[project_data['project_resource_summary'].apply(lambda x: any(char.isdigit() for char in x))]\n",
    "num_digits_absent  = project_data[project_data['project_resource_summary'].apply(lambda x: all(not char.isdigit() for char in x))]"
   ]
  },
  {
   "cell_type": "code",
   "execution_count": 46,
   "metadata": {},
   "outputs": [
    {
     "name": "stdout",
     "output_type": "stream",
     "text": [
      "Total Number of projects that are having numerical digit in summary and also accepted for funding  14090 , ( 89.42625031733942 %)\n",
      "Total number of projects that are having numerical digit in summary but rejected for funding 1666 , ( 10.573749682660575 %)\n"
     ]
    }
   ],
   "source": [
    "y_value_counts = num_digits_present['project_is_approved'].value_counts()\n",
    "print(\"Total Number of projects that are having numerical digit in summary and also accepted for funding \", y_value_counts[1], \", (\", (y_value_counts[1]/(y_value_counts[1]+y_value_counts[0]))*100,\"%)\")\n",
    "print(\"Total number of projects that are having numerical digit in summary but rejected for funding\", y_value_counts[0], \", (\", (y_value_counts[0]/(y_value_counts[1]+y_value_counts[0]))*100,\"%)\")"
   ]
  },
  {
   "cell_type": "code",
   "execution_count": 47,
   "metadata": {},
   "outputs": [
    {
     "name": "stdout",
     "output_type": "stream",
     "text": [
      "Total number of projects that are not having numerical digit in summary and accepted for funding  78616 , ( 84.08847815855903 %)\n",
      "Total number of projects that are not having numerical digit in summary and rejected for funding  14876 , ( 15.91152184144098 %)\n"
     ]
    }
   ],
   "source": [
    "y_value_counts = num_digits_absent['project_is_approved'].value_counts()\n",
    "print(\"Total number of projects that are not having numerical digit in summary and accepted for funding \", y_value_counts[1], \", (\", (y_value_counts[1]/(y_value_counts[1]+y_value_counts[0]))*100,\"%)\")\n",
    "print(\"Total number of projects that are not having numerical digit in summary and rejected for funding \", y_value_counts[0], \", (\", (y_value_counts[0]/(y_value_counts[1]+y_value_counts[0]))*100,\"%)\")"
   ]
  },
  {
   "cell_type": "markdown",
   "metadata": {},
   "source": [
    "# Cateorical features preprocessing"
   ]
  },
  {
   "cell_type": "code",
   "execution_count": 48,
   "metadata": {},
   "outputs": [
    {
     "data": {
      "text/plain": [
       "Grades PreK-2    44225\n",
       "Grades 3-5       37137\n",
       "Grades 6-8       16923\n",
       "Grades 9-12      10963\n",
       "Name: project_grade_category, dtype: int64"
      ]
     },
     "execution_count": 48,
     "metadata": {},
     "output_type": "execute_result"
    }
   ],
   "source": [
    "project_data['project_grade_category'].value_counts()"
   ]
  },
  {
   "cell_type": "code",
   "execution_count": 49,
   "metadata": {},
   "outputs": [
    {
     "data": {
      "text/plain": [
       "grades_prek_2    44225\n",
       "grades_3_5       37137\n",
       "grades_6_8       16923\n",
       "grades_9_12      10963\n",
       "Name: project_grade_category, dtype: int64"
      ]
     },
     "execution_count": 49,
     "metadata": {},
     "output_type": "execute_result"
    }
   ],
   "source": [
    "# https://stackoverflow.com/questions/36383821/pandas-dataframe-apply-function-to-column-strings-based-on-other-column-value\n",
    "project_data['project_grade_category'] = project_data['project_grade_category'].str.replace(' ','_')\n",
    "project_data['project_grade_category'] = project_data['project_grade_category'].str.replace('-','_')\n",
    "project_data['project_grade_category'] = project_data['project_grade_category'].str.lower()\n",
    "project_data['project_grade_category'].value_counts()"
   ]
  },
  {
   "cell_type": "code",
   "execution_count": 50,
   "metadata": {},
   "outputs": [
    {
     "data": {
      "text/plain": [
       "Literacy_Language                       23655\n",
       "Math_Science                            17072\n",
       "Literacy_Language Math_Science          14636\n",
       "Health_Sports                           10177\n",
       "Music_Arts                               5180\n",
       "SpecialNeeds                             4226\n",
       "Literacy_Language SpecialNeeds           3961\n",
       "AppliedLearning                          3771\n",
       "Math_Science Literacy_Language           2289\n",
       "AppliedLearning Literacy_Language        2191\n",
       "History_Civics                           1851\n",
       "Math_Science SpecialNeeds                1840\n",
       "Literacy_Language Music_Arts             1757\n",
       "Math_Science Music_Arts                  1642\n",
       "AppliedLearning SpecialNeeds             1467\n",
       "History_Civics Literacy_Language         1421\n",
       "Health_Sports SpecialNeeds               1391\n",
       "Warmth Care_Hunger                       1309\n",
       "Math_Science AppliedLearning             1220\n",
       "AppliedLearning Math_Science             1052\n",
       "Literacy_Language History_Civics          809\n",
       "Health_Sports Literacy_Language           803\n",
       "AppliedLearning Music_Arts                758\n",
       "Math_Science History_Civics               652\n",
       "Literacy_Language AppliedLearning         636\n",
       "AppliedLearning Health_Sports             608\n",
       "Math_Science Health_Sports                414\n",
       "History_Civics Math_Science               322\n",
       "History_Civics Music_Arts                 312\n",
       "SpecialNeeds Music_Arts                   302\n",
       "Health_Sports Math_Science                271\n",
       "History_Civics SpecialNeeds               252\n",
       "Health_Sports AppliedLearning             192\n",
       "AppliedLearning History_Civics            178\n",
       "Health_Sports Music_Arts                  155\n",
       "Music_Arts SpecialNeeds                   138\n",
       "Literacy_Language Health_Sports            72\n",
       "Health_Sports History_Civics               43\n",
       "SpecialNeeds Health_Sports                 42\n",
       "History_Civics AppliedLearning             42\n",
       "SpecialNeeds Warmth Care_Hunger            23\n",
       "Health_Sports Warmth Care_Hunger           23\n",
       "Music_Arts Health_Sports                   19\n",
       "Music_Arts History_Civics                  18\n",
       "History_Civics Health_Sports               13\n",
       "Math_Science Warmth Care_Hunger            11\n",
       "AppliedLearning Warmth Care_Hunger         10\n",
       "Music_Arts AppliedLearning                 10\n",
       "Literacy_Language Warmth Care_Hunger        9\n",
       "Music_Arts Warmth Care_Hunger               2\n",
       "History_Civics Warmth Care_Hunger           1\n",
       "Name: clean_categories, dtype: int64"
      ]
     },
     "execution_count": 50,
     "metadata": {},
     "output_type": "execute_result"
    }
   ],
   "source": [
    "project_data['clean_categories'].value_counts() # humlog project_subject_categories ko humlog pehle hi humlog preprocess kar chuke hain"
   ]
  },
  {
   "cell_type": "code",
   "execution_count": 51,
   "metadata": {},
   "outputs": [
    {
     "data": {
      "text/html": [
       "<div>\n",
       "<style scoped>\n",
       "    .dataframe tbody tr th:only-of-type {\n",
       "        vertical-align: middle;\n",
       "    }\n",
       "\n",
       "    .dataframe tbody tr th {\n",
       "        vertical-align: top;\n",
       "    }\n",
       "\n",
       "    .dataframe thead th {\n",
       "        text-align: right;\n",
       "    }\n",
       "</style>\n",
       "<table border=\"1\" class=\"dataframe\">\n",
       "  <thead>\n",
       "    <tr style=\"text-align: right;\">\n",
       "      <th></th>\n",
       "      <th>Unnamed: 0</th>\n",
       "      <th>id</th>\n",
       "      <th>teacher_id</th>\n",
       "      <th>teacher_prefix</th>\n",
       "      <th>school_state</th>\n",
       "      <th>project_submitted_datetime</th>\n",
       "      <th>project_grade_category</th>\n",
       "      <th>project_title</th>\n",
       "      <th>project_essay_1</th>\n",
       "      <th>project_essay_2</th>\n",
       "      <th>project_essay_3</th>\n",
       "      <th>project_essay_4</th>\n",
       "      <th>project_resource_summary</th>\n",
       "      <th>teacher_number_of_previously_posted_projects</th>\n",
       "      <th>project_is_approved</th>\n",
       "      <th>clean_categories</th>\n",
       "      <th>clean_subcategories</th>\n",
       "      <th>essay</th>\n",
       "      <th>price</th>\n",
       "      <th>quantity</th>\n",
       "    </tr>\n",
       "  </thead>\n",
       "  <tbody>\n",
       "    <tr>\n",
       "      <th>0</th>\n",
       "      <td>160221</td>\n",
       "      <td>p253737</td>\n",
       "      <td>c90749f5d961ff158d4b4d1e7dc665fc</td>\n",
       "      <td>Mrs.</td>\n",
       "      <td>IN</td>\n",
       "      <td>2016-12-05 13:43:57</td>\n",
       "      <td>grades_prek_2</td>\n",
       "      <td>Educational Support for English Learners at Home</td>\n",
       "      <td>My students are English learners that are work...</td>\n",
       "      <td>\\\"The limits of your language are the limits o...</td>\n",
       "      <td>NaN</td>\n",
       "      <td>NaN</td>\n",
       "      <td>My students need opportunities to practice beg...</td>\n",
       "      <td>0</td>\n",
       "      <td>0</td>\n",
       "      <td>Literacy_Language</td>\n",
       "      <td>ESL Literacy</td>\n",
       "      <td>My students are English learners that are work...</td>\n",
       "      <td>154.6</td>\n",
       "      <td>23</td>\n",
       "    </tr>\n",
       "    <tr>\n",
       "      <th>1</th>\n",
       "      <td>140945</td>\n",
       "      <td>p258326</td>\n",
       "      <td>897464ce9ddc600bced1151f324dd63a</td>\n",
       "      <td>Mr.</td>\n",
       "      <td>FL</td>\n",
       "      <td>2016-10-25 09:22:10</td>\n",
       "      <td>grades_6_8</td>\n",
       "      <td>Wanted: Projector for Hungry Learners</td>\n",
       "      <td>Our students arrive to our school eager to lea...</td>\n",
       "      <td>The projector we need for our school is very c...</td>\n",
       "      <td>NaN</td>\n",
       "      <td>NaN</td>\n",
       "      <td>My students need a projector to help with view...</td>\n",
       "      <td>7</td>\n",
       "      <td>1</td>\n",
       "      <td>History_Civics Health_Sports</td>\n",
       "      <td>Civics_Government TeamSports</td>\n",
       "      <td>Our students arrive to our school eager to lea...</td>\n",
       "      <td>299.0</td>\n",
       "      <td>1</td>\n",
       "    </tr>\n",
       "  </tbody>\n",
       "</table>\n",
       "</div>"
      ],
      "text/plain": [
       "   Unnamed: 0       id                        teacher_id teacher_prefix  \\\n",
       "0      160221  p253737  c90749f5d961ff158d4b4d1e7dc665fc           Mrs.   \n",
       "1      140945  p258326  897464ce9ddc600bced1151f324dd63a            Mr.   \n",
       "\n",
       "  school_state project_submitted_datetime project_grade_category  \\\n",
       "0           IN        2016-12-05 13:43:57          grades_prek_2   \n",
       "1           FL        2016-10-25 09:22:10             grades_6_8   \n",
       "\n",
       "                                      project_title  \\\n",
       "0  Educational Support for English Learners at Home   \n",
       "1             Wanted: Projector for Hungry Learners   \n",
       "\n",
       "                                     project_essay_1  \\\n",
       "0  My students are English learners that are work...   \n",
       "1  Our students arrive to our school eager to lea...   \n",
       "\n",
       "                                     project_essay_2 project_essay_3  \\\n",
       "0  \\\"The limits of your language are the limits o...             NaN   \n",
       "1  The projector we need for our school is very c...             NaN   \n",
       "\n",
       "  project_essay_4                           project_resource_summary  \\\n",
       "0             NaN  My students need opportunities to practice beg...   \n",
       "1             NaN  My students need a projector to help with view...   \n",
       "\n",
       "   teacher_number_of_previously_posted_projects  project_is_approved  \\\n",
       "0                                             0                    0   \n",
       "1                                             7                    1   \n",
       "\n",
       "               clean_categories           clean_subcategories  \\\n",
       "0             Literacy_Language                  ESL Literacy   \n",
       "1  History_Civics Health_Sports  Civics_Government TeamSports   \n",
       "\n",
       "                                               essay  price  quantity  \n",
       "0  My students are English learners that are work...  154.6        23  \n",
       "1  Our students arrive to our school eager to lea...  299.0         1  "
      ]
     },
     "execution_count": 51,
     "metadata": {},
     "output_type": "execute_result"
    }
   ],
   "source": [
    "project_data.head(2)"
   ]
  },
  {
   "cell_type": "code",
   "execution_count": 52,
   "metadata": {},
   "outputs": [
    {
     "data": {
      "text/plain": [
       "Mrs.       57269\n",
       "Ms.        38955\n",
       "Mr.        10648\n",
       "Teacher     2360\n",
       "Dr.           13\n",
       "Name: teacher_prefix, dtype: int64"
      ]
     },
     "execution_count": 52,
     "metadata": {},
     "output_type": "execute_result"
    }
   ],
   "source": [
    "project_data['teacher_prefix'].value_counts()"
   ]
  },
  {
   "cell_type": "code",
   "execution_count": 53,
   "metadata": {},
   "outputs": [
    {
     "name": "stdout",
     "output_type": "stream",
     "text": [
      "True\n",
      "number of nan values 3\n"
     ]
    }
   ],
   "source": [
    "# check if we have any nan values are there\n",
    "print(project_data['teacher_prefix'].isnull().values.any())\n",
    "print(\"number of nan values\",project_data['teacher_prefix'].isnull().values.sum())"
   ]
  },
  {
   "cell_type": "code",
   "execution_count": 54,
   "metadata": {},
   "outputs": [],
   "source": [
    "project_data['teacher_prefix']=project_data['teacher_prefix'].fillna('Mrs.')"
   ]
  },
  {
   "cell_type": "code",
   "execution_count": 55,
   "metadata": {},
   "outputs": [
    {
     "data": {
      "text/plain": [
       "Mrs.       57272\n",
       "Ms.        38955\n",
       "Mr.        10648\n",
       "Teacher     2360\n",
       "Dr.           13\n",
       "Name: teacher_prefix, dtype: int64"
      ]
     },
     "execution_count": 55,
     "metadata": {},
     "output_type": "execute_result"
    }
   ],
   "source": [
    "project_data['teacher_prefix'].value_counts()"
   ]
  },
  {
   "cell_type": "code",
   "execution_count": 56,
   "metadata": {},
   "outputs": [
    {
     "data": {
      "text/plain": [
       "mrs        57272\n",
       "ms         38955\n",
       "mr         10648\n",
       "teacher     2360\n",
       "dr            13\n",
       "Name: teacher_prefix, dtype: int64"
      ]
     },
     "execution_count": 56,
     "metadata": {},
     "output_type": "execute_result"
    }
   ],
   "source": [
    "project_data['teacher_prefix'] = project_data['teacher_prefix'].str.replace('.','')\n",
    "project_data['teacher_prefix'] = project_data['teacher_prefix'].str.lower()\n",
    "project_data['teacher_prefix'].value_counts()"
   ]
  },
  {
   "cell_type": "markdown",
   "metadata": {},
   "source": [
    "# Preprocessing text features "
   ]
  },
  {
   "cell_type": "code",
   "execution_count": 57,
   "metadata": {},
   "outputs": [],
   "source": [
    "# https://stackoverflow.com/a/47091490/4084039\n",
    "import re\n",
    "\n",
    "def decontracted(phrase):\n",
    "    # specific\n",
    "    phrase = re.sub(r\"won't\", \"will not\", phrase)\n",
    "    phrase = re.sub(r\"can\\'t\", \"can not\", phrase)\n",
    "\n",
    "    # general\n",
    "    phrase = re.sub(r\"n\\'t\", \" not\", phrase)\n",
    "    phrase = re.sub(r\"\\'re\", \" are\", phrase)\n",
    "    phrase = re.sub(r\"\\'s\", \" is\", phrase)\n",
    "    phrase = re.sub(r\"\\'d\", \" would\", phrase)\n",
    "    phrase = re.sub(r\"\\'ll\", \" will\", phrase)\n",
    "    phrase = re.sub(r\"\\'t\", \" not\", phrase)\n",
    "    phrase = re.sub(r\"\\'ve\", \" have\", phrase)\n",
    "    phrase = re.sub(r\"\\'m\", \" am\", phrase)\n",
    "    return phrase"
   ]
  },
  {
   "cell_type": "code",
   "execution_count": 58,
   "metadata": {},
   "outputs": [],
   "source": [
    "# https://gist.github.com/sebleier/554280\n",
    "# we are removing the words from the stop words list: 'no', 'nor', 'not'\n",
    "stopwords= ['i', 'me', 'my', 'myself', 'we', 'our', 'ours', 'ourselves', 'you', \"you're\", \"you've\",\\\n",
    "            \"you'll\", \"you'd\", 'your', 'yours', 'yourself', 'yourselves', 'he', 'him', 'his', 'himself', \\\n",
    "            'she', \"she's\", 'her', 'hers', 'herself', 'it', \"it's\", 'its', 'itself', 'they', 'them', 'their',\\\n",
    "            'theirs', 'themselves', 'what', 'which', 'who', 'whom', 'this', 'that', \"that'll\", 'these', 'those', \\\n",
    "            'am', 'is', 'are', 'was', 'were', 'be', 'been', 'being', 'have', 'has', 'had', 'having', 'do', 'does', \\\n",
    "            'did', 'doing', 'a', 'an', 'the', 'and', 'but', 'if', 'or', 'because', 'as', 'until', 'while', 'of', \\\n",
    "            'at', 'by', 'for', 'with', 'about', 'against', 'between', 'into', 'through', 'during', 'before', 'after',\\\n",
    "            'above', 'below', 'to', 'from', 'up', 'down', 'in', 'out', 'on', 'off', 'over', 'under', 'again', 'further',\\\n",
    "            'then', 'once', 'here', 'there', 'when', 'where', 'why', 'how', 'all', 'any', 'both', 'each', 'few', 'more',\\\n",
    "            'most', 'other', 'some', 'such', 'only', 'own', 'same', 'so', 'than', 'too', 'very', \\\n",
    "            's', 't', 'can', 'will', 'just', 'don', \"don't\", 'should', \"should've\", 'now', 'd', 'll', 'm', 'o', 're', \\\n",
    "            've', 'y', 'ain', 'aren', \"aren't\", 'couldn', \"couldn't\", 'didn', \"didn't\", 'doesn', \"doesn't\", 'hadn',\\\n",
    "            \"hadn't\", 'hasn', \"hasn't\", 'haven', \"haven't\", 'isn', \"isn't\", 'ma', 'mightn', \"mightn't\", 'mustn',\\\n",
    "            \"mustn't\", 'needn', \"needn't\", 'shan', \"shan't\", 'shouldn', \"shouldn't\", 'wasn', \"wasn't\", 'weren', \"weren't\", \\\n",
    "            'won', \"won't\", 'wouldn', \"wouldn't\"]"
   ]
  },
  {
   "cell_type": "code",
   "execution_count": 59,
   "metadata": {},
   "outputs": [
    {
     "data": {
      "text/plain": [
       "0     Educational Support for English Learners at Home\n",
       "1                Wanted: Projector for Hungry Learners\n",
       "2    Soccer Equipment for AWESOME Middle School Stu...\n",
       "3                               Techie Kindergarteners\n",
       "4                               Interactive Math Tools\n",
       "Name: project_title, dtype: object"
      ]
     },
     "execution_count": 59,
     "metadata": {},
     "output_type": "execute_result"
    }
   ],
   "source": [
    "project_data['project_title'].head(5)"
   ]
  },
  {
   "cell_type": "code",
   "execution_count": 60,
   "metadata": {},
   "outputs": [
    {
     "name": "stdout",
     "output_type": "stream",
     "text": [
      "printing some random reviews\n",
      "9 Just For the Love of Reading--\\r\\nPure Pleasure\n",
      "34 \\\"Have A Ball!!!\\\"\n",
      "147 Who needs a Chromebook?\\r\\nWE DO!!\n"
     ]
    }
   ],
   "source": [
    "print(\"printing some random reviews\")\n",
    "print(9, project_data['project_title'].values[9])\n",
    "print(34, project_data['project_title'].values[34])\n",
    "print(147, project_data['project_title'].values[147])"
   ]
  },
  {
   "cell_type": "code",
   "execution_count": 61,
   "metadata": {},
   "outputs": [],
   "source": [
    "# Combining all the above stundents \n",
    "from tqdm import tqdm\n",
    "def preprocess_text(text_data):\n",
    "    preprocessed_text = []\n",
    "    # tqdm is for printing the status bar\n",
    "    for sentance in tqdm(text_data):\n",
    "        sent = decontracted(sentance)\n",
    "        sent = sent.replace('\\\\r', ' ')\n",
    "        sent = sent.replace('\\\\n', ' ')\n",
    "        sent = sent.replace('\\\\\"', ' ')\n",
    "        sent = re.sub('[^A-Za-z0-9]+', ' ', sent)\n",
    "        # https://gist.github.com/sebleier/554280\n",
    "        sent = ' '.join(e for e in sent.split() if e.lower() not in stopwords)\n",
    "        preprocessed_text.append(sent.lower().strip())\n",
    "    return preprocessed_text"
   ]
  },
  {
   "cell_type": "code",
   "execution_count": 62,
   "metadata": {},
   "outputs": [
    {
     "name": "stderr",
     "output_type": "stream",
     "text": [
      "100%|███████████████████████████████████████████████████████████████████████| 109248/109248 [00:08<00:00, 13395.39it/s]\n"
     ]
    }
   ],
   "source": [
    "preprocessed_titles = preprocess_text(project_data['project_title'].values)"
   ]
  },
  {
   "cell_type": "code",
   "execution_count": 63,
   "metadata": {},
   "outputs": [
    {
     "name": "stdout",
     "output_type": "stream",
     "text": [
      "9 love reading pure pleasure\n",
      "34 ball\n",
      "147 needs chromebook\n",
      "these are few random reviews\n"
     ]
    }
   ],
   "source": [
    "print(9, preprocessed_titles[9])\n",
    "print(34, preprocessed_titles[34])\n",
    "print(147, preprocessed_titles[147])\n",
    "print(\"these are few random reviews\")\n"
   ]
  },
  {
   "cell_type": "code",
   "execution_count": 64,
   "metadata": {},
   "outputs": [],
   "source": [
    "# merge two column text dataframe: \n",
    "project_data[\"essay\"] = project_data[\"project_essay_1\"].map(str) +\\\n",
    "                        project_data[\"project_essay_2\"].map(str) + \\\n",
    "                        project_data[\"project_essay_3\"].map(str) + \\\n",
    "                        project_data[\"project_essay_4\"].map(str)"
   ]
  },
  {
   "cell_type": "code",
   "execution_count": 65,
   "metadata": {},
   "outputs": [
    {
     "name": "stdout",
     "output_type": "stream",
     "text": [
      "My preschool students are children who are three to five years of age.  My school is in sunny San Pedro, California. The children from San Pedro come to school each morning ready to learn and grow.  There is never a dull moment in our class; my students are busy bees moving from one interest area to another.  They are eager to learn, explore, and experiment with the instructional materials and centers I set up for them.  We need more materials for the children to engage with, materials that will foster their interest in technology, literacy, math, science, art, and engineering. \\r\\nMy student's will learn number recognition and develop counting skills while engaging with the Learn to count picture puzzles and number Sequencing puzzles. While building with the 3-D Magnet Builders and Crystal Building Blocks, my student's mathematical skills will be supported and strengthened in concepts such as measurement, comparison, number estimation, symmetry and balance. My student's will build number skills as the they sift and make exciting number shell discoveries with every scoop at the sand table. The sort a shape activity board will allow my youngest students to learn colors, shapes and sorting skills as they fit various shape pieces into place.nannan\n",
      "==================================================\n",
      "My students are just like all children- they love move, dance, read and be silly. They love to play sports and make books. However, being an inner-city school in Chicago, many of my students come from low-income families. Coming to school is often their safe space and a place to come to get away from the realities of city living. \\r\\n\\r\\nMy students are wonderful and hold such a special place in my heart. I try to do whatever possible in my power to provide them with the tools that will help them be successful both in and out of the classroom. In our classroom, we work as a class family to focus on being peaceful, respectful and showing integrity. If only all adults would act like these children, our world would be a much better place.Our class is starting our journey to learn what it takes to write books and be an author. Many of my students need significant practice with handwriting before we can begin and this will help! In addition, these books about the writing process will really help my students grasp what it takes to be an author.  I always try to instill a love of reading and writing in my students from the very start. A big part of becoming a better writer is simply being given the tools and time to sit down and write. I can't wait to see them use these materials and begin to shine! \\r\\n\\r\\n\\r\\n\\r\\nnannan\n",
      "==================================================\n",
      "I teach at a Title 1 school in North Carolina. This means a majority of my students come from low-income families and receive free breakfast and lunch. Students at my school come from many diverse backgrounds and cultures but are all eager to learn.\\r\\n\\r\\nIn my classroom I have English Language Learners & students with special needs. Some of my students come from homes where Spanish is their primary language. All of my ESL students come in excited everyday to learn and benefit the most from high quality vocabulary instruction. Some students in my classroom have identified learning disabilities and identified attention disorders.  Altogether, we make up a very diverse classroom and have spent a lot of time learning to respect each others differences.Having a set of five Chromebooks will aid my classroom in a number of ways, each and every day.  My school uses an online reading program called Lexia which is research proven to improve reading skills.  However, my classroom currently only has 5 chromebooks.  This means my students have to rotate each day with who can get on the reading program.  With 5 more chromebooks, students would have more access time to this online reading program, thus improving their reading skills. This is also a great benefit for the many ESL (English as a Second Language) students I teach, as the computer program will read a loud to them.\\r\\n\\r\\nIn math, I like to have 3 small groups that go through rotations each day. Currently, I do not have enough computers for technology to be a choice of a station during math rotations, as each group would need 7 computers.  With more Chromebooks, students can practice math facts everyday in a fun and exciting way.\\r\\n\\r\\nFinally, having more Chromebooks will allow me to teach small group reading time with fewer interruptions.  This is so huge in a title one school in which students are very weak in their reading skills and have a very hard time working independently. With 5 more Chromebooks, more students would be engaged by reading online and therefore, reduce the behavior interruptions I often deal with during small group time. This project would allow for students to either be on a computer reading program or working in small group instruction with me.nannan\n",
      "==================================================\n",
      "My students come from very diverse backgrounds. Approximately 60% of our population qualifies for free or reduced lunch.\\r\\n\\r\\nThey've shown a great passion for reading, but do not have consistent, easy access to high-interest books. Our school library is open only part-time and students are often frustrated when they cannot get a new book. \\r\\n\\r\\nSome of my students are advanced readers and read complex texts, including classics. Others are struggling readers. Many of these students have connected with reading through graphic novels and other young adult novels. All students will benefit from a classroom library with books that range in complexity, topic, and genre.Research shows that students who enjoy reading and read more often do markedly better in school than their peers who do not read. Students will read if they are given access to great books, and a comfortable, quiet place and time to read them.\\r\\n\\r\\nThis project will provide dozens of high-interest texts and a comfortable reading center for over 100 8th grade students. My students have shown a passion for reading, but need more access to quality books and a comfortable, safe space to meet as a community of readers.\\r\\n\\r\\nBean bag chairs will be added to current bookshelves and a donated rug to create a reading center.nannan\n",
      "==================================================\n"
     ]
    }
   ],
   "source": [
    "print(project_data['essay'].values[99])\n",
    "print(\"=\"*50)\n",
    "print(project_data['essay'].values[199])\n",
    "print(\"=\"*50)\n",
    "print(project_data['essay'].values[1999])\n",
    "print(\"=\"*50)\n",
    "print(project_data['essay'].values[19999])\n",
    "print(\"=\"*50)"
   ]
  },
  {
   "cell_type": "code",
   "execution_count": 66,
   "metadata": {},
   "outputs": [],
   "source": [
    "# https://stackoverflow.com/a/47091490/4084039\n",
    "import re\n",
    "\n",
    "def decontracted(phrase):\n",
    "    # specific\n",
    "    phrase = re.sub(r\"won't\", \"will not\", phrase)\n",
    "    phrase = re.sub(r\"can\\'t\", \"can not\", phrase)\n",
    "\n",
    "    # general\n",
    "    phrase = re.sub(r\"n\\'t\", \" not\", phrase)\n",
    "    phrase = re.sub(r\"\\'re\", \" are\", phrase)\n",
    "    phrase = re.sub(r\"\\'s\", \" is\", phrase)\n",
    "    phrase = re.sub(r\"\\'d\", \" would\", phrase)\n",
    "    phrase = re.sub(r\"\\'ll\", \" will\", phrase)\n",
    "    phrase = re.sub(r\"\\'t\", \" not\", phrase)\n",
    "    phrase = re.sub(r\"\\'ve\", \" have\", phrase)\n",
    "    phrase = re.sub(r\"\\'m\", \" am\", phrase)\n",
    "    return phrase"
   ]
  },
  {
   "cell_type": "code",
   "execution_count": 67,
   "metadata": {},
   "outputs": [
    {
     "name": "stdout",
     "output_type": "stream",
     "text": [
      "My students come from very diverse backgrounds. Approximately 60% of our population qualifies for free or reduced lunch.\\r\\n\\r\\nThey have shown a great passion for reading, but do not have consistent, easy access to high-interest books. Our school library is open only part-time and students are often frustrated when they cannot get a new book. \\r\\n\\r\\nSome of my students are advanced readers and read complex texts, including classics. Others are struggling readers. Many of these students have connected with reading through graphic novels and other young adult novels. All students will benefit from a classroom library with books that range in complexity, topic, and genre.Research shows that students who enjoy reading and read more often do markedly better in school than their peers who do not read. Students will read if they are given access to great books, and a comfortable, quiet place and time to read them.\\r\\n\\r\\nThis project will provide dozens of high-interest texts and a comfortable reading center for over 100 8th grade students. My students have shown a passion for reading, but need more access to quality books and a comfortable, safe space to meet as a community of readers.\\r\\n\\r\\nBean bag chairs will be added to current bookshelves and a donated rug to create a reading center.nannan\n",
      "==================================================\n"
     ]
    }
   ],
   "source": [
    "sent = decontracted(project_data['essay'].values[19999])\n",
    "print(sent)\n",
    "print(\"=\"*50)"
   ]
  },
  {
   "cell_type": "code",
   "execution_count": 68,
   "metadata": {},
   "outputs": [
    {
     "name": "stdout",
     "output_type": "stream",
     "text": [
      "My students come from very diverse backgrounds. Approximately 60% of our population qualifies for free or reduced lunch.    They have shown a great passion for reading, but do not have consistent, easy access to high-interest books. Our school library is open only part-time and students are often frustrated when they cannot get a new book.     Some of my students are advanced readers and read complex texts, including classics. Others are struggling readers. Many of these students have connected with reading through graphic novels and other young adult novels. All students will benefit from a classroom library with books that range in complexity, topic, and genre.Research shows that students who enjoy reading and read more often do markedly better in school than their peers who do not read. Students will read if they are given access to great books, and a comfortable, quiet place and time to read them.    This project will provide dozens of high-interest texts and a comfortable reading center for over 100 8th grade students. My students have shown a passion for reading, but need more access to quality books and a comfortable, safe space to meet as a community of readers.    Bean bag chairs will be added to current bookshelves and a donated rug to create a reading center.nannan\n"
     ]
    }
   ],
   "source": [
    "# \\r \\n \\t remove from string python: http://texthandler.com/info/remove-line-breaks-python/\n",
    "sent = sent.replace('\\\\r', ' ')\n",
    "sent = sent.replace('\\\\\"', ' ')\n",
    "sent = sent.replace('\\\\n', ' ')\n",
    "print(sent)"
   ]
  },
  {
   "cell_type": "code",
   "execution_count": 69,
   "metadata": {},
   "outputs": [
    {
     "name": "stdout",
     "output_type": "stream",
     "text": [
      "My students come from very diverse backgrounds Approximately 60 of our population qualifies for free or reduced lunch They have shown a great passion for reading but do not have consistent easy access to high interest books Our school library is open only part time and students are often frustrated when they cannot get a new book Some of my students are advanced readers and read complex texts including classics Others are struggling readers Many of these students have connected with reading through graphic novels and other young adult novels All students will benefit from a classroom library with books that range in complexity topic and genre Research shows that students who enjoy reading and read more often do markedly better in school than their peers who do not read Students will read if they are given access to great books and a comfortable quiet place and time to read them This project will provide dozens of high interest texts and a comfortable reading center for over 100 8th grade students My students have shown a passion for reading but need more access to quality books and a comfortable safe space to meet as a community of readers Bean bag chairs will be added to current bookshelves and a donated rug to create a reading center nannan\n"
     ]
    }
   ],
   "source": [
    "#remove spacial character: https://stackoverflow.com/a/5843547/4084039\n",
    "sent = re.sub('[^A-Za-z0-9]+', ' ', sent)\n",
    "print(sent)"
   ]
  },
  {
   "cell_type": "code",
   "execution_count": 70,
   "metadata": {},
   "outputs": [],
   "source": [
    "# https://gist.github.com/sebleier/554280\n",
    "# we are removing the words from the stop words list: 'no', 'nor', 'not'\n",
    "stopwords= ['i', 'me', 'my', 'myself', 'we', 'our', 'ours', 'ourselves', 'you', \"you're\", \"you've\",\\\n",
    "            \"you'll\", \"you'd\", 'your', 'yours', 'yourself', 'yourselves', 'he', 'him', 'his', 'himself', \\\n",
    "            'she', \"she's\", 'her', 'hers', 'herself', 'it', \"it's\", 'its', 'itself', 'they', 'them', 'their',\\\n",
    "            'theirs', 'themselves', 'what', 'which', 'who', 'whom', 'this', 'that', \"that'll\", 'these', 'those', \\\n",
    "            'am', 'is', 'are', 'was', 'were', 'be', 'been', 'being', 'have', 'has', 'had', 'having', 'do', 'does', \\\n",
    "            'did', 'doing', 'a', 'an', 'the', 'and', 'but', 'if', 'or', 'because', 'as', 'until', 'while', 'of', \\\n",
    "            'at', 'by', 'for', 'with', 'about', 'against', 'between', 'into', 'through', 'during', 'before', 'after',\\\n",
    "            'above', 'below', 'to', 'from', 'up', 'down', 'in', 'out', 'on', 'off', 'over', 'under', 'again', 'further',\\\n",
    "            'then', 'once', 'here', 'there', 'when', 'where', 'why', 'how', 'all', 'any', 'both', 'each', 'few', 'more',\\\n",
    "            'most', 'other', 'some', 'such', 'only', 'own', 'same', 'so', 'than', 'too', 'very', \\\n",
    "            's', 't', 'can', 'will', 'just', 'don', \"don't\", 'should', \"should've\", 'now', 'd', 'll', 'm', 'o', 're', \\\n",
    "            've', 'y', 'ain', 'aren', \"aren't\", 'couldn', \"couldn't\", 'didn', \"didn't\", 'doesn', \"doesn't\", 'hadn',\\\n",
    "            \"hadn't\", 'hasn', \"hasn't\", 'haven', \"haven't\", 'isn', \"isn't\", 'ma', 'mightn', \"mightn't\", 'mustn',\\\n",
    "            \"mustn't\", 'needn', \"needn't\", 'shan', \"shan't\", 'shouldn', \"shouldn't\", 'wasn', \"wasn't\", 'weren', \"weren't\", \\\n",
    "            'won', \"won't\", 'wouldn', \"wouldn't\"]"
   ]
  },
  {
   "cell_type": "code",
   "execution_count": 71,
   "metadata": {},
   "outputs": [
    {
     "name": "stderr",
     "output_type": "stream",
     "text": [
      "100%|█████████████████████████████████████████████████████████████████████████| 109248/109248 [02:58<00:00, 612.78it/s]\n"
     ]
    }
   ],
   "source": [
    "# Combining all the above stundents \n",
    "from tqdm import tqdm\n",
    "preprocessed_essays = []\n",
    "# tqdm is for printing the status bar\n",
    "for sentance in tqdm(project_data['essay'].values):\n",
    "    sent = decontracted(sentance)\n",
    "    sent = sent.replace('\\\\r', ' ')\n",
    "    sent = sent.replace('\\\\\"', ' ')\n",
    "    sent = sent.replace('\\\\n', ' ')\n",
    "    sent = re.sub('[^A-Za-z0-9]+', ' ', sent)\n",
    "    # https://gist.github.com/sebleier/554280\n",
    "    sent = ' '.join(e for e in sent.split() if e.lower() not in stopwords)\n",
    "    preprocessed_essays.append(sent.lower().strip())"
   ]
  },
  {
   "cell_type": "code",
   "execution_count": 72,
   "metadata": {},
   "outputs": [
    {
     "data": {
      "text/plain": [
       "'students come diverse backgrounds approximately 60 population qualifies free reduced lunch shown great passion reading not consistent easy access high interest books school library open part time students often frustrated cannot get new book students advanced readers read complex texts including classics others struggling readers many students connected reading graphic novels young adult novels students benefit classroom library books range complexity topic genre research shows students enjoy reading read often markedly better school peers not read students read given access great books comfortable quiet place time read project provide dozens high interest texts comfortable reading center 100 8th grade students students shown passion reading need access quality books comfortable safe space meet community readers bean bag chairs added current bookshelves donated rug create reading center nannan'"
      ]
     },
     "execution_count": 72,
     "metadata": {},
     "output_type": "execute_result"
    }
   ],
   "source": [
    "preprocessed_essays[19999]"
   ]
  },
  {
   "cell_type": "markdown",
   "metadata": {},
   "source": [
    "## Preprocessing numerical features "
   ]
  },
  {
   "cell_type": "code",
   "execution_count": 73,
   "metadata": {},
   "outputs": [
    {
     "data": {
      "text/plain": [
       "0    154.60\n",
       "1    299.00\n",
       "2    516.85\n",
       "3    232.90\n",
       "4     67.98\n",
       "Name: price, dtype: float64"
      ]
     },
     "execution_count": 73,
     "metadata": {},
     "output_type": "execute_result"
    }
   ],
   "source": [
    "project_data['price'].head()"
   ]
  },
  {
   "cell_type": "code",
   "execution_count": null,
   "metadata": {},
   "outputs": [],
   "source": []
  },
  {
   "cell_type": "code",
   "execution_count": 74,
   "metadata": {},
   "outputs": [],
   "source": [
    "# Preprocessing numerical data involves standard scalar\n",
    "from sklearn.preprocessing import StandardScaler\n",
    "scaler = StandardScaler()\n",
    "scaler.fit(project_data['price'].values.reshape(-1, 1))\n",
    "project_data['std_price']=scaler.transform(project_data['price'].values.reshape(-1, 1) )"
   ]
  },
  {
   "cell_type": "code",
   "execution_count": 75,
   "metadata": {},
   "outputs": [
    {
     "data": {
      "text/plain": [
       "0   -0.390533\n",
       "1    0.002396\n",
       "2    0.595191\n",
       "3   -0.177469\n",
       "4   -0.626236\n",
       "Name: std_price, dtype: float64"
      ]
     },
     "execution_count": 75,
     "metadata": {},
     "output_type": "execute_result"
    }
   ],
   "source": [
    "project_data['std_price'].head() # ab price_data ka sara value -1 aur 1 ke beech aa gaya"
   ]
  },
  {
   "cell_type": "code",
   "execution_count": 76,
   "metadata": {},
   "outputs": [],
   "source": [
    "from sklearn.preprocessing import MinMaxScaler\n",
    "\n",
    "scaler = MinMaxScaler()\n",
    "scaler.fit(project_data['price'].values.reshape(-1, 1))\n",
    "project_data['nrm_price']=scaler.transform(project_data['price'].values.reshape(-1, 1))"
   ]
  },
  {
   "cell_type": "code",
   "execution_count": 77,
   "metadata": {},
   "outputs": [
    {
     "data": {
      "text/plain": [
       "0    0.015397\n",
       "1    0.029839\n",
       "2    0.051628\n",
       "3    0.023228\n",
       "4    0.006733\n",
       "Name: nrm_price, dtype: float64"
      ]
     },
     "execution_count": 77,
     "metadata": {},
     "output_type": "execute_result"
    }
   ],
   "source": [
    "project_data['nrm_price'].head()"
   ]
  },
  {
   "cell_type": "code",
   "execution_count": 78,
   "metadata": {},
   "outputs": [
    {
     "data": {
      "text/html": [
       "<div>\n",
       "<style scoped>\n",
       "    .dataframe tbody tr th:only-of-type {\n",
       "        vertical-align: middle;\n",
       "    }\n",
       "\n",
       "    .dataframe tbody tr th {\n",
       "        vertical-align: top;\n",
       "    }\n",
       "\n",
       "    .dataframe thead th {\n",
       "        text-align: right;\n",
       "    }\n",
       "</style>\n",
       "<table border=\"1\" class=\"dataframe\">\n",
       "  <thead>\n",
       "    <tr style=\"text-align: right;\">\n",
       "      <th></th>\n",
       "      <th>Unnamed: 0</th>\n",
       "      <th>id</th>\n",
       "      <th>teacher_id</th>\n",
       "      <th>teacher_prefix</th>\n",
       "      <th>school_state</th>\n",
       "      <th>project_submitted_datetime</th>\n",
       "      <th>project_grade_category</th>\n",
       "      <th>project_title</th>\n",
       "      <th>project_essay_1</th>\n",
       "      <th>project_essay_2</th>\n",
       "      <th>...</th>\n",
       "      <th>project_resource_summary</th>\n",
       "      <th>teacher_number_of_previously_posted_projects</th>\n",
       "      <th>project_is_approved</th>\n",
       "      <th>clean_categories</th>\n",
       "      <th>clean_subcategories</th>\n",
       "      <th>essay</th>\n",
       "      <th>price</th>\n",
       "      <th>quantity</th>\n",
       "      <th>std_price</th>\n",
       "      <th>nrm_price</th>\n",
       "    </tr>\n",
       "  </thead>\n",
       "  <tbody>\n",
       "    <tr>\n",
       "      <th>0</th>\n",
       "      <td>160221</td>\n",
       "      <td>p253737</td>\n",
       "      <td>c90749f5d961ff158d4b4d1e7dc665fc</td>\n",
       "      <td>mrs</td>\n",
       "      <td>IN</td>\n",
       "      <td>2016-12-05 13:43:57</td>\n",
       "      <td>grades_prek_2</td>\n",
       "      <td>Educational Support for English Learners at Home</td>\n",
       "      <td>My students are English learners that are work...</td>\n",
       "      <td>\\\"The limits of your language are the limits o...</td>\n",
       "      <td>...</td>\n",
       "      <td>My students need opportunities to practice beg...</td>\n",
       "      <td>0</td>\n",
       "      <td>0</td>\n",
       "      <td>Literacy_Language</td>\n",
       "      <td>ESL Literacy</td>\n",
       "      <td>My students are English learners that are work...</td>\n",
       "      <td>154.6</td>\n",
       "      <td>23</td>\n",
       "      <td>-0.390533</td>\n",
       "      <td>0.015397</td>\n",
       "    </tr>\n",
       "    <tr>\n",
       "      <th>1</th>\n",
       "      <td>140945</td>\n",
       "      <td>p258326</td>\n",
       "      <td>897464ce9ddc600bced1151f324dd63a</td>\n",
       "      <td>mr</td>\n",
       "      <td>FL</td>\n",
       "      <td>2016-10-25 09:22:10</td>\n",
       "      <td>grades_6_8</td>\n",
       "      <td>Wanted: Projector for Hungry Learners</td>\n",
       "      <td>Our students arrive to our school eager to lea...</td>\n",
       "      <td>The projector we need for our school is very c...</td>\n",
       "      <td>...</td>\n",
       "      <td>My students need a projector to help with view...</td>\n",
       "      <td>7</td>\n",
       "      <td>1</td>\n",
       "      <td>History_Civics Health_Sports</td>\n",
       "      <td>Civics_Government TeamSports</td>\n",
       "      <td>Our students arrive to our school eager to lea...</td>\n",
       "      <td>299.0</td>\n",
       "      <td>1</td>\n",
       "      <td>0.002396</td>\n",
       "      <td>0.029839</td>\n",
       "    </tr>\n",
       "  </tbody>\n",
       "</table>\n",
       "<p>2 rows × 22 columns</p>\n",
       "</div>"
      ],
      "text/plain": [
       "   Unnamed: 0       id                        teacher_id teacher_prefix  \\\n",
       "0      160221  p253737  c90749f5d961ff158d4b4d1e7dc665fc            mrs   \n",
       "1      140945  p258326  897464ce9ddc600bced1151f324dd63a             mr   \n",
       "\n",
       "  school_state project_submitted_datetime project_grade_category  \\\n",
       "0           IN        2016-12-05 13:43:57          grades_prek_2   \n",
       "1           FL        2016-10-25 09:22:10             grades_6_8   \n",
       "\n",
       "                                      project_title  \\\n",
       "0  Educational Support for English Learners at Home   \n",
       "1             Wanted: Projector for Hungry Learners   \n",
       "\n",
       "                                     project_essay_1  \\\n",
       "0  My students are English learners that are work...   \n",
       "1  Our students arrive to our school eager to lea...   \n",
       "\n",
       "                                     project_essay_2    ...      \\\n",
       "0  \\\"The limits of your language are the limits o...    ...       \n",
       "1  The projector we need for our school is very c...    ...       \n",
       "\n",
       "                            project_resource_summary  \\\n",
       "0  My students need opportunities to practice beg...   \n",
       "1  My students need a projector to help with view...   \n",
       "\n",
       "  teacher_number_of_previously_posted_projects project_is_approved  \\\n",
       "0                                            0                   0   \n",
       "1                                            7                   1   \n",
       "\n",
       "               clean_categories           clean_subcategories  \\\n",
       "0             Literacy_Language                  ESL Literacy   \n",
       "1  History_Civics Health_Sports  Civics_Government TeamSports   \n",
       "\n",
       "                                               essay  price quantity  \\\n",
       "0  My students are English learners that are work...  154.6       23   \n",
       "1  Our students arrive to our school eager to lea...  299.0        1   \n",
       "\n",
       "   std_price  nrm_price  \n",
       "0  -0.390533   0.015397  \n",
       "1   0.002396   0.029839  \n",
       "\n",
       "[2 rows x 22 columns]"
      ]
     },
     "execution_count": 78,
     "metadata": {},
     "output_type": "execute_result"
    }
   ],
   "source": [
    "project_data.head(2)"
   ]
  },
  {
   "cell_type": "code",
   "execution_count": 79,
   "metadata": {},
   "outputs": [
    {
     "data": {
      "text/html": [
       "<div>\n",
       "<style scoped>\n",
       "    .dataframe tbody tr th:only-of-type {\n",
       "        vertical-align: middle;\n",
       "    }\n",
       "\n",
       "    .dataframe tbody tr th {\n",
       "        vertical-align: top;\n",
       "    }\n",
       "\n",
       "    .dataframe thead th {\n",
       "        text-align: right;\n",
       "    }\n",
       "</style>\n",
       "<table border=\"1\" class=\"dataframe\">\n",
       "  <thead>\n",
       "    <tr style=\"text-align: right;\">\n",
       "      <th></th>\n",
       "      <th>Unnamed: 0</th>\n",
       "      <th>id</th>\n",
       "      <th>teacher_id</th>\n",
       "      <th>teacher_prefix</th>\n",
       "      <th>school_state</th>\n",
       "      <th>project_submitted_datetime</th>\n",
       "      <th>project_grade_category</th>\n",
       "      <th>project_title</th>\n",
       "      <th>project_essay_1</th>\n",
       "      <th>project_essay_2</th>\n",
       "      <th>...</th>\n",
       "      <th>project_essay_4</th>\n",
       "      <th>project_resource_summary</th>\n",
       "      <th>teacher_number_of_previously_posted_projects</th>\n",
       "      <th>clean_categories</th>\n",
       "      <th>clean_subcategories</th>\n",
       "      <th>essay</th>\n",
       "      <th>price</th>\n",
       "      <th>quantity</th>\n",
       "      <th>std_price</th>\n",
       "      <th>nrm_price</th>\n",
       "    </tr>\n",
       "  </thead>\n",
       "  <tbody>\n",
       "    <tr>\n",
       "      <th>0</th>\n",
       "      <td>160221</td>\n",
       "      <td>p253737</td>\n",
       "      <td>c90749f5d961ff158d4b4d1e7dc665fc</td>\n",
       "      <td>mrs</td>\n",
       "      <td>IN</td>\n",
       "      <td>2016-12-05 13:43:57</td>\n",
       "      <td>grades_prek_2</td>\n",
       "      <td>Educational Support for English Learners at Home</td>\n",
       "      <td>My students are English learners that are work...</td>\n",
       "      <td>\\\"The limits of your language are the limits o...</td>\n",
       "      <td>...</td>\n",
       "      <td>NaN</td>\n",
       "      <td>My students need opportunities to practice beg...</td>\n",
       "      <td>0</td>\n",
       "      <td>Literacy_Language</td>\n",
       "      <td>ESL Literacy</td>\n",
       "      <td>My students are English learners that are work...</td>\n",
       "      <td>154.6</td>\n",
       "      <td>23</td>\n",
       "      <td>-0.390533</td>\n",
       "      <td>0.015397</td>\n",
       "    </tr>\n",
       "  </tbody>\n",
       "</table>\n",
       "<p>1 rows × 21 columns</p>\n",
       "</div>"
      ],
      "text/plain": [
       "   Unnamed: 0       id                        teacher_id teacher_prefix  \\\n",
       "0      160221  p253737  c90749f5d961ff158d4b4d1e7dc665fc            mrs   \n",
       "\n",
       "  school_state project_submitted_datetime project_grade_category  \\\n",
       "0           IN        2016-12-05 13:43:57          grades_prek_2   \n",
       "\n",
       "                                      project_title  \\\n",
       "0  Educational Support for English Learners at Home   \n",
       "\n",
       "                                     project_essay_1  \\\n",
       "0  My students are English learners that are work...   \n",
       "\n",
       "                                     project_essay_2    ...      \\\n",
       "0  \\\"The limits of your language are the limits o...    ...       \n",
       "\n",
       "  project_essay_4                           project_resource_summary  \\\n",
       "0             NaN  My students need opportunities to practice beg...   \n",
       "\n",
       "  teacher_number_of_previously_posted_projects   clean_categories  \\\n",
       "0                                            0  Literacy_Language   \n",
       "\n",
       "  clean_subcategories                                              essay  \\\n",
       "0        ESL Literacy  My students are English learners that are work...   \n",
       "\n",
       "   price  quantity  std_price  nrm_price  \n",
       "0  154.6        23  -0.390533   0.015397  \n",
       "\n",
       "[1 rows x 21 columns]"
      ]
     },
     "execution_count": 79,
     "metadata": {},
     "output_type": "execute_result"
    }
   ],
   "source": [
    "#Separating the class label from the preprocessed data\n",
    "y = project_data['project_is_approved'].values\n",
    "X = project_data.drop(['project_is_approved'], axis=1)\n",
    "X.head(1)"
   ]
  },
  {
   "cell_type": "markdown",
   "metadata": {},
   "source": [
    "### Splitting the dataset"
   ]
  },
  {
   "cell_type": "code",
   "execution_count": 80,
   "metadata": {},
   "outputs": [],
   "source": [
    "# train test split\n",
    "from sklearn.model_selection import train_test_split\n",
    "\n",
    "X = X.iloc[:25000, :]\n",
    "y = y[:25000]\n",
    "X_train, X_test, y_train, y_test = train_test_split(X, y, test_size=0.33, stratify=y)\n",
    "X_train, X_cv, y_train, y_cv = train_test_split(X_train, y_train, test_size=0.33, stratify=y_train)"
   ]
  },
  {
   "cell_type": "markdown",
   "metadata": {},
   "source": [
    "### Vectorizing categorical data"
   ]
  },
  {
   "cell_type": "code",
   "execution_count": 81,
   "metadata": {},
   "outputs": [
    {
     "name": "stdout",
     "output_type": "stream",
     "text": [
      "['ak', 'al', 'ar', 'az', 'ca', 'co', 'ct', 'dc', 'de', 'fl', 'ga', 'hi', 'ia', 'id', 'il', 'in', 'ks', 'ky', 'la', 'ma', 'md', 'me', 'mi', 'mn', 'mo', 'ms', 'mt', 'nc', 'nd', 'ne', 'nh', 'nj', 'nm', 'nv', 'ny', 'oh', 'ok', 'or', 'pa', 'ri', 'sc', 'sd', 'tn', 'tx', 'ut', 'va', 'vt', 'wa', 'wi', 'wv', 'wy']\n",
      "=============================================================================================================================\n",
      "Shape of training dataset one hot encoding & corresponding class label  (11222, 51) (11222,)\n",
      "\n",
      "Shape of cv dataset one hot encoding & corresponding class label  (5528, 51) (5528,)\n",
      "\n",
      "Shape of test dataset one hot encoding & corresponding class label  (8250, 51) (8250,)\n"
     ]
    }
   ],
   "source": [
    "#vectorizing school_state to a one hot encoding\n",
    "vectorizer = CountVectorizer()\n",
    "vectorizer.fit(X_train['school_state'].values)\n",
    "print(vectorizer.get_feature_names())\n",
    "print(\"=\"*125)\n",
    "\n",
    "\n",
    "X_tr_state_ohe = vectorizer.transform(X_train['school_state'].values)\n",
    "X_cv_state_ohe = vectorizer.transform(X_cv['school_state'].values)\n",
    "X_test_state_ohe = vectorizer.transform(X_test['school_state'].values)\n",
    "\n",
    "print(\"Shape of training dataset one hot encoding & corresponding class label \",X_tr_state_ohe.shape, y_train.shape)\n",
    "print(\"\\nShape of cv dataset one hot encoding & corresponding class label \",X_cv_state_ohe.shape, y_cv.shape)\n",
    "print(\"\\nShape of test dataset one hot encoding & corresponding class label \",X_test_state_ohe.shape, y_test.shape)"
   ]
  },
  {
   "cell_type": "code",
   "execution_count": 82,
   "metadata": {},
   "outputs": [
    {
     "name": "stdout",
     "output_type": "stream",
     "text": [
      "[[0 0 0 ... 0 0 0]\n",
      " [0 0 0 ... 0 0 0]\n",
      " [0 0 0 ... 0 0 0]\n",
      " ...\n",
      " [0 0 0 ... 0 0 0]\n",
      " [0 0 0 ... 0 0 0]\n",
      " [0 0 0 ... 0 0 0]]\n"
     ]
    }
   ],
   "source": [
    "print(X_tr_state_ohe.toarray())"
   ]
  },
  {
   "cell_type": "code",
   "execution_count": 83,
   "metadata": {},
   "outputs": [
    {
     "data": {
      "text/plain": [
       "<11222x51 sparse matrix of type '<class 'numpy.int64'>'\n",
       "\twith 11222 stored elements in Compressed Sparse Row format>"
      ]
     },
     "execution_count": 83,
     "metadata": {},
     "output_type": "execute_result"
    }
   ],
   "source": [
    "X_tr_state_ohe"
   ]
  },
  {
   "cell_type": "code",
   "execution_count": 84,
   "metadata": {},
   "outputs": [
    {
     "name": "stdout",
     "output_type": "stream",
     "text": [
      "['mr', 'mrs', 'ms', 'teacher']\n",
      "=============================================================================================================================\n",
      "Shape of training dataset teacher_prefix one hot encoding & corresponding class label  (11222, 4) (11222,)\n",
      "Shape of cv dataset teacher_prefix one hot encoding & corresponding class label  (5528, 4) (5528,)\n",
      "Shape of test dataset teacher_prefix one hot encoding & corresponding class label  (8250, 4) (8250,)\n"
     ]
    }
   ],
   "source": [
    "vectorizer = CountVectorizer()\n",
    "vectorizer.fit(X_train['teacher_prefix'].values)\n",
    "print(vectorizer.get_feature_names())\n",
    "print(\"=\"*125)\n",
    "\n",
    "\n",
    "\n",
    "X_tr_tp_ohe = vectorizer.transform(X_train['teacher_prefix'].values)\n",
    "X_cv_tp_ohe = vectorizer.transform(X_cv['teacher_prefix'].values)\n",
    "X_test_tp_ohe = vectorizer.transform(X_test['teacher_prefix'].values)\n",
    "\n",
    "print(\"Shape of training dataset teacher_prefix one hot encoding & corresponding class label \",X_tr_tp_ohe.shape, y_train.shape)\n",
    "print(\"Shape of cv dataset teacher_prefix one hot encoding & corresponding class label \",X_cv_tp_ohe.shape, y_cv.shape)\n",
    "print(\"Shape of test dataset teacher_prefix one hot encoding & corresponding class label \",X_test_tp_ohe.shape, y_test.shape)"
   ]
  },
  {
   "cell_type": "code",
   "execution_count": 85,
   "metadata": {},
   "outputs": [
    {
     "name": "stdout",
     "output_type": "stream",
     "text": [
      "['Warmth', 'Care_Hunger', 'History_Civics', 'Music_Arts', 'AppliedLearning', 'SpecialNeeds', 'Health_Sports', 'Math_Science', 'Literacy_Language']\n",
      "=============================================================================================================================\n",
      "Shape of training dataset clean_categories one hot encoding & corresponding class label  (11222, 9) (11222,)\n",
      "Shape of cv dataset clean_categories one hot encoding & corresponding class label  (5528, 9) (5528,)\n",
      "Shape of test dataset clean_categories one hot encoding & corresponding class label  (8250, 9) (8250,)\n"
     ]
    }
   ],
   "source": [
    "vectorizer = CountVectorizer(vocabulary=list(sorted_cat_dict))\n",
    "vectorizer.fit(X_train['clean_categories'].values)\n",
    "print(vectorizer.get_feature_names())\n",
    "print(\"=\"*125)\n",
    "\n",
    "\n",
    "\n",
    "X_tr_cat_ohe = vectorizer.transform(X_train['clean_categories'].values)\n",
    "X_cv_cat_ohe = vectorizer.transform(X_cv['clean_categories'].values)\n",
    "X_test_cat_ohe = vectorizer.transform(X_test['clean_categories'].values)\n",
    "\n",
    "print(\"Shape of training dataset clean_categories one hot encoding & corresponding class label \",X_tr_cat_ohe.shape, y_train.shape)\n",
    "print(\"Shape of cv dataset clean_categories one hot encoding & corresponding class label \",X_cv_cat_ohe.shape, y_cv.shape)\n",
    "print(\"Shape of test dataset clean_categories one hot encoding & corresponding class label \",X_test_cat_ohe.shape, y_test.shape)"
   ]
  },
  {
   "cell_type": "code",
   "execution_count": 86,
   "metadata": {},
   "outputs": [
    {
     "name": "stdout",
     "output_type": "stream",
     "text": [
      "['Economics', 'CommunityService', 'FinancialLiteracy', 'ParentInvolvement', 'Extracurricular', 'Civics_Government', 'ForeignLanguages', 'NutritionEducation', 'Warmth', 'Care_Hunger', 'SocialSciences', 'PerformingArts', 'CharacterEducation', 'TeamSports', 'Other', 'College_CareerPrep', 'Music', 'History_Geography', 'Health_LifeScience', 'EarlyDevelopment', 'ESL', 'Gym_Fitness', 'EnvironmentalScience', 'VisualArts', 'Health_Wellness', 'AppliedSciences', 'SpecialNeeds', 'Literature_Writing', 'Mathematics', 'Literacy']\n",
      "=============================================================================================================================\n",
      "Shape of training dataset clean_subcategories one hot encoding & corresponding class label  (11222, 30) (11222,)\n",
      "Shape of cv dataset clean_subcategories one hot encoding & corresponding class label  (5528, 30) (5528,)\n",
      "Shape of test dataset clean_subcategories one hot encoding & corresponding class label  (8250, 30) (8250,)\n"
     ]
    }
   ],
   "source": [
    "vectorizer = CountVectorizer(vocabulary=list(sorted_sub_cat_dict))\n",
    "vectorizer.fit(X_train['clean_subcategories'].values)\n",
    "print(vectorizer.get_feature_names())\n",
    "print(\"=\"*125)\n",
    "\n",
    "\n",
    "\n",
    "X_tr_subcat_ohe = vectorizer.transform(X_train['clean_subcategories'].values)\n",
    "X_cv_subcat_ohe = vectorizer.transform(X_cv['clean_subcategories'].values)\n",
    "X_test_subcat_ohe = vectorizer.transform(X_test['clean_subcategories'].values)\n",
    "\n",
    "print(\"Shape of training dataset clean_subcategories one hot encoding & corresponding class label \",X_tr_subcat_ohe.shape, y_train.shape)\n",
    "print(\"Shape of cv dataset clean_subcategories one hot encoding & corresponding class label \",X_cv_subcat_ohe.shape, y_cv.shape)\n",
    "print(\"Shape of test dataset clean_subcategories one hot encoding & corresponding class label \",X_test_subcat_ohe.shape, y_test.shape)"
   ]
  },
  {
   "cell_type": "code",
   "execution_count": 87,
   "metadata": {},
   "outputs": [
    {
     "name": "stdout",
     "output_type": "stream",
     "text": [
      "['grades_3_5', 'grades_prek_2', 'grades_6_8', 'grades_9_12']\n",
      "=============================================================================================================================\n",
      "Shape of training dataset project_grade_category one hot encoding & corresponding class label  (11222, 4) (11222,)\n",
      "Shape of cv dataset project_grade_category one hot encoding & corresponding class label  (5528, 4) (5528,)\n",
      "Shape of test dataset project_grade_category one hot encoding & corresponding class label  (8250, 4) (8250,)\n"
     ]
    }
   ],
   "source": [
    "vectorizer = CountVectorizer(vocabulary=list(X_train['project_grade_category'].unique()), lowercase=False, binary=True)\n",
    "vectorizer.fit(X_train['project_grade_category'].values)\n",
    "print(vectorizer.get_feature_names())\n",
    "print(\"=\"*125)\n",
    "\n",
    "\n",
    "\n",
    "X_tr_pgcat_ohe = vectorizer.transform(X_train['project_grade_category'].values)\n",
    "X_cv_pgcat_ohe = vectorizer.transform(X_cv['project_grade_category'].values)\n",
    "X_test_pgcat_ohe = vectorizer.transform(X_test['project_grade_category'].values)\n",
    "\n",
    "print(\"Shape of training dataset project_grade_category one hot encoding & corresponding class label \",X_tr_pgcat_ohe.shape, y_train.shape)\n",
    "print(\"Shape of cv dataset project_grade_category one hot encoding & corresponding class label \",X_cv_pgcat_ohe.shape, y_cv.shape)\n",
    "print(\"Shape of test dataset project_grade_category one hot encoding & corresponding class label \",X_test_pgcat_ohe.shape, y_test.shape)"
   ]
  },
  {
   "cell_type": "markdown",
   "metadata": {},
   "source": [
    "# Vectorizing text Features"
   ]
  },
  {
   "cell_type": "markdown",
   "metadata": {},
   "source": [
    "### BOW on Text featues"
   ]
  },
  {
   "cell_type": "code",
   "execution_count": 88,
   "metadata": {},
   "outputs": [
    {
     "name": "stdout",
     "output_type": "stream",
     "text": [
      "Shape of training dataset essay_pre one hot encoding & corresponding class label  (11222, 100) (11222,)\n",
      "Shape of cv dataset essay_pre one hot encoding & corresponding class label  (5528, 100) (5528,)\n",
      "Shape of test dataset essay_pre one hot encoding & corresponding class label  (8250, 100) (8250,)\n"
     ]
    }
   ],
   "source": [
    "#BoW encoding for essay\n",
    "vectorizer = CountVectorizer(min_df = 10, ngram_range=(1,4), max_features=100)\n",
    "vectorizer.fit(X_train['essay'].values)\n",
    "#print(vectorizer.get_feature_names())\n",
    "#print(\"=\"*125)\n",
    "\n",
    "\n",
    "\n",
    "X_tr_essay_bow = vectorizer.transform(X_train['essay'].values)\n",
    "X_cv_essay_bow = vectorizer.transform(X_cv['essay'].values)\n",
    "X_test_essay_bow = vectorizer.transform(X_test['essay'].values)\n",
    "\n",
    "print(\"Shape of training dataset essay_pre one hot encoding & corresponding class label \",X_tr_essay_bow.shape, y_train.shape)\n",
    "print(\"Shape of cv dataset essay_pre one hot encoding & corresponding class label \",X_cv_essay_bow.shape, y_cv.shape)\n",
    "print(\"Shape of test dataset essay_pre one hot encoding & corresponding class label \",X_test_essay_bow.shape, y_test.shape)"
   ]
  },
  {
   "cell_type": "code",
   "execution_count": 89,
   "metadata": {},
   "outputs": [
    {
     "name": "stdout",
     "output_type": "stream",
     "text": [
      "Shape of training dataset project_title_pre one hot encoding & corresponding class label  (11222, 1322) (11222,)\n",
      "Shape of cv dataset project_title_pre one hot encoding & corresponding class label  (5528, 1322) (5528,)\n",
      "Shape of test dataset project_title_pre one hot encoding & corresponding class label  (8250, 1322) (8250,)\n"
     ]
    }
   ],
   "source": [
    "#BoW encoding for project title\n",
    "vectorizer = CountVectorizer(min_df = 10, ngram_range=(1,4), max_features=10000)\n",
    "vectorizer.fit(X_train['project_title'].values)\n",
    "#print(vectorizer.get_feature_names())\n",
    "#print(\"=\"*125)\n",
    "\n",
    "\n",
    "\n",
    "X_tr_project_title_bow = vectorizer.transform(X_train['project_title'].values)\n",
    "X_cv_project_title_bow = vectorizer.transform(X_cv['project_title'].values)\n",
    "X_test_project_title_bow = vectorizer.transform(X_test['project_title'].values)\n",
    "\n",
    "print(\"Shape of training dataset project_title_pre one hot encoding & corresponding class label \",X_tr_project_title_bow.shape, y_train.shape)\n",
    "print(\"Shape of cv dataset project_title_pre one hot encoding & corresponding class label \",X_cv_project_title_bow.shape, y_cv.shape)\n",
    "print(\"Shape of test dataset project_title_pre one hot encoding & corresponding class label \",X_test_project_title_bow.shape, y_test.shape)"
   ]
  },
  {
   "cell_type": "markdown",
   "metadata": {},
   "source": [
    "### tfidf on text feature"
   ]
  },
  {
   "cell_type": "code",
   "execution_count": 90,
   "metadata": {},
   "outputs": [
    {
     "name": "stdout",
     "output_type": "stream",
     "text": [
      "Shape of training dataset essay_pre one hot encoding & corresponding class label  (11222, 6761) (11222,)\n",
      "Shape of cv dataset essay_pre one hot encoding & corresponding class label  (5528, 6761) (5528,)\n",
      "Shape of test dataset essay_pre one hot encoding & corresponding class label  (8250, 6761) (8250,)\n"
     ]
    }
   ],
   "source": [
    "#tfidf for essay\n",
    "vectorizer = TfidfVectorizer(min_df=10)\n",
    "vectorizer.fit(X_train['essay'].values)\n",
    "\n",
    "\n",
    "X_tr_essay_tfidf = vectorizer.transform(X_train['essay'].values)\n",
    "X_cv_essay_tfidf = vectorizer.transform(X_cv['essay'].values)\n",
    "X_test_essay_tfidf = vectorizer.transform(X_test['essay'].values)\n",
    "\n",
    "print(\"Shape of training dataset essay_pre one hot encoding & corresponding class label \",X_tr_essay_tfidf.shape, y_train.shape)\n",
    "print(\"Shape of cv dataset essay_pre one hot encoding & corresponding class label \",X_cv_essay_tfidf.shape, y_cv.shape)\n",
    "print(\"Shape of test dataset essay_pre one hot encoding & corresponding class label \",X_test_essay_tfidf.shape, y_test.shape)"
   ]
  },
  {
   "cell_type": "code",
   "execution_count": 91,
   "metadata": {},
   "outputs": [],
   "source": [
    "# Here everything is same as BOW but instead of replacing word by its count value, we replace word by its tfidf value"
   ]
  },
  {
   "cell_type": "code",
   "execution_count": 92,
   "metadata": {},
   "outputs": [
    {
     "name": "stdout",
     "output_type": "stream",
     "text": [
      "Shape of training dataset project_title_pre one hot encoding & corresponding class label  (11222, 733) (11222,)\n",
      "Shape of cv dataset project_title_pre one hot encoding & corresponding class label  (5528, 733) (5528,)\n",
      "Shape of test dataset project_title_pre one hot encoding & corresponding class label  (8250, 733) (8250,)\n"
     ]
    }
   ],
   "source": [
    "#tfidf for project_title\n",
    "vectorizer = TfidfVectorizer(min_df=10)\n",
    "vectorizer.fit(X_train['project_title'].values)\n",
    "\n",
    "\n",
    "X_tr_project_title_tfidf = vectorizer.transform(X_train['project_title'].values)\n",
    "X_cv_project_title_tfidf = vectorizer.transform(X_cv['project_title'].values)\n",
    "X_test_project_title_tfidf = vectorizer.transform(X_test['project_title'].values)\n",
    "\n",
    "print(\"Shape of training dataset project_title_pre one hot encoding & corresponding class label \",X_tr_project_title_tfidf.shape, y_train.shape)\n",
    "print(\"Shape of cv dataset project_title_pre one hot encoding & corresponding class label \",X_cv_project_title_tfidf.shape, y_cv.shape)\n",
    "print(\"Shape of test dataset project_title_pre one hot encoding & corresponding class label \",X_test_project_title_tfidf.shape, y_test.shape)"
   ]
  },
  {
   "cell_type": "markdown",
   "metadata": {},
   "source": [
    "# w2v on text feature"
   ]
  },
  {
   "cell_type": "markdown",
   "metadata": {},
   "source": [
    "### w2v  on essay"
   ]
  },
  {
   "cell_type": "code",
   "execution_count": 93,
   "metadata": {},
   "outputs": [],
   "source": [
    "\n",
    "with open('glove_vectors', 'rb') as f:  \n",
    "    model = pickle.load(f)\n",
    "    glove_words =  set(model.keys())   \n"
   ]
  },
  {
   "cell_type": "code",
   "execution_count": 94,
   "metadata": {},
   "outputs": [
    {
     "name": "stderr",
     "output_type": "stream",
     "text": [
      "100%|███████████████████████████████████████████████████████████████████████████| 11222/11222 [00:15<00:00, 702.61it/s]\n"
     ]
    },
    {
     "name": "stdout",
     "output_type": "stream",
     "text": [
      "11222\n",
      "300\n",
      "[-5.48842066e-02 -6.79150111e-02 -4.21682901e-02 -1.68915123e-01\n",
      "  2.81394452e-02 -3.53979524e-03 -3.81733358e+00  1.91526591e-01\n",
      "  7.65935992e-03 -2.17660523e-01  1.25808528e-01 -1.08308325e-03\n",
      "  3.19861282e-02 -1.40672078e-01 -4.31475306e-02 -1.04809778e-01\n",
      " -8.31909067e-02 -1.37150449e-01  8.70293778e-02  1.01135217e-01\n",
      "  6.67222567e-02 -3.28771518e-02 -4.91226245e-02  4.12700230e-02\n",
      " -4.48528401e-02 -7.64721480e-02  6.13014000e-02 -1.61080776e-01\n",
      " -1.00076591e-01 -1.07171294e-01 -3.46620398e-01 -4.67836028e-02\n",
      "  1.12426560e-01 -2.27922988e-02 -1.12555413e-01 -8.26747750e-02\n",
      " -8.71773388e-02 -1.44846521e-01  4.77738710e-02 -8.26480092e-02\n",
      " -4.89204095e-02  1.41551121e-01  2.42038591e-03 -2.23977664e-01\n",
      " -5.96783619e-02 -5.53666250e-02  6.07988603e-02 -1.20565875e-01\n",
      " -4.52586466e-02 -3.21644075e-02  5.33070786e-02  4.61256365e-02\n",
      "  8.20191627e-03 -2.68308952e-02  9.91849222e-02 -1.04292523e-01\n",
      "  7.36119365e-02 -6.53660282e-02 -1.05297944e-01  9.05307103e-02\n",
      " -2.97189472e-02  6.54708790e-03  8.35319439e-02 -7.81676948e-02\n",
      " -2.68152187e-02  1.27297923e-01  3.47048806e-02  2.35502734e-02\n",
      "  1.83155442e-01 -1.83326073e-01 -1.59484256e-01  5.48212841e-02\n",
      " -4.72422671e-03 -1.14317071e-01 -2.46749369e-02 -2.09118285e-01\n",
      "  1.12782148e-01  5.65995214e-02  5.85195218e-02 -1.17685767e-01\n",
      "  5.22578841e-02 -5.35195234e-01 -5.84563756e-02 -1.28299355e-01\n",
      " -5.30031349e-04  2.80663659e-02  7.31122028e-02 -1.35565415e-01\n",
      "  1.10583135e-01 -3.42413452e-02  4.37941069e-02 -4.92724298e-02\n",
      " -7.29964579e-02  2.58499004e-02  2.39669849e-02 -2.94921258e-01\n",
      " -2.62410524e+00 -1.84852167e-03  1.45175350e-01  1.14874910e-01\n",
      " -4.15528270e-02  9.41981321e-02  2.48271889e-01  8.41725635e-03\n",
      " -3.81818544e-02 -4.42488028e-02  6.43455833e-02 -1.48226754e-01\n",
      " -2.13033492e-02 -2.06773310e-02  6.13357698e-03  3.80842377e-02\n",
      "  3.72461603e-02  2.15824748e-01 -1.03411312e-01  3.62293663e-02\n",
      " -4.41318735e-02  1.77954484e-03  1.02505131e-01  1.01321718e-01\n",
      " -1.20973442e-01  2.70427964e-02  2.85292821e-02 -1.56355312e-01\n",
      "  3.32910687e-02 -5.37552575e-02  1.92199890e-02 -4.33914944e-02\n",
      "  4.58320202e-03  1.31100973e-01  3.51617698e-04  2.23329079e-02\n",
      " -3.33770944e-02 -1.16645948e-01  6.53432024e-02 -2.00562206e-02\n",
      "  1.15938771e-01  2.36977332e-02  2.16850479e-01  3.50204715e-01\n",
      "  1.11291289e-01  2.86390321e-02  3.01017621e-02 -1.48548194e-02\n",
      " -9.63412770e-03 -5.25088067e-02  1.34387919e-01 -4.34382492e-02\n",
      "  3.38820413e-01  1.26428375e-01  2.19927750e-02 -4.99551397e-02\n",
      " -5.47793524e-03 -8.66510690e-02  5.61109921e-02 -7.00627246e-02\n",
      "  6.88573394e-02  1.07672687e-02 -8.20003859e-02 -4.23092790e-02\n",
      "  9.73564587e-02 -6.92182722e-02 -2.49467063e-03 -5.80830465e-02\n",
      " -3.71563051e-02  3.19200833e-02 -8.12718417e-02  1.28808319e-01\n",
      "  1.31845129e-01 -1.14773144e-01 -8.71017857e-02  2.76190179e-02\n",
      " -8.42852408e-02 -8.33648313e-02 -8.54050476e-02  2.31495217e-01\n",
      " -1.11864715e-01 -4.40930476e-02 -6.07641365e-02 -9.82440008e-02\n",
      "  1.08779349e-01  2.01868575e-01 -5.52434278e-03 -6.34885655e-02\n",
      "  2.14712079e-02 -1.58977305e-01  2.63963527e-02 -7.23147847e-03\n",
      "  1.27732035e-01 -2.74804972e-02 -3.63023111e-02 -1.06676024e-01\n",
      "  2.53419563e-03 -4.37894617e-02  3.68187532e-02 -1.29970206e-01\n",
      "  8.53587175e-02  7.56452698e-02  1.52597242e-01 -4.30667325e-02\n",
      "  1.72923285e-01 -4.19761803e-02 -5.82187444e-02  7.62133872e-02\n",
      " -1.17617460e-03  1.36177714e-01  6.39577294e-02 -1.04773969e-01\n",
      "  1.46733242e-01 -6.96454635e-02  8.23072048e-02 -3.04425472e-02\n",
      " -1.15972546e-01 -1.44409275e-01 -7.85543191e-02  1.46659123e-02\n",
      " -8.36929067e-02 -5.81653853e-02 -4.40030861e-02  2.30805472e-02\n",
      " -1.42702960e-01 -1.18819144e-01 -6.53810198e-02 -1.57162246e-02\n",
      " -2.63079306e+00  1.40796451e-01  4.39491643e-02  2.24353413e-02\n",
      "  5.24633524e-02 -8.92158464e-02  6.98681750e-02  6.95977141e-02\n",
      "  1.09262869e-02 -7.37005040e-03 -1.18303573e-01  1.70171920e-01\n",
      "  5.27524183e-04 -6.19698230e-02 -7.71725000e-02  6.09712083e-02\n",
      " -1.00627674e-01  5.18663734e-02 -2.52387411e-01  2.93229929e-02\n",
      " -3.58318810e-03 -1.83783218e-02 -7.21935567e-02 -2.14583754e-02\n",
      " -3.93616151e-02  5.87074223e-02 -3.55293401e-02 -2.20681722e-02\n",
      "  2.10616937e-02 -6.73222563e-03  6.04607978e-02 -6.03341452e-02\n",
      "  6.48537098e-02 -1.04462664e-01  6.00474448e-02 -3.28042897e-03\n",
      "  1.00742019e-01 -2.46388813e-02 -6.16358710e-02 -2.93792591e-02\n",
      "  7.14591532e-02 -1.33822470e-01 -2.46703589e-01 -6.22928468e-02\n",
      "  1.34999067e-01  3.62450794e-02 -1.83449881e-02 -1.09334137e-01\n",
      " -1.81959895e-01  7.03077063e-02  3.43278607e-02  7.90323329e-02\n",
      "  5.72659087e-02  5.39564613e-02 -4.02819917e-02 -7.25345000e-03\n",
      "  2.62065333e-01 -4.26407226e-02 -1.84244841e-02  1.48137734e-01\n",
      "  1.75569873e-02  1.21366024e-01  1.78866266e-02  7.07760218e-02\n",
      " -4.56215833e-02 -4.78472524e-02  1.68453687e-02 -1.49877108e-01\n",
      " -9.35046512e-02 -5.38910948e-02  1.95590194e-02  1.44925327e-02\n",
      " -5.71809710e-02 -6.94480556e-03  1.44332713e-01  1.23718915e-02]\n"
     ]
    }
   ],
   "source": [
    "# average Word2Vec\n",
    "# compute average word2vec for each review.\n",
    "avg_w2v_vectors_train = []; # the avg-w2v for each sentence/review is stored in this list\n",
    "for sentence in tqdm(X_train['essay'].values): #Initially we are handling first row of essay in X_train for each review/sentence in X_train\n",
    "    vector = np.zeros(300) # for each sentence in preprocessed essay, we are initilizing the vector length 300. We want vector of length 300 for each word.\n",
    "    cnt_words =0; # initizing number of words for each row\n",
    "    for word in sentence.split(): # for each word in a review/sentence we are finding whether it is present in glove_vector or not\n",
    "        if word in glove_words:\n",
    "            vector += model[word] #IF yes, then we are getting vector of size 300 and we'll store it in variable named as vector\n",
    "            cnt_words += 1 # also we will keep count increase by 1\n",
    "    if cnt_words != 0:\n",
    "        vector /= cnt_words\n",
    "    avg_w2v_vectors_train.append(vector)\n",
    "\n",
    "print(len(avg_w2v_vectors_train))\n",
    "print(len(avg_w2v_vectors_train[0]))\n",
    "print(avg_w2v_vectors_train[0])\n"
   ]
  },
  {
   "cell_type": "code",
   "execution_count": 95,
   "metadata": {},
   "outputs": [
    {
     "name": "stderr",
     "output_type": "stream",
     "text": [
      "100%|█████████████████████████████████████████████████████████████████████████████| 5528/5528 [00:07<00:00, 746.61it/s]\n"
     ]
    },
    {
     "name": "stdout",
     "output_type": "stream",
     "text": [
      "5528\n",
      "300\n",
      "[ 2.80013561e-03  2.64948203e-02 -5.85664311e-02 -1.70985320e-01\n",
      "  4.96231196e-02 -2.68475845e-03 -3.69402297e+00  1.63468020e-01\n",
      " -2.19004568e-02 -2.00752764e-01  8.29863534e-02 -6.66916642e-03\n",
      "  2.42128818e-02 -1.51036019e-01 -1.15781907e-01 -1.67192636e-01\n",
      " -5.38798635e-02 -9.52294682e-02  8.01873642e-02  8.75103507e-02\n",
      "  2.84027628e-02  4.82859770e-02 -8.48107830e-03  5.46557041e-02\n",
      " -6.95867875e-03 -7.52126804e-02  4.09537081e-02 -1.10576831e-01\n",
      " -9.45172899e-02 -3.50917061e-02 -2.83594814e-01 -4.11229757e-02\n",
      "  9.78700311e-02 -6.35650743e-03 -1.22901675e-01 -4.46745047e-02\n",
      " -3.47515378e-02 -9.41053000e-02  4.24493919e-03 -5.90979146e-02\n",
      " -8.49045277e-02  1.44199807e-01  1.09728944e-02 -2.47439457e-01\n",
      " -2.83666959e-02 -8.27676676e-02  4.71537689e-02 -1.25527482e-01\n",
      " -2.81710176e-02 -3.79016189e-02  1.52162770e-03  1.31768068e-01\n",
      " -5.51598514e-03 -1.27926182e-02  9.34396101e-02 -1.52329475e-01\n",
      "  5.72354213e-02 -3.56737007e-02 -6.27700345e-02  8.68208405e-02\n",
      " -7.53997027e-02 -1.86636473e-02  1.06472892e-01 -2.41613496e-02\n",
      " -2.25935547e-02  1.85702504e-01  4.22643534e-02  2.39837297e-02\n",
      "  1.92929999e-01 -1.86406955e-01 -1.27623252e-01  7.14088919e-02\n",
      " -3.99177833e-02 -1.27254484e-01 -4.85714622e-02 -2.50418179e-01\n",
      "  1.01260436e-01  3.95751115e-02  5.41013541e-02 -8.01521683e-02\n",
      "  7.11567432e-02 -4.81357829e-01 -1.29812920e-01 -1.59449413e-01\n",
      " -5.47759878e-02  2.13103581e-02  2.64731895e-02 -1.44144207e-01\n",
      "  1.39753885e-01 -3.46329446e-02  3.54602074e-02 -7.23019770e-02\n",
      " -6.31355811e-02  1.00586386e-01  3.27583054e-02 -3.09136226e-01\n",
      " -2.54759750e+00 -3.88112027e-02  1.26925534e-01  7.53797466e-02\n",
      " -4.17010574e-02  5.84737108e-02  2.22489623e-01 -2.75590980e-02\n",
      "  4.33633108e-04 -6.82739257e-03  1.02585955e-01 -1.34323665e-01\n",
      " -6.67039493e-02 -1.81349331e-02 -5.67947153e-02  7.45915405e-03\n",
      "  6.09724054e-03  2.04329684e-01 -1.39894531e-01  1.91374774e-02\n",
      " -6.14621756e-02  7.84122027e-03  9.44578061e-02  7.03084845e-02\n",
      " -1.25360770e-01  2.47062568e-03  1.54450128e-02 -1.68397730e-01\n",
      "  3.44252223e-02 -5.66011270e-02  5.18141284e-02 -8.08194020e-02\n",
      " -4.56232905e-02  1.39377224e-01 -4.46740608e-03 -6.54906959e-03\n",
      " -5.48619521e-02 -1.65664170e-01  6.88146932e-02 -2.59328446e-02\n",
      "  7.22791151e-02 -4.20810101e-02  1.89861952e-01  3.48251234e-01\n",
      "  1.18134572e-01  7.09372703e-02  5.87473811e-02 -5.46600203e-02\n",
      " -8.01191657e-02 -6.22723757e-02  4.33250601e-02 -4.94474068e-02\n",
      "  2.87521929e-01  1.08258300e-01 -3.74463115e-02  5.56477027e-03\n",
      "  6.41408291e-02 -6.96565703e-02  3.74412115e-02 -6.78709257e-02\n",
      "  3.48283700e-02  2.44084723e-02 -1.32680311e-01 -2.80416831e-02\n",
      "  1.23089005e-01 -5.56242764e-02 -2.61298034e-02 -8.31977595e-02\n",
      " -4.53739324e-02  1.24410351e-02 -6.41700027e-02  9.21068899e-02\n",
      "  1.75155992e-01 -5.99062088e-02 -2.61812135e-02 -1.21484209e-02\n",
      " -8.32432004e-02 -1.59088242e-01 -1.31475185e-01  2.15411826e-01\n",
      " -8.16832852e-02 -9.92647885e-02 -4.13784446e-02 -7.57598514e-02\n",
      "  1.54303470e-01  1.57979378e-01 -5.88630973e-02 -2.75667059e-02\n",
      " -3.13953378e-02 -2.36168987e-01  3.02626845e-02  4.81101432e-02\n",
      "  1.51689905e-01  1.31301831e-02 -4.34331984e-02 -2.45184014e-02\n",
      "  1.24715304e-02 -7.96074385e-03  7.37940459e-02 -6.82653534e-02\n",
      "  8.94496149e-02  7.98471520e-02  1.13682429e-01 -1.67989197e-02\n",
      "  1.67151716e-01 -6.14838934e-02 -1.49950270e-03  6.67595643e-02\n",
      " -1.03764178e-02  1.53560015e-01  7.42531169e-02  5.28241892e-03\n",
      "  1.82485581e-01 -9.07947588e-02  6.67901486e-02 -1.51112959e-02\n",
      " -5.78185135e-02 -8.15618649e-02 -7.02595251e-02  6.42455486e-02\n",
      " -6.54925318e-02 -7.09983547e-02 -6.91958243e-02 -2.84378696e-02\n",
      " -1.28024374e-01 -7.81136568e-02 -1.20208409e-01 -1.16070642e-02\n",
      " -2.58127980e+00  1.15704103e-01 -6.78794500e-02 -6.47128101e-03\n",
      " -2.70492669e-02 -1.38217590e-01  1.09779861e-01  4.78461264e-02\n",
      " -2.25026804e-02 -5.80268399e-02 -1.27768374e-01  1.41335917e-01\n",
      " -2.20737236e-02 -4.06640432e-02 -3.42631149e-02  2.30151128e-02\n",
      " -1.14500895e-01  4.00602703e-04 -2.21294270e-01  9.30076022e-02\n",
      " -4.02163649e-02 -2.76461115e-02 -5.74901239e-02 -2.52858714e-02\n",
      " -3.45093858e-02  2.65344326e-02  8.44109865e-03 -2.09776284e-03\n",
      "  2.90512358e-02 -5.44462724e-02  8.88249007e-02 -2.49677306e-02\n",
      "  1.32868842e-01 -5.69134791e-02  3.80049865e-02 -3.61695230e-02\n",
      "  6.89455061e-02 -4.54831764e-02 -2.74381728e-02 -1.71912595e-02\n",
      "  5.52348153e-02 -9.61988291e-02 -2.51172493e-01 -9.14797628e-02\n",
      "  8.17105764e-02  4.03076757e-02  1.82492838e-02 -9.07070354e-02\n",
      " -2.17296443e-01  8.83794439e-02 -2.25354676e-02  1.02083893e-01\n",
      "  6.41509642e-02  3.92030876e-02 -2.03997986e-02 -2.02489439e-02\n",
      "  2.55730153e-01 -8.33993243e-05 -5.37687568e-03  1.24357285e-01\n",
      "  5.62810608e-02  1.42688757e-01  4.00896223e-02  1.41964402e-01\n",
      " -3.86296961e-02 -8.38560338e-02 -2.60324189e-02 -9.48198811e-02\n",
      " -1.03798644e-01 -1.62244466e-02  2.99507203e-02  6.59146622e-05\n",
      " -3.58571122e-02  4.02219649e-02  9.53986596e-02  1.29172973e-02]\n"
     ]
    }
   ],
   "source": [
    "# average Word2Vec\n",
    "# compute average word2vec for each review.\n",
    "avg_w2v_vectors_cv = []; # the avg-w2v for each sentence/review is stored in this list\n",
    "for sentence in tqdm(X_cv['essay'].values): \n",
    "    vector = np.zeros(300) # for each sentence in preprocessed essay, we are initilizing the vector length 300. We want vector of length 300 for each word.\n",
    "    cnt_words =0; # initizing number of words for each row\n",
    "    for word in sentence.split(): # for each word in a review/sentence we are finding whether it is present in glove_vector or not\n",
    "        if word in glove_words:\n",
    "            vector += model[word] #IF yes, then we are getting vector of size 300 and we'll store it in variable named as vector\n",
    "            cnt_words += 1 # also we will keep count increase by 1\n",
    "    if cnt_words != 0:\n",
    "        vector /= cnt_words\n",
    "    avg_w2v_vectors_cv.append(vector)\n",
    "\n",
    "print(len(avg_w2v_vectors_cv))\n",
    "print(len(avg_w2v_vectors_cv[0]))\n",
    "print(avg_w2v_vectors_cv[0])\n"
   ]
  },
  {
   "cell_type": "code",
   "execution_count": 96,
   "metadata": {},
   "outputs": [
    {
     "name": "stderr",
     "output_type": "stream",
     "text": [
      "100%|█████████████████████████████████████████████████████████████████████████████| 8250/8250 [00:11<00:00, 737.84it/s]\n"
     ]
    },
    {
     "name": "stdout",
     "output_type": "stream",
     "text": [
      "8250\n",
      "300\n",
      "[-5.39571853e-02 -3.67348200e-02 -4.80806390e-02 -2.11838641e-01\n",
      "  1.33305300e-02 -2.59312049e-02 -3.80844664e+00  2.14481126e-01\n",
      "  2.12370946e-02 -2.13524404e-01  1.05919648e-01 -7.95085812e-03\n",
      "  3.41966982e-02 -1.51176107e-01 -6.37989417e-02 -8.57327417e-02\n",
      " -1.15066405e-01 -6.10846309e-02  5.13250453e-02  5.32870058e-02\n",
      "  1.03232385e-02 -1.03534127e-01 -8.55960309e-02  7.57586982e-02\n",
      " -2.13435739e-02 -1.00844279e-01  3.07127897e-02 -1.49297774e-01\n",
      " -1.02685939e-01 -5.19453937e-02 -3.21835949e-01 -2.80619641e-02\n",
      "  7.41892489e-02  3.84562915e-03 -1.60950483e-01 -6.96220525e-02\n",
      " -9.83353641e-02 -1.89883505e-01  2.43070825e-02 -7.50948519e-02\n",
      "  8.41865874e-03  1.94752718e-01  5.84099677e-02 -2.68994019e-01\n",
      " -6.47396682e-02 -7.23774148e-02  7.57598906e-02 -1.44331275e-01\n",
      " -9.04823072e-02 -2.76837455e-02  4.46458336e-02  3.44714278e-02\n",
      " -7.27613332e-02 -1.97179327e-02  1.07460247e-01 -1.20932964e-01\n",
      "  1.03734883e-01 -5.30182341e-02 -7.53702121e-02  9.26365130e-02\n",
      " -9.90374363e-03 -1.08937435e-02  6.53074668e-02 -5.98338047e-02\n",
      "  2.09414888e-02  1.33937570e-01  3.91054628e-02  3.93297139e-02\n",
      "  1.72592614e-01 -1.47162781e-01 -7.47996619e-02  2.05672632e-02\n",
      " -1.74383206e-02 -4.11506322e-02  1.39482680e-02 -1.67782610e-01\n",
      "  1.26044026e-01  5.49991247e-02  3.95315596e-02 -6.39482883e-02\n",
      "  1.75815605e-02 -4.27176311e-01 -2.82608664e-02 -1.26850955e-01\n",
      "  1.20207130e-02  6.97749067e-02  5.85492942e-02 -6.95354628e-02\n",
      "  1.07444501e-01 -5.54337036e-02  4.79049552e-02 -5.27940179e-03\n",
      " -5.13872274e-02  5.77359700e-02  6.59041280e-02 -3.12205117e-01\n",
      " -2.45991628e+00 -1.33461565e-02  1.29316883e-01  9.62504260e-02\n",
      " -8.47122780e-02  1.36734855e-01  1.96146761e-01  8.92532511e-03\n",
      " -7.40114390e-02 -4.97827516e-02  2.80024441e-02 -2.01950381e-01\n",
      " -1.26393063e-02 -2.59741278e-02 -1.89401955e-02  2.57187247e-03\n",
      "  1.32917314e-02  1.80000442e-01 -6.27120112e-02  5.23226166e-03\n",
      " -1.58507991e-01 -5.56470563e-02  1.02151668e-01  6.70457008e-02\n",
      " -8.00506444e-02 -2.55012332e-02  5.26654159e-02 -2.18721613e-01\n",
      " -4.40555238e-02 -3.79226547e-03  3.93268587e-02 -3.95798027e-02\n",
      "  4.70840807e-03  5.57675202e-02 -1.59353185e-02  7.55560323e-02\n",
      " -5.26206978e-02 -8.99948717e-02  5.60281632e-02 -1.04649776e-03\n",
      "  8.34447970e-02 -6.90902287e-03  1.87513932e-01  2.66265322e-01\n",
      "  1.08683197e-01  2.74155341e-02  1.09831968e-01  4.54871613e-02\n",
      "  1.61085996e-02 -5.52712376e-02  4.04803296e-02 -5.72841928e-02\n",
      "  3.13403500e-01  1.41888115e-01  2.86354960e-02 -7.30051368e-02\n",
      "  5.46780570e-02 -5.86370330e-02  8.64628345e-02 -2.71370807e-02\n",
      "  9.36251570e-03  5.79356110e-02 -9.75741184e-02 -1.92981200e-02\n",
      "  7.21506789e-02 -7.71460933e-02 -9.36795928e-02 -3.40508870e-02\n",
      " -4.96917565e-02  3.02780803e-02 -3.23419233e-02  1.38358632e-01\n",
      "  9.04675946e-02 -1.00393843e-01 -9.21584905e-02  2.21437444e-03\n",
      " -1.28165326e-01 -1.14494695e-01 -1.41351614e-01  1.82436989e-01\n",
      " -7.96911861e-02 -6.58110000e-02 -6.32136910e-02 -7.38384694e-02\n",
      "  1.65411485e-01  8.70012354e-02  1.52662179e-02 -4.74871126e-02\n",
      "  5.55817758e-03 -1.17224587e-01  2.52332188e-02  6.19764587e-02\n",
      "  9.17269122e-02 -6.19782646e-02 -3.34234245e-02 -1.07262597e-01\n",
      " -6.98492691e-03 -3.59764471e-03  2.00647892e-03 -1.65844327e-01\n",
      "  1.22374931e-01  8.74638430e-02  7.30457937e-02 -2.04024073e-02\n",
      "  1.61463245e-01 -6.77806729e-02 -9.26355090e-02  3.93699715e-02\n",
      "  1.43724117e-02  1.24453865e-01  2.89965807e-02 -6.53367758e-02\n",
      "  1.44404874e-01 -5.16197973e-02  5.77249964e-02 -5.78621054e-02\n",
      " -1.01551183e-01 -1.30395998e-01 -3.89131274e-02 -3.82659426e-02\n",
      " -1.37397834e-01 -9.31183463e-02 -1.95302957e-02  1.13418516e-02\n",
      " -1.39993621e-01 -1.26297137e-01 -5.22032287e-03  5.75542554e-02\n",
      " -2.53031632e+00  1.13525457e-01 -3.12883879e-02  4.29200556e-02\n",
      "  5.13939493e-02 -1.53027607e-01  1.14274240e-01  8.34425874e-02\n",
      " -2.32276570e-02 -5.67636229e-02 -1.16210757e-01  1.73303787e-01\n",
      " -4.15375883e-03 -5.58471048e-02 -1.67922915e-02  4.74809899e-02\n",
      " -1.33078992e-01  5.19260646e-02 -2.08656646e-01  9.00790130e-02\n",
      " -2.55730928e-02 -7.61351290e-02 -1.07820291e-02 -4.00415139e-03\n",
      " -4.36341495e-02  2.54446984e-02 -1.06436798e-02 -6.49291520e-02\n",
      "  3.50872960e-03 -6.14706291e-02  7.46352237e-02  1.99822058e-03\n",
      "  2.43792932e-02 -8.37483758e-02  6.31700650e-02 -3.10426717e-02\n",
      "  1.09581101e-01 -7.57965278e-02 -4.89239215e-02 -4.72133049e-02\n",
      "  6.45320762e-02 -1.30033045e-02 -2.42030812e-01 -4.59260240e-02\n",
      "  9.28060879e-02  2.78526348e-02 -2.74872982e-02 -1.38313719e-01\n",
      " -1.82609330e-01  5.43862368e-03  1.25460534e-02  7.65534049e-02\n",
      "  5.91614390e-02  6.80784080e-02 -3.09027996e-02 -4.77392011e-02\n",
      "  3.92654106e-01 -5.44062081e-02  4.64921686e-02  9.59628731e-02\n",
      " -3.30768130e-02  1.56446757e-01  4.35995614e-02  6.11562108e-02\n",
      " -3.85484561e-02 -7.64241390e-02 -3.29196788e-02 -1.20548148e-01\n",
      " -1.22515252e-01 -3.94489184e-02  1.41188646e-02  2.45790677e-02\n",
      " -6.32269108e-02 -2.03389765e-02  9.34628762e-02  2.39690927e-02]\n"
     ]
    }
   ],
   "source": [
    "# average Word2Vec\n",
    "# compute average word2vec for each review.\n",
    "avg_w2v_vectors_test = []; # the avg-w2v for each sentence/review is stored in this list\n",
    "for sentence in tqdm(X_test['essay'].values): \n",
    "    vector = np.zeros(300) # for each sentence in preprocessed essay, we are initilizing the vector length 300. We want vector of length 300 for each word.\n",
    "    cnt_words =0; # initizing number of words for each row\n",
    "    for word in sentence.split(): # for each word in a review/sentence we are finding whether it is present in glove_vector or not\n",
    "        if word in glove_words:\n",
    "            vector += model[word] #IF yes, then we are getting vector of size 300 and we'll store it in variable named as vector\n",
    "            cnt_words += 1 # also we will keep count increase by 1\n",
    "    if cnt_words != 0:\n",
    "        vector /= cnt_words\n",
    "    avg_w2v_vectors_test.append(vector)\n",
    "\n",
    "print(len(avg_w2v_vectors_test))\n",
    "print(len(avg_w2v_vectors_test[0]))\n",
    "print(avg_w2v_vectors_test[0])\n"
   ]
  },
  {
   "cell_type": "markdown",
   "metadata": {},
   "source": [
    "### w2v on project title"
   ]
  },
  {
   "cell_type": "code",
   "execution_count": 97,
   "metadata": {},
   "outputs": [
    {
     "name": "stderr",
     "output_type": "stream",
     "text": [
      "100%|█████████████████████████████████████████████████████████████████████████| 11222/11222 [00:00<00:00, 28213.29it/s]\n"
     ]
    },
    {
     "name": "stdout",
     "output_type": "stream",
     "text": [
      "11222\n",
      "300\n",
      "[-9.6110e-02 -2.5788e-01 -3.5860e-01 -3.2887e-01  5.7950e-01 -5.1774e-01\n",
      " -4.1582e+00 -1.1371e-01 -1.0848e-01 -4.8885e-01  1.9931e-01 -1.0540e-01\n",
      " -4.3825e-01 -3.4483e-01 -4.5052e-01 -3.4864e-01 -4.5800e-01 -8.1554e-01\n",
      "  2.2006e-01  2.0254e-01 -1.0954e-01  1.2520e-01 -5.4117e-01  3.4731e-01\n",
      " -9.9998e-02 -1.8998e-02 -1.4277e-01 -4.2481e-01 -9.4091e-03 -4.3155e-01\n",
      " -3.8769e-02  1.2147e-01  5.1988e-01 -4.9840e-01 -2.4625e-01 -5.2067e-01\n",
      " -5.8210e-02 -3.0712e-01  2.5512e-01  4.8033e-02 -2.2313e-01 -6.9182e-03\n",
      "  3.9824e-02 -5.0088e-01 -1.1972e-01 -7.9045e-02  1.6880e-02 -3.4052e-01\n",
      " -2.0660e-01  8.1265e-02  1.2352e-01 -4.9007e-01  3.4946e-01 -2.9241e-01\n",
      "  1.4893e-01  1.3660e-01 -9.7830e-02 -6.8472e-02 -1.0913e-02  2.8454e-03\n",
      " -1.2656e-01  3.4270e-01  1.0580e-01 -4.6151e-01  7.0133e-02 -6.1343e-02\n",
      " -1.5021e-02  1.7659e-01  1.7941e-01 -5.1377e-01 -3.1381e-01 -1.3720e-01\n",
      "  4.5186e-02 -8.2259e-02  2.1515e-01 -2.1955e-01  1.0313e-01 -2.0704e-01\n",
      "  1.4041e-01 -3.5151e-01  6.2316e-01 -5.7990e-01 -5.6115e-02 -2.1746e-03\n",
      "  1.8958e-01  2.2398e-01  1.2246e-01 -2.6178e-01  1.0779e-02 -3.1268e-01\n",
      " -2.1447e-01  3.5344e-01 -2.6041e-02  1.8232e-02  3.5751e-01 -7.0188e-02\n",
      " -3.0872e+00 -1.3131e-01  1.7387e-02  2.3244e-01 -6.0585e-02  2.0679e-01\n",
      "  5.7579e-01  3.6338e-01 -4.1574e-01  3.0607e-02  2.3619e-01 -1.1284e-01\n",
      " -3.6043e-01  2.1635e-01 -2.7520e-02  1.7502e-01  4.3491e-01 -8.8247e-02\n",
      "  4.0754e-01 -4.8551e-01  1.3539e-01 -9.0759e-02  1.4423e-01  3.4118e-01\n",
      " -3.7940e-01 -2.7344e-01  2.5930e-02  7.3217e-02 -1.0176e-01  1.6551e-01\n",
      " -2.3278e-01 -1.8563e-01  2.1372e-02 -9.3111e-02  1.5179e-01  1.5057e-01\n",
      "  5.5148e-01 -2.0088e-01 -7.9495e-02  2.2599e-01  2.6243e-01  2.5123e-01\n",
      "  6.0266e-01 -2.0423e-01  3.6972e-01 -1.0694e-01  7.2887e-03  1.8359e-02\n",
      "  2.2368e-01 -1.4065e-01  1.1120e-01  8.7667e-02  8.4660e-01  3.1545e-01\n",
      " -1.5348e-01  2.0311e-02  2.0878e-02  3.8651e-01  4.7422e-02 -2.4854e-01\n",
      " -1.9053e-01  4.9173e-01  3.8161e-02 -2.1038e-02  1.4496e-01  1.1591e-01\n",
      " -1.5105e-01 -1.8942e-01  1.8703e-01  2.6752e-02  4.6523e-03  3.9814e-01\n",
      " -1.8617e-02 -7.3177e-01  7.2832e-02  4.1535e-01 -4.8818e-01  3.0400e-03\n",
      " -2.2729e-01  8.8248e-01 -6.1612e-01 -1.8901e-01 -3.3491e-01 -2.8672e-01\n",
      " -1.3143e-02 -3.7545e-01 -1.8443e-01 -5.5218e-01  7.0186e-01 -7.3107e-02\n",
      "  6.3930e-01  1.3098e-01  7.1586e-02  5.3641e-03  2.4636e-01 -7.0744e-01\n",
      " -4.5036e-01  6.0187e-04 -3.9093e-01 -2.7160e-02  2.5589e-01 -1.7313e-01\n",
      "  2.9883e-01 -9.0947e-04  8.3140e-02 -4.0990e-01 -1.3024e-02 -4.9533e-02\n",
      "  3.0410e-01  6.4302e-01  2.3045e-01 -1.8757e-01  3.7584e-02 -2.6082e-01\n",
      "  1.7530e-01 -6.2815e-02 -2.2569e-01 -1.2130e-01  1.5524e-01 -1.4407e-01\n",
      "  8.8732e-02  3.4674e-01 -4.3494e-01  3.8688e-01 -1.5733e-01 -1.2721e-01\n",
      "  3.0194e-01  3.2034e-01 -3.3264e+00  6.9427e-02  1.3848e-01 -5.8216e-02\n",
      " -2.7088e-02  1.1028e-01  3.4040e-01  1.8654e-01  1.1522e-01 -4.0381e-01\n",
      "  4.4776e-02  1.5535e-01  1.6247e-01 -2.4051e-01  4.7290e-02  3.4980e-02\n",
      " -7.5942e-02  1.5598e-01 -5.9873e-02  4.6743e-03  1.5595e-01 -2.7613e-01\n",
      "  1.3562e-01  1.3485e-01 -7.3724e-02  3.1421e-01  3.1234e-02 -2.3516e-01\n",
      "  3.1005e-01 -1.0375e-01 -3.0783e-01 -5.5327e-01  2.8304e-01  8.1429e-02\n",
      "  3.7778e-01  1.5725e-01  1.1757e-02  4.3006e-02 -4.3423e-01 -2.2718e-01\n",
      " -4.3292e-02 -6.3617e-01 -8.9390e-01 -1.7406e-01  4.1111e-01 -1.4404e-01\n",
      " -1.6780e-01 -4.4438e-01 -7.3051e-01  1.0957e-01  1.3122e-01  8.5623e-02\n",
      "  1.2504e-01 -4.0337e-01  4.1765e-02 -2.7574e-01  6.2513e-02  5.1093e-02\n",
      "  3.9926e-01  1.1149e-01 -5.6462e-02  2.6809e-01 -3.9569e-01  3.1033e-01\n",
      " -4.9750e-02 -3.3139e-01  4.7781e-01 -2.1213e-02 -2.1236e-01  4.2374e-01\n",
      "  1.4083e-01  6.7498e-02 -1.2675e-01 -3.7030e-01 -9.2774e-02  3.9058e-01]\n"
     ]
    }
   ],
   "source": [
    "# average Word2Vec\n",
    "# compute average word2vec for each review.\n",
    "avg_w2v_vectors_train_project_title = []; # the avg-w2v for each sentence/review is stored in this list\n",
    "for sentence in tqdm(X_train['project_title'].values): \n",
    "    vector = np.zeros(300) # for each sentence in preprocessed essay, we are initilizing the vector length 300. We want vector of length 300 for each word.\n",
    "    cnt_words =0; # initizing number of words for each row\n",
    "    for word in sentence.split(): # for each word in a review/sentence we are finding whether it is present in glove_vector or not\n",
    "        if word in glove_words:\n",
    "            vector += model[word] #IF yes, then we are getting vector of size 300 and we'll store it in variable named as vector\n",
    "            cnt_words += 1 # also we will keep count increase by 1\n",
    "    if cnt_words != 0:\n",
    "        vector /= cnt_words\n",
    "    avg_w2v_vectors_train_project_title.append(vector)\n",
    "\n",
    "print(len(avg_w2v_vectors_train_project_title))\n",
    "print(len(avg_w2v_vectors_train_project_title[0]))\n",
    "print(avg_w2v_vectors_train_project_title[0])\n"
   ]
  },
  {
   "cell_type": "code",
   "execution_count": 98,
   "metadata": {},
   "outputs": [
    {
     "name": "stderr",
     "output_type": "stream",
     "text": [
      "100%|███████████████████████████████████████████████████████████████████████████| 5528/5528 [00:00<00:00, 36876.76it/s]\n"
     ]
    },
    {
     "name": "stdout",
     "output_type": "stream",
     "text": [
      "5528\n",
      "300\n",
      "[0. 0. 0. 0. 0. 0. 0. 0. 0. 0. 0. 0. 0. 0. 0. 0. 0. 0. 0. 0. 0. 0. 0. 0.\n",
      " 0. 0. 0. 0. 0. 0. 0. 0. 0. 0. 0. 0. 0. 0. 0. 0. 0. 0. 0. 0. 0. 0. 0. 0.\n",
      " 0. 0. 0. 0. 0. 0. 0. 0. 0. 0. 0. 0. 0. 0. 0. 0. 0. 0. 0. 0. 0. 0. 0. 0.\n",
      " 0. 0. 0. 0. 0. 0. 0. 0. 0. 0. 0. 0. 0. 0. 0. 0. 0. 0. 0. 0. 0. 0. 0. 0.\n",
      " 0. 0. 0. 0. 0. 0. 0. 0. 0. 0. 0. 0. 0. 0. 0. 0. 0. 0. 0. 0. 0. 0. 0. 0.\n",
      " 0. 0. 0. 0. 0. 0. 0. 0. 0. 0. 0. 0. 0. 0. 0. 0. 0. 0. 0. 0. 0. 0. 0. 0.\n",
      " 0. 0. 0. 0. 0. 0. 0. 0. 0. 0. 0. 0. 0. 0. 0. 0. 0. 0. 0. 0. 0. 0. 0. 0.\n",
      " 0. 0. 0. 0. 0. 0. 0. 0. 0. 0. 0. 0. 0. 0. 0. 0. 0. 0. 0. 0. 0. 0. 0. 0.\n",
      " 0. 0. 0. 0. 0. 0. 0. 0. 0. 0. 0. 0. 0. 0. 0. 0. 0. 0. 0. 0. 0. 0. 0. 0.\n",
      " 0. 0. 0. 0. 0. 0. 0. 0. 0. 0. 0. 0. 0. 0. 0. 0. 0. 0. 0. 0. 0. 0. 0. 0.\n",
      " 0. 0. 0. 0. 0. 0. 0. 0. 0. 0. 0. 0. 0. 0. 0. 0. 0. 0. 0. 0. 0. 0. 0. 0.\n",
      " 0. 0. 0. 0. 0. 0. 0. 0. 0. 0. 0. 0. 0. 0. 0. 0. 0. 0. 0. 0. 0. 0. 0. 0.\n",
      " 0. 0. 0. 0. 0. 0. 0. 0. 0. 0. 0. 0.]\n"
     ]
    }
   ],
   "source": [
    "# average Word2Vec\n",
    "# compute average word2vec for each review.\n",
    "avg_w2v_vectors_cv_project_title = []; # the avg-w2v for each sentence/review is stored in this list\n",
    "for sentence in tqdm(X_cv['project_title'].values): \n",
    "    vector = np.zeros(300) # for each sentence in preprocessed essay, we are initilizing the vector length 300. We want vector of length 300 for each word.\n",
    "    cnt_words =0; # initizing number of words for each row\n",
    "    for word in sentence.split(): # for each word in a review/sentence we are finding whether it is present in glove_vector or not\n",
    "        if word in glove_words:\n",
    "            vector += model[word] #IF yes, then we are getting vector of size 300 and we'll store it in variable named as vector\n",
    "            cnt_words += 1 # also we will keep count increase by 1\n",
    "    if cnt_words != 0:\n",
    "        vector /= cnt_words\n",
    "    avg_w2v_vectors_cv_project_title.append(vector)\n",
    "\n",
    "print(len(avg_w2v_vectors_cv_project_title))\n",
    "print(len(avg_w2v_vectors_cv_project_title[0]))\n",
    "print(avg_w2v_vectors_cv_project_title[0])\n"
   ]
  },
  {
   "cell_type": "code",
   "execution_count": 99,
   "metadata": {},
   "outputs": [
    {
     "name": "stderr",
     "output_type": "stream",
     "text": [
      "100%|███████████████████████████████████████████████████████████████████████████| 8250/8250 [00:00<00:00, 30349.66it/s]\n"
     ]
    },
    {
     "name": "stdout",
     "output_type": "stream",
     "text": [
      "8250\n",
      "300\n",
      "[-2.0838e-01 -1.4932e-01 -1.7528e-02 -2.8432e-02 -6.0104e-02 -2.6460e-01\n",
      " -4.1445e+00  6.2932e-01  3.3672e-01 -4.3395e-01  3.9899e-01 -1.9573e-01\n",
      "  1.3977e-01 -2.1519e-02  3.7823e-01 -5.5250e-01 -1.1230e-01 -8.1443e-03\n",
      "  2.9059e-01  6.6817e-02  1.0465e-01 -8.6943e-02 -4.8983e-02 -2.6757e-01\n",
      " -4.7038e-01  2.7469e-01  6.9245e-02 -2.7967e-02 -1.9719e-01  1.6749e-02\n",
      " -2.9681e-01  1.7838e-01  5.8374e-02 -2.4806e-01  8.5846e-02  3.5043e-01\n",
      "  4.9157e-02 -1.6431e-01  5.0012e-01 -1.8053e-01  3.1422e-01  1.0671e-01\n",
      "  3.1852e-02  7.4278e-02  2.7956e-01  8.0317e-02  5.4780e-02 -3.0349e-01\n",
      " -4.3215e-01  3.2417e-01  4.0856e-01  3.6192e-01  1.3445e-01 -1.2933e-01\n",
      "  1.1331e-01 -1.5755e-01  3.5755e-01  3.0463e-01 -9.8488e-02  1.2032e-02\n",
      "  4.5581e-01  3.7101e-01  1.4270e-01 -4.3329e-01 -1.0869e-01  4.9849e-01\n",
      "  5.4455e-01  4.4352e-01  3.1804e-01  2.2171e-02 -4.1186e-01 -2.5428e-02\n",
      "  2.1062e-01 -3.5830e-01  2.2028e-01 -5.5391e-01 -3.5364e-02 -5.3998e-02\n",
      "  3.2172e-01 -5.1928e-01 -2.7427e-01 -4.5214e-01 -3.2900e-01 -4.8519e-01\n",
      "  5.2966e-01  4.1434e-03 -1.7180e-01 -1.8748e-01 -2.4365e-01 -6.0786e-02\n",
      "  5.0733e-02 -2.1335e-01  2.7627e-01  4.2745e-01  1.1461e-02 -2.9794e-01\n",
      " -3.2881e+00 -3.9842e-01  1.6796e-01 -1.2894e-01  2.0005e-03  4.5613e-01\n",
      "  1.5215e-01  1.5364e-01 -2.1281e-01 -2.5339e-01  2.8955e-01 -5.7817e-01\n",
      " -6.0740e-01  1.0301e-01  2.8324e-01  2.1506e-01 -4.2325e-02  4.0479e-01\n",
      " -2.0579e-01 -1.1674e-02  2.6092e-01 -1.5402e-01  5.7961e-02 -5.8576e-02\n",
      " -4.1974e-01  5.2015e-01  1.5074e-01 -8.8039e-02 -1.4446e-01 -1.7074e-01\n",
      "  8.3752e-02 -2.5708e-01  1.6362e-01  1.4795e-01 -5.9821e-02  3.4473e-02\n",
      " -1.4534e-01 -1.7965e-01  7.6303e-02  3.3354e-01 -1.4434e-01  1.7618e-01\n",
      "  4.5345e-01  1.5262e-01 -7.5100e-02  2.7592e-01  8.1456e-02  3.0738e-01\n",
      " -7.2327e-02  1.0706e-01 -3.5581e-01 -2.6690e-02  6.1236e-01  7.0829e-01\n",
      " -2.8945e-01 -2.4637e-02  1.1890e-02 -9.1899e-02 -2.7272e-01 -1.0157e-01\n",
      "  4.4713e-01  9.2418e-02 -1.0711e-01 -1.5552e-02  1.2822e-01  2.2256e-01\n",
      " -6.9059e-02  2.9927e-01 -1.0913e-01  1.6180e-01  1.4796e-01  1.1360e-01\n",
      "  2.6634e-01  1.0832e-02  7.1946e-02  1.6973e-01 -2.2769e-01  3.2200e-01\n",
      " -8.3748e-02  6.5269e-01  6.8244e-02 -3.2687e-01  3.1782e-01  1.7035e-01\n",
      "  7.9803e-01 -1.9194e-01 -1.6485e-01 -3.2437e-01  7.9105e-02 -3.5672e-01\n",
      " -2.6786e-01 -2.4786e-01  7.0512e-01 -1.1909e-01  1.6256e-01 -4.3259e-01\n",
      " -5.0078e-02  5.0232e-02 -1.1450e-01 -4.1885e-02  4.7866e-01  1.2767e-02\n",
      "  1.9642e-01  2.6196e-01 -2.9425e-01  8.9615e-02 -1.7736e-01 -2.2448e-01\n",
      "  2.2624e-01  1.6749e-01  5.5770e-02  1.4399e-01  2.1580e-01  3.3819e-01\n",
      "  2.3459e-01  1.5826e-01 -2.8560e-01  2.4199e-01  1.1018e-01  3.8164e-01\n",
      " -2.9840e-01 -2.0169e-01  2.6950e-01  1.1186e-01 -2.1006e-01 -4.2070e-02\n",
      "  1.6507e-02 -2.2866e-01 -3.3882e+00  2.9204e-01 -8.8358e-02 -1.4966e-02\n",
      " -2.5225e-01 -1.1503e-01  3.6337e-02 -1.4817e-01  4.6220e-02 -7.3466e-02\n",
      " -1.3866e-01  2.3612e-01  3.3882e-02  2.9495e-01 -6.1234e-01  2.0289e-01\n",
      " -4.2091e-01  3.7767e-01  3.6260e-02  2.1708e-01  1.2561e-01 -2.1682e-01\n",
      " -3.7997e-03 -1.7791e-01 -2.6431e-01  3.1678e-01 -5.1229e-02  4.9269e-02\n",
      " -1.2622e-01 -1.0117e-01  1.7246e-02 -2.1950e-02 -1.9820e-01  3.7250e-02\n",
      " -1.6791e-01 -5.5459e-02  5.7670e-01  5.9123e-02  2.2931e-01  6.4201e-02\n",
      "  2.7424e-01 -3.7129e-01 -9.1375e-02 -7.1342e-02 -3.7218e-02 -1.2668e-02\n",
      " -1.7976e-02 -4.2622e-01 -1.0095e-01  4.4992e-02 -9.0225e-02  2.2915e-01\n",
      "  1.8610e-01  3.6366e-01 -2.0676e-01 -3.3037e-01  4.7302e-01  2.3380e-01\n",
      "  7.9306e-02  2.1083e-01  2.1013e-01  1.5275e-01  8.0873e-02 -3.3013e-01\n",
      " -1.7181e-01 -7.0170e-02 -4.1244e-02 -4.6182e-01  2.7903e-02  5.4657e-01\n",
      " -2.5894e-01  3.9515e-01  2.6144e-01 -5.4066e-01  2.1199e-01 -9.4357e-03]\n"
     ]
    }
   ],
   "source": [
    "# average Word2Vec\n",
    "# compute average word2vec for each review.\n",
    "avg_w2v_vectors_test_project_title = []; # the avg-w2v for each sentence/review is stored in this list\n",
    "for sentence in tqdm(X_test['project_title'].values): \n",
    "    vector = np.zeros(300) # for each sentence in preprocessed essay, we are initilizing the vector length 300. We want vector of length 300 for each word.\n",
    "    cnt_words =0; # initizing number of words for each row\n",
    "    for word in sentence.split(): # for each word in a review/sentence we are finding whether it is present in glove_vector or not\n",
    "        if word in glove_words:\n",
    "            vector += model[word] #IF yes, then we are getting vector of size 300 and we'll store it in variable named as vector\n",
    "            cnt_words += 1 # also we will keep count increase by 1\n",
    "    if cnt_words != 0:\n",
    "        vector /= cnt_words\n",
    "    avg_w2v_vectors_test_project_title.append(vector)\n",
    "\n",
    "print(len(avg_w2v_vectors_test_project_title))\n",
    "print(len(avg_w2v_vectors_test_project_title[0]))\n",
    "print(avg_w2v_vectors_test_project_title[0])\n"
   ]
  },
  {
   "cell_type": "markdown",
   "metadata": {},
   "source": [
    "### Tfidf w2v on essay"
   ]
  },
  {
   "cell_type": "code",
   "execution_count": 100,
   "metadata": {},
   "outputs": [],
   "source": [
    "tfidf_model = TfidfVectorizer()\n",
    "tfidf_model.fit(X_train['essay'].values)\n",
    "# we are converting a dictionary with word as a key, and the idf as a value\n",
    "dictionary = dict(zip(tfidf_model.get_feature_names(), list(tfidf_model.idf_)))\n",
    "tfidf_words = set(tfidf_model.get_feature_names())"
   ]
  },
  {
   "cell_type": "code",
   "execution_count": 101,
   "metadata": {},
   "outputs": [
    {
     "name": "stderr",
     "output_type": "stream",
     "text": [
      "100%|████████████████████████████████████████████████████████████████████████████| 11222/11222 [02:34<00:00, 72.83it/s]\n"
     ]
    },
    {
     "name": "stdout",
     "output_type": "stream",
     "text": [
      "11222\n",
      "300\n"
     ]
    }
   ],
   "source": [
    "# average Word2Vec\n",
    "# compute average word2vec for each review.\n",
    "tfidf_w2v_vectors_X_train_essay = []; # the avg-w2v for each sentence/review is stored in this list\n",
    "for sentence in tqdm(X_train['essay'].values): # for each review/sentence\n",
    "    vector = np.zeros(300) # as word vectors are of zero length\n",
    "    tf_idf_weight =0; # num of words with a valid vector in the sentence/review\n",
    "    for word in sentence.split(): # for each word in a review/sentence\n",
    "        if (word in glove_words) and (word in tfidf_words):\n",
    "            vec = model[word] # getting the vector for each word\n",
    "            # here we are multiplying idf value(dictionary[word]) and the tf value((sentence.count(word)/len(sentence.split())))\n",
    "            tf_idf = dictionary[word]*(sentence.count(word)/len(sentence.split())) # getting the tfidf value for each word\n",
    "            vector += (vec * tf_idf) # calculating tfidf weighted w2v\n",
    "            tf_idf_weight += tf_idf\n",
    "    if tf_idf_weight != 0:\n",
    "        vector /= tf_idf_weight\n",
    "    tfidf_w2v_vectors_X_train_essay.append(vector)\n",
    "\n",
    "print(len(tfidf_w2v_vectors_X_train_essay))\n",
    "print(len(tfidf_w2v_vectors_X_train_essay[0]))"
   ]
  },
  {
   "cell_type": "code",
   "execution_count": 102,
   "metadata": {},
   "outputs": [],
   "source": [
    "tfidf_model = TfidfVectorizer()\n",
    "tfidf_model.fit(X_train['essay'].values)\n",
    "# we are converting a dictionary with word as a key, and the idf as a value\n",
    "dictionary = dict(zip(tfidf_model.get_feature_names(), list(tfidf_model.idf_)))\n",
    "tfidf_words = set(tfidf_model.get_feature_names())"
   ]
  },
  {
   "cell_type": "code",
   "execution_count": 103,
   "metadata": {},
   "outputs": [
    {
     "name": "stderr",
     "output_type": "stream",
     "text": [
      "100%|██████████████████████████████████████████████████████████████████████████████| 5528/5528 [01:18<00:00, 52.71it/s]\n"
     ]
    },
    {
     "name": "stdout",
     "output_type": "stream",
     "text": [
      "5528\n",
      "300\n"
     ]
    }
   ],
   "source": [
    "# average Word2Vec\n",
    "# compute average word2vec for each review.\n",
    "tfidf_w2v_vectors_X_cv_essay = []; # the avg-w2v for each sentence/review is stored in this list\n",
    "for sentence in tqdm(X_cv['essay'].values): # for each review/sentence\n",
    "    vector = np.zeros(300) # as word vectors are of zero length\n",
    "    tf_idf_weight =0; # num of words with a valid vector in the sentence/review\n",
    "    for word in sentence.split(): # for each word in a review/sentence\n",
    "        if (word in glove_words) and (word in tfidf_words):\n",
    "            vec = model[word] # getting the vector for each word\n",
    "            # here we are multiplying idf value(dictionary[word]) and the tf value((sentence.count(word)/len(sentence.split())))\n",
    "            tf_idf = dictionary[word]*(sentence.count(word)/len(sentence.split())) # getting the tfidf value for each word\n",
    "            vector += (vec * tf_idf) # calculating tfidf weighted w2v\n",
    "            tf_idf_weight += tf_idf\n",
    "    if tf_idf_weight != 0:\n",
    "        vector /= tf_idf_weight\n",
    "    tfidf_w2v_vectors_X_cv_essay.append(vector)\n",
    "\n",
    "print(len(tfidf_w2v_vectors_X_cv_essay))\n",
    "print(len(tfidf_w2v_vectors_X_cv_essay[0]))"
   ]
  },
  {
   "cell_type": "code",
   "execution_count": 104,
   "metadata": {},
   "outputs": [],
   "source": [
    "tfidf_model = TfidfVectorizer()\n",
    "tfidf_model.fit(X_train['essay'].values)\n",
    "# we are converting a dictionary with word as a key, and the idf as a value\n",
    "dictionary = dict(zip(tfidf_model.get_feature_names(), list(tfidf_model.idf_)))\n",
    "tfidf_words = set(tfidf_model.get_feature_names())"
   ]
  },
  {
   "cell_type": "code",
   "execution_count": 105,
   "metadata": {},
   "outputs": [
    {
     "name": "stderr",
     "output_type": "stream",
     "text": [
      "100%|██████████████████████████████████████████████████████████████████████████████| 8250/8250 [01:55<00:00, 71.47it/s]\n"
     ]
    },
    {
     "name": "stdout",
     "output_type": "stream",
     "text": [
      "8250\n",
      "300\n"
     ]
    }
   ],
   "source": [
    "# average Word2Vec\n",
    "# compute average word2vec for each review.\n",
    "tfidf_w2v_vectors_X_test_essay = []; # the avg-w2v for each sentence/review is stored in this list\n",
    "for sentence in tqdm(X_test['essay'].values): # for each review/sentence\n",
    "    vector = np.zeros(300) # as word vectors are of zero length\n",
    "    tf_idf_weight =0; # num of words with a valid vector in the sentence/review\n",
    "    for word in sentence.split(): # for each word in a review/sentence\n",
    "        if (word in glove_words) and (word in tfidf_words):\n",
    "            vec = model[word] # getting the vector for each word\n",
    "            # here we are multiplying idf value(dictionary[word]) and the tf value((sentence.count(word)/len(sentence.split())))\n",
    "            tf_idf = dictionary[word]*(sentence.count(word)/len(sentence.split())) # getting the tfidf value for each word\n",
    "            vector += (vec * tf_idf) # calculating tfidf weighted w2v\n",
    "            tf_idf_weight += tf_idf\n",
    "    if tf_idf_weight != 0:\n",
    "        vector /= tf_idf_weight\n",
    "    tfidf_w2v_vectors_X_test_essay.append(vector)\n",
    "\n",
    "print(len(tfidf_w2v_vectors_X_test_essay))\n",
    "print(len(tfidf_w2v_vectors_X_test_essay[0]))"
   ]
  },
  {
   "cell_type": "markdown",
   "metadata": {},
   "source": [
    "### Tfidf on title"
   ]
  },
  {
   "cell_type": "code",
   "execution_count": 106,
   "metadata": {},
   "outputs": [],
   "source": [
    "tfidf_model = TfidfVectorizer()\n",
    "tfidf_model.fit(X_train['project_title'].values)\n",
    "# we are converting a dictionary with word as a key, and the idf as a value\n",
    "dictionary = dict(zip(tfidf_model.get_feature_names(), list(tfidf_model.idf_)))\n",
    "tfidf_words = set(tfidf_model.get_feature_names())"
   ]
  },
  {
   "cell_type": "code",
   "execution_count": 107,
   "metadata": {},
   "outputs": [
    {
     "name": "stderr",
     "output_type": "stream",
     "text": [
      "100%|█████████████████████████████████████████████████████████████████████████| 11222/11222 [00:00<00:00, 11240.15it/s]\n"
     ]
    },
    {
     "name": "stdout",
     "output_type": "stream",
     "text": [
      "11222\n",
      "300\n"
     ]
    }
   ],
   "source": [
    "# average Word2Vec\n",
    "# compute average word2vec for each review.\n",
    "tfidf_w2v_vectors_X_train_project_title = []; # the avg-w2v for each sentence/review is stored in this list\n",
    "for sentence in tqdm(X_train['project_title'].values): # for each review/sentence\n",
    "    vector = np.zeros(300) # as word vectors are of zero length\n",
    "    tf_idf_weight =0; # num of words with a valid vector in the sentence/review\n",
    "    for word in sentence.split(): # for each word in a review/sentence\n",
    "        if (word in glove_words) and (word in tfidf_words):\n",
    "            vec = model[word] # getting the vector for each word\n",
    "            # here we are multiplying idf value(dictionary[word]) and the tf value((sentence.count(word)/len(sentence.split())))\n",
    "            tf_idf = dictionary[word]*(sentence.count(word)/len(sentence.split())) # getting the tfidf value for each word\n",
    "            vector += (vec * tf_idf) # calculating tfidf weighted w2v\n",
    "            tf_idf_weight += tf_idf\n",
    "    if tf_idf_weight != 0:\n",
    "        vector /= tf_idf_weight\n",
    "    tfidf_w2v_vectors_X_train_project_title.append(vector)\n",
    "\n",
    "print(len(tfidf_w2v_vectors_X_train_project_title))\n",
    "print(len(tfidf_w2v_vectors_X_train_project_title[0]))"
   ]
  },
  {
   "cell_type": "code",
   "execution_count": 108,
   "metadata": {},
   "outputs": [],
   "source": [
    "tfidf_model = TfidfVectorizer()\n",
    "tfidf_model.fit(X_train['project_title'].values)\n",
    "# we are converting a dictionary with word as a key, and the idf as a value\n",
    "dictionary = dict(zip(tfidf_model.get_feature_names(), list(tfidf_model.idf_)))\n",
    "tfidf_words = set(tfidf_model.get_feature_names())"
   ]
  },
  {
   "cell_type": "code",
   "execution_count": 109,
   "metadata": {},
   "outputs": [
    {
     "name": "stderr",
     "output_type": "stream",
     "text": [
      "100%|███████████████████████████████████████████████████████████████████████████| 5528/5528 [00:00<00:00, 12984.53it/s]\n"
     ]
    },
    {
     "name": "stdout",
     "output_type": "stream",
     "text": [
      "5528\n",
      "300\n"
     ]
    }
   ],
   "source": [
    "# average Word2Vec\n",
    "# compute average word2vec for each review.\n",
    "tfidf_w2v_vectors_X_cv_project_title = []; # the avg-w2v for each sentence/review is stored in this list\n",
    "for sentence in tqdm(X_cv['project_title'].values): # for each review/sentence\n",
    "    vector = np.zeros(300) # as word vectors are of zero length\n",
    "    tf_idf_weight =0; # num of words with a valid vector in the sentence/review\n",
    "    for word in sentence.split(): # for each word in a review/sentence\n",
    "        if (word in glove_words) and (word in tfidf_words):\n",
    "            vec = model[word] # getting the vector for each word\n",
    "            # here we are multiplying idf value(dictionary[word]) and the tf value((sentence.count(word)/len(sentence.split())))\n",
    "            tf_idf = dictionary[word]*(sentence.count(word)/len(sentence.split())) # getting the tfidf value for each word\n",
    "            vector += (vec * tf_idf) # calculating tfidf weighted w2v\n",
    "            tf_idf_weight += tf_idf\n",
    "    if tf_idf_weight != 0:\n",
    "        vector /= tf_idf_weight\n",
    "    tfidf_w2v_vectors_X_cv_project_title.append(vector)\n",
    "\n",
    "print(len(tfidf_w2v_vectors_X_cv_project_title))\n",
    "print(len(tfidf_w2v_vectors_X_cv_project_title[0]))"
   ]
  },
  {
   "cell_type": "code",
   "execution_count": 110,
   "metadata": {},
   "outputs": [],
   "source": [
    "tfidf_model = TfidfVectorizer()\n",
    "tfidf_model.fit(X_train['project_title'].values)\n",
    "dictionary = dict(zip(tfidf_model.get_feature_names(), list(tfidf_model.idf_)))\n",
    "tfidf_words = set(tfidf_model.get_feature_names())"
   ]
  },
  {
   "cell_type": "code",
   "execution_count": 111,
   "metadata": {},
   "outputs": [
    {
     "name": "stderr",
     "output_type": "stream",
     "text": [
      "100%|███████████████████████████████████████████████████████████████████████████| 8250/8250 [00:00<00:00, 11692.73it/s]\n"
     ]
    },
    {
     "name": "stdout",
     "output_type": "stream",
     "text": [
      "8250\n",
      "300\n"
     ]
    }
   ],
   "source": [
    "# average Word2Vec\n",
    "# compute average word2vec for each review.\n",
    "tfidf_w2v_vectors_X_test_project_title = []; # the avg-w2v for each sentence/review is stored in this list\n",
    "for sentence in tqdm(X_test['project_title'].values): # for each review/sentence\n",
    "    vector = np.zeros(300) # as word vectors are of zero length\n",
    "    tf_idf_weight =0; # num of words with a valid vector in the sentence/review\n",
    "    for word in sentence.split(): # for each word in a review/sentence\n",
    "        if (word in glove_words) and (word in tfidf_words):\n",
    "            vec = model[word] # getting the vector for each word\n",
    "            # here we are multiplying idf value(dictionary[word]) and the tf value((sentence.count(word)/len(sentence.split())))\n",
    "            tf_idf = dictionary[word]*(sentence.count(word)/len(sentence.split())) # getting the tfidf value for each word\n",
    "            vector += (vec * tf_idf) # calculating tfidf weighted w2v\n",
    "            tf_idf_weight += tf_idf\n",
    "    if tf_idf_weight != 0:\n",
    "        vector /= tf_idf_weight\n",
    "    tfidf_w2v_vectors_X_test_project_title.append(vector)\n",
    "\n",
    "print(len(tfidf_w2v_vectors_X_test_project_title))\n",
    "print(len(tfidf_w2v_vectors_X_test_project_title[0]))"
   ]
  },
  {
   "cell_type": "markdown",
   "metadata": {},
   "source": [
    "###  Vectorizing numerical features "
   ]
  },
  {
   "cell_type": "code",
   "execution_count": 112,
   "metadata": {},
   "outputs": [
    {
     "name": "stdout",
     "output_type": "stream",
     "text": [
      "Mean : 298.9892808768491, Standard deviation : 358.58419383505833\n"
     ]
    }
   ],
   "source": [
    "from sklearn.preprocessing import StandardScaler\n",
    "\n",
    "price_scalar = StandardScaler()\n",
    "price_scalar.fit(X_train['price'].values.reshape(-1,1)) # finding the mean and standard deviation of this data\n",
    "print(f\"Mean : {price_scalar.mean_[0]}, Standard deviation : {np.sqrt(price_scalar.var_[0])}\")\n",
    "\n",
    "# Now standardize the data with above maen and variance.\n",
    "price_standardized_train = price_scalar.transform(X_train['price'].values.reshape(-1, 1))\n",
    "price_standardized_cv = price_scalar.transform(X_cv['price'].values.reshape(-1, 1))\n",
    "price_standardized_test = price_scalar.transform(X_test['price'].values.reshape(-1, 1))"
   ]
  },
  {
   "cell_type": "code",
   "execution_count": 113,
   "metadata": {},
   "outputs": [],
   "source": [
    "#concatenating all the features horizontally\n",
    "from scipy.sparse import hstack\n",
    "X_tr_bow = hstack((X_tr_state_ohe, X_tr_tp_ohe, X_tr_cat_ohe, X_tr_subcat_ohe, X_tr_pgcat_ohe, X_tr_essay_bow, X_tr_project_title_bow,price_standardized_train)).tocsr()\n",
    "X_cv_bow = hstack((X_cv_state_ohe, X_cv_tp_ohe, X_cv_cat_ohe, X_cv_subcat_ohe, X_cv_pgcat_ohe, X_cv_essay_bow, X_cv_project_title_bow,price_standardized_cv)).tocsr()\n",
    "X_test_bow = hstack((X_test_state_ohe, X_test_tp_ohe, X_test_cat_ohe, X_test_subcat_ohe, X_test_pgcat_ohe, X_test_essay_bow, X_test_project_title_bow,price_standardized_test)).tocsr()\n",
    "\n"
   ]
  },
  {
   "cell_type": "code",
   "execution_count": 114,
   "metadata": {},
   "outputs": [
    {
     "name": "stdout",
     "output_type": "stream",
     "text": [
      "(11222, 1521)\n"
     ]
    }
   ],
   "source": [
    "print(X_tr_bow.shape)\n"
   ]
  },
  {
   "cell_type": "code",
   "execution_count": 115,
   "metadata": {},
   "outputs": [
    {
     "data": {
      "text/plain": [
       "<11222x1521 sparse matrix of type '<class 'numpy.float64'>'\n",
       "\twith 704458 stored elements in Compressed Sparse Row format>"
      ]
     },
     "execution_count": 115,
     "metadata": {},
     "output_type": "execute_result"
    }
   ],
   "source": [
    "X_tr_bow"
   ]
  },
  {
   "cell_type": "markdown",
   "metadata": {},
   "source": [
    "### Finding best hyperparameter k "
   ]
  },
  {
   "cell_type": "code",
   "execution_count": 116,
   "metadata": {},
   "outputs": [],
   "source": [
    "def batch_predict(clf, data):\n",
    "    \n",
    "\n",
    "    y_data_pred = []\n",
    "    tr_loop = data.shape[0] - data.shape[0]%1000\n",
    "    for i in range(0, tr_loop, 1000):\n",
    "        y_data_pred.extend(clf.predict_proba(data[i:i+1000])[:,1]) \n",
    "    if data.shape[0]%1000 !=0:\n",
    "        y_data_pred.extend(clf.predict_proba(data[tr_loop:])[:,1])\n",
    "        \n",
    "    \n",
    "    return y_data_pred \n"
   ]
  },
  {
   "cell_type": "markdown",
   "metadata": {},
   "source": [
    "### Applying knn on BOW"
   ]
  },
  {
   "cell_type": "code",
   "execution_count": 117,
   "metadata": {},
   "outputs": [
    {
     "name": "stderr",
     "output_type": "stream",
     "text": [
      "100%|█████████████████████████████████████████████████████████████████████████████████| 19/19 [38:02<00:00, 117.22s/it]\n"
     ]
    },
    {
     "data": {
      "image/png": "[encoded data removed]",
      "text/plain": [
       "<Figure size 432x288 with 1 Axes>"
      ]
     },
     "metadata": {},
     "output_type": "display_data"
    }
   ],
   "source": [
    "from sklearn.neighbors import KNeighborsClassifier\n",
    "from sklearn.metrics import roc_auc_score\n",
    "\n",
    "\n",
    "train_auc = [] \n",
    "cv_auc = [] \n",
    "K = [3, 5, 7, 11, 13, 15, 17, 19, 21, 23, 25,27,29,31,33,35,37,39,41]\n",
    "for i in tqdm(K):\n",
    "    neigh = KNeighborsClassifier(n_neighbors=i, n_jobs=-1)\n",
    "    neigh.fit(X_tr_bow, y_train)\n",
    "    y_train_pred = batch_predict(neigh, X_tr_bow)  \n",
    "    y_cv_pred = batch_predict(neigh, X_cv_bow)\n",
    "    train_auc.append(roc_auc_score(y_train,y_train_pred))\n",
    "    cv_auc.append(roc_auc_score(y_cv, y_cv_pred))  \n",
    "\n",
    "plt.plot(K, train_auc, label='Train AUC')\n",
    "plt.plot(K, cv_auc, label='CV AUC')\n",
    "\n",
    "plt.scatter(K, train_auc, label='Train AUC points')\n",
    "plt.scatter(K, cv_auc, label='CV AUC points')\n",
    "\n",
    "plt.legend()\n",
    "plt.xlabel(\"K: hyperparameter\")\n",
    "plt.ylabel(\"AUC\")\n",
    "plt.title(\"ERROR PLOTS\")\n",
    "plt.grid()\n",
    "plt.show()"
   ]
  },
  {
   "cell_type": "markdown",
   "metadata": {},
   "source": [
    "#### We are considering k=50 as hyperparameter"
   ]
  },
  {
   "cell_type": "code",
   "execution_count": 118,
   "metadata": {},
   "outputs": [
    {
     "data": {
      "image/png": "[encoded data removed]",
      "text/plain": [
       "<Figure size 432x288 with 1 Axes>"
      ]
     },
     "metadata": {},
     "output_type": "display_data"
    }
   ],
   "source": [
    "from sklearn.metrics import roc_curve, auc\n",
    "\n",
    "best_k = 37\n",
    "neigh = KNeighborsClassifier(n_neighbors=best_k, n_jobs=-1)\n",
    "neigh.fit(X_tr_bow, y_train)\n",
    "\n",
    "y_train_pred = batch_predict(neigh, X_tr_bow)    \n",
    "y_test_pred = batch_predict(neigh, X_test_bow)\n",
    "\n",
    "train_fpr, train_tpr, tr_thresholds = roc_curve(y_train, y_train_pred) \n",
    "test_fpr, test_tpr, te_thresholds = roc_curve(y_test, y_test_pred)\n",
    "\n",
    "plt.plot(train_fpr, train_tpr, label=\"train AUC =\"+str(auc(train_fpr, train_tpr)))\n",
    "plt.plot(test_fpr, test_tpr, label=\"test AUC =\"+str(auc(test_fpr, test_tpr)))\n",
    "plt.legend()\n",
    "plt.xlabel(\"FPR\")\n",
    "plt.ylabel(\"TPR\")\n",
    "plt.title(\"ROC Curve\")\n",
    "plt.grid()\n",
    "plt.show()"
   ]
  },
  {
   "cell_type": "code",
   "execution_count": 119,
   "metadata": {},
   "outputs": [],
   "source": [
    "def find_best_threshold(threshould, fpr, tpr):\n",
    "    x = threshould[np.argmax(tpr*(1-fpr))]\n",
    "    \n",
    "    print(\"Maximum value of tpr*(1-fpr)\", max(tpr*(1-fpr)), \"for threshold\", np.round(x,3))\n",
    "    return x\n",
    "\n",
    "def predict_with_best_t(proba, threshould):\n",
    "    predictions = []\n",
    "    for i in proba:\n",
    "        if i>=threshould: \n",
    "            predictions.append(1)\n",
    "        else:\n",
    "            predictions.append(0)\n",
    "    return predictions"
   ]
  },
  {
   "cell_type": "code",
   "execution_count": 120,
   "metadata": {},
   "outputs": [
    {
     "name": "stdout",
     "output_type": "stream",
     "text": [
      "====================================================================================================\n",
      "Maximum value of tpr*(1-fpr) 0.37200189552196744 for threshold 0.865\n",
      "====================================================================================================\n",
      "Train confusion matrix\n",
      "[[1209  504]\n",
      " [4497 5012]]\n",
      "====================================================================================================\n",
      "Test confusion matrix\n",
      "[[ 688  571]\n",
      " [3355 3636]]\n",
      "====================================================================================================\n"
     ]
    }
   ],
   "source": [
    "print(\"=\"*100)\n",
    "from sklearn.metrics import confusion_matrix\n",
    "best_t = find_best_threshold(tr_thresholds, train_fpr, train_tpr)\n",
    "print(\"=\"*100)\n",
    "print(\"Train confusion matrix\")\n",
    "print(confusion_matrix(y_train, predict_with_best_t(y_train_pred, best_t)))\n",
    "print(\"=\"*100)\n",
    "print(\"Test confusion matrix\")\n",
    "print(confusion_matrix(y_test, predict_with_best_t(y_test_pred, best_t)))\n",
    "print(\"=\"*100)"
   ]
  },
  {
   "cell_type": "code",
   "execution_count": 121,
   "metadata": {},
   "outputs": [
    {
     "data": {
      "text/plain": [
       "<11222x6761 sparse matrix of type '<class 'numpy.float64'>'\n",
       "\twith 1536519 stored elements in Compressed Sparse Row format>"
      ]
     },
     "execution_count": 121,
     "metadata": {},
     "output_type": "execute_result"
    }
   ],
   "source": [
    "X_tr_essay_tfidf"
   ]
  },
  {
   "cell_type": "code",
   "execution_count": 122,
   "metadata": {},
   "outputs": [
    {
     "data": {
      "text/plain": [
       "<5528x6761 sparse matrix of type '<class 'numpy.float64'>'\n",
       "\twith 755531 stored elements in Compressed Sparse Row format>"
      ]
     },
     "execution_count": 122,
     "metadata": {},
     "output_type": "execute_result"
    }
   ],
   "source": [
    "X_cv_essay_tfidf"
   ]
  },
  {
   "cell_type": "code",
   "execution_count": 123,
   "metadata": {},
   "outputs": [
    {
     "data": {
      "text/plain": [
       "<8250x6761 sparse matrix of type '<class 'numpy.float64'>'\n",
       "\twith 1127008 stored elements in Compressed Sparse Row format>"
      ]
     },
     "execution_count": 123,
     "metadata": {},
     "output_type": "execute_result"
    }
   ],
   "source": [
    "X_test_essay_tfidf"
   ]
  },
  {
   "cell_type": "markdown",
   "metadata": {},
   "source": [
    "### Applying knn on tfidf"
   ]
  },
  {
   "cell_type": "code",
   "execution_count": 124,
   "metadata": {},
   "outputs": [],
   "source": [
    "#concatenating all the features horizontally\n",
    "from scipy.sparse import hstack\n",
    "X_tr_tfidf = hstack((X_tr_state_ohe, X_tr_tp_ohe, X_tr_cat_ohe, X_tr_subcat_ohe, X_tr_pgcat_ohe, X_tr_essay_tfidf, X_tr_project_title_tfidf,price_standardized_train)).tocsr()\n",
    "X_cv_tfidf = hstack((X_cv_state_ohe, X_cv_tp_ohe, X_cv_cat_ohe, X_cv_subcat_ohe, X_cv_pgcat_ohe, X_cv_essay_tfidf, X_cv_project_title_tfidf,price_standardized_cv)).tocsr()\n",
    "X_test_tfidf = hstack((X_test_state_ohe, X_test_tp_ohe, X_test_cat_ohe, X_test_subcat_ohe, X_test_pgcat_ohe, X_test_essay_tfidf, X_test_project_title_tfidf,price_standardized_test)).tocsr()\n",
    "\n"
   ]
  },
  {
   "cell_type": "code",
   "execution_count": 125,
   "metadata": {},
   "outputs": [
    {
     "name": "stderr",
     "output_type": "stream",
     "text": [
      "100%|██████████████████████████████████████████████████████████████████████████████████| 19/19 [30:32<00:00, 96.55s/it]\n"
     ]
    },
    {
     "data": {
      "image/png": "[encoded data removed]",
      "text/plain": [
       "<Figure size 432x288 with 1 Axes>"
      ]
     },
     "metadata": {},
     "output_type": "display_data"
    }
   ],
   "source": [
    "from sklearn.neighbors import KNeighborsClassifier\n",
    "from sklearn.metrics import roc_auc_score\n",
    "\n",
    "train_auc = [] \n",
    "cv_auc = [] \n",
    "K = [3, 5, 7, 11, 13, 15, 17, 19, 21, 23, 25,27,29,31,33,35,37,39,41]\n",
    "for i in tqdm(K):\n",
    "    neigh = KNeighborsClassifier(n_neighbors=i, n_jobs=-1) \n",
    "    neigh.fit(X_tr_tfidf, y_train)     \n",
    "    y_train_pred = batch_predict(neigh, X_tr_tfidf)  \n",
    "    y_cv_pred = batch_predict(neigh, X_cv_tfidf)\n",
    "    train_auc.append(roc_auc_score(y_train,y_train_pred))\n",
    "    cv_auc.append(roc_auc_score(y_cv, y_cv_pred))  \n",
    "\n",
    "plt.plot(K, train_auc, label='Train AUC')\n",
    "plt.plot(K, cv_auc, label='CV AUC')\n",
    "\n",
    "plt.scatter(K, train_auc, label='Train AUC points')\n",
    "plt.scatter(K, cv_auc, label='CV AUC points')\n",
    "\n",
    "plt.legend()\n",
    "plt.xlabel(\"K: hyperparameter\")\n",
    "plt.ylabel(\"AUC\")\n",
    "plt.title(\"ERROR PLOTS\")\n",
    "plt.grid()\n",
    "plt.show()"
   ]
  },
  {
   "cell_type": "code",
   "execution_count": 126,
   "metadata": {},
   "outputs": [
    {
     "data": {
      "image/png": "[encoded data removed]",
      "text/plain": [
       "<Figure size 432x288 with 1 Axes>"
      ]
     },
     "metadata": {},
     "output_type": "display_data"
    }
   ],
   "source": [
    "# https://scikit-learn.org/stable/modules/generated/sklearn.metrics.roc_curve.html#sklearn.metrics.roc_curve\n",
    "from sklearn.metrics import roc_curve, auc\n",
    "\n",
    "best_k = 37\n",
    "neigh = KNeighborsClassifier(n_neighbors=best_k, n_jobs=-1)\n",
    "neigh.fit(X_tr_bow, y_train)\n",
    "\n",
    "\n",
    "y_train_pred = batch_predict(neigh, X_tr_bow)    \n",
    "y_test_pred = batch_predict(neigh, X_test_bow)\n",
    "\n",
    "train_fpr, train_tpr, tr_thresholds = roc_curve(y_train, y_train_pred) \n",
    "test_fpr, test_tpr, te_thresholds = roc_curve(y_test, y_test_pred)\n",
    "\n",
    "plt.plot(train_fpr, train_tpr, label=\"train AUC =\"+str(auc(train_fpr, train_tpr)))\n",
    "plt.plot(test_fpr, test_tpr, label=\"test AUC =\"+str(auc(test_fpr, test_tpr)))\n",
    "plt.legend()\n",
    "plt.xlabel(\"FPR\")\n",
    "plt.ylabel(\"TPR\")\n",
    "plt.title(\"ROC Curve\")\n",
    "plt.grid()\n",
    "plt.show()"
   ]
  },
  {
   "cell_type": "code",
   "execution_count": 127,
   "metadata": {},
   "outputs": [],
   "source": [
    "def find_best_threshold(threshould, fpr, tpr):\n",
    "    t = threshould[np.argmax(tpr*(1-fpr))]\n",
    "    \n",
    "    print(\"the maximum value of tpr*(1-fpr)\", max(tpr*(1-fpr)), \"for threshold\", np.round(t,3))\n",
    "    return t\n",
    "\n",
    "def predict_with_best_t(proba, threshould):\n",
    "    predictions = []\n",
    "    for i in proba:\n",
    "        if i>=threshould: \n",
    "            predictions.append(1)\n",
    "        else:\n",
    "            predictions.append(0)\n",
    "    return predictions"
   ]
  },
  {
   "cell_type": "code",
   "execution_count": 128,
   "metadata": {},
   "outputs": [
    {
     "name": "stdout",
     "output_type": "stream",
     "text": [
      "====================================================================================================\n",
      "the maximum value of tpr*(1-fpr) 0.37200189552196744 for threshold 0.865\n",
      "====================================================================================================\n",
      "Train confusion matrix\n",
      "[[1209  504]\n",
      " [4497 5012]]\n",
      "====================================================================================================\n",
      "Test confusion matrix\n",
      "[[ 688  571]\n",
      " [3355 3636]]\n",
      "====================================================================================================\n"
     ]
    }
   ],
   "source": [
    "print(\"=\"*100)\n",
    "from sklearn.metrics import confusion_matrix\n",
    "best_t = find_best_threshold(tr_thresholds, train_fpr, train_tpr)\n",
    "print(\"=\"*100)\n",
    "print(\"Train confusion matrix\")\n",
    "print(confusion_matrix(y_train, predict_with_best_t(y_train_pred, best_t)))\n",
    "print(\"=\"*100)\n",
    "print(\"Test confusion matrix\")\n",
    "print(confusion_matrix(y_test, predict_with_best_t(y_test_pred, best_t)))\n",
    "print(\"=\"*100)"
   ]
  },
  {
   "cell_type": "markdown",
   "metadata": {},
   "source": [
    "### Applying knn on Avgw2v"
   ]
  },
  {
   "cell_type": "code",
   "execution_count": 129,
   "metadata": {},
   "outputs": [],
   "source": [
    "#concatenating all the features horizontally\n",
    "from scipy.sparse import hstack\n",
    "X_tr_w2v = hstack((X_tr_state_ohe, X_tr_tp_ohe, X_tr_cat_ohe, X_tr_subcat_ohe, X_tr_pgcat_ohe, avg_w2v_vectors_train, avg_w2v_vectors_train_project_title,price_standardized_train)).tocsr()\n",
    "X_cv_w2v = hstack((X_cv_state_ohe, X_cv_tp_ohe, X_cv_cat_ohe, X_cv_subcat_ohe, X_cv_pgcat_ohe, avg_w2v_vectors_cv, avg_w2v_vectors_cv_project_title,price_standardized_cv)).tocsr()\n",
    "X_test_w2v = hstack((X_test_state_ohe, X_test_tp_ohe, X_test_cat_ohe, X_test_subcat_ohe, X_test_pgcat_ohe, avg_w2v_vectors_test, avg_w2v_vectors_test_project_title,price_standardized_test)).tocsr()\n",
    "\n"
   ]
  },
  {
   "cell_type": "code",
   "execution_count": 130,
   "metadata": {},
   "outputs": [
    {
     "data": {
      "text/plain": [
       "5528"
      ]
     },
     "execution_count": 130,
     "metadata": {},
     "output_type": "execute_result"
    }
   ],
   "source": [
    "len(avg_w2v_vectors_cv)"
   ]
  },
  {
   "cell_type": "code",
   "execution_count": 131,
   "metadata": {},
   "outputs": [
    {
     "data": {
      "text/plain": [
       "<5528x30 sparse matrix of type '<class 'numpy.int64'>'\n",
       "\twith 0 stored elements in Compressed Sparse Row format>"
      ]
     },
     "execution_count": 131,
     "metadata": {},
     "output_type": "execute_result"
    }
   ],
   "source": [
    "X_cv_subcat_ohe"
   ]
  },
  {
   "cell_type": "code",
   "execution_count": 132,
   "metadata": {},
   "outputs": [
    {
     "name": "stderr",
     "output_type": "stream",
     "text": [
      "100%|███████████████████████████████████████████████████████████████████████████████| 19/19 [1:13:55<00:00, 232.42s/it]\n"
     ]
    },
    {
     "data": {
      "image/png": "[encoded data removed]",
      "text/plain": [
       "<Figure size 432x288 with 1 Axes>"
      ]
     },
     "metadata": {},
     "output_type": "display_data"
    }
   ],
   "source": [
    "from sklearn.neighbors import KNeighborsClassifier\n",
    "from sklearn.metrics import roc_auc_score\n",
    "\n",
    "train_auc = [] \n",
    "cv_auc = [] \n",
    "K = [3, 5, 7, 11, 13, 15, 17, 19, 21, 23, 25,27,29,31,33,35,37,39,41]\n",
    "for i in tqdm(K):\n",
    "    neigh = KNeighborsClassifier(n_neighbors=i, n_jobs=-1) \n",
    "    neigh.fit(X_tr_w2v, y_train)\n",
    "    y_train_pred = batch_predict(neigh, X_tr_w2v)  # probabilstic score of data point belonging to +ve class.\n",
    "    y_cv_pred = batch_predict(neigh, X_cv_w2v) \n",
    "    train_auc.append(roc_auc_score(y_train,y_train_pred))\n",
    "    cv_auc.append(roc_auc_score(y_cv, y_cv_pred))  \n",
    "\n",
    "plt.plot(K, train_auc, label='Train AUC')\n",
    "plt.plot(K, cv_auc, label='CV AUC')\n",
    "\n",
    "plt.scatter(K, train_auc, label='Train AUC points')\n",
    "plt.scatter(K, cv_auc, label='CV AUC points')\n",
    "\n",
    "plt.legend()\n",
    "plt.xlabel(\"K: hyperparameter\")\n",
    "plt.ylabel(\"AUC\")\n",
    "plt.title(\"ERROR PLOTS\")\n",
    "plt.grid()\n",
    "plt.show()"
   ]
  },
  {
   "cell_type": "code",
   "execution_count": 133,
   "metadata": {},
   "outputs": [
    {
     "data": {
      "image/png": "[encoded data removed]",
      "text/plain": [
       "<Figure size 432x288 with 1 Axes>"
      ]
     },
     "metadata": {},
     "output_type": "display_data"
    }
   ],
   "source": [
    "# https://scikit-learn.org/stable/modules/generated/sklearn.metrics.roc_curve.html#sklearn.metrics.roc_curve\n",
    "from sklearn.metrics import roc_curve, auc\n",
    "\n",
    "best_k = 37\n",
    "neigh = KNeighborsClassifier(n_neighbors=best_k, n_jobs=-1)\n",
    "neigh.fit(X_tr_w2v, y_train)\n",
    "# roc_auc_score(y_true, y_score) the 2nd parameter should be probability estimates of the positive class\n",
    "# not the predicted outputs\n",
    "\n",
    "y_train_pred = batch_predict(neigh, X_tr_w2v)    \n",
    "y_test_pred = batch_predict(neigh, X_test_w2v)\n",
    "\n",
    "train_fpr, train_tpr, tr_thresholds = roc_curve(y_train, y_train_pred) #What are thresolds?\n",
    "test_fpr, test_tpr, te_thresholds = roc_curve(y_test, y_test_pred)\n",
    "\n",
    "plt.plot(train_fpr, train_tpr, label=\"train AUC =\"+str(auc(train_fpr, train_tpr)))\n",
    "plt.plot(test_fpr, test_tpr, label=\"test AUC =\"+str(auc(test_fpr, test_tpr)))\n",
    "plt.legend()\n",
    "plt.xlabel(\"FPR\")\n",
    "plt.ylabel(\"TPR\")\n",
    "plt.title(\"ROC Curve\")\n",
    "plt.grid()\n",
    "plt.show()"
   ]
  },
  {
   "cell_type": "code",
   "execution_count": 134,
   "metadata": {},
   "outputs": [],
   "source": [
    "def find_best_threshold(threshould, fpr, tpr):\n",
    "    t = threshould[np.argmax(tpr*(1-fpr))]\n",
    "    \n",
    "    print(\"the maximum value of tpr*(1-fpr)\", max(tpr*(1-fpr)), \"for threshold\", np.round(t,3))\n",
    "    return t\n",
    "\n",
    "def predict_with_best_t(proba, threshould):\n",
    "    predictions = []\n",
    "    for i in proba:\n",
    "        if i>=threshould: \n",
    "            predictions.append(1)\n",
    "        else:\n",
    "            predictions.append(0)\n",
    "    return predictions"
   ]
  },
  {
   "cell_type": "code",
   "execution_count": 139,
   "metadata": {},
   "outputs": [
    {
     "name": "stdout",
     "output_type": "stream",
     "text": [
      "====================================================================================================\n",
      "the maximum value of tpr*(1-fpr) 0.37668833354605463 for threshold 0.865\n",
      "====================================================================================================\n",
      "Train confusion matrix\n",
      "[[1171  542]\n",
      " [4327 5182]]\n",
      "====================================================================================================\n",
      "Test confusion matrix\n",
      "[[ 628  631]\n",
      " [3159 3832]]\n",
      "====================================================================================================\n"
     ]
    }
   ],
   "source": [
    "print(\"=\"*100)\n",
    "from sklearn.metrics import confusion_matrix\n",
    "best_t = find_best_threshold(tr_thresholds, train_fpr, train_tpr)\n",
    "print(\"=\"*100)\n",
    "print(\"Train confusion matrix\")\n",
    "print(confusion_matrix(y_train, predict_with_best_t(y_train_pred, best_t)))\n",
    "print(\"=\"*100)\n",
    "print(\"Test confusion matrix\")\n",
    "print(confusion_matrix(y_test, predict_with_best_t(y_test_pred, best_t)))\n",
    "print(\"=\"*100)"
   ]
  },
  {
   "cell_type": "markdown",
   "metadata": {},
   "source": [
    "### Applying knn on tfidfw2v"
   ]
  },
  {
   "cell_type": "code",
   "execution_count": 140,
   "metadata": {},
   "outputs": [],
   "source": [
    "#concatenating all the features horizontally\n",
    "from scipy.sparse import hstack\n",
    "X_tr_w2v_tfidf = hstack((X_tr_state_ohe, X_tr_tp_ohe, X_tr_cat_ohe, X_tr_subcat_ohe, X_tr_pgcat_ohe, tfidf_w2v_vectors_X_train_essay, tfidf_w2v_vectors_X_train_project_title,price_standardized_train)).tocsr()\n",
    "X_cv_w2v_tfidf = hstack((X_cv_state_ohe, X_cv_tp_ohe, X_cv_cat_ohe, X_cv_subcat_ohe, X_cv_pgcat_ohe, tfidf_w2v_vectors_X_cv_essay, tfidf_w2v_vectors_X_cv_project_title,price_standardized_cv)).tocsr()\n",
    "X_test_w2v_tfidf = hstack((X_test_state_ohe, X_test_tp_ohe, X_test_cat_ohe, X_test_subcat_ohe, X_test_pgcat_ohe, tfidf_w2v_vectors_X_test_essay, tfidf_w2v_vectors_X_test_project_title,price_standardized_test)).tocsr()\n",
    "\n"
   ]
  },
  {
   "cell_type": "code",
   "execution_count": 141,
   "metadata": {},
   "outputs": [
    {
     "name": "stderr",
     "output_type": "stream",
     "text": [
      "100%|███████████████████████████████████████████████████████████████████████████████| 19/19 [1:15:48<00:00, 223.89s/it]\n"
     ]
    },
    {
     "data": {
      "image/png": "[encoded data removed]",
      "text/plain": [
       "<Figure size 432x288 with 1 Axes>"
      ]
     },
     "metadata": {},
     "output_type": "display_data"
    }
   ],
   "source": [
    "from sklearn.neighbors import KNeighborsClassifier\n",
    "from sklearn.metrics import roc_auc_score\n",
    "\n",
    "train_auc = [] # We are going to store auc score fpr differnt values of k on the Dtrain dataset.\n",
    "cv_auc = [] \n",
    "K = [3, 5, 7, 11, 13, 15, 17, 19, 21, 23, 25,27,29,31,33,35,37,39,41]\n",
    "for i in tqdm(K):\n",
    "    neigh = KNeighborsClassifier(n_neighbors=i, n_jobs=-1)\n",
    "    neigh.fit(X_tr_w2v_tfidf, y_train) \n",
    "    y_train_pred = batch_predict(neigh, X_tr_w2v_tfidf) \n",
    "    y_cv_pred = batch_predict(neigh, X_cv_w2v_tfidf)\n",
    "    train_auc.append(roc_auc_score(y_train,y_train_pred))\n",
    "    cv_auc.append(roc_auc_score(y_cv, y_cv_pred))  \n",
    "\n",
    "plt.plot(K, train_auc, label='Train AUC')\n",
    "plt.plot(K, cv_auc, label='CV AUC')\n",
    "\n",
    "plt.scatter(K, train_auc, label='Train AUC points')\n",
    "plt.scatter(K, cv_auc, label='CV AUC points')\n",
    "\n",
    "plt.legend()\n",
    "plt.xlabel(\"K: hyperparameter\")\n",
    "plt.ylabel(\"AUC\")\n",
    "plt.title(\"ERROR PLOTS\")\n",
    "plt.grid()\n",
    "plt.show()"
   ]
  },
  {
   "cell_type": "code",
   "execution_count": 142,
   "metadata": {},
   "outputs": [
    {
     "data": {
      "image/png": "[encoded data removed]",
      "text/plain": [
       "<Figure size 432x288 with 1 Axes>"
      ]
     },
     "metadata": {},
     "output_type": "display_data"
    }
   ],
   "source": [
    "# https://scikit-learn.org/stable/modules/generated/sklearn.metrics.roc_curve.html#sklearn.metrics.roc_curve\n",
    "from sklearn.metrics import roc_curve, auc\n",
    "\n",
    "best_k = 37\n",
    "neigh = KNeighborsClassifier(n_neighbors=best_k, n_jobs=-1)\n",
    "neigh.fit(X_tr_w2v_tfidf, y_train)\n",
    "\n",
    "y_train_pred = batch_predict(neigh, X_tr_w2v_tfidf)    \n",
    "y_test_pred = batch_predict(neigh, X_test_w2v_tfidf)\n",
    "\n",
    "train_fpr, train_tpr, tr_thresholds = roc_curve(y_train, y_train_pred) \n",
    "test_fpr, test_tpr, te_thresholds = roc_curve(y_test, y_test_pred)\n",
    "\n",
    "plt.plot(train_fpr, train_tpr, label=\"train AUC =\"+str(auc(train_fpr, train_tpr)))\n",
    "plt.plot(test_fpr, test_tpr, label=\"test AUC =\"+str(auc(test_fpr, test_tpr)))\n",
    "plt.legend()\n",
    "plt.xlabel(\"FPR\")\n",
    "plt.ylabel(\"TPR\")\n",
    "plt.title(\"ROC Curve\")\n",
    "plt.grid()\n",
    "plt.show()"
   ]
  },
  {
   "cell_type": "code",
   "execution_count": 143,
   "metadata": {},
   "outputs": [],
   "source": [
    "def find_best_threshold(threshould, fpr, tpr):\n",
    "    t = threshould[np.argmax(tpr*(1-fpr))]\n",
    "    \n",
    "    print(\"the maximum value of tpr*(1-fpr)\", max(tpr*(1-fpr)), \"for threshold\", np.round(t,3))\n",
    "    return t\n",
    "\n",
    "def predict_with_best_t(proba, threshould):\n",
    "    predictions = []\n",
    "    for i in proba:\n",
    "        if i>=threshould: \n",
    "            predictions.append(1)\n",
    "        else:\n",
    "            predictions.append(0)\n",
    "    return predictions"
   ]
  },
  {
   "cell_type": "code",
   "execution_count": 144,
   "metadata": {},
   "outputs": [
    {
     "name": "stdout",
     "output_type": "stream",
     "text": [
      "====================================================================================================\n",
      "the maximum value of tpr*(1-fpr) 0.3725307213487551 for threshold 0.865\n",
      "====================================================================================================\n",
      "Train confusion matrix\n",
      "[[1171  542]\n",
      " [4327 5182]]\n",
      "====================================================================================================\n",
      "Test confusion matrix\n",
      "[[ 661  598]\n",
      " [3402 3589]]\n",
      "====================================================================================================\n"
     ]
    }
   ],
   "source": [
    "print(\"=\"*100)\n",
    "from sklearn.metrics import confusion_matrix\n",
    "best_t = find_best_threshold(tr_thresholds, train_fpr, train_tpr)\n",
    "print(\"=\"*100)\n",
    "print(\"Train confusion matrix\")\n",
    "print(confusion_matrix(y_train, predict_with_best_t(y_train_pred, best_t)))\n",
    "print(\"=\"*100)\n",
    "print(\"Test confusion matrix\")\n",
    "print(confusion_matrix(y_test, predict_with_best_t(y_test_pred, best_t)))\n",
    "print(\"=\"*100)"
   ]
  },
  {
   "cell_type": "markdown",
   "metadata": {},
   "source": [
    "## Conclusion:"
   ]
  },
  {
   "cell_type": "markdown",
   "metadata": {},
   "source": [
    "1. k=37 gives the best knn classfier model\n",
    "2. Applying knn on Avgw2v gives the best model becuse in its Consusion matrix TP+Tn value is maximum."
   ]
  }
 ],
 "metadata": {
  "kernelspec": {
   "display_name": "Python 3",
   "language": "python",
   "name": "python3"
  },
  "language_info": {
   "codemirror_mode": {
    "name": "ipython",
    "version": 3
   },
   "file_extension": ".py",
   "mimetype": "text/x-python",
   "name": "python",
   "nbconvert_exporter": "python",
   "pygments_lexer": "ipython3",
   "version": "3.6.5"
  }
 },
 "nbformat": 4,
 "nbformat_minor": 2
}
