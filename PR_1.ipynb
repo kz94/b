{
 "cells": [
  {
   "cell_type": "markdown",
   "metadata": {},
   "source": [
    "<h1><b> Restaurant Rating Prediction</b></h1>"
   ]
  },
  {
   "cell_type": "code",
   "execution_count": 2,
   "metadata": {
    "colab": {
     "base_uri": "https://localhost:8080/",
     "height": 71
    },
    "colab_type": "code",
    "id": "2NMpYvsfRfbq",
    "outputId": "382800fb-7d11-4ff3-eacf-0ee30ad76546"
   },
   "outputs": [
    {
     "name": "stderr",
     "output_type": "stream",
     "text": [
      "/usr/local/lib/python3.6/dist-packages/statsmodels/tools/_testing.py:19: FutureWarning: pandas.util.testing is deprecated. Use the functions in the public API at pandas.testing instead.\n",
      "  import pandas.util.testing as tm\n"
     ]
    }
   ],
   "source": [
    "import pandas as pd\n",
    "import numpy as np\n",
    "import seaborn as sns"
   ]
  },
  {
   "cell_type": "code",
   "execution_count": null,
   "metadata": {},
   "outputs": [],
   "source": [
    "from sklearn.model_selection import train_test_split\n",
    "from sklearn.feature_extraction.text import CountVectorizer\n",
    "from sklearn.preprocessing import Normalizer\n",
    "from scipy.sparse import hstack\n",
    "import pandas as pd\n",
    "import numpy as np\n",
    "from sklearn.linear_model import LinearRegression\n",
    "from sklearn.multiclass import OneVsRestClassifier\n",
    "from sklearn.linear_model import SGDClassifier\n",
    "import matplotlib. pyplot as plt\n",
    "import seaborn as sns\n",
    "from statsmodels.stats.outliers_influence import variance_inflation_factor\n",
    "from sklearn.preprocessing import LabelEncoder\n",
    "import nltk\n",
    "from nltk.corpus import stopwords\n",
    "from bs4 import BeautifulSoup\n",
    "from tqdm import tqdm\n",
    "import re\n",
    "from sklearn.feature_extraction.text import TfidfVectorizer\n",
    "from sklearn.model_selection import RandomizedSearchCV\n",
    "from sklearn.model_selection import cross_val_score\n",
    "from sklearn.tree import DecisionTreeClassifier\n",
    "from sklearn.ensemble import RandomForestRegressor \n",
    "from sklearn.metrics import mean_squared_error\n",
    "import keras\n",
    "from keras.layers import Input, Dense, LSTM, MaxPooling1D, Conv1D,Dropout\n",
    "from keras.models import Model\n",
    "from prettytable import PrettyTable\n",
    "\n"
   ]
  },
  {
   "cell_type": "markdown",
   "metadata": {
    "colab_type": "text",
    "id": "V5xl66F4Rfb1"
   },
   "source": [
    "### Reading Data"
   ]
  },
  {
   "cell_type": "code",
   "execution_count": 3,
   "metadata": {
    "colab": {},
    "colab_type": "code",
    "id": "9Itbgbv7Rfb5"
   },
   "outputs": [],
   "source": [
    "df=pd.read_csv(\"/content/drive/My Drive/zomato.csv\")"
   ]
  },
  {
   "cell_type": "code",
   "execution_count": 4,
   "metadata": {
    "colab": {
     "base_uri": "https://localhost:8080/",
     "height": 34
    },
    "colab_type": "code",
    "id": "TpKSgoEbRfcA",
    "outputId": "328c429b-64c4-460e-be7a-d1604ab78bf2"
   },
   "outputs": [
    {
     "data": {
      "text/plain": [
       "(51717, 17)"
      ]
     },
     "execution_count": 4,
     "metadata": {
      "tags": []
     },
     "output_type": "execute_result"
    }
   ],
   "source": [
    "df.shape"
   ]
  },
  {
   "cell_type": "code",
   "execution_count": 5,
   "metadata": {
    "colab": {
     "base_uri": "https://localhost:8080/",
     "height": 102
    },
    "colab_type": "code",
    "id": "CZeFsbSqRfcJ",
    "outputId": "77598b3a-e55c-4b7c-ae85-ebbbb2a5cec5"
   },
   "outputs": [
    {
     "data": {
      "text/plain": [
       "Index(['url', 'address', 'name', 'online_order', 'book_table', 'rate', 'votes',\n",
       "       'phone', 'location', 'rest_type', 'dish_liked', 'cuisines',\n",
       "       'approx_cost(for two people)', 'reviews_list', 'menu_item',\n",
       "       'listed_in(type)', 'listed_in(city)'],\n",
       "      dtype='object')"
      ]
     },
     "execution_count": 5,
     "metadata": {
      "tags": []
     },
     "output_type": "execute_result"
    }
   ],
   "source": [
    "df.columns"
   ]
  },
  {
   "cell_type": "code",
   "execution_count": 6,
   "metadata": {
    "colab": {
     "base_uri": "https://localhost:8080/",
     "height": 335
    },
    "colab_type": "code",
    "id": "jBkU_Tu_RfcX",
    "outputId": "7a1ada7d-53c5-4439-aefc-c2335cd4177a"
   },
   "outputs": [
    {
     "data": {
      "text/html": [
       "<div>\n",
       "<style scoped>\n",
       "    .dataframe tbody tr th:only-of-type {\n",
       "        vertical-align: middle;\n",
       "    }\n",
       "\n",
       "    .dataframe tbody tr th {\n",
       "        vertical-align: top;\n",
       "    }\n",
       "\n",
       "    .dataframe thead th {\n",
       "        text-align: right;\n",
       "    }\n",
       "</style>\n",
       "<table border=\"1\" class=\"dataframe\">\n",
       "  <thead>\n",
       "    <tr style=\"text-align: right;\">\n",
       "      <th></th>\n",
       "      <th>url</th>\n",
       "      <th>address</th>\n",
       "      <th>name</th>\n",
       "      <th>online_order</th>\n",
       "      <th>book_table</th>\n",
       "      <th>rate</th>\n",
       "      <th>votes</th>\n",
       "      <th>phone</th>\n",
       "      <th>location</th>\n",
       "      <th>rest_type</th>\n",
       "      <th>dish_liked</th>\n",
       "      <th>cuisines</th>\n",
       "      <th>approx_cost(for two people)</th>\n",
       "      <th>reviews_list</th>\n",
       "      <th>menu_item</th>\n",
       "      <th>listed_in(type)</th>\n",
       "      <th>listed_in(city)</th>\n",
       "    </tr>\n",
       "  </thead>\n",
       "  <tbody>\n",
       "    <tr>\n",
       "      <th>0</th>\n",
       "      <td>https://www.zomato.com/bangalore/jalsa-banasha...</td>\n",
       "      <td>942, 21st Main Road, 2nd Stage, Banashankari, ...</td>\n",
       "      <td>Jalsa</td>\n",
       "      <td>Yes</td>\n",
       "      <td>Yes</td>\n",
       "      <td>4.1/5</td>\n",
       "      <td>775</td>\n",
       "      <td>080 42297555\\r\\n+91 9743772233</td>\n",
       "      <td>Banashankari</td>\n",
       "      <td>Casual Dining</td>\n",
       "      <td>Pasta, Lunch Buffet, Masala Papad, Paneer Laja...</td>\n",
       "      <td>North Indian, Mughlai, Chinese</td>\n",
       "      <td>800</td>\n",
       "      <td>[('Rated 4.0', 'RATED\\n  A beautiful place to ...</td>\n",
       "      <td>[]</td>\n",
       "      <td>Buffet</td>\n",
       "      <td>Banashankari</td>\n",
       "    </tr>\n",
       "    <tr>\n",
       "      <th>1</th>\n",
       "      <td>https://www.zomato.com/bangalore/spice-elephan...</td>\n",
       "      <td>2nd Floor, 80 Feet Road, Near Big Bazaar, 6th ...</td>\n",
       "      <td>Spice Elephant</td>\n",
       "      <td>Yes</td>\n",
       "      <td>No</td>\n",
       "      <td>4.1/5</td>\n",
       "      <td>787</td>\n",
       "      <td>080 41714161</td>\n",
       "      <td>Banashankari</td>\n",
       "      <td>Casual Dining</td>\n",
       "      <td>Momos, Lunch Buffet, Chocolate Nirvana, Thai G...</td>\n",
       "      <td>Chinese, North Indian, Thai</td>\n",
       "      <td>800</td>\n",
       "      <td>[('Rated 4.0', 'RATED\\n  Had been here for din...</td>\n",
       "      <td>[]</td>\n",
       "      <td>Buffet</td>\n",
       "      <td>Banashankari</td>\n",
       "    </tr>\n",
       "  </tbody>\n",
       "</table>\n",
       "</div>"
      ],
      "text/plain": [
       "                                                 url  ... listed_in(city)\n",
       "0  https://www.zomato.com/bangalore/jalsa-banasha...  ...    Banashankari\n",
       "1  https://www.zomato.com/bangalore/spice-elephan...  ...    Banashankari\n",
       "\n",
       "[2 rows x 17 columns]"
      ]
     },
     "execution_count": 6,
     "metadata": {
      "tags": []
     },
     "output_type": "execute_result"
    }
   ],
   "source": [
    "df.head(2)"
   ]
  },
  {
   "cell_type": "code",
   "execution_count": 7,
   "metadata": {
    "colab": {
     "base_uri": "https://localhost:8080/",
     "height": 102
    },
    "colab_type": "code",
    "id": "50e517p-Rfcm",
    "outputId": "d83a949b-a10e-451b-bf0c-d4ddfa7693bc"
   },
   "outputs": [
    {
     "data": {
      "text/plain": [
       "count     43942\n",
       "unique       64\n",
       "top         NEW\n",
       "freq       2208\n",
       "Name: rate, dtype: object"
      ]
     },
     "execution_count": 7,
     "metadata": {
      "tags": []
     },
     "output_type": "execute_result"
    }
   ],
   "source": [
    "df['rate'].describe()"
   ]
  },
  {
   "cell_type": "markdown",
   "metadata": {
    "colab_type": "text",
    "id": "f0cdHcMIRfc-"
   },
   "source": [
    "<b> Checking for Duplicates in dataset</b>"
   ]
  },
  {
   "cell_type": "code",
   "execution_count": 8,
   "metadata": {
    "colab": {
     "base_uri": "https://localhost:8080/",
     "height": 34
    },
    "colab_type": "code",
    "id": "TQyRHXyyRfdA",
    "outputId": "484dfc13-49b9-4f42-9958-1db239e52aae"
   },
   "outputs": [
    {
     "data": {
      "text/plain": [
       "0"
      ]
     },
     "execution_count": 8,
     "metadata": {
      "tags": []
     },
     "output_type": "execute_result"
    }
   ],
   "source": [
    "df.duplicated().sum()"
   ]
  },
  {
   "cell_type": "markdown",
   "metadata": {
    "colab_type": "text",
    "id": "OFAhc1iZRfdN"
   },
   "source": [
    "<b> Removing the features which don't have any impact on rating of the restaurant </b>"
   ]
  },
  {
   "cell_type": "code",
   "execution_count": 9,
   "metadata": {
    "colab": {},
    "colab_type": "code",
    "id": "NPb3XtXyRfdO"
   },
   "outputs": [],
   "source": [
    "df=df.drop(['phone','address','url'],axis=1)"
   ]
  },
  {
   "cell_type": "markdown",
   "metadata": {
    "colab_type": "text",
    "id": "giOgKBsmRfdW"
   },
   "source": [
    "<b> Checking for percentage of NULL values for each features </b>"
   ]
  },
  {
   "cell_type": "code",
   "execution_count": 10,
   "metadata": {
    "colab": {},
    "colab_type": "code",
    "id": "BYtgpdkh1MF7"
   },
   "outputs": [],
   "source": [
    "# https://stackoverflow.com/questions/51070985/find-out-the-percentage-of-missing-values-in-each-column-in-the-given-dataset\n",
    "percent_missing = df.isnull().sum() * 100 / len(df)\n",
    "missing_value_df = pd.DataFrame({'percent_missing': percent_missing})"
   ]
  },
  {
   "cell_type": "code",
   "execution_count": 11,
   "metadata": {
    "colab": {
     "base_uri": "https://localhost:8080/",
     "height": 483
    },
    "colab_type": "code",
    "id": "0sm3-iPw1Rpu",
    "outputId": "1ce16461-050f-493c-fb27-dcc2270bf584"
   },
   "outputs": [
    {
     "data": {
      "text/html": [
       "<div>\n",
       "<style scoped>\n",
       "    .dataframe tbody tr th:only-of-type {\n",
       "        vertical-align: middle;\n",
       "    }\n",
       "\n",
       "    .dataframe tbody tr th {\n",
       "        vertical-align: top;\n",
       "    }\n",
       "\n",
       "    .dataframe thead th {\n",
       "        text-align: right;\n",
       "    }\n",
       "</style>\n",
       "<table border=\"1\" class=\"dataframe\">\n",
       "  <thead>\n",
       "    <tr style=\"text-align: right;\">\n",
       "      <th></th>\n",
       "      <th>percent_missing</th>\n",
       "    </tr>\n",
       "  </thead>\n",
       "  <tbody>\n",
       "    <tr>\n",
       "      <th>name</th>\n",
       "      <td>0.000000</td>\n",
       "    </tr>\n",
       "    <tr>\n",
       "      <th>online_order</th>\n",
       "      <td>0.000000</td>\n",
       "    </tr>\n",
       "    <tr>\n",
       "      <th>book_table</th>\n",
       "      <td>0.000000</td>\n",
       "    </tr>\n",
       "    <tr>\n",
       "      <th>rate</th>\n",
       "      <td>15.033741</td>\n",
       "    </tr>\n",
       "    <tr>\n",
       "      <th>votes</th>\n",
       "      <td>0.000000</td>\n",
       "    </tr>\n",
       "    <tr>\n",
       "      <th>location</th>\n",
       "      <td>0.040606</td>\n",
       "    </tr>\n",
       "    <tr>\n",
       "      <th>rest_type</th>\n",
       "      <td>0.438927</td>\n",
       "    </tr>\n",
       "    <tr>\n",
       "      <th>dish_liked</th>\n",
       "      <td>54.291626</td>\n",
       "    </tr>\n",
       "    <tr>\n",
       "      <th>cuisines</th>\n",
       "      <td>0.087012</td>\n",
       "    </tr>\n",
       "    <tr>\n",
       "      <th>approx_cost(for two people)</th>\n",
       "      <td>0.669026</td>\n",
       "    </tr>\n",
       "    <tr>\n",
       "      <th>reviews_list</th>\n",
       "      <td>0.000000</td>\n",
       "    </tr>\n",
       "    <tr>\n",
       "      <th>menu_item</th>\n",
       "      <td>0.000000</td>\n",
       "    </tr>\n",
       "    <tr>\n",
       "      <th>listed_in(type)</th>\n",
       "      <td>0.000000</td>\n",
       "    </tr>\n",
       "    <tr>\n",
       "      <th>listed_in(city)</th>\n",
       "      <td>0.000000</td>\n",
       "    </tr>\n",
       "  </tbody>\n",
       "</table>\n",
       "</div>"
      ],
      "text/plain": [
       "                             percent_missing\n",
       "name                                0.000000\n",
       "online_order                        0.000000\n",
       "book_table                          0.000000\n",
       "rate                               15.033741\n",
       "votes                               0.000000\n",
       "location                            0.040606\n",
       "rest_type                           0.438927\n",
       "dish_liked                         54.291626\n",
       "cuisines                            0.087012\n",
       "approx_cost(for two people)         0.669026\n",
       "reviews_list                        0.000000\n",
       "menu_item                           0.000000\n",
       "listed_in(type)                     0.000000\n",
       "listed_in(city)                     0.000000"
      ]
     },
     "execution_count": 11,
     "metadata": {
      "tags": []
     },
     "output_type": "execute_result"
    }
   ],
   "source": [
    "missing_value_df "
   ]
  },
  {
   "cell_type": "markdown",
   "metadata": {
    "colab_type": "text",
    "id": "GA5b3H8gRfdh"
   },
   "source": [
    "Approach to fill the Null values - \n",
    "1. Rate and dish_liked - Model Based imputation\n",
    "2. Location, cuisines, rest_type - Frequency based imputation\n",
    "3. Approx_cost - Mean based imputation"
   ]
  },
  {
   "cell_type": "markdown",
   "metadata": {
    "colab_type": "text",
    "id": "g5_8fG0wRfeR"
   },
   "source": [
    "<b>approx_cost NULL values</b>"
   ]
  },
  {
   "cell_type": "code",
   "execution_count": 12,
   "metadata": {
    "colab": {},
    "colab_type": "code",
    "id": "0tWe7-4_RfeS"
   },
   "outputs": [],
   "source": [
    "df['approx_cost(for two people)']=df['approx_cost(for two people)'].replace(',','')\n",
    "df['approx_cost(for two people)'] = df['approx_cost(for two people)'].astype(str).str.replace(',', '')\n",
    "df['approx_cost(for two people)'] = df['approx_cost(for two people)'].apply(lambda r: float(r))"
   ]
  },
  {
   "cell_type": "markdown",
   "metadata": {
    "colab_type": "text",
    "id": "OEnopk8LzGf2"
   },
   "source": [
    "Replacing NULL value with mean of approx_cost\n"
   ]
  },
  {
   "cell_type": "code",
   "execution_count": 13,
   "metadata": {
    "colab": {},
    "colab_type": "code",
    "id": "p3FqDXRlRfeX"
   },
   "outputs": [],
   "source": [
    "df['approx_cost(for two people)']=df['approx_cost(for two people)'].fillna(df['approx_cost(for two people)'].mean())"
   ]
  },
  {
   "cell_type": "markdown",
   "metadata": {
    "colab_type": "text",
    "id": "W7qHFX2iRfeh"
   },
   "source": [
    "#### rest_type NULL values "
   ]
  },
  {
   "cell_type": "code",
   "execution_count": 14,
   "metadata": {
    "colab": {
     "base_uri": "https://localhost:8080/",
     "height": 34
    },
    "colab_type": "code",
    "id": "O9_IMLebRfei",
    "outputId": "99d05f74-f011-4d9c-b814-c9ddc2dc02a9"
   },
   "outputs": [
    {
     "data": {
      "text/plain": [
       "227"
      ]
     },
     "execution_count": 14,
     "metadata": {
      "tags": []
     },
     "output_type": "execute_result"
    }
   ],
   "source": [
    "df['rest_type'].isnull().values.sum()"
   ]
  },
  {
   "cell_type": "code",
   "execution_count": 15,
   "metadata": {
    "colab": {
     "base_uri": "https://localhost:8080/",
     "height": 221
    },
    "colab_type": "code",
    "id": "3yKPaod_Rfer",
    "outputId": "741d7eaa-bd52-449b-c645-d5334e2af5f4"
   },
   "outputs": [
    {
     "data": {
      "text/plain": [
       "Quick Bites                   19132\n",
       "Casual Dining                 10330\n",
       "Cafe                           3732\n",
       "Delivery                       2604\n",
       "Dessert Parlor                 2263\n",
       "                              ...  \n",
       "Bakery, Food Court                2\n",
       "Food Court, Beverage Shop         2\n",
       "Cafe, Food Court                  2\n",
       "Quick Bites, Kiosk                1\n",
       "Sweet Shop, Dessert Parlor        1\n",
       "Name: rest_type, Length: 93, dtype: int64"
      ]
     },
     "execution_count": 15,
     "metadata": {
      "tags": []
     },
     "output_type": "execute_result"
    }
   ],
   "source": [
    "df['rest_type'].value_counts()"
   ]
  },
  {
   "cell_type": "code",
   "execution_count": 16,
   "metadata": {
    "colab": {},
    "colab_type": "code",
    "id": "ns3jEnPiRfex"
   },
   "outputs": [],
   "source": [
    "# Replacing rest_type with top 2 occourings rest_type\n",
    "df['rest_type']=df['rest_type'].fillna('Quick Bites, Casual Dining')"
   ]
  },
  {
   "cell_type": "markdown",
   "metadata": {
    "colab_type": "text",
    "id": "wqvsfZ5gRfe2"
   },
   "source": [
    "<b>Analyzing location column NULL values</b>"
   ]
  },
  {
   "cell_type": "code",
   "execution_count": 17,
   "metadata": {
    "colab": {
     "base_uri": "https://localhost:8080/",
     "height": 221
    },
    "colab_type": "code",
    "id": "k0h3r3GkRfe3",
    "outputId": "16d8ab9a-a66e-45d6-87b4-36d06747a54e"
   },
   "outputs": [
    {
     "data": {
      "text/plain": [
       "BTM                      5124\n",
       "HSR                      2523\n",
       "Koramangala 5th Block    2504\n",
       "JP Nagar                 2235\n",
       "Whitefield               2144\n",
       "                         ... \n",
       "West Bangalore              6\n",
       "Yelahanka                   6\n",
       "Jakkur                      3\n",
       "Rajarajeshwari Nagar        2\n",
       "Peenya                      1\n",
       "Name: location, Length: 93, dtype: int64"
      ]
     },
     "execution_count": 17,
     "metadata": {
      "tags": []
     },
     "output_type": "execute_result"
    }
   ],
   "source": [
    "df['location'].value_counts()"
   ]
  },
  {
   "cell_type": "code",
   "execution_count": 18,
   "metadata": {
    "colab": {
     "base_uri": "https://localhost:8080/",
     "height": 34
    },
    "colab_type": "code",
    "id": "1v2iJOmjRfe9",
    "outputId": "ef55afa6-fe64-4a40-9046-ee10ff93d9ed"
   },
   "outputs": [
    {
     "data": {
      "text/plain": [
       "21"
      ]
     },
     "execution_count": 18,
     "metadata": {
      "tags": []
     },
     "output_type": "execute_result"
    }
   ],
   "source": [
    "df['location'].isnull().values.sum()"
   ]
  },
  {
   "cell_type": "markdown",
   "metadata": {
    "colab_type": "text",
    "id": "yxz_x8n2zSv0"
   },
   "source": [
    "Hence there are only 21 datapoints whose location column is NULL, so lets assign their value as BTM because btm has the maximum no. of restaurants in Bangalore"
   ]
  },
  {
   "cell_type": "code",
   "execution_count": 19,
   "metadata": {
    "colab": {},
    "colab_type": "code",
    "id": "8jNICs0WRffD"
   },
   "outputs": [],
   "source": [
    "df['location']=df['location'].fillna('BTM')"
   ]
  },
  {
   "cell_type": "markdown",
   "metadata": {
    "colab_type": "text",
    "id": "TqLKA_00RffI"
   },
   "source": [
    "#### Cuisnies features"
   ]
  },
  {
   "cell_type": "code",
   "execution_count": 20,
   "metadata": {
    "colab": {
     "base_uri": "https://localhost:8080/",
     "height": 34
    },
    "colab_type": "code",
    "id": "7k-mzVnIRffJ",
    "outputId": "7b5f07ac-c56f-4411-8abb-3b403689e871"
   },
   "outputs": [
    {
     "data": {
      "text/plain": [
       "45"
      ]
     },
     "execution_count": 20,
     "metadata": {
      "tags": []
     },
     "output_type": "execute_result"
    }
   ],
   "source": [
    "df['cuisines'].isnull().values.sum()"
   ]
  },
  {
   "cell_type": "code",
   "execution_count": 21,
   "metadata": {
    "colab": {
     "base_uri": "https://localhost:8080/",
     "height": 221
    },
    "colab_type": "code",
    "id": "-PNpuUwTRfgB",
    "outputId": "bc973587-5086-49d6-9daa-0ccd4ba44faa"
   },
   "outputs": [
    {
     "data": {
      "text/plain": [
       "North Indian                                                  2913\n",
       "North Indian, Chinese                                         2385\n",
       "South Indian                                                  1828\n",
       "Biryani                                                        918\n",
       "Bakery, Desserts                                               911\n",
       "                                                              ... \n",
       "North Indian, South Indian, Chinese, Desserts, Street Food       1\n",
       "Cafe, Burger, Rolls, Beverages                                   1\n",
       "Coffee, Street Food                                              1\n",
       "North Indian, South Indian, Biryani, Fast Food                   1\n",
       "Andhra, North Indian, Biryani, Seafood                           1\n",
       "Name: cuisines, Length: 2723, dtype: int64"
      ]
     },
     "execution_count": 21,
     "metadata": {
      "tags": []
     },
     "output_type": "execute_result"
    }
   ],
   "source": [
    "df['cuisines'].value_counts()"
   ]
  },
  {
   "cell_type": "markdown",
   "metadata": {
    "colab_type": "text",
    "id": "pZNKFtHTzpiD"
   },
   "source": [
    "Replacing NULL values with top 3 cuisines\n"
   ]
  },
  {
   "cell_type": "code",
   "execution_count": 22,
   "metadata": {
    "colab": {},
    "colab_type": "code",
    "id": "hYKDMQreRfgY"
   },
   "outputs": [],
   "source": [
    "df['cuisines']=df['cuisines'].fillna('North Indian, chinese, South Indian')"
   ]
  },
  {
   "cell_type": "markdown",
   "metadata": {
    "colab_type": "text",
    "id": "5ydI9aEJp9td"
   },
   "source": [
    "## Replacing rate column missing values using Model based imputation"
   ]
  },
  {
   "cell_type": "markdown",
   "metadata": {
    "colab_type": "text",
    "id": "AbIL1aE3qmDF"
   },
   "source": [
    "<p> Creating a dataframe having only non null rows</p>"
   ]
  },
  {
   "cell_type": "code",
   "execution_count": 23,
   "metadata": {
    "colab": {
     "base_uri": "https://localhost:8080/",
     "height": 34
    },
    "colab_type": "code",
    "id": "YkVWI6yHqHPT",
    "outputId": "cf87aa1c-5cdb-4c43-9d1e-3c6912214965"
   },
   "outputs": [
    {
     "data": {
      "text/plain": [
       "(41665, 14)"
      ]
     },
     "execution_count": 23,
     "metadata": {
      "tags": []
     },
     "output_type": "execute_result"
    }
   ],
   "source": [
    "vx=df.copy()\n",
    "vx=df[(df['rate'].notnull()) & (df['rate']!='NEW') & (df['rate']!='-') ]\n",
    "vx.shape"
   ]
  },
  {
   "cell_type": "code",
   "execution_count": 24,
   "metadata": {
    "colab": {
     "base_uri": "https://localhost:8080/",
     "height": 139
    },
    "colab_type": "code",
    "id": "XLuCJ48eqHMd",
    "outputId": "1a0ea618-3953-4b4b-bf7c-6a1864d46aae"
   },
   "outputs": [
    {
     "name": "stderr",
     "output_type": "stream",
     "text": [
      "/usr/local/lib/python3.6/dist-packages/ipykernel_launcher.py:1: SettingWithCopyWarning: \n",
      "A value is trying to be set on a copy of a slice from a DataFrame.\n",
      "Try using .loc[row_indexer,col_indexer] = value instead\n",
      "\n",
      "See the caveats in the documentation: https://pandas.pydata.org/pandas-docs/stable/user_guide/indexing.html#returning-a-view-versus-a-copy\n",
      "  \"\"\"Entry point for launching an IPython kernel.\n"
     ]
    }
   ],
   "source": [
    "vx['rate'] = vx['rate'].astype(str).str.replace('/5', '')\n",
    "from sklearn.model_selection import train_test_split\n",
    "y = vx['rate']\n",
    "X = vx.drop(['rate'], axis=1)\n",
    "\n",
    "X_train, X_test, y_train, y_test = train_test_split(X, y, test_size=0.33)"
   ]
  },
  {
   "cell_type": "code",
   "execution_count": 25,
   "metadata": {
    "colab": {},
    "colab_type": "code",
    "id": "1ozWghaQqHIx"
   },
   "outputs": [],
   "source": [
    "from sklearn.feature_extraction.text import CountVectorizer\n",
    "\n",
    "vectorizer = CountVectorizer()\n",
    "vectorizer.fit(X_train['online_order'].values)\n",
    "X_tr_order_ohe = vectorizer.transform(X_train['online_order'].values)\n",
    "X_test_order_ohe = vectorizer.transform(X_test['online_order'].values)\n",
    "\n",
    "\n",
    "vectorizer = CountVectorizer()\n",
    "vectorizer.fit(X_train['book_table'].values)\n",
    "X_tr_book_table = vectorizer.transform(X_train['book_table'].values)\n",
    "X_test_book_table = vectorizer.transform(X_test['book_table'].values)\n",
    "\n",
    "vectorizer = CountVectorizer()\n",
    "vectorizer.fit(X_train['location'].values)\n",
    "X_tr_location = vectorizer.transform(X_train['location'].values)\n",
    "X_test_location = vectorizer.transform(X_test['location'].values)\n",
    "\n",
    "vectorizer = CountVectorizer()\n",
    "vectorizer.fit(X_train['rest_type'].values)\n",
    "X_tr_rest_type = vectorizer.transform(X_train['rest_type'].values)\n",
    "X_test_rest_type = vectorizer.transform(X_test['rest_type'].values)\n",
    "\n",
    "\n",
    "vectorizer = CountVectorizer()\n",
    "vectorizer.fit(X_train['cuisines'].values)\n",
    "X_tr_cuisines\t = vectorizer.transform(X_train['cuisines'].values)\n",
    "X_test_cuisines\t = vectorizer.transform(X_test['cuisines'].values)\n",
    "\n",
    "\n",
    "vectorizer = CountVectorizer()\n",
    "vectorizer.fit(X_train['listed_in(type)'].values)\n",
    "X_tr_listed_in_t = vectorizer.transform(X_train['listed_in(type)'].values)\n",
    "X_test_listed_in_t = vectorizer.transform(X_test['listed_in(type)'].values)\n",
    "\n",
    "vectorizer = CountVectorizer()\n",
    "vectorizer.fit(df['listed_in(city)'].values)\n",
    "X_tr_listed_in_c = vectorizer.transform(X_train['listed_in(city)'].values)\n",
    "X_test_listed_in_c = vectorizer.transform(X_test['listed_in(city)'].values)\n",
    "\n",
    "from sklearn.preprocessing import Normalizer\n",
    "cost_scalar = Normalizer()\n",
    "cost_scalar.fit(X_train['approx_cost(for two people)'].values.reshape(-1,1))\n",
    "cost_standardized_train = cost_scalar.transform(X_train['approx_cost(for two people)'].values.reshape(-1, 1))\n",
    "cost_standardized_test = cost_scalar.transform(X_test['approx_cost(for two people)'].values.reshape(-1, 1))"
   ]
  },
  {
   "cell_type": "code",
   "execution_count": 26,
   "metadata": {
    "colab": {},
    "colab_type": "code",
    "id": "oBTcY4P4qHFf"
   },
   "outputs": [],
   "source": [
    "from scipy.sparse import hstack\n",
    "X_tr = hstack((X_tr_order_ohe,X_tr_book_table,X_tr_location,X_tr_rest_type,X_tr_cuisines,X_tr_listed_in_t,X_tr_listed_in_c,cost_standardized_train)).tocsr()\n",
    "X_test = hstack((X_test_order_ohe,X_test_book_table,X_test_location,X_test_rest_type,X_test_cuisines,X_test_listed_in_t,X_test_listed_in_c,cost_standardized_test)).tocsr()\n"
   ]
  },
  {
   "cell_type": "code",
   "execution_count": 27,
   "metadata": {
    "colab": {},
    "colab_type": "code",
    "id": "WzQ1omWkqHCA"
   },
   "outputs": [],
   "source": [
    "from sklearn.linear_model import LinearRegression\n",
    "lm= LinearRegression().fit(X_tr,y_train)"
   ]
  },
  {
   "cell_type": "markdown",
   "metadata": {
    "colab_type": "text",
    "id": "efCs0mIj1QAS"
   },
   "source": [
    "Now we will create a dataframe that contains all the rows having missing values of rate"
   ]
  },
  {
   "cell_type": "code",
   "execution_count": 28,
   "metadata": {
    "colab": {},
    "colab_type": "code",
    "id": "3Gy7R8VMqG-d"
   },
   "outputs": [],
   "source": [
    "missing_values=df[(df['rate'].isnull()) | (df['rate']=='NEW') | (df['rate']=='-')]"
   ]
  },
  {
   "cell_type": "code",
   "execution_count": 29,
   "metadata": {
    "colab": {},
    "colab_type": "code",
    "id": "Ei7PFOk6qGxQ"
   },
   "outputs": [],
   "source": [
    "vectorizer = CountVectorizer()\n",
    "vectorizer.fit(X_train['online_order'].values)\n",
    "X_order_ohe_missing_values = vectorizer.transform(missing_values['online_order'].values)\n",
    "\n",
    "\n",
    "vectorizer = CountVectorizer()\n",
    "vectorizer.fit(X_train['book_table'].values)\n",
    "X_book_table_missing_values = vectorizer.transform(missing_values['book_table'].values)\n",
    "\n",
    "\n",
    "vectorizer = CountVectorizer()\n",
    "vectorizer.fit(X_train['location'].values)\n",
    "X_location_missing_values = vectorizer.transform(missing_values['location'].values)\n",
    "\n",
    "\n",
    "vectorizer = CountVectorizer()\n",
    "vectorizer.fit(X_train['rest_type'].values)\n",
    "X_rest_type_missing_values = vectorizer.transform(missing_values['rest_type'].values)\n",
    "\n",
    "\n",
    "\n",
    "vectorizer = CountVectorizer()\n",
    "vectorizer.fit(X_train['cuisines'].values)\n",
    "X_cuisines_missing_values = vectorizer.transform(missing_values['cuisines'].values)\n",
    "\n",
    "\n",
    "vectorizer = CountVectorizer()\n",
    "vectorizer.fit(X_train['listed_in(type)'].values)\n",
    "X_listed_in_t_missing_values = vectorizer.transform(missing_values['listed_in(type)'].values)\n",
    "\n",
    "\n",
    "vectorizer = CountVectorizer()\n",
    "vectorizer.fit(X_train['listed_in(city)'].values)\n",
    "X_listed_in_c_missing_values = vectorizer.transform(missing_values['listed_in(city)'].values)\n",
    "\n",
    "\n",
    "cost_scalar = Normalizer()\n",
    "cost_scalar.fit(X_train['approx_cost(for two people)'].values.reshape(-1,1))\n",
    "cost_standardized_train_missing_values = cost_scalar.transform(missing_values['approx_cost(for two people)'].values.reshape(-1, 1))"
   ]
  },
  {
   "cell_type": "code",
   "execution_count": 30,
   "metadata": {
    "colab": {},
    "colab_type": "code",
    "id": "OAkRenK5rwos"
   },
   "outputs": [],
   "source": [
    "X_missing_values = hstack((X_order_ohe_missing_values,X_book_table_missing_values,X_location_missing_values,X_rest_type_missing_values,X_cuisines_missing_values,X_listed_in_t_missing_values,X_listed_in_c_missing_values,cost_standardized_train_missing_values)).tocsr()\n"
   ]
  },
  {
   "cell_type": "code",
   "execution_count": 31,
   "metadata": {
    "colab": {
     "base_uri": "https://localhost:8080/",
     "height": 51
    },
    "colab_type": "code",
    "id": "co1c_h--1mPV",
    "outputId": "044b4364-7ab3-4c86-e35f-dbaf238d8580"
   },
   "outputs": [
    {
     "data": {
      "text/plain": [
       "array([3.47141183, 3.47916387, 3.44998216, ..., 3.60888675, 3.60888675,\n",
       "       3.60888675])"
      ]
     },
     "execution_count": 31,
     "metadata": {
      "tags": []
     },
     "output_type": "execute_result"
    }
   ],
   "source": [
    "lm.predict(X_missing_values)"
   ]
  },
  {
   "cell_type": "code",
   "execution_count": 32,
   "metadata": {
    "colab": {},
    "colab_type": "code",
    "id": "lb3pKIR8rxD4"
   },
   "outputs": [],
   "source": [
    "y=lm.predict(X_missing_values)"
   ]
  },
  {
   "cell_type": "code",
   "execution_count": 33,
   "metadata": {
    "colab": {},
    "colab_type": "code",
    "id": "Kk1IqE-DsCe9"
   },
   "outputs": [],
   "source": [
    "missing_values=missing_values.drop(['rate'],axis=1)\n",
    "missing_values['rate']=y"
   ]
  },
  {
   "cell_type": "code",
   "execution_count": 34,
   "metadata": {
    "colab": {},
    "colab_type": "code",
    "id": "-GPPxb13sCbb"
   },
   "outputs": [],
   "source": [
    "df2=pd.concat([vx,missing_values], axis=0)"
   ]
  },
  {
   "cell_type": "code",
   "execution_count": 35,
   "metadata": {
    "colab": {
     "base_uri": "https://localhost:8080/",
     "height": 272
    },
    "colab_type": "code",
    "id": "fQq7l6HHsCUA",
    "outputId": "ea810908-d57d-40db-c9a1-2762f1a80a9e"
   },
   "outputs": [
    {
     "data": {
      "text/plain": [
       "name                           False\n",
       "online_order                   False\n",
       "book_table                     False\n",
       "rate                           False\n",
       "votes                          False\n",
       "location                       False\n",
       "rest_type                      False\n",
       "dish_liked                      True\n",
       "cuisines                       False\n",
       "approx_cost(for two people)    False\n",
       "reviews_list                   False\n",
       "menu_item                      False\n",
       "listed_in(type)                False\n",
       "listed_in(city)                False\n",
       "dtype: bool"
      ]
     },
     "execution_count": 35,
     "metadata": {
      "tags": []
     },
     "output_type": "execute_result"
    }
   ],
   "source": [
    "df2.isna().any()"
   ]
  },
  {
   "cell_type": "markdown",
   "metadata": {
    "colab_type": "text",
    "id": "QJSVro8fsZMx"
   },
   "source": [
    "Now all the missing values of rate column is replaced using model predicted values"
   ]
  },
  {
   "cell_type": "markdown",
   "metadata": {
    "colab_type": "text",
    "id": "d9DO17YM13Lg"
   },
   "source": [
    "## Model Based imputation for dish_liked"
   ]
  },
  {
   "cell_type": "code",
   "execution_count": 36,
   "metadata": {
    "colab": {},
    "colab_type": "code",
    "id": "E2--Pu-Hsa35"
   },
   "outputs": [],
   "source": [
    "df_no_null = df2[df2['dish_liked'].notnull()]"
   ]
  },
  {
   "cell_type": "code",
   "execution_count": 37,
   "metadata": {
    "colab": {},
    "colab_type": "code",
    "id": "8m7ZzseesayM"
   },
   "outputs": [],
   "source": [
    "df_with_null=df2[df2['dish_liked'].isnull()]"
   ]
  },
  {
   "cell_type": "code",
   "execution_count": 38,
   "metadata": {
    "colab": {},
    "colab_type": "code",
    "id": "-N_RuHIQsasc"
   },
   "outputs": [],
   "source": [
    "y=df_no_null['dish_liked']\n",
    "X=df_no_null.drop(['dish_liked'],axis=1)"
   ]
  },
  {
   "cell_type": "code",
   "execution_count": 39,
   "metadata": {
    "colab": {},
    "colab_type": "code",
    "id": "uEkDYpUCsamK"
   },
   "outputs": [],
   "source": [
    "X_train, X_test, y_train, y_test = train_test_split(X, y, test_size=0.33)"
   ]
  },
  {
   "cell_type": "code",
   "execution_count": 40,
   "metadata": {
    "colab": {},
    "colab_type": "code",
    "id": "c4Y0iWmosae_"
   },
   "outputs": [],
   "source": [
    "from sklearn.feature_extraction.text import CountVectorizer\n",
    "\n",
    "vectorizer = CountVectorizer()\n",
    "vectorizer.fit(X_train['online_order'].values)\n",
    "X_tr_order_ohe = vectorizer.transform(X_train['online_order'].values)\n",
    "X_test_order_ohe = vectorizer.transform(X_test['online_order'].values)\n",
    "\n",
    "\n",
    "vectorizer = CountVectorizer()\n",
    "vectorizer.fit(X_train['book_table'].values)\n",
    "X_tr_book_table = vectorizer.transform(X_train['book_table'].values)\n",
    "X_test_book_table = vectorizer.transform(X_test['book_table'].values)\n",
    "\n",
    "vectorizer = CountVectorizer()\n",
    "vectorizer.fit(X_train['location'].values)\n",
    "X_tr_location = vectorizer.transform(X_train['location'].values)\n",
    "X_test_location = vectorizer.transform(X_test['location'].values)\n",
    "\n",
    "vectorizer = CountVectorizer()\n",
    "vectorizer.fit(X_train['rest_type'].values)\n",
    "X_tr_rest_type = vectorizer.transform(X_train['rest_type'].values)\n",
    "X_test_rest_type = vectorizer.transform(X_test['rest_type'].values)\n",
    "\n",
    "\n",
    "vectorizer = CountVectorizer()\n",
    "vectorizer.fit(X_train['cuisines'].values)\n",
    "X_tr_cuisines\t = vectorizer.transform(X_train['cuisines'].values)\n",
    "X_test_cuisines\t = vectorizer.transform(X_test['cuisines'].values)\n",
    "\n",
    "\n",
    "vectorizer = CountVectorizer()\n",
    "vectorizer.fit(X_train['listed_in(type)'].values)\n",
    "X_tr_listed_in_t = vectorizer.transform(X_train['listed_in(type)'].values)\n",
    "X_test_listed_in_t = vectorizer.transform(X_test['listed_in(type)'].values)\n",
    "\n",
    "vectorizer = CountVectorizer()\n",
    "vectorizer.fit(df['listed_in(city)'].values)\n",
    "X_tr_listed_in_c = vectorizer.transform(X_train['listed_in(city)'].values)\n",
    "X_test_listed_in_c = vectorizer.transform(X_test['listed_in(city)'].values)\n",
    "\n",
    "from sklearn.preprocessing import Normalizer\n",
    "cost_scalar = Normalizer()\n",
    "cost_scalar.fit(X_train['approx_cost(for two people)'].values.reshape(-1,1))\n",
    "cost_standardized_train = cost_scalar.transform(X_train['approx_cost(for two people)'].values.reshape(-1, 1))\n",
    "cost_standardized_test = cost_scalar.transform(X_test['approx_cost(for two people)'].values.reshape(-1, 1))\n",
    "\n",
    "from sklearn.preprocessing import Normalizer\n",
    "rate_scalar = Normalizer()\n",
    "rate_scalar.fit(X_train['rate'].values.reshape(-1,1))\n",
    "rate_standardized_train = rate_scalar.transform(X_train['rate'].values.reshape(-1, 1))\n",
    "rate_standardized_test = rate_scalar.transform(X_test['rate'].values.reshape(-1, 1))"
   ]
  },
  {
   "cell_type": "code",
   "execution_count": 41,
   "metadata": {
    "colab": {},
    "colab_type": "code",
    "id": "2_aBoimZsaY7"
   },
   "outputs": [],
   "source": [
    "from scipy.sparse import hstack\n",
    "X_tr = hstack((X_tr_order_ohe,X_tr_book_table,X_tr_location,X_tr_rest_type,X_tr_cuisines,X_tr_listed_in_t,X_tr_listed_in_c,cost_standardized_train,rate_standardized_train)).tocsr()\n",
    "X_test = hstack((X_test_order_ohe,X_test_book_table,X_test_location,X_test_rest_type,X_test_cuisines,X_test_listed_in_t,X_test_listed_in_c,cost_standardized_test,rate_standardized_test)).tocsr()\n"
   ]
  },
  {
   "cell_type": "code",
   "execution_count": 42,
   "metadata": {
    "colab": {
     "base_uri": "https://localhost:8080/",
     "height": 238
    },
    "colab_type": "code",
    "id": "gdT3mHTvsaSl",
    "outputId": "bc7f23d1-e36a-42ed-9085-97697d2f1401"
   },
   "outputs": [
    {
     "data": {
      "text/plain": [
       "OneVsRestClassifier(estimator=SGDClassifier(alpha=1e-05, average=False,\n",
       "                                            class_weight=None,\n",
       "                                            early_stopping=False, epsilon=0.1,\n",
       "                                            eta0=0.0, fit_intercept=True,\n",
       "                                            l1_ratio=0.15,\n",
       "                                            learning_rate='optimal', loss='log',\n",
       "                                            max_iter=1000, n_iter_no_change=5,\n",
       "                                            n_jobs=None, penalty='l1',\n",
       "                                            power_t=0.5, random_state=None,\n",
       "                                            shuffle=True, tol=0.001,\n",
       "                                            validation_fraction=0.1, verbose=0,\n",
       "                                            warm_start=False),\n",
       "                    n_jobs=-1)"
      ]
     },
     "execution_count": 42,
     "metadata": {
      "tags": []
     },
     "output_type": "execute_result"
    }
   ],
   "source": [
    "from sklearn.multiclass import OneVsRestClassifier\n",
    "from sklearn.linear_model import SGDClassifier\n",
    "\n",
    "classifier = OneVsRestClassifier(SGDClassifier(loss='log', alpha=0.00001, penalty='l1'), n_jobs=-1)\n",
    "classifier.fit(X_tr, y_train)\n",
    "#predictions = classifier.predict(x_test_multilabel)"
   ]
  },
  {
   "cell_type": "code",
   "execution_count": 43,
   "metadata": {
    "colab": {},
    "colab_type": "code",
    "id": "rJT9WYCis5EM"
   },
   "outputs": [],
   "source": [
    "from sklearn.feature_extraction.text import CountVectorizer\n",
    "\n",
    "vectorizer = CountVectorizer()\n",
    "vectorizer.fit(X_train['online_order'].values)\n",
    "X_tr_order_ohe = vectorizer.transform(df_with_null['online_order'].values)\n",
    "# X_test_order_ohe = vectorizer.transform(X_test['online_order'].values)\n",
    "\n",
    "\n",
    "vectorizer = CountVectorizer()\n",
    "vectorizer.fit(X_train['book_table'].values)\n",
    "X_tr_book_table = vectorizer.transform(df_with_null['book_table'].values)\n",
    "# X_test_book_table = vectorizer.transform(X_test['book_table'].values)\n",
    "\n",
    "vectorizer = CountVectorizer()\n",
    "vectorizer.fit(X_train['location'].values)\n",
    "X_tr_location = vectorizer.transform(df_with_null['location'].values)\n",
    "# X_test_location = vectorizer.transform(X_test['location'].values)\n",
    "\n",
    "vectorizer = CountVectorizer()\n",
    "vectorizer.fit(X_train['rest_type'].values)\n",
    "X_tr_rest_type = vectorizer.transform(df_with_null['rest_type'].values)\n",
    "# X_test_rest_type = vectorizer.transform(X_test['rest_type'].values)\n",
    "\n",
    "\n",
    "vectorizer = CountVectorizer()\n",
    "vectorizer.fit(X_train['cuisines'].values)\n",
    "X_tr_cuisines\t = vectorizer.transform(df_with_null['cuisines'].values)\n",
    "# X_test_cuisines\t = vectorizer.transform(X_test['cuisines'].values)\n",
    "\n",
    "\n",
    "vectorizer = CountVectorizer()\n",
    "vectorizer.fit(X_train['listed_in(type)'].values)\n",
    "X_tr_listed_in_t = vectorizer.transform(df_with_null['listed_in(type)'].values)\n",
    "# X_test_listed_in_t = vectorizer.transform(X_test['listed_in(type)'].values)\n",
    "\n",
    "vectorizer = CountVectorizer()\n",
    "vectorizer.fit(df['listed_in(city)'].values)\n",
    "X_tr_listed_in_c = vectorizer.transform(df_with_null['listed_in(city)'].values)\n",
    "# X_test_listed_in_c = vectorizer.transform(X_test['listed_in(city)'].values)\n",
    "\n",
    "from sklearn.preprocessing import Normalizer\n",
    "cost_scalar = Normalizer()\n",
    "cost_scalar.fit(X_train['approx_cost(for two people)'].values.reshape(-1,1))\n",
    "cost_standardized_train = cost_scalar.transform(df_with_null['approx_cost(for two people)'].values.reshape(-1, 1))\n",
    "# cost_standardized_test = cost_scalar.transform(X_test['approx_cost(for two people)'].values.reshape(-1, 1))\n",
    "\n",
    "from sklearn.preprocessing import Normalizer\n",
    "rate_scalar = Normalizer()\n",
    "rate_scalar.fit(X_train['rate'].values.reshape(-1,1))\n",
    "rate_standardized_train = rate_scalar.transform(df_with_null['rate'].values.reshape(-1, 1))\n",
    "# rate_standardized_test = rate_scalar.transform(X_test['rate'].values.reshape(-1, 1))"
   ]
  },
  {
   "cell_type": "code",
   "execution_count": 44,
   "metadata": {
    "colab": {},
    "colab_type": "code",
    "id": "JYIf5HhNtQ8s"
   },
   "outputs": [],
   "source": [
    "X_tr = hstack((X_tr_order_ohe,X_tr_book_table,X_tr_location,X_tr_rest_type,X_tr_cuisines,X_tr_listed_in_t,X_tr_listed_in_c,cost_standardized_train,rate_standardized_train)).tocsr()"
   ]
  },
  {
   "cell_type": "code",
   "execution_count": 45,
   "metadata": {
    "colab": {},
    "colab_type": "code",
    "id": "JbJprayBtQ4f"
   },
   "outputs": [],
   "source": [
    "y=classifier.predict(X_tr)\n",
    "df_with_null=df_with_null.drop(['dish_liked'],axis=1)\n",
    "df_with_null['dish_liked']=y"
   ]
  },
  {
   "cell_type": "code",
   "execution_count": 46,
   "metadata": {
    "colab": {},
    "colab_type": "code",
    "id": "I6Sw-rSVtQyo"
   },
   "outputs": [],
   "source": [
    "df=pd.concat([df_with_null,df_no_null], axis=0)"
   ]
  },
  {
   "cell_type": "code",
   "execution_count": 47,
   "metadata": {
    "colab": {
     "base_uri": "https://localhost:8080/",
     "height": 284
    },
    "colab_type": "code",
    "id": "2XZijGRUtQuU",
    "outputId": "a06a1fb2-ad14-4d65-b069-78a216caaf1a"
   },
   "outputs": [
    {
     "data": {
      "text/html": [
       "<div>\n",
       "<style scoped>\n",
       "    .dataframe tbody tr th:only-of-type {\n",
       "        vertical-align: middle;\n",
       "    }\n",
       "\n",
       "    .dataframe tbody tr th {\n",
       "        vertical-align: top;\n",
       "    }\n",
       "\n",
       "    .dataframe thead th {\n",
       "        text-align: right;\n",
       "    }\n",
       "</style>\n",
       "<table border=\"1\" class=\"dataframe\">\n",
       "  <thead>\n",
       "    <tr style=\"text-align: right;\">\n",
       "      <th></th>\n",
       "      <th>name</th>\n",
       "      <th>online_order</th>\n",
       "      <th>book_table</th>\n",
       "      <th>rate</th>\n",
       "      <th>votes</th>\n",
       "      <th>location</th>\n",
       "      <th>rest_type</th>\n",
       "      <th>cuisines</th>\n",
       "      <th>approx_cost(for two people)</th>\n",
       "      <th>reviews_list</th>\n",
       "      <th>menu_item</th>\n",
       "      <th>listed_in(type)</th>\n",
       "      <th>listed_in(city)</th>\n",
       "      <th>dish_liked</th>\n",
       "    </tr>\n",
       "  </thead>\n",
       "  <tbody>\n",
       "    <tr>\n",
       "      <th>6</th>\n",
       "      <td>Rosewood International Hotel - Bar &amp; Restaurant</td>\n",
       "      <td>No</td>\n",
       "      <td>No</td>\n",
       "      <td>3.6</td>\n",
       "      <td>8</td>\n",
       "      <td>Mysore Road</td>\n",
       "      <td>Casual Dining</td>\n",
       "      <td>North Indian, South Indian, Andhra, Chinese</td>\n",
       "      <td>800.0</td>\n",
       "      <td>[('Rated 5.0', 'RATED\\n  Awesome food ??Great ...</td>\n",
       "      <td>[]</td>\n",
       "      <td>Buffet</td>\n",
       "      <td>Banashankari</td>\n",
       "      <td>Kadhai Paneer, Ghee Rice, Chicken Grill, Shawa...</td>\n",
       "    </tr>\n",
       "    <tr>\n",
       "      <th>19</th>\n",
       "      <td>360 Atoms Restaurant And Cafe</td>\n",
       "      <td>Yes</td>\n",
       "      <td>No</td>\n",
       "      <td>3.1</td>\n",
       "      <td>13</td>\n",
       "      <td>Banashankari</td>\n",
       "      <td>Cafe</td>\n",
       "      <td>Cafe, Chinese, Continental, Italian</td>\n",
       "      <td>400.0</td>\n",
       "      <td>[('Rated 5.0', 'RATED\\n  Friendly staffs , nic...</td>\n",
       "      <td>[]</td>\n",
       "      <td>Cafes</td>\n",
       "      <td>Banashankari</td>\n",
       "      <td>Friendly Staff</td>\n",
       "    </tr>\n",
       "  </tbody>\n",
       "</table>\n",
       "</div>"
      ],
      "text/plain": [
       "                                               name  ...                                         dish_liked\n",
       "6   Rosewood International Hotel - Bar & Restaurant  ...  Kadhai Paneer, Ghee Rice, Chicken Grill, Shawa...\n",
       "19                    360 Atoms Restaurant And Cafe  ...                                     Friendly Staff\n",
       "\n",
       "[2 rows x 14 columns]"
      ]
     },
     "execution_count": 47,
     "metadata": {
      "tags": []
     },
     "output_type": "execute_result"
    }
   ],
   "source": [
    "df.head(2)"
   ]
  },
  {
   "cell_type": "code",
   "execution_count": 48,
   "metadata": {
    "colab": {
     "base_uri": "https://localhost:8080/",
     "height": 272
    },
    "colab_type": "code",
    "id": "tlPykmmrtlab",
    "outputId": "ac94ebd4-81e1-4410-c846-fbe1b75f48b5"
   },
   "outputs": [
    {
     "data": {
      "text/plain": [
       "name                           False\n",
       "online_order                   False\n",
       "book_table                     False\n",
       "rate                           False\n",
       "votes                          False\n",
       "location                       False\n",
       "rest_type                      False\n",
       "cuisines                       False\n",
       "approx_cost(for two people)    False\n",
       "reviews_list                   False\n",
       "menu_item                      False\n",
       "listed_in(type)                False\n",
       "listed_in(city)                False\n",
       "dish_liked                     False\n",
       "dtype: bool"
      ]
     },
     "execution_count": 48,
     "metadata": {
      "tags": []
     },
     "output_type": "execute_result"
    }
   ],
   "source": [
    "df.isna().any()"
   ]
  },
  {
   "cell_type": "markdown",
   "metadata": {
    "colab_type": "text",
    "id": "puRLcd_k3GXw"
   },
   "source": [
    "#### From the above table, we can see that all the null values are replaced "
   ]
  },
  {
   "cell_type": "code",
   "execution_count": 49,
   "metadata": {
    "colab": {},
    "colab_type": "code",
    "id": "4IH-B9AEwjFs"
   },
   "outputs": [],
   "source": [
    "df['rate']=df['rate'].apply(lambda r: float(r))"
   ]
  },
  {
   "cell_type": "code",
   "execution_count": 50,
   "metadata": {
    "colab": {},
    "colab_type": "code",
    "id": "01-K6DiEveQ9"
   },
   "outputs": [],
   "source": [
    "decimals = 1\n",
    "df['rate'] = df['rate'].apply(lambda x: round(x, decimals))"
   ]
  },
  {
   "cell_type": "markdown",
   "metadata": {
    "colab_type": "text",
    "id": "Pn9mxLpERfh8"
   },
   "source": [
    "# Exploratory Data Analysis"
   ]
  },
  {
   "cell_type": "markdown",
   "metadata": {
    "colab_type": "text",
    "id": "8bcItLKqRfh9"
   },
   "source": [
    "## Univariate Analysis"
   ]
  },
  {
   "cell_type": "markdown",
   "metadata": {
    "colab_type": "text",
    "id": "QGw0JLEGRfh9"
   },
   "source": [
    "###### Analysis on location"
   ]
  },
  {
   "cell_type": "code",
   "execution_count": 51,
   "metadata": {
    "colab": {
     "base_uri": "https://localhost:8080/",
     "height": 544
    },
    "colab_type": "code",
    "id": "KuZ2h4mmRfh-",
    "outputId": "5fe05f8b-d560-4e0c-cfd6-848566b5f872"
   },
   "outputs": [
    {
     "data": {
      "text/plain": [
       "BTM                      3279\n",
       "Koramangala 7th Block    2938\n",
       "Koramangala 5th Block    2836\n",
       "Koramangala 4th Block    2779\n",
       "Koramangala 6th Block    2623\n",
       "Jayanagar                2371\n",
       "JP Nagar                 2096\n",
       "Indiranagar              1860\n",
       "Church Street            1827\n",
       "MG Road                  1811\n",
       "Brigade Road             1769\n",
       "Lavelle Road             1744\n",
       "HSR                      1741\n",
       "Marathahalli             1659\n",
       "Whitefield               1620\n",
       "Residency Road           1620\n",
       "Bannerghatta Road        1617\n",
       "Brookefield              1518\n",
       "Old Airport Road         1425\n",
       "Kammanahalli             1329\n",
       "Kalyan Nagar             1309\n",
       "Basavanagudi             1266\n",
       "Sarjapur Road            1261\n",
       "Electronic City          1229\n",
       "Bellandur                1227\n",
       "Frazer Town              1185\n",
       "Malleshwaram             1096\n",
       "Rajajinagar              1079\n",
       "Banashankari              863\n",
       "New BEL Road              740\n",
       "Name: listed_in(city), dtype: int64"
      ]
     },
     "execution_count": 51,
     "metadata": {
      "tags": []
     },
     "output_type": "execute_result"
    }
   ],
   "source": [
    "df['listed_in(city)'].value_counts()"
   ]
  },
  {
   "cell_type": "code",
   "execution_count": 52,
   "metadata": {
    "colab": {
     "base_uri": "https://localhost:8080/",
     "height": 482
    },
    "colab_type": "code",
    "id": "jV-uRI_VRfiN",
    "outputId": "b937dca8-40fa-4d35-a7ba-3c616f2a5379"
   },
   "outputs": [
    {
     "data": {
      "image/png": "[encoded data removed]",
      "text/plain": [
       "<Figure size 720x576 with 1 Axes>"
      ]
     },
     "metadata": {
      "tags": []
     },
     "output_type": "display_data"
    }
   ],
   "source": [
    "import matplotlib. pyplot as plt\n",
    "plt.figure(figsize=(10,8))\n",
    "x = df.location.value_counts()[:15]\n",
    "y = df['location'].value_counts()[:15].index\n",
    "plt.pie(x, labels=y, autopct='%.2f')\n",
    "plt.title('Distribution of restaurants among various locations')\n",
    "plt.show()"
   ]
  },
  {
   "cell_type": "code",
   "execution_count": 53,
   "metadata": {
    "colab": {
     "base_uri": "https://localhost:8080/",
     "height": 418
    },
    "colab_type": "code",
    "id": "8z6dH2TqRfiS",
    "outputId": "950e6f28-904b-438d-89f2-d74b5bfad5a4"
   },
   "outputs": [
    {
     "data": {
      "text/plain": [
       "Text(0, 0.5, 'Number of Restaurant')"
      ]
     },
     "execution_count": 53,
     "metadata": {
      "tags": []
     },
     "output_type": "execute_result"
    },
    {
     "data": {
      "image/png": "[encoded data removed]",
      "text/plain": [
       "<Figure size 1080x288 with 1 Axes>"
      ]
     },
     "metadata": {
      "needs_background": "light",
      "tags": []
     },
     "output_type": "display_data"
    }
   ],
   "source": [
    "plt.figure(figsize=(15,4))\n",
    "k =df['listed_in(city)'].value_counts()\n",
    "k.plot(kind='bar')\n",
    "plt.title('Number of Restaurants in different locations in bangalore')\n",
    "plt.xlabel('Location')\n",
    "plt.ylabel('Number of Restaurant')\n",
    "\n"
   ]
  },
  {
   "cell_type": "markdown",
   "metadata": {
    "colab_type": "text",
    "id": "-pdgnJErRfid"
   },
   "source": [
    "<b>Conclusion</b>- There is a variation in restaurants as per the locations. BTM has the highest number of the restaurants in Bangalore that 3108 restarants. New BEL Road contains the least number of resturants followed by banashankari. Btm has 17.24% of the total restaurants in bangalore"
   ]
  },
  {
   "cell_type": "markdown",
   "metadata": {
    "colab_type": "text",
    "id": "RoKl53-CRfih"
   },
   "source": [
    "###### Analysis on online order"
   ]
  },
  {
   "cell_type": "code",
   "execution_count": 54,
   "metadata": {
    "colab": {
     "base_uri": "https://localhost:8080/",
     "height": 68
    },
    "colab_type": "code",
    "id": "V4dD129DRfii",
    "outputId": "492715fc-ccca-420e-f2f9-ed07529b2d54"
   },
   "outputs": [
    {
     "data": {
      "text/plain": [
       "Yes    30444\n",
       "No     21273\n",
       "Name: online_order, dtype: int64"
      ]
     },
     "execution_count": 54,
     "metadata": {
      "tags": []
     },
     "output_type": "execute_result"
    }
   ],
   "source": [
    "df.online_order.value_counts()"
   ]
  },
  {
   "cell_type": "code",
   "execution_count": 55,
   "metadata": {
    "colab": {
     "base_uri": "https://localhost:8080/",
     "height": 373
    },
    "colab_type": "code",
    "id": "WCndw6JsRfiq",
    "outputId": "c178c8be-0706-4876-de38-2b0dcf13298a"
   },
   "outputs": [
    {
     "data": {
      "text/plain": [
       "Text(0, 0.5, 'counts')"
      ]
     },
     "execution_count": 55,
     "metadata": {
      "tags": []
     },
     "output_type": "execute_result"
    },
    {
     "data": {
      "image/png": "[encoded data removed]",
      "text/plain": [
       "<Figure size 720x360 with 1 Axes>"
      ]
     },
     "metadata": {
      "needs_background": "light",
      "tags": []
     },
     "output_type": "display_data"
    }
   ],
   "source": [
    "plt.figure(figsize=(10,5))\n",
    "k =df['online_order'].value_counts()\n",
    "k.plot(kind='bar')\n",
    "plt.title('Number of Restaurants that accepts online orders')\n",
    "plt.xlabel('online orders')\n",
    "plt.ylabel('counts')"
   ]
  },
  {
   "cell_type": "code",
   "execution_count": 56,
   "metadata": {
    "colab": {
     "base_uri": "https://localhost:8080/",
     "height": 482
    },
    "colab_type": "code",
    "id": "5tCyZQfCRfiz",
    "outputId": "25b62161-6632-4bfb-8c30-54552ab942d1"
   },
   "outputs": [
    {
     "data": {
      "image/png": "[encoded data removed]",
      "text/plain": [
       "<Figure size 720x576 with 1 Axes>"
      ]
     },
     "metadata": {
      "tags": []
     },
     "output_type": "display_data"
    }
   ],
   "source": [
    "import matplotlib. pyplot as plt\n",
    "plt.figure(figsize=(10,8))\n",
    "x = df.online_order.value_counts()[:15]\n",
    "y = df['online_order'].value_counts()[:15].index\n",
    "plt.pie(x, labels=y, autopct='%.2f')\n",
    "plt.title('Oinline orders')\n",
    "plt.show()"
   ]
  },
  {
   "cell_type": "markdown",
   "metadata": {
    "colab_type": "text",
    "id": "30317rnnRfi6"
   },
   "source": [
    "<b>Conclusion</b>- Number of restaurants that allows online order are more than those restaurants who don't allows online order. There are 29342 restaurants in bangalore which are accpeting the online orders and 20098 restaurants which don't accepts the online order. There are 59.65% of restaurants that allows online ordering"
   ]
  },
  {
   "cell_type": "markdown",
   "metadata": {
    "colab_type": "text",
    "id": "q1n8Zo7QRfi8"
   },
   "source": [
    "###### Analysis on ratings "
   ]
  },
  {
   "cell_type": "code",
   "execution_count": 57,
   "metadata": {
    "colab": {
     "base_uri": "https://localhost:8080/",
     "height": 561
    },
    "colab_type": "code",
    "id": "WzfTe5xRRfi8",
    "outputId": "c6e712e7-91c3-4bd2-d7fc-1b49a57e6d58"
   },
   "outputs": [
    {
     "data": {
      "text/plain": [
       "3.5    5474\n",
       "3.6    5135\n",
       "3.7    4821\n",
       "3.4    4711\n",
       "3.8    4367\n",
       "3.9    4180\n",
       "3.3    3438\n",
       "4.0    3321\n",
       "4.1    2984\n",
       "4.2    2198\n",
       "3.2    2079\n",
       "4.3    1707\n",
       "3.1    1613\n",
       "4.4    1147\n",
       "3.0    1036\n",
       "2.9     802\n",
       "4.5     656\n",
       "2.8     600\n",
       "2.7     307\n",
       "4.6     302\n",
       "2.6     260\n",
       "4.7     170\n",
       "2.5     101\n",
       "2.4      70\n",
       "4.8      66\n",
       "4.9      55\n",
       "2.3      51\n",
       "2.2      26\n",
       "2.1      24\n",
       "2.0      11\n",
       "1.8       5\n",
       "Name: rate, dtype: int64"
      ]
     },
     "execution_count": 57,
     "metadata": {
      "tags": []
     },
     "output_type": "execute_result"
    }
   ],
   "source": [
    "df['rate'].value_counts()"
   ]
  },
  {
   "cell_type": "code",
   "execution_count": 58,
   "metadata": {
    "colab": {
     "base_uri": "https://localhost:8080/",
     "height": 299
    },
    "colab_type": "code",
    "id": "1wSrD-DDRfjC",
    "outputId": "c5711b3f-67cd-469c-a367-d2df5817f01b"
   },
   "outputs": [
    {
     "data": {
      "text/plain": [
       "Text(0, 0.5, 'No of Restaurants')"
      ]
     },
     "execution_count": 58,
     "metadata": {
      "tags": []
     },
     "output_type": "execute_result"
    },
    {
     "data": {
      "image/png": "[encoded data removed]",
      "text/plain": [
       "<Figure size 432x288 with 1 Axes>"
      ]
     },
     "metadata": {
      "needs_background": "light",
      "tags": []
     },
     "output_type": "display_data"
    }
   ],
   "source": [
    "df['rate'] = df['rate'].apply(lambda r: float(r)) \n",
    "df['rate'].hist(color='blue')\n",
    "plt.xlabel('Rating')\n",
    "plt.ylabel('No of Restaurants')"
   ]
  },
  {
   "cell_type": "code",
   "execution_count": 59,
   "metadata": {
    "colab": {
     "base_uri": "https://localhost:8080/",
     "height": 68
    },
    "colab_type": "code",
    "id": "tSgm72hcRfjK",
    "outputId": "38abf08b-e58a-4776-9b64-79342f2dce6d"
   },
   "outputs": [
    {
     "name": "stdout",
     "output_type": "stream",
     "text": [
      "1.8\n",
      "4.9\n",
      "3.6652106657383716\n"
     ]
    }
   ],
   "source": [
    "print(df['rate'].min())\n",
    "print(df['rate'].max())\n",
    "print(df['rate'].mean())"
   ]
  },
  {
   "cell_type": "markdown",
   "metadata": {
    "colab_type": "text",
    "id": "dxX8koFLRfjR"
   },
   "source": [
    "<b>Conclusion-</b> Majority of restaurants has ratings between 3.6 to 3.9. 15% of the restaurnts have an approx rating of 3.7 . Minimum rating for the restaurants is 1.8 . There is not even a single restaurant in bangalore where rating is equal to 5."
   ]
  },
  {
   "cell_type": "markdown",
   "metadata": {
    "colab_type": "text",
    "id": "Ru8g0m7ORfjT"
   },
   "source": [
    "###### How many stores are there for each restaurants"
   ]
  },
  {
   "cell_type": "code",
   "execution_count": 60,
   "metadata": {
    "colab": {
     "base_uri": "https://localhost:8080/",
     "height": 221
    },
    "colab_type": "code",
    "id": "EdHVNGFaRfjT",
    "outputId": "14de19de-b59c-4eb2-8847-2e65347cc30e"
   },
   "outputs": [
    {
     "data": {
      "text/plain": [
       "Cafe Coffee Day                           96\n",
       "Onesta                                    85\n",
       "Just Bake                                 73\n",
       "Empire Restaurant                         71\n",
       "Five Star Chicken                         70\n",
       "                                          ..\n",
       "Pepperwood 2                               1\n",
       "Madurai Idli Dosa Shop                     1\n",
       "Hotel New Grand                            1\n",
       "S-Cafe                                     1\n",
       "Republic Of Noodles - Lemon Tree Hotel     1\n",
       "Name: name, Length: 8792, dtype: int64"
      ]
     },
     "execution_count": 60,
     "metadata": {
      "tags": []
     },
     "output_type": "execute_result"
    }
   ],
   "source": [
    "df['name'].value_counts()"
   ]
  },
  {
   "cell_type": "code",
   "execution_count": 61,
   "metadata": {
    "colab": {
     "base_uri": "https://localhost:8080/",
     "height": 221
    },
    "colab_type": "code",
    "id": "StMX7PCyRfjb",
    "outputId": "449e8f0b-32f5-4a0e-d86e-4a16db4a6312"
   },
   "outputs": [
    {
     "data": {
      "text/plain": [
       "Cafe Coffee Day                           96\n",
       "Onesta                                    85\n",
       "Just Bake                                 73\n",
       "Empire Restaurant                         71\n",
       "Five Star Chicken                         70\n",
       "                                          ..\n",
       "Pepperwood 2                               1\n",
       "Madurai Idli Dosa Shop                     1\n",
       "Hotel New Grand                            1\n",
       "S-Cafe                                     1\n",
       "Republic Of Noodles - Lemon Tree Hotel     1\n",
       "Name: name, Length: 8792, dtype: int64"
      ]
     },
     "execution_count": 61,
     "metadata": {
      "tags": []
     },
     "output_type": "execute_result"
    }
   ],
   "source": [
    "df['name'].value_counts()"
   ]
  },
  {
   "cell_type": "code",
   "execution_count": 62,
   "metadata": {
    "colab": {
     "base_uri": "https://localhost:8080/",
     "height": 482
    },
    "colab_type": "code",
    "id": "O2wCFP7jRfjk",
    "outputId": "0cafd99e-3a3d-40d5-e5cc-315fb0c3ab0b"
   },
   "outputs": [
    {
     "data": {
      "image/png": "[encoded data removed]",
      "text/plain": [
       "<Figure size 720x576 with 1 Axes>"
      ]
     },
     "metadata": {
      "tags": []
     },
     "output_type": "display_data"
    }
   ],
   "source": [
    "import matplotlib. pyplot as plt\n",
    "plt.figure(figsize=(10,8))\n",
    "x = df.name.value_counts()[:15]\n",
    "y = df['name'].value_counts()[:15].index\n",
    "plt.pie(x, labels=y, autopct='%.2f')\n",
    "plt.title('Percentage of stores')\n",
    "plt.show()"
   ]
  },
  {
   "cell_type": "code",
   "execution_count": 63,
   "metadata": {
    "colab": {
     "base_uri": "https://localhost:8080/",
     "height": 721
    },
    "colab_type": "code",
    "id": "sr3IWsS-Rfjs",
    "outputId": "926708fa-a0c2-4cfa-d715-afe6513d0cb8"
   },
   "outputs": [
    {
     "data": {
      "text/plain": [
       "Text(0.5, 1.0, 'Number of stores for each restautant')"
      ]
     },
     "execution_count": 63,
     "metadata": {
      "tags": []
     },
     "output_type": "execute_result"
    },
    {
     "data": {
      "image/png": "[encoded data removed]",
      "text/plain": [
       "<Figure size 1080x720 with 1 Axes>"
      ]
     },
     "metadata": {
      "needs_background": "light",
      "tags": []
     },
     "output_type": "display_data"
    }
   ],
   "source": [
    "plt.figure(figsize = (15,10))\n",
    "k = df.name.value_counts()[:20]\n",
    "k.plot(kind = 'bar')\n",
    "plt.xlabel(\"Name of Restaurant\")\n",
    "plt.ylabel(\"Numbe of stores\")\n",
    "plt.title(\"Number of stores for each restautant\")"
   ]
  },
  {
   "cell_type": "markdown",
   "metadata": {
    "colab_type": "text",
    "id": "N5Se4ezbRfj8"
   },
   "source": [
    "<b>Conclusion-</b> There is a variation in the number of stores in bangalore. CCD has maximum number of stores in bangalore followed by onesta and just bake. There are various restaurants that are having only 1 stores such as SV Juice Corner Tiffun, Brown box etc. The total no. of stores of CCD comprosed of 9.26 % of the entire stores present in bangalore "
   ]
  },
  {
   "cell_type": "markdown",
   "metadata": {
    "colab_type": "text",
    "id": "qoc_eay1Rfj9"
   },
   "source": [
    "##### Restaurants allows booking of tables"
   ]
  },
  {
   "cell_type": "code",
   "execution_count": 64,
   "metadata": {
    "colab": {
     "base_uri": "https://localhost:8080/",
     "height": 68
    },
    "colab_type": "code",
    "id": "gcTzD1IXRfkA",
    "outputId": "83ddea74-3065-4f6c-824e-71bf589edbf9"
   },
   "outputs": [
    {
     "data": {
      "text/plain": [
       "No     45268\n",
       "Yes     6449\n",
       "Name: book_table, dtype: int64"
      ]
     },
     "execution_count": 64,
     "metadata": {
      "tags": []
     },
     "output_type": "execute_result"
    }
   ],
   "source": [
    "df['book_table'].value_counts()"
   ]
  },
  {
   "cell_type": "code",
   "execution_count": 65,
   "metadata": {
    "colab": {
     "base_uri": "https://localhost:8080/",
     "height": 373
    },
    "colab_type": "code",
    "id": "J4bV1BcCRfkI",
    "outputId": "33df08d8-bdcc-40be-a99e-03748b138ecc"
   },
   "outputs": [
    {
     "data": {
      "text/plain": [
       "Text(0.5, 0, 'Booking table')"
      ]
     },
     "execution_count": 65,
     "metadata": {
      "tags": []
     },
     "output_type": "execute_result"
    },
    {
     "data": {
      "image/png": "[encoded data removed]",
      "text/plain": [
       "<Figure size 720x360 with 1 Axes>"
      ]
     },
     "metadata": {
      "needs_background": "light",
      "tags": []
     },
     "output_type": "display_data"
    }
   ],
   "source": [
    "plt.figure(figsize=(10,5))\n",
    "k =df['book_table'].value_counts()\n",
    "k.plot(kind='bar')\n",
    "plt.title('Number of Restaurants allow booking of tables')\n",
    "plt.ylabel('Number of restaurants')\n",
    "plt.xlabel('Booking table')"
   ]
  },
  {
   "cell_type": "code",
   "execution_count": 66,
   "metadata": {
    "colab": {
     "base_uri": "https://localhost:8080/",
     "height": 482
    },
    "colab_type": "code",
    "id": "hhYKcuDZg0DQ",
    "outputId": "f93d61e8-8694-4393-d500-b845310aef02"
   },
   "outputs": [
    {
     "data": {
      "image/png": "[encoded data removed]",
      "text/plain": [
       "<Figure size 720x576 with 1 Axes>"
      ]
     },
     "metadata": {
      "tags": []
     },
     "output_type": "display_data"
    }
   ],
   "source": [
    "import matplotlib. pyplot as plt\n",
    "plt.figure(figsize=(10,8))\n",
    "x = df.book_table.value_counts()\n",
    "y = df['book_table'].value_counts().index\n",
    "plt.pie(x, labels=y, autopct='%.2f')\n",
    "plt.title('Oinline orders')\n",
    "plt.show()"
   ]
  },
  {
   "cell_type": "markdown",
   "metadata": {
    "colab_type": "text",
    "id": "uYEs5wxqRfkX"
   },
   "source": [
    "<b>Conclusion</b>- There are 43120 restaurants that are accepting the booking of table and 6320 restarants that are not accepting the booking of table. Majority of restaurants may be street food type restaurant as it is not allowing booking of table. 87.22% of the restaurants are not allowing the booking of tables"
   ]
  },
  {
   "cell_type": "markdown",
   "metadata": {
    "colab_type": "text",
    "id": "sgVo5mGdRfkY"
   },
   "source": [
    "#### Types of cuisines sold by most of the restaurants"
   ]
  },
  {
   "cell_type": "code",
   "execution_count": 67,
   "metadata": {
    "colab": {
     "base_uri": "https://localhost:8080/",
     "height": 419
    },
    "colab_type": "code",
    "id": "aeTidjNzRfka",
    "outputId": "7cf79750-2368-4a58-8965-bf1a502c29ea"
   },
   "outputs": [
    {
     "data": {
      "text/plain": [
       "Text(0, 0.5, 'Number of restaurants where this cuisine is available')"
      ]
     },
     "execution_count": 67,
     "metadata": {
      "tags": []
     },
     "output_type": "execute_result"
    },
    {
     "data": {
      "image/png": "[encoded data removed]",
      "text/plain": [
       "<Figure size 720x360 with 1 Axes>"
      ]
     },
     "metadata": {
      "needs_background": "light",
      "tags": []
     },
     "output_type": "display_data"
    }
   ],
   "source": [
    "total=[]\n",
    "k = df[df['cuisines'].notnull()]\n",
    "k['cuisines'] = k['cuisines'].apply(lambda x:x.lower().strip())\n",
    "for i in k['cuisines']:\n",
    "    for j in i.split(','):\n",
    "        j = j.strip()\n",
    "        total.append(j)\n",
    "plt.figure(figsize=(10,5)) \n",
    "a=pd.Series(total).value_counts()[:5]\n",
    "a.plot(kind='bar')\n",
    "plt.title('Types of cuisines sold by most of the restaurants')\n",
    "plt.xlabel('cuisines type')\n",
    "plt.ylabel('Number of restaurants where this cuisine is available')"
   ]
  },
  {
   "cell_type": "markdown",
   "metadata": {
    "colab_type": "text",
    "id": "qraxanxoRfkj"
   },
   "source": [
    "<b>Conclusion</b> - North indian and chinese are the two most sold cusines in bangalore. Number of restaurants where north indian cuisine is available is close to 20,000 and number of restaurants where chinese food is available is close to 14,000."
   ]
  },
  {
   "cell_type": "markdown",
   "metadata": {
    "colab_type": "text",
    "id": "5hc6O-1WRfkk"
   },
   "source": [
    "#### Items liked by peoples in Bangalore"
   ]
  },
  {
   "cell_type": "code",
   "execution_count": 68,
   "metadata": {
    "colab": {
     "base_uri": "https://localhost:8080/",
     "height": 34
    },
    "colab_type": "code",
    "id": "JW-BPg3PRfkl",
    "outputId": "41fa0f45-84c1-489e-e891-f41fb9e9fc15"
   },
   "outputs": [
    {
     "data": {
      "text/plain": [
       "5271"
      ]
     },
     "execution_count": 68,
     "metadata": {
      "tags": []
     },
     "output_type": "execute_result"
    }
   ],
   "source": [
    "df['dish_liked'].nunique()"
   ]
  },
  {
   "cell_type": "code",
   "execution_count": 69,
   "metadata": {
    "colab": {
     "base_uri": "https://localhost:8080/",
     "height": 487
    },
    "colab_type": "code",
    "id": "xgrCSUs_Rfkz",
    "outputId": "378a9fd3-30c5-49cb-d3cd-1831c55199c1"
   },
   "outputs": [
    {
     "data": {
      "text/plain": [
       "Text(0, 0.5, 'Count')"
      ]
     },
     "execution_count": 69,
     "metadata": {
      "tags": []
     },
     "output_type": "execute_result"
    },
    {
     "data": {
      "image/png": "[encoded data removed]",
      "text/plain": [
       "<Figure size 864x432 with 1 Axes>"
      ]
     },
     "metadata": {
      "needs_background": "light",
      "tags": []
     },
     "output_type": "display_data"
    }
   ],
   "source": [
    "dishes_data = df[df.dish_liked.notnull()]\n",
    "dishes_data.dish_liked = dishes_data.dish_liked.apply(lambda x:x.lower().strip())\n",
    "dish_count = []\n",
    "for i in dishes_data.dish_liked:\n",
    "    for t in i.split(','):\n",
    "        t = t.strip() # remove the white spaces to get accurate results\n",
    "        dish_count.append(t)\n",
    "plt.figure(figsize=(12,6)) \n",
    "pd.Series(dish_count).value_counts()[0:10].plot(kind='bar',color= 'c')\n",
    "plt.title('Top 10 dished_liked in Bangalore',weight='bold')\n",
    "plt.xlabel('Dish')\n",
    "plt.ylabel('Count')"
   ]
  },
  {
   "cell_type": "code",
   "execution_count": 69,
   "metadata": {
    "colab": {},
    "colab_type": "code",
    "id": "4jPTg9o1b7yB"
   },
   "outputs": [],
   "source": []
  },
  {
   "cell_type": "markdown",
   "metadata": {
    "colab_type": "text",
    "id": "LOdu62AVRfk5"
   },
   "source": [
    "<b>Conclusion</b>- Biryani is the most liked dish by the peoples of bangalore. There are around 12000 restaunts where biryani is one of the mpst famous recipe. Chicken is the second most famous dish liked in bangalore"
   ]
  },
  {
   "cell_type": "markdown",
   "metadata": {
    "colab_type": "text",
    "id": "s2LMQa4-Rfk5"
   },
   "source": [
    "###### Analysis on cost of dining"
   ]
  },
  {
   "cell_type": "code",
   "execution_count": 70,
   "metadata": {
    "colab": {
     "base_uri": "https://localhost:8080/",
     "height": 221
    },
    "colab_type": "code",
    "id": "E8XVIIbzRfk6",
    "outputId": "4f0f7de6-d298-4258-ea48-a45324d684dd"
   },
   "outputs": [
    {
     "data": {
      "text/plain": [
       "6        800.0\n",
       "19       400.0\n",
       "22       900.0\n",
       "24       300.0\n",
       "25       600.0\n",
       "         ...  \n",
       "50032    250.0\n",
       "50050    200.0\n",
       "50135    650.0\n",
       "50571    500.0\n",
       "51386    500.0\n",
       "Name: approx_cost(for two people), Length: 51717, dtype: float64"
      ]
     },
     "execution_count": 70,
     "metadata": {
      "tags": []
     },
     "output_type": "execute_result"
    }
   ],
   "source": [
    "df['approx_cost(for two people)']"
   ]
  },
  {
   "cell_type": "code",
   "execution_count": 71,
   "metadata": {
    "colab": {
     "base_uri": "https://localhost:8080/",
     "height": 34
    },
    "colab_type": "code",
    "id": "wiX3n-bSRflG",
    "outputId": "2c0eeb4f-33c1-450e-871f-5627090ee139"
   },
   "outputs": [
    {
     "data": {
      "text/plain": [
       "6000.0"
      ]
     },
     "execution_count": 71,
     "metadata": {
      "tags": []
     },
     "output_type": "execute_result"
    }
   ],
   "source": [
    "df['approx_cost(for two people)'].max()"
   ]
  },
  {
   "cell_type": "code",
   "execution_count": 72,
   "metadata": {
    "colab": {
     "base_uri": "https://localhost:8080/",
     "height": 350
    },
    "colab_type": "code",
    "id": "TwGhexZbRflK",
    "outputId": "10813577-d856-4d22-c8f2-1da329c8b5e6"
   },
   "outputs": [
    {
     "name": "stdout",
     "output_type": "stream",
     "text": [
      "[7.36798345e-01 1.90285593e-01 5.24779086e-02 1.18336330e-02\n",
      " 7.07697662e-03 7.73440068e-04 6.57424058e-04 3.86720034e-05\n",
      " 1.93360017e-05 3.86720034e-05]\n",
      "[  40.  636. 1232. 1828. 2424. 3020. 3616. 4212. 4808. 5404. 6000.]\n"
     ]
    },
    {
     "data": {
      "text/plain": [
       "[<matplotlib.lines.Line2D at 0x7eff23b1e320>]"
      ]
     },
     "execution_count": 72,
     "metadata": {
      "tags": []
     },
     "output_type": "execute_result"
    },
    {
     "data": {
      "image/png": "[encoded data removed]",
      "text/plain": [
       "<Figure size 432x288 with 1 Axes>"
      ]
     },
     "metadata": {
      "needs_background": "light",
      "tags": []
     },
     "output_type": "display_data"
    }
   ],
   "source": [
    "counts, bin_edges = np.histogram(df['approx_cost(for two people)'], bins=10, \n",
    "                                 density = True)\n",
    "pdf = counts/(sum(counts))\n",
    "print(pdf);\n",
    "print(bin_edges)\n",
    "\n",
    "#compute CDF\n",
    "cdf = np.cumsum(pdf)\n",
    "plt.plot(bin_edges[1:],pdf)\n",
    "plt.plot(bin_edges[1:], cdf)"
   ]
  },
  {
   "cell_type": "code",
   "execution_count": 73,
   "metadata": {
    "colab": {
     "base_uri": "https://localhost:8080/",
     "height": 301
    },
    "colab_type": "code",
    "id": "bV0w1X5gRflP",
    "outputId": "851806f4-0896-41af-e519-a1866e066666"
   },
   "outputs": [
    {
     "data": {
      "text/plain": [
       "Text(0, 0.5, 'No of Restaurants')"
      ]
     },
     "execution_count": 73,
     "metadata": {
      "tags": []
     },
     "output_type": "execute_result"
    },
    {
     "data": {
      "image/png": "[encoded data removed]",
      "text/plain": [
       "<Figure size 432x288 with 1 Axes>"
      ]
     },
     "metadata": {
      "needs_background": "light",
      "tags": []
     },
     "output_type": "display_data"
    }
   ],
   "source": [
    "df['approx_cost(for two people)'] = df['approx_cost(for two people)'].apply(lambda r: float(r))\n",
    "import matplotlib.pyplot as plt\n",
    "df['approx_cost(for two people)'].hist(color=\"blue\")\n",
    "plt.xlabel('approx_cost(for two people)')\n",
    "plt.ylabel('No of Restaurants')"
   ]
  },
  {
   "cell_type": "code",
   "execution_count": 74,
   "metadata": {
    "colab": {
     "base_uri": "https://localhost:8080/",
     "height": 34
    },
    "colab_type": "code",
    "id": "rYiIU3WbRflU",
    "outputId": "02e050b3-edb5-49c9-a31d-d09cbc78f6b9"
   },
   "outputs": [
    {
     "data": {
      "text/plain": [
       "555.4315664479955"
      ]
     },
     "execution_count": 74,
     "metadata": {
      "tags": []
     },
     "output_type": "execute_result"
    }
   ],
   "source": [
    "df['approx_cost(for two people)'].mean()"
   ]
  },
  {
   "cell_type": "markdown",
   "metadata": {
    "colab_type": "text",
    "id": "d2-H5H93RflY"
   },
   "source": [
    "<b>Conclusion</b>- Majority of restaurants in bangalore has average cost for 2 person is 561. The minimum cost for the dining is 40 and maximum cost is 6000. It concludes that there are all sorts of food at different prices are available in bangalore"
   ]
  },
  {
   "cell_type": "markdown",
   "metadata": {
    "colab_type": "text",
    "id": "qWF1U-jFRflY"
   },
   "source": [
    "<b> Votes</b>"
   ]
  },
  {
   "cell_type": "code",
   "execution_count": 75,
   "metadata": {
    "colab": {
     "base_uri": "https://localhost:8080/",
     "height": 296
    },
    "colab_type": "code",
    "id": "OAa-2w2wRflZ",
    "outputId": "4d898c05-c252-44ee-814e-d25b1e05085a"
   },
   "outputs": [
    {
     "data": {
      "text/plain": [
       "Text(0, 0.5, 'No of Restaurants')"
      ]
     },
     "execution_count": 75,
     "metadata": {
      "tags": []
     },
     "output_type": "execute_result"
    },
    {
     "data": {
      "image/png": "[encoded data removed]",
      "text/plain": [
       "<Figure size 432x288 with 1 Axes>"
      ]
     },
     "metadata": {
      "needs_background": "light",
      "tags": []
     },
     "output_type": "display_data"
    }
   ],
   "source": [
    "import matplotlib.pyplot as plt\n",
    "df['votes'].hist(color=\"blue\")\n",
    "plt.xlabel('votes')\n",
    "plt.ylabel('No of Restaurants')"
   ]
  },
  {
   "cell_type": "code",
   "execution_count": 76,
   "metadata": {
    "colab": {
     "base_uri": "https://localhost:8080/",
     "height": 367
    },
    "colab_type": "code",
    "id": "hXLUbnxCRfle",
    "outputId": "b4aefbf7-8420-4145-d746-f4257169e976"
   },
   "outputs": [
    {
     "name": "stdout",
     "output_type": "stream",
     "text": [
      "[9.58794980e-01 2.80372025e-02 8.75920877e-03 1.19883211e-03\n",
      " 1.93360017e-03 5.41408048e-04 2.51368022e-04 3.86720034e-05\n",
      " 3.28712029e-04 1.16016010e-04]\n",
      "[    0.   1683.2  3366.4  5049.6  6732.8  8416.  10099.2 11782.4 13465.6\n",
      " 15148.8 16832. ]\n"
     ]
    },
    {
     "data": {
      "text/plain": [
       "[<matplotlib.lines.Line2D at 0x7eff219f7828>]"
      ]
     },
     "execution_count": 76,
     "metadata": {
      "tags": []
     },
     "output_type": "execute_result"
    },
    {
     "data": {
      "image/png": "[encoded data removed]",
      "text/plain": [
       "<Figure size 432x288 with 1 Axes>"
      ]
     },
     "metadata": {
      "needs_background": "light",
      "tags": []
     },
     "output_type": "display_data"
    }
   ],
   "source": [
    "counts, bin_edges = np.histogram(df['votes'], bins=10, \n",
    "                                 density = True)\n",
    "pdf = counts/(sum(counts))\n",
    "print(pdf);\n",
    "print(bin_edges)\n",
    "\n",
    "#compute CDF\n",
    "cdf = np.cumsum(pdf)\n",
    "plt.plot(bin_edges[1:],pdf)\n",
    "plt.plot(bin_edges[1:], cdf)"
   ]
  },
  {
   "cell_type": "code",
   "execution_count": 77,
   "metadata": {
    "colab": {
     "base_uri": "https://localhost:8080/",
     "height": 68
    },
    "colab_type": "code",
    "id": "4dTwoBU9Rflk",
    "outputId": "c08e8323-2a7f-4505-8c6d-727c94ea66dd"
   },
   "outputs": [
    {
     "name": "stdout",
     "output_type": "stream",
     "text": [
      "283.69752692538236\n",
      "0\n",
      "16832\n"
     ]
    }
   ],
   "source": [
    "print(df['votes'].mean())\n",
    "print(df['votes'].min())\n",
    "print(df['votes'].max())"
   ]
  },
  {
   "cell_type": "markdown",
   "metadata": {
    "colab_type": "text",
    "id": "7qiYUBH4Rflx"
   },
   "source": [
    "<b>Conclusion</b> The restaurants in Bangalore has an average vote of 296.76 . Minimum vote for the restaurant is 0 and the maaximum votes are 16832. Very few restaurants in bangalore has no. of votes greater than 1700"
   ]
  },
  {
   "cell_type": "markdown",
   "metadata": {
    "colab_type": "text",
    "id": "W94nfcwORfly"
   },
   "source": [
    "#### Rating of restaurants vs online_order"
   ]
  },
  {
   "cell_type": "code",
   "execution_count": 78,
   "metadata": {
    "colab": {
     "base_uri": "https://localhost:8080/",
     "height": 221
    },
    "colab_type": "code",
    "id": "_5BdoW-mhI1k",
    "outputId": "2ea83c03-d8e1-4587-ac5b-4fca20234078"
   },
   "outputs": [
    {
     "data": {
      "text/plain": [
       "6        3.6\n",
       "19       3.1\n",
       "22       3.6\n",
       "24       3.7\n",
       "25       3.2\n",
       "        ... \n",
       "50032    3.5\n",
       "50050    3.5\n",
       "50135    3.5\n",
       "50571    3.5\n",
       "51386    3.5\n",
       "Name: rate, Length: 51717, dtype: float64"
      ]
     },
     "execution_count": 78,
     "metadata": {
      "tags": []
     },
     "output_type": "execute_result"
    }
   ],
   "source": [
    "df['rate']"
   ]
  },
  {
   "cell_type": "code",
   "execution_count": 79,
   "metadata": {
    "colab": {
     "base_uri": "https://localhost:8080/",
     "height": 381
    },
    "colab_type": "code",
    "id": "-RCNRe5kRfl0",
    "outputId": "9a80d765-872d-444a-f03f-5e2d8065e3c2"
   },
   "outputs": [
    {
     "data": {
      "text/plain": [
       "Text(0.5, 1.0, 'rating of restaurant vs oline order')"
      ]
     },
     "execution_count": 79,
     "metadata": {
      "tags": []
     },
     "output_type": "execute_result"
    },
    {
     "data": {
      "image/png": "[encoded data removed]",
      "text/plain": [
       "<Figure size 360x360 with 1 Axes>"
      ]
     },
     "metadata": {
      "needs_background": "light",
      "tags": []
     },
     "output_type": "display_data"
    }
   ],
   "source": [
    "import seaborn as sns\n",
    "plt.figure(figsize = (5,5))\n",
    "sns.countplot(x=df['rate'], hue = df['online_order'])\n",
    "plt.ylabel(\"Restaurants that Accepts online order or Not accepts online orders\")\n",
    "plt.xlabel('rate')\n",
    "plt.title(\"rating of restaurant vs oline order\")"
   ]
  },
  {
   "cell_type": "markdown",
   "metadata": {
    "colab_type": "text",
    "id": "0qn0yZ7eRfmL"
   },
   "source": [
    "<b>Conclusion</b> - Only for those restaurants whose rating is 3.7, the number of restaurants accepting online order is more than the restaurants who don't accepts the online order. For all the restaurants (whose rating is other than 3.7), there are mpre no. of restaurants that accepts online order rather than the restaurants who don't accepts the online order."
   ]
  },
  {
   "cell_type": "code",
   "execution_count": 80,
   "metadata": {
    "colab": {
     "base_uri": "https://localhost:8080/",
     "height": 34
    },
    "colab_type": "code",
    "id": "WABax_AfRfmQ",
    "outputId": "c4cf7d98-9cb4-43f6-e876-165f9280e14b"
   },
   "outputs": [
    {
     "data": {
      "text/plain": [
       "3.6652106657383716"
      ]
     },
     "execution_count": 80,
     "metadata": {
      "tags": []
     },
     "output_type": "execute_result"
    }
   ],
   "source": [
    "df['rate'].mean()"
   ]
  },
  {
   "cell_type": "code",
   "execution_count": 81,
   "metadata": {
    "colab": {
     "base_uri": "https://localhost:8080/",
     "height": 530
    },
    "colab_type": "code",
    "id": "6CBMc1uuRfmq",
    "outputId": "ddc80d49-f72f-424a-fdd4-58992c3acf74"
   },
   "outputs": [
    {
     "data": {
      "text/plain": [
       "Text(0.5, 1.0, 'rating of restaurant vs oline order')"
      ]
     },
     "execution_count": 81,
     "metadata": {
      "tags": []
     },
     "output_type": "execute_result"
    },
    {
     "data": {
      "image/png": "[encoded data removed]",
      "text/plain": [
       "<Figure size 1080x576 with 1 Axes>"
      ]
     },
     "metadata": {
      "needs_background": "light",
      "tags": []
     },
     "output_type": "display_data"
    }
   ],
   "source": [
    "import seaborn as sns\n",
    "plt.figure(figsize = (15,8))\n",
    "sns.countplot(x=df['rate'], hue = df['book_table'])\n",
    "plt.ylabel(\"Restaurants that allows Booling of tables / Not allows Booking tables\")\n",
    "plt.xlabel('rate')\n",
    "plt.title(\"rating of restaurant vs oline order\")"
   ]
  },
  {
   "cell_type": "markdown",
   "metadata": {
    "colab_type": "text",
    "id": "aC24atICRfmz"
   },
   "source": [
    "<b>Coclusion</b>- The maximum no. restaurants that allows table booking has an average rating of 4.2 . The maximum number of restaurants, which dont allows table booking has an average rating of 3.7 . Irrespective of ratings, the number of restaurants that allows booking of tables are less than the restaurants which don;t allows that."
   ]
  },
  {
   "cell_type": "markdown",
   "metadata": {
    "colab_type": "text",
    "id": "NT9uKxYrRfm0"
   },
   "source": [
    "##### Type of restaurant"
   ]
  },
  {
   "cell_type": "code",
   "execution_count": 82,
   "metadata": {
    "colab": {
     "base_uri": "https://localhost:8080/",
     "height": 153
    },
    "colab_type": "code",
    "id": "3l3CY96SRfm4",
    "outputId": "acff5090-0ff9-4de0-b7f2-5568f758b0b5"
   },
   "outputs": [
    {
     "data": {
      "text/plain": [
       "Delivery              25942\n",
       "Dine-out              17779\n",
       "Desserts               3593\n",
       "Cafes                  1723\n",
       "Drinks & nightlife     1101\n",
       "Buffet                  882\n",
       "Pubs and bars           697\n",
       "Name: listed_in(type), dtype: int64"
      ]
     },
     "execution_count": 82,
     "metadata": {
      "tags": []
     },
     "output_type": "execute_result"
    }
   ],
   "source": [
    "df['listed_in(type)'].value_counts()"
   ]
  },
  {
   "cell_type": "code",
   "execution_count": 83,
   "metadata": {
    "colab": {
     "base_uri": "https://localhost:8080/",
     "height": 444
    },
    "colab_type": "code",
    "id": "rTHiE-ixRfm9",
    "outputId": "f7f11447-4d32-4c88-efa1-08309adae14b"
   },
   "outputs": [
    {
     "data": {
      "text/plain": [
       "Text(0, 0.5, 'counts')"
      ]
     },
     "execution_count": 83,
     "metadata": {
      "tags": []
     },
     "output_type": "execute_result"
    },
    {
     "data": {
      "image/png": "[encoded data removed]",
      "text/plain": [
       "<Figure size 720x360 with 1 Axes>"
      ]
     },
     "metadata": {
      "needs_background": "light",
      "tags": []
     },
     "output_type": "display_data"
    }
   ],
   "source": [
    "plt.figure(figsize=(10,5))\n",
    "k =df['listed_in(type)'].value_counts()\n",
    "k.plot(kind='bar')\n",
    "plt.title('Number of Restaurants type wise')\n",
    "plt.xlabel('Restaurant type')\n",
    "plt.ylabel('counts')\n",
    "\n"
   ]
  },
  {
   "cell_type": "code",
   "execution_count": 84,
   "metadata": {
    "colab": {
     "base_uri": "https://localhost:8080/",
     "height": 482
    },
    "colab_type": "code",
    "id": "OFueqy0sRfnF",
    "outputId": "ad98db17-799c-489b-85c9-ccf3c38c6579"
   },
   "outputs": [
    {
     "data": {
      "image/png": "[encoded data removed]",
      "text/plain": [
       "<Figure size 720x576 with 1 Axes>"
      ]
     },
     "metadata": {
      "tags": []
     },
     "output_type": "display_data"
    }
   ],
   "source": [
    "import matplotlib. pyplot as plt\n",
    "plt.figure(figsize=(10,8))\n",
    "x = df['listed_in(type)'].value_counts()[:15]\n",
    "y = df['listed_in(type)'].value_counts()[:15].index\n",
    "plt.pie(x, labels=y, autopct='%.2f')\n",
    "plt.title('Distribution of restaurants based on its types')\n",
    "plt.show()"
   ]
  },
  {
   "cell_type": "markdown",
   "metadata": {
    "colab_type": "text",
    "id": "vLVeGzUtRfnP"
   },
   "source": [
    "<b> Conclusion</b> - Aound 50% of the restaurants in bangalore belongs to the delivery type of restaurants. The least type of restaurants in bangalore belongs to pubs and bars, buffet, drinks and nightlife. Also there are lot of restaurants (34%) which allows dine-out service. In total there ar 24728 restaurants that belongs to delivery type. The number of Pubs and bar is 669 whihc the minimum among all the types of restaurants"
   ]
  },
  {
   "cell_type": "markdown",
   "metadata": {
    "colab_type": "text",
    "id": "G99Q_MF9RfnQ"
   },
   "source": [
    "#### Pairplot"
   ]
  },
  {
   "cell_type": "code",
   "execution_count": 85,
   "metadata": {
    "colab": {},
    "colab_type": "code",
    "id": "yTGVFlUrSs7k"
   },
   "outputs": [],
   "source": [
    "df2=df.copy()"
   ]
  },
  {
   "cell_type": "code",
   "execution_count": 86,
   "metadata": {
    "colab": {
     "base_uri": "https://localhost:8080/",
     "height": 34
    },
    "colab_type": "code",
    "id": "JZHd8rX1TOV5",
    "outputId": "b698ec98-caa9-43aa-ac5b-af0eff17ffce"
   },
   "outputs": [
    {
     "data": {
      "text/plain": [
       "dtype('float64')"
      ]
     },
     "execution_count": 86,
     "metadata": {
      "tags": []
     },
     "output_type": "execute_result"
    }
   ],
   "source": [
    "df2['approx_cost(for two people)'].dtype"
   ]
  },
  {
   "cell_type": "code",
   "execution_count": 87,
   "metadata": {
    "colab": {
     "base_uri": "https://localhost:8080/",
     "height": 836
    },
    "colab_type": "code",
    "id": "7Y60YkZtRfnU",
    "outputId": "644613eb-293d-4953-e1a8-3a4b5965cb42"
   },
   "outputs": [
    {
     "name": "stderr",
     "output_type": "stream",
     "text": [
      "/usr/local/lib/python3.6/dist-packages/seaborn/axisgrid.py:2071: UserWarning: The `size` parameter has been renamed to `height`; please update your code.\n",
      "  warnings.warn(msg, UserWarning)\n",
      "/usr/local/lib/python3.6/dist-packages/seaborn/distributions.py:283: UserWarning: Data must have variance to compute a kernel density estimate.\n",
      "  warnings.warn(msg, UserWarning)\n"
     ]
    },
    {
     "data": {
      "image/png": "[encoded data removed]",
      "text/plain": [
       "<Figure size 772x720 with 6 Axes>"
      ]
     },
     "metadata": {
      "needs_background": "light",
      "tags": []
     },
     "output_type": "display_data"
    }
   ],
   "source": [
    "sns.pairplot(df,hue=\"rate\",size=5)\n",
    "plt.show()"
   ]
  },
  {
   "cell_type": "markdown",
   "metadata": {
    "colab_type": "text",
    "id": "OByBaLbHRfnt"
   },
   "source": [
    "<b>Conclusion from this pairplot</b><br>\n",
    "1. In the plot of votes vs rate, most of restaurants having higher no. of votes has better ratings also\n",
    "2. In the plot of approx_cost vs rate, the restaurant whose rating is high has more price.\n",
    "3. In the graph of rate vs cost, rate vs votes, the data points are linearly separable"
   ]
  },
  {
   "cell_type": "markdown",
   "metadata": {
    "colab_type": "text",
    "id": "uMiyj52lRfnu"
   },
   "source": [
    "# EDA Summary"
   ]
  },
  {
   "cell_type": "markdown",
   "metadata": {
    "colab_type": "text",
    "id": "fPtucHSvRfnv"
   },
   "source": [
    "1. BTM alone has 3108 restarants which is the highest number of Restaurants in Bangalore as compared to any other location. BEL has the least Number of restaurants ie. 725. Number of restaurants in BTM comprise of 17% of total restaurants\n",
    "\n",
    "2. The number of restaurants that takes online order is more than those which don't accepts online order. There are more 29342 restaurants that are accepting online orders and there are 20098 restaurants that are not accepting online order\n",
    "\n",
    "3. There is a variation in ratings of restarants between 1.8 to 4.9. The average rating of restaurants is 3.7. \n",
    "\n",
    "4. CCD has 93 stores in bangalore which the highest number of stores for any restaurant in bangalore follwed by onesta having 85 restaurants. \n",
    "\n",
    "5. There are 43120 restaurants that are accepting the booking of table and 6320 restarants that are not accepting the booking of table. Majority of restaurants may be street food type restaurant as it is not allowing booking of table\n",
    "\n",
    "6. North Indian, Chinese and South indian are the top 3 cuisines avalable in the most of restaurants.\n",
    "\n",
    "7. Chicken is the most liked dish by the peoples of bangalore followed by Biryani and rice.\n",
    "\n",
    "8. The average cost of restaurants for the dining is 561. Minimum cost is 40 and max cost is 4000. Overall, 87.22% of the restaurants are not allowing the booking of tables\n",
    "\n",
    "9. Only for those restaurants whose rating is 3.7, the number of restaurants accepting online order is more than the restaurants who don't accepts the online order. For all the other restaurants (whose rating is other than 3.7), there are mpre no. of restaurants that accepts online order rather than the restaurants who don't accepts the online order.\n",
    "\n",
    "10. Aound 50% of the restaurants in bangalore belongs to the delivery type of restaurants. The least type of restaurants in bangalore belongs to pubs and bars, buffet, drinks and nightlife. Also there are lot of restaurants (34%) which allows dine-out service. In total there ar 24728 restaurants that belongs to delivery type. The number of Pubs and bar is 669 whihc the minimum among all the types of restaurants\n",
    "\n",
    "11. The maximum no. restaurants that allows table booking has an average rating of 4.2 . The maximum number of restaurants, which dont allows table booking has an average rating of 3.7 . Irrespective of ratings, the number of restaurants that allows booking of tables are less than the restaurants which don;t allows that."
   ]
  },
  {
   "cell_type": "markdown",
   "metadata": {
    "colab_type": "text",
    "id": "6FtQJAThTrwH"
   },
   "source": [
    "## Checking for multicolliearity"
   ]
  },
  {
   "cell_type": "code",
   "execution_count": 88,
   "metadata": {
    "colab": {},
    "colab_type": "code",
    "id": "jnn5cFdJTudd"
   },
   "outputs": [],
   "source": [
    "#https://www.analyticsvidhya.com/blog/2020/03/what-is-multicollinearity/\n",
    "from statsmodels.stats.outliers_influence import variance_inflation_factor\n",
    "\n",
    "def calc_vif(X):\n",
    "\n",
    "    # Calculating VIF\n",
    "    vif = pd.DataFrame()\n",
    "    vif[\"variables\"] = X.columns\n",
    "    vif[\"VIF\"] = [variance_inflation_factor(X.values, i) for i in range(X.shape[1])]\n",
    "\n",
    "    return(vif)"
   ]
  },
  {
   "cell_type": "code",
   "execution_count": 89,
   "metadata": {
    "colab": {},
    "colab_type": "code",
    "id": "4dcO0NtZSHCo"
   },
   "outputs": [],
   "source": [
    "k=df.copy()"
   ]
  },
  {
   "cell_type": "code",
   "execution_count": 90,
   "metadata": {
    "colab": {},
    "colab_type": "code",
    "id": "WIW78u9p733e"
   },
   "outputs": [],
   "source": [
    "from sklearn.preprocessing import LabelEncoder\n",
    "T = LabelEncoder()                 \n",
    "k['location'] = T.fit_transform(k['location'])\n",
    "k['rest_type'] = T.fit_transform(k['rest_type'])\n",
    "k['cuisines'] = T.fit_transform(k['cuisines'])\n"
   ]
  },
  {
   "cell_type": "code",
   "execution_count": 91,
   "metadata": {
    "colab": {},
    "colab_type": "code",
    "id": "dMDZuCA5C-Mt"
   },
   "outputs": [],
   "source": [
    "k['dish_liked'] = T.fit_transform(k['dish_liked'])"
   ]
  },
  {
   "cell_type": "code",
   "execution_count": 92,
   "metadata": {
    "colab": {},
    "colab_type": "code",
    "id": "3yrd1dZrDN4K"
   },
   "outputs": [],
   "source": [
    "k['online_order'] = T.fit_transform(k['online_order'])\n",
    "k['listed_in(city)'] = T.fit_transform(k['listed_in(city)'])\n",
    "k['book_table'] = T.fit_transform(k['book_table'])\n",
    "k['listed_in(type)'] = T.fit_transform(k['listed_in(type)'])"
   ]
  },
  {
   "cell_type": "code",
   "execution_count": 93,
   "metadata": {
    "colab": {},
    "colab_type": "code",
    "id": "kVAu6OfGEpIo"
   },
   "outputs": [],
   "source": [
    "k=k.drop(['menu_item','reviews_list'],axis=1)"
   ]
  },
  {
   "cell_type": "code",
   "execution_count": 94,
   "metadata": {
    "colab": {},
    "colab_type": "code",
    "id": "pFu7NUuKTqBi"
   },
   "outputs": [],
   "source": [
    "k=k.drop(['name','rate'],axis=1)"
   ]
  },
  {
   "cell_type": "code",
   "execution_count": 95,
   "metadata": {
    "colab": {
     "base_uri": "https://localhost:8080/",
     "height": 80
    },
    "colab_type": "code",
    "id": "AJ3wOypLig2B",
    "outputId": "01e518d7-983a-41b2-fd6a-584a29d752fc"
   },
   "outputs": [
    {
     "data": {
      "text/html": [
       "<div>\n",
       "<style scoped>\n",
       "    .dataframe tbody tr th:only-of-type {\n",
       "        vertical-align: middle;\n",
       "    }\n",
       "\n",
       "    .dataframe tbody tr th {\n",
       "        vertical-align: top;\n",
       "    }\n",
       "\n",
       "    .dataframe thead th {\n",
       "        text-align: right;\n",
       "    }\n",
       "</style>\n",
       "<table border=\"1\" class=\"dataframe\">\n",
       "  <thead>\n",
       "    <tr style=\"text-align: right;\">\n",
       "      <th></th>\n",
       "      <th>online_order</th>\n",
       "      <th>book_table</th>\n",
       "      <th>votes</th>\n",
       "      <th>location</th>\n",
       "      <th>rest_type</th>\n",
       "      <th>cuisines</th>\n",
       "      <th>approx_cost(for two people)</th>\n",
       "      <th>listed_in(type)</th>\n",
       "      <th>listed_in(city)</th>\n",
       "      <th>dish_liked</th>\n",
       "    </tr>\n",
       "  </thead>\n",
       "  <tbody>\n",
       "    <tr>\n",
       "      <th>6</th>\n",
       "      <td>0</td>\n",
       "      <td>0</td>\n",
       "      <td>8</td>\n",
       "      <td>57</td>\n",
       "      <td>27</td>\n",
       "      <td>2210</td>\n",
       "      <td>800.0</td>\n",
       "      <td>0</td>\n",
       "      <td>1</td>\n",
       "      <td>2494</td>\n",
       "    </tr>\n",
       "  </tbody>\n",
       "</table>\n",
       "</div>"
      ],
      "text/plain": [
       "   online_order  book_table  ...  listed_in(city)  dish_liked\n",
       "6             0           0  ...                1        2494\n",
       "\n",
       "[1 rows x 10 columns]"
      ]
     },
     "execution_count": 95,
     "metadata": {
      "tags": []
     },
     "output_type": "execute_result"
    }
   ],
   "source": [
    "k.head(1)"
   ]
  },
  {
   "cell_type": "code",
   "execution_count": 96,
   "metadata": {
    "colab": {
     "base_uri": "https://localhost:8080/",
     "height": 359
    },
    "colab_type": "code",
    "id": "MLHKIuNPG6EO",
    "outputId": "0b85f100-6187-4ef7-c382-b92212837561"
   },
   "outputs": [
    {
     "data": {
      "text/html": [
       "<div>\n",
       "<style scoped>\n",
       "    .dataframe tbody tr th:only-of-type {\n",
       "        vertical-align: middle;\n",
       "    }\n",
       "\n",
       "    .dataframe tbody tr th {\n",
       "        vertical-align: top;\n",
       "    }\n",
       "\n",
       "    .dataframe thead th {\n",
       "        text-align: right;\n",
       "    }\n",
       "</style>\n",
       "<table border=\"1\" class=\"dataframe\">\n",
       "  <thead>\n",
       "    <tr style=\"text-align: right;\">\n",
       "      <th></th>\n",
       "      <th>variables</th>\n",
       "      <th>VIF</th>\n",
       "    </tr>\n",
       "  </thead>\n",
       "  <tbody>\n",
       "    <tr>\n",
       "      <th>0</th>\n",
       "      <td>online_order</td>\n",
       "      <td>2.172145</td>\n",
       "    </tr>\n",
       "    <tr>\n",
       "      <th>1</th>\n",
       "      <td>book_table</td>\n",
       "      <td>1.936908</td>\n",
       "    </tr>\n",
       "    <tr>\n",
       "      <th>2</th>\n",
       "      <td>votes</td>\n",
       "      <td>1.399790</td>\n",
       "    </tr>\n",
       "    <tr>\n",
       "      <th>3</th>\n",
       "      <td>location</td>\n",
       "      <td>3.061928</td>\n",
       "    </tr>\n",
       "    <tr>\n",
       "      <th>4</th>\n",
       "      <td>rest_type</td>\n",
       "      <td>4.790761</td>\n",
       "    </tr>\n",
       "    <tr>\n",
       "      <th>5</th>\n",
       "      <td>cuisines</td>\n",
       "      <td>4.479797</td>\n",
       "    </tr>\n",
       "    <tr>\n",
       "      <th>6</th>\n",
       "      <td>approx_cost(for two people)</td>\n",
       "      <td>4.389293</td>\n",
       "    </tr>\n",
       "    <tr>\n",
       "      <th>7</th>\n",
       "      <td>listed_in(type)</td>\n",
       "      <td>5.981923</td>\n",
       "    </tr>\n",
       "    <tr>\n",
       "      <th>8</th>\n",
       "      <td>listed_in(city)</td>\n",
       "      <td>4.022575</td>\n",
       "    </tr>\n",
       "    <tr>\n",
       "      <th>9</th>\n",
       "      <td>dish_liked</td>\n",
       "      <td>3.428151</td>\n",
       "    </tr>\n",
       "  </tbody>\n",
       "</table>\n",
       "</div>"
      ],
      "text/plain": [
       "                     variables       VIF\n",
       "0                 online_order  2.172145\n",
       "1                   book_table  1.936908\n",
       "2                        votes  1.399790\n",
       "3                     location  3.061928\n",
       "4                    rest_type  4.790761\n",
       "5                     cuisines  4.479797\n",
       "6  approx_cost(for two people)  4.389293\n",
       "7              listed_in(type)  5.981923\n",
       "8              listed_in(city)  4.022575\n",
       "9                   dish_liked  3.428151"
      ]
     },
     "execution_count": 96,
     "metadata": {
      "tags": []
     },
     "output_type": "execute_result"
    }
   ],
   "source": [
    "calc_vif(k)"
   ]
  },
  {
   "cell_type": "markdown",
   "metadata": {
    "colab_type": "text",
    "id": "tdPxAWEzgvfK"
   },
   "source": [
    "<b>Conclusion</b> -  Hence by ananlyzing the vif values, we can conclude that  there is no multicollinearlity between any independent variables beacause the vif values are very small for each of the independent variables."
   ]
  },
  {
   "cell_type": "markdown",
   "metadata": {
    "colab_type": "text",
    "id": "fB28uieAimbJ"
   },
   "source": [
    "## Feature Engineering"
   ]
  },
  {
   "cell_type": "code",
   "execution_count": 97,
   "metadata": {
    "colab": {
     "base_uri": "https://localhost:8080/",
     "height": 284
    },
    "colab_type": "code",
    "id": "4dAPUEYB2W-0",
    "outputId": "253e9a24-1e23-42e0-d057-107f35bf7fa7"
   },
   "outputs": [
    {
     "data": {
      "text/html": [
       "<div>\n",
       "<style scoped>\n",
       "    .dataframe tbody tr th:only-of-type {\n",
       "        vertical-align: middle;\n",
       "    }\n",
       "\n",
       "    .dataframe tbody tr th {\n",
       "        vertical-align: top;\n",
       "    }\n",
       "\n",
       "    .dataframe thead th {\n",
       "        text-align: right;\n",
       "    }\n",
       "</style>\n",
       "<table border=\"1\" class=\"dataframe\">\n",
       "  <thead>\n",
       "    <tr style=\"text-align: right;\">\n",
       "      <th></th>\n",
       "      <th>name</th>\n",
       "      <th>online_order</th>\n",
       "      <th>book_table</th>\n",
       "      <th>rate</th>\n",
       "      <th>votes</th>\n",
       "      <th>location</th>\n",
       "      <th>rest_type</th>\n",
       "      <th>cuisines</th>\n",
       "      <th>approx_cost(for two people)</th>\n",
       "      <th>reviews_list</th>\n",
       "      <th>menu_item</th>\n",
       "      <th>listed_in(type)</th>\n",
       "      <th>listed_in(city)</th>\n",
       "      <th>dish_liked</th>\n",
       "    </tr>\n",
       "  </thead>\n",
       "  <tbody>\n",
       "    <tr>\n",
       "      <th>6</th>\n",
       "      <td>Rosewood International Hotel - Bar &amp; Restaurant</td>\n",
       "      <td>No</td>\n",
       "      <td>No</td>\n",
       "      <td>3.6</td>\n",
       "      <td>8</td>\n",
       "      <td>Mysore Road</td>\n",
       "      <td>Casual Dining</td>\n",
       "      <td>North Indian, South Indian, Andhra, Chinese</td>\n",
       "      <td>800.0</td>\n",
       "      <td>[('Rated 5.0', 'RATED\\n  Awesome food ??Great ...</td>\n",
       "      <td>[]</td>\n",
       "      <td>Buffet</td>\n",
       "      <td>Banashankari</td>\n",
       "      <td>Kadhai Paneer, Ghee Rice, Chicken Grill, Shawa...</td>\n",
       "    </tr>\n",
       "    <tr>\n",
       "      <th>19</th>\n",
       "      <td>360 Atoms Restaurant And Cafe</td>\n",
       "      <td>Yes</td>\n",
       "      <td>No</td>\n",
       "      <td>3.1</td>\n",
       "      <td>13</td>\n",
       "      <td>Banashankari</td>\n",
       "      <td>Cafe</td>\n",
       "      <td>Cafe, Chinese, Continental, Italian</td>\n",
       "      <td>400.0</td>\n",
       "      <td>[('Rated 5.0', 'RATED\\n  Friendly staffs , nic...</td>\n",
       "      <td>[]</td>\n",
       "      <td>Cafes</td>\n",
       "      <td>Banashankari</td>\n",
       "      <td>Friendly Staff</td>\n",
       "    </tr>\n",
       "  </tbody>\n",
       "</table>\n",
       "</div>"
      ],
      "text/plain": [
       "                                               name  ...                                         dish_liked\n",
       "6   Rosewood International Hotel - Bar & Restaurant  ...  Kadhai Paneer, Ghee Rice, Chicken Grill, Shawa...\n",
       "19                    360 Atoms Restaurant And Cafe  ...                                     Friendly Staff\n",
       "\n",
       "[2 rows x 14 columns]"
      ]
     },
     "execution_count": 97,
     "metadata": {
      "tags": []
     },
     "output_type": "execute_result"
    }
   ],
   "source": [
    "df.head(2)"
   ]
  },
  {
   "cell_type": "markdown",
   "metadata": {
    "colab_type": "text",
    "id": "VN2XCwM4iwct"
   },
   "source": [
    "1. Total No. of cuisines available in each of the restaurant"
   ]
  },
  {
   "cell_type": "code",
   "execution_count": 98,
   "metadata": {
    "colab": {},
    "colab_type": "code",
    "id": "l1JyMtWMi264"
   },
   "outputs": [],
   "source": [
    "df['number_of_cuisines']=df['cuisines'].str.split(',').apply(len)"
   ]
  },
  {
   "cell_type": "markdown",
   "metadata": {
    "colab_type": "text",
    "id": "yr7FQ8x1i7FO"
   },
   "source": [
    "2. Total number of dishes liked by the customers. It may be directly proportional to the rating"
   ]
  },
  {
   "cell_type": "code",
   "execution_count": 99,
   "metadata": {
    "colab": {},
    "colab_type": "code",
    "id": "Wkv203CbMPb_"
   },
   "outputs": [],
   "source": [
    "df['number_of_liked_dishes']=df['dish_liked'].str.split(',').apply(len)"
   ]
  },
  {
   "cell_type": "markdown",
   "metadata": {
    "colab_type": "text",
    "id": "TZ18ZctXjUzt"
   },
   "source": [
    "3. Facilities offered by restaurants - there are 2 major facilities that a restaurant can proive is obline order and booking tables. so, here we are summing both of them to find the overall quality of service by the restaurant."
   ]
  },
  {
   "cell_type": "code",
   "execution_count": 100,
   "metadata": {
    "colab": {},
    "colab_type": "code",
    "id": "TEMEZC9neao5"
   },
   "outputs": [],
   "source": [
    "df['Facilities_offered']=k['online_order']+k['book_table']"
   ]
  },
  {
   "cell_type": "code",
   "execution_count": 101,
   "metadata": {
    "colab": {
     "base_uri": "https://localhost:8080/",
     "height": 284
    },
    "colab_type": "code",
    "id": "Xo5G7Vv_Elpt",
    "outputId": "4f93c74c-4cb7-473f-c084-606a71acf02b"
   },
   "outputs": [
    {
     "data": {
      "text/html": [
       "<div>\n",
       "<style scoped>\n",
       "    .dataframe tbody tr th:only-of-type {\n",
       "        vertical-align: middle;\n",
       "    }\n",
       "\n",
       "    .dataframe tbody tr th {\n",
       "        vertical-align: top;\n",
       "    }\n",
       "\n",
       "    .dataframe thead th {\n",
       "        text-align: right;\n",
       "    }\n",
       "</style>\n",
       "<table border=\"1\" class=\"dataframe\">\n",
       "  <thead>\n",
       "    <tr style=\"text-align: right;\">\n",
       "      <th></th>\n",
       "      <th>name</th>\n",
       "      <th>online_order</th>\n",
       "      <th>book_table</th>\n",
       "      <th>rate</th>\n",
       "      <th>votes</th>\n",
       "      <th>location</th>\n",
       "      <th>rest_type</th>\n",
       "      <th>cuisines</th>\n",
       "      <th>approx_cost(for two people)</th>\n",
       "      <th>reviews_list</th>\n",
       "      <th>menu_item</th>\n",
       "      <th>listed_in(type)</th>\n",
       "      <th>listed_in(city)</th>\n",
       "      <th>dish_liked</th>\n",
       "      <th>number_of_cuisines</th>\n",
       "      <th>number_of_liked_dishes</th>\n",
       "      <th>Facilities_offered</th>\n",
       "    </tr>\n",
       "  </thead>\n",
       "  <tbody>\n",
       "    <tr>\n",
       "      <th>6</th>\n",
       "      <td>Rosewood International Hotel - Bar &amp; Restaurant</td>\n",
       "      <td>No</td>\n",
       "      <td>No</td>\n",
       "      <td>3.6</td>\n",
       "      <td>8</td>\n",
       "      <td>Mysore Road</td>\n",
       "      <td>Casual Dining</td>\n",
       "      <td>North Indian, South Indian, Andhra, Chinese</td>\n",
       "      <td>800.0</td>\n",
       "      <td>[('Rated 5.0', 'RATED\\n  Awesome food ??Great ...</td>\n",
       "      <td>[]</td>\n",
       "      <td>Buffet</td>\n",
       "      <td>Banashankari</td>\n",
       "      <td>Kadhai Paneer, Ghee Rice, Chicken Grill, Shawa...</td>\n",
       "      <td>4</td>\n",
       "      <td>7</td>\n",
       "      <td>0</td>\n",
       "    </tr>\n",
       "    <tr>\n",
       "      <th>19</th>\n",
       "      <td>360 Atoms Restaurant And Cafe</td>\n",
       "      <td>Yes</td>\n",
       "      <td>No</td>\n",
       "      <td>3.1</td>\n",
       "      <td>13</td>\n",
       "      <td>Banashankari</td>\n",
       "      <td>Cafe</td>\n",
       "      <td>Cafe, Chinese, Continental, Italian</td>\n",
       "      <td>400.0</td>\n",
       "      <td>[('Rated 5.0', 'RATED\\n  Friendly staffs , nic...</td>\n",
       "      <td>[]</td>\n",
       "      <td>Cafes</td>\n",
       "      <td>Banashankari</td>\n",
       "      <td>Friendly Staff</td>\n",
       "      <td>4</td>\n",
       "      <td>1</td>\n",
       "      <td>1</td>\n",
       "    </tr>\n",
       "  </tbody>\n",
       "</table>\n",
       "</div>"
      ],
      "text/plain": [
       "                                               name  ... Facilities_offered\n",
       "6   Rosewood International Hotel - Bar & Restaurant  ...                  0\n",
       "19                    360 Atoms Restaurant And Cafe  ...                  1\n",
       "\n",
       "[2 rows x 17 columns]"
      ]
     },
     "execution_count": 101,
     "metadata": {
      "tags": []
     },
     "output_type": "execute_result"
    }
   ],
   "source": [
    "df.head(2)"
   ]
  },
  {
   "cell_type": "markdown",
   "metadata": {
    "colab_type": "text",
    "id": "ej9C-PAKk0Io"
   },
   "source": [
    "4. This function is used to convert categorical features into response coded features. It simply perform MEAN VALUE REPLACEMENT."
   ]
  },
  {
   "cell_type": "code",
   "execution_count": 102,
   "metadata": {
    "colab": {},
    "colab_type": "code",
    "id": "Y-obdrW498Gg"
   },
   "outputs": [],
   "source": [
    "# # https://www.geeksforgeeks.org/python-creating-a-pandas-dataframe-column-based-on-a-given-condition/\n",
    "\n",
    "key_dict = dict()\n",
    "def provide_response_coded_features(groupByVal,columnName, df):\n",
    "        ## distribute values group by n take mean of rate column\n",
    "    mean_df = df.groupby([groupByVal]).mean()\n",
    "    ## stored in dict data type.. key is column name and values in mean value of rate column.\n",
    "    mean_dict =mean_df['rate'].to_dict()\n",
    "    key_dict.update([ (groupByVal, mean_dict) ] )\n",
    "    for k, v in mean_dict.items():\n",
    "            mean_dict[k] = round(v,2)\n",
    "    df[columnName] = df[groupByVal].map(mean_dict) \n",
    "    return df"
   ]
  },
  {
   "cell_type": "code",
   "execution_count": 103,
   "metadata": {
    "colab": {
     "base_uri": "https://localhost:8080/",
     "height": 359
    },
    "colab_type": "code",
    "id": "BTriB2p_-Vz2",
    "outputId": "0b460f4b-f017-45d4-ef54-98ede832efca"
   },
   "outputs": [
    {
     "data": {
      "text/html": [
       "<div>\n",
       "<style scoped>\n",
       "    .dataframe tbody tr th:only-of-type {\n",
       "        vertical-align: middle;\n",
       "    }\n",
       "\n",
       "    .dataframe tbody tr th {\n",
       "        vertical-align: top;\n",
       "    }\n",
       "\n",
       "    .dataframe thead th {\n",
       "        text-align: right;\n",
       "    }\n",
       "</style>\n",
       "<table border=\"1\" class=\"dataframe\">\n",
       "  <thead>\n",
       "    <tr style=\"text-align: right;\">\n",
       "      <th></th>\n",
       "      <th>rate</th>\n",
       "      <th>dish_liked</th>\n",
       "      <th>mean_dish_liked</th>\n",
       "    </tr>\n",
       "  </thead>\n",
       "  <tbody>\n",
       "    <tr>\n",
       "      <th>6</th>\n",
       "      <td>3.6</td>\n",
       "      <td>Kadhai Paneer, Ghee Rice, Chicken Grill, Shawa...</td>\n",
       "      <td>3.68</td>\n",
       "    </tr>\n",
       "    <tr>\n",
       "      <th>19</th>\n",
       "      <td>3.1</td>\n",
       "      <td>Friendly Staff</td>\n",
       "      <td>3.56</td>\n",
       "    </tr>\n",
       "    <tr>\n",
       "      <th>22</th>\n",
       "      <td>3.6</td>\n",
       "      <td>Pasta, Iced Tea</td>\n",
       "      <td>3.54</td>\n",
       "    </tr>\n",
       "    <tr>\n",
       "      <th>24</th>\n",
       "      <td>3.7</td>\n",
       "      <td>Waffles, Pasta, Crispy Chicken, Honey Chilli C...</td>\n",
       "      <td>3.60</td>\n",
       "    </tr>\n",
       "    <tr>\n",
       "      <th>25</th>\n",
       "      <td>3.2</td>\n",
       "      <td>Waffles, Pasta, Crispy Chicken, Honey Chilli C...</td>\n",
       "      <td>3.60</td>\n",
       "    </tr>\n",
       "    <tr>\n",
       "      <th>26</th>\n",
       "      <td>3.8</td>\n",
       "      <td>Masala Dosa, Idli, Filter Coffee, Medu Dosa</td>\n",
       "      <td>3.67</td>\n",
       "    </tr>\n",
       "    <tr>\n",
       "      <th>27</th>\n",
       "      <td>3.3</td>\n",
       "      <td>Tandoori Maggi, Paneer Sizzler, Pasta, Pizza, ...</td>\n",
       "      <td>3.49</td>\n",
       "    </tr>\n",
       "    <tr>\n",
       "      <th>28</th>\n",
       "      <td>3.3</td>\n",
       "      <td>Pasta, Iced Tea</td>\n",
       "      <td>3.54</td>\n",
       "    </tr>\n",
       "    <tr>\n",
       "      <th>32</th>\n",
       "      <td>3.9</td>\n",
       "      <td>Waffles, Pasta, Crispy Chicken, Honey Chilli C...</td>\n",
       "      <td>3.60</td>\n",
       "    </tr>\n",
       "    <tr>\n",
       "      <th>36</th>\n",
       "      <td>2.8</td>\n",
       "      <td>Panneer Butter Masala, Lassi, Paratha, Jeera R...</td>\n",
       "      <td>3.52</td>\n",
       "    </tr>\n",
       "  </tbody>\n",
       "</table>\n",
       "</div>"
      ],
      "text/plain": [
       "    rate                                         dish_liked  mean_dish_liked\n",
       "6    3.6  Kadhai Paneer, Ghee Rice, Chicken Grill, Shawa...             3.68\n",
       "19   3.1                                     Friendly Staff             3.56\n",
       "22   3.6                                    Pasta, Iced Tea             3.54\n",
       "24   3.7  Waffles, Pasta, Crispy Chicken, Honey Chilli C...             3.60\n",
       "25   3.2  Waffles, Pasta, Crispy Chicken, Honey Chilli C...             3.60\n",
       "26   3.8        Masala Dosa, Idli, Filter Coffee, Medu Dosa             3.67\n",
       "27   3.3  Tandoori Maggi, Paneer Sizzler, Pasta, Pizza, ...             3.49\n",
       "28   3.3                                    Pasta, Iced Tea             3.54\n",
       "32   3.9  Waffles, Pasta, Crispy Chicken, Honey Chilli C...             3.60\n",
       "36   2.8  Panneer Butter Masala, Lassi, Paratha, Jeera R...             3.52"
      ]
     },
     "execution_count": 103,
     "metadata": {
      "tags": []
     },
     "output_type": "execute_result"
    }
   ],
   "source": [
    "# create response coded feature for dish_liked feature.\n",
    "\n",
    "mean_dish_liked =provide_response_coded_features('dish_liked','mean_dish_liked',df)\n",
    "mean_dish_liked[['rate','dish_liked','mean_dish_liked']][:10]"
   ]
  },
  {
   "cell_type": "code",
   "execution_count": 104,
   "metadata": {
    "colab": {
     "base_uri": "https://localhost:8080/",
     "height": 359
    },
    "colab_type": "code",
    "id": "y_sqfhoJ_UVB",
    "outputId": "705b2e2c-1cc3-4570-f1e2-7da5416abfc1"
   },
   "outputs": [
    {
     "data": {
      "text/html": [
       "<div>\n",
       "<style scoped>\n",
       "    .dataframe tbody tr th:only-of-type {\n",
       "        vertical-align: middle;\n",
       "    }\n",
       "\n",
       "    .dataframe tbody tr th {\n",
       "        vertical-align: top;\n",
       "    }\n",
       "\n",
       "    .dataframe thead th {\n",
       "        text-align: right;\n",
       "    }\n",
       "</style>\n",
       "<table border=\"1\" class=\"dataframe\">\n",
       "  <thead>\n",
       "    <tr style=\"text-align: right;\">\n",
       "      <th></th>\n",
       "      <th>rate</th>\n",
       "      <th>cuisines</th>\n",
       "      <th>mean_cuisines</th>\n",
       "    </tr>\n",
       "  </thead>\n",
       "  <tbody>\n",
       "    <tr>\n",
       "      <th>6</th>\n",
       "      <td>3.6</td>\n",
       "      <td>North Indian, South Indian, Andhra, Chinese</td>\n",
       "      <td>3.90</td>\n",
       "    </tr>\n",
       "    <tr>\n",
       "      <th>19</th>\n",
       "      <td>3.1</td>\n",
       "      <td>Cafe, Chinese, Continental, Italian</td>\n",
       "      <td>3.69</td>\n",
       "    </tr>\n",
       "    <tr>\n",
       "      <th>22</th>\n",
       "      <td>3.6</td>\n",
       "      <td>Cafe, Fast Food</td>\n",
       "      <td>3.39</td>\n",
       "    </tr>\n",
       "    <tr>\n",
       "      <th>24</th>\n",
       "      <td>3.7</td>\n",
       "      <td>Cafe</td>\n",
       "      <td>3.64</td>\n",
       "    </tr>\n",
       "    <tr>\n",
       "      <th>25</th>\n",
       "      <td>3.2</td>\n",
       "      <td>Cafe, Bakery</td>\n",
       "      <td>3.82</td>\n",
       "    </tr>\n",
       "    <tr>\n",
       "      <th>26</th>\n",
       "      <td>3.8</td>\n",
       "      <td>Cafe, South Indian</td>\n",
       "      <td>3.78</td>\n",
       "    </tr>\n",
       "    <tr>\n",
       "      <th>27</th>\n",
       "      <td>3.3</td>\n",
       "      <td>Cafe, Fast Food, Beverages</td>\n",
       "      <td>3.69</td>\n",
       "    </tr>\n",
       "    <tr>\n",
       "      <th>28</th>\n",
       "      <td>3.3</td>\n",
       "      <td>Cafe, Fast Food</td>\n",
       "      <td>3.39</td>\n",
       "    </tr>\n",
       "    <tr>\n",
       "      <th>32</th>\n",
       "      <td>3.9</td>\n",
       "      <td>Bakery, Desserts</td>\n",
       "      <td>3.65</td>\n",
       "    </tr>\n",
       "    <tr>\n",
       "      <th>36</th>\n",
       "      <td>2.8</td>\n",
       "      <td>North Indian, Chinese, Fast Food</td>\n",
       "      <td>3.45</td>\n",
       "    </tr>\n",
       "  </tbody>\n",
       "</table>\n",
       "</div>"
      ],
      "text/plain": [
       "    rate                                     cuisines  mean_cuisines\n",
       "6    3.6  North Indian, South Indian, Andhra, Chinese           3.90\n",
       "19   3.1          Cafe, Chinese, Continental, Italian           3.69\n",
       "22   3.6                              Cafe, Fast Food           3.39\n",
       "24   3.7                                         Cafe           3.64\n",
       "25   3.2                                 Cafe, Bakery           3.82\n",
       "26   3.8                           Cafe, South Indian           3.78\n",
       "27   3.3                   Cafe, Fast Food, Beverages           3.69\n",
       "28   3.3                              Cafe, Fast Food           3.39\n",
       "32   3.9                             Bakery, Desserts           3.65\n",
       "36   2.8             North Indian, Chinese, Fast Food           3.45"
      ]
     },
     "execution_count": 104,
     "metadata": {
      "tags": []
     },
     "output_type": "execute_result"
    }
   ],
   "source": [
    "mean_cuisines =provide_response_coded_features('cuisines','mean_cuisines',df)\n",
    "mean_cuisines[['rate','cuisines','mean_cuisines']][:10]"
   ]
  },
  {
   "cell_type": "code",
   "execution_count": 105,
   "metadata": {
    "colab": {
     "base_uri": "https://localhost:8080/",
     "height": 34
    },
    "colab_type": "code",
    "id": "ikf2a9Lu_0Vg",
    "outputId": "dbdd9853-fd03-4ec5-f2bf-1443a78b1958"
   },
   "outputs": [
    {
     "data": {
      "text/plain": [
       "{}"
      ]
     },
     "execution_count": 105,
     "metadata": {
      "tags": []
     },
     "output_type": "execute_result"
    }
   ],
   "source": [
    "def return_dict_mean_value(query_feature):\n",
    "\n",
    "    result_dict=dict()\n",
    "\n",
    "    for feature_name, values in key_dict.items():    \n",
    "        if feature_name == query_feature:\n",
    "            for key in values:\n",
    "                result_dict.update([ (key, values[key]) ] )\n",
    "\n",
    "                print(key + ':', values[key])\n",
    "    return result_dict\n",
    "return_dict_mean_value('online_order')"
   ]
  },
  {
   "cell_type": "code",
   "execution_count": 1,
   "metadata": {
    "colab": {
     "base_uri": "https://localhost:8080/",
     "height": 1000
    },
    "colab_type": "code",
    "id": "SnmMe_TTAMRP",
    "outputId": "b4b97c62-df5c-4c78-dc10-0b786f2b0679"
   },
   "outputs": [],
   "source": [
    "dict_cuisines = return_dict_mean_value('cuisines')\n",
    "dict_dish_liked = return_dict_mean_value('dish_liked')\n"
   ]
  },
  {
   "cell_type": "code",
   "execution_count": 107,
   "metadata": {
    "colab": {},
    "colab_type": "code",
    "id": "S_CEK7qyE6DC"
   },
   "outputs": [],
   "source": [
    "df['mean_cuisines'] = df['cuisines'].map(dict_cuisines)\n",
    "df['mean_dish_liked'] = df['dish_liked'].map(dict_dish_liked)\n"
   ]
  },
  {
   "cell_type": "code",
   "execution_count": 108,
   "metadata": {
    "colab": {
     "base_uri": "https://localhost:8080/",
     "height": 419
    },
    "colab_type": "code",
    "id": "czbuMJo4Q2OV",
    "outputId": "0c4d624b-86e4-4735-90d9-04e9a5f1990e"
   },
   "outputs": [
    {
     "data": {
      "text/html": [
       "<div>\n",
       "<style scoped>\n",
       "    .dataframe tbody tr th:only-of-type {\n",
       "        vertical-align: middle;\n",
       "    }\n",
       "\n",
       "    .dataframe tbody tr th {\n",
       "        vertical-align: top;\n",
       "    }\n",
       "\n",
       "    .dataframe thead th {\n",
       "        text-align: right;\n",
       "    }\n",
       "</style>\n",
       "<table border=\"1\" class=\"dataframe\">\n",
       "  <thead>\n",
       "    <tr style=\"text-align: right;\">\n",
       "      <th></th>\n",
       "      <th>rate</th>\n",
       "      <th>mean_dish_liked</th>\n",
       "    </tr>\n",
       "  </thead>\n",
       "  <tbody>\n",
       "    <tr>\n",
       "      <th>6</th>\n",
       "      <td>3.6</td>\n",
       "      <td>3.68</td>\n",
       "    </tr>\n",
       "    <tr>\n",
       "      <th>19</th>\n",
       "      <td>3.1</td>\n",
       "      <td>3.56</td>\n",
       "    </tr>\n",
       "    <tr>\n",
       "      <th>22</th>\n",
       "      <td>3.6</td>\n",
       "      <td>3.54</td>\n",
       "    </tr>\n",
       "    <tr>\n",
       "      <th>24</th>\n",
       "      <td>3.7</td>\n",
       "      <td>3.60</td>\n",
       "    </tr>\n",
       "    <tr>\n",
       "      <th>25</th>\n",
       "      <td>3.2</td>\n",
       "      <td>3.60</td>\n",
       "    </tr>\n",
       "    <tr>\n",
       "      <th>...</th>\n",
       "      <td>...</td>\n",
       "      <td>...</td>\n",
       "    </tr>\n",
       "    <tr>\n",
       "      <th>50032</th>\n",
       "      <td>3.5</td>\n",
       "      <td>3.38</td>\n",
       "    </tr>\n",
       "    <tr>\n",
       "      <th>50050</th>\n",
       "      <td>3.5</td>\n",
       "      <td>3.38</td>\n",
       "    </tr>\n",
       "    <tr>\n",
       "      <th>50135</th>\n",
       "      <td>3.5</td>\n",
       "      <td>3.50</td>\n",
       "    </tr>\n",
       "    <tr>\n",
       "      <th>50571</th>\n",
       "      <td>3.5</td>\n",
       "      <td>3.44</td>\n",
       "    </tr>\n",
       "    <tr>\n",
       "      <th>51386</th>\n",
       "      <td>3.5</td>\n",
       "      <td>3.44</td>\n",
       "    </tr>\n",
       "  </tbody>\n",
       "</table>\n",
       "<p>51717 rows × 2 columns</p>\n",
       "</div>"
      ],
      "text/plain": [
       "       rate  mean_dish_liked\n",
       "6       3.6             3.68\n",
       "19      3.1             3.56\n",
       "22      3.6             3.54\n",
       "24      3.7             3.60\n",
       "25      3.2             3.60\n",
       "...     ...              ...\n",
       "50032   3.5             3.38\n",
       "50050   3.5             3.38\n",
       "50135   3.5             3.50\n",
       "50571   3.5             3.44\n",
       "51386   3.5             3.44\n",
       "\n",
       "[51717 rows x 2 columns]"
      ]
     },
     "execution_count": 108,
     "metadata": {
      "tags": []
     },
     "output_type": "execute_result"
    }
   ],
   "source": [
    "df[['rate','mean_dish_liked']]"
   ]
  },
  {
   "cell_type": "markdown",
   "metadata": {
    "colab_type": "text",
    "id": "rYe3q7tTRAcG"
   },
   "source": [
    "## Feature Engineering Summary\n",
    "1. Mean value replacement for dish_liked - Here, first we have done response coding followed by mean value replacement for dish_liked colimn. We found its value is almost simillar to the rate column\n",
    "2. Mean value replacement for cuisines - Here also, first we have done response coding followed by mean value replacement for cuisisnes column.\n",
    "3. Number of cuisines available- This column contains the total number of cuisines available in each restaurants\n",
    "4. Number of dish_liked -  This column contains the total number of dishes liked by the customers in each restaurants.\n",
    "5. Facilities offered - If the restarant is allowing both online_order and booking_table, then we have given the facilities offered values as 2. If restarant is allowing either of the them, then we've given the values as 1. If the restarant os not allowing any of the faciilities, then we've given the value as 0."
   ]
  },
  {
   "cell_type": "code",
   "execution_count": 109,
   "metadata": {
    "colab": {},
    "colab_type": "code",
    "id": "eptXJDCwF1rF"
   },
   "outputs": [],
   "source": [
    "df=df.drop(['name','menu_item'],axis=1)"
   ]
  },
  {
   "cell_type": "code",
   "execution_count": 110,
   "metadata": {
    "colab": {
     "base_uri": "https://localhost:8080/",
     "height": 284
    },
    "colab_type": "code",
    "id": "S7UTAwzaMsEl",
    "outputId": "a0e9f022-e087-45a5-e796-0d87eb779d5c"
   },
   "outputs": [
    {
     "data": {
      "text/html": [
       "<div>\n",
       "<style scoped>\n",
       "    .dataframe tbody tr th:only-of-type {\n",
       "        vertical-align: middle;\n",
       "    }\n",
       "\n",
       "    .dataframe tbody tr th {\n",
       "        vertical-align: top;\n",
       "    }\n",
       "\n",
       "    .dataframe thead th {\n",
       "        text-align: right;\n",
       "    }\n",
       "</style>\n",
       "<table border=\"1\" class=\"dataframe\">\n",
       "  <thead>\n",
       "    <tr style=\"text-align: right;\">\n",
       "      <th></th>\n",
       "      <th>online_order</th>\n",
       "      <th>book_table</th>\n",
       "      <th>rate</th>\n",
       "      <th>votes</th>\n",
       "      <th>location</th>\n",
       "      <th>rest_type</th>\n",
       "      <th>cuisines</th>\n",
       "      <th>approx_cost(for two people)</th>\n",
       "      <th>reviews_list</th>\n",
       "      <th>listed_in(type)</th>\n",
       "      <th>listed_in(city)</th>\n",
       "      <th>dish_liked</th>\n",
       "      <th>number_of_cuisines</th>\n",
       "      <th>number_of_liked_dishes</th>\n",
       "      <th>Facilities_offered</th>\n",
       "      <th>mean_dish_liked</th>\n",
       "      <th>mean_cuisines</th>\n",
       "    </tr>\n",
       "  </thead>\n",
       "  <tbody>\n",
       "    <tr>\n",
       "      <th>6</th>\n",
       "      <td>No</td>\n",
       "      <td>No</td>\n",
       "      <td>3.6</td>\n",
       "      <td>8</td>\n",
       "      <td>Mysore Road</td>\n",
       "      <td>Casual Dining</td>\n",
       "      <td>North Indian, South Indian, Andhra, Chinese</td>\n",
       "      <td>800.0</td>\n",
       "      <td>[('Rated 5.0', 'RATED\\n  Awesome food ??Great ...</td>\n",
       "      <td>Buffet</td>\n",
       "      <td>Banashankari</td>\n",
       "      <td>Kadhai Paneer, Ghee Rice, Chicken Grill, Shawa...</td>\n",
       "      <td>4</td>\n",
       "      <td>7</td>\n",
       "      <td>0</td>\n",
       "      <td>3.68</td>\n",
       "      <td>3.90</td>\n",
       "    </tr>\n",
       "    <tr>\n",
       "      <th>19</th>\n",
       "      <td>Yes</td>\n",
       "      <td>No</td>\n",
       "      <td>3.1</td>\n",
       "      <td>13</td>\n",
       "      <td>Banashankari</td>\n",
       "      <td>Cafe</td>\n",
       "      <td>Cafe, Chinese, Continental, Italian</td>\n",
       "      <td>400.0</td>\n",
       "      <td>[('Rated 5.0', 'RATED\\n  Friendly staffs , nic...</td>\n",
       "      <td>Cafes</td>\n",
       "      <td>Banashankari</td>\n",
       "      <td>Friendly Staff</td>\n",
       "      <td>4</td>\n",
       "      <td>1</td>\n",
       "      <td>1</td>\n",
       "      <td>3.56</td>\n",
       "      <td>3.69</td>\n",
       "    </tr>\n",
       "  </tbody>\n",
       "</table>\n",
       "</div>"
      ],
      "text/plain": [
       "   online_order book_table  ...  mean_dish_liked  mean_cuisines\n",
       "6            No         No  ...             3.68           3.90\n",
       "19          Yes         No  ...             3.56           3.69\n",
       "\n",
       "[2 rows x 17 columns]"
      ]
     },
     "execution_count": 110,
     "metadata": {
      "tags": []
     },
     "output_type": "execute_result"
    }
   ],
   "source": [
    "df.head(2)"
   ]
  },
  {
   "cell_type": "markdown",
   "metadata": {
    "colab_type": "text",
    "id": "ZpKNPhKANluG"
   },
   "source": [
    "## Preprocessing of Features\n"
   ]
  },
  {
   "cell_type": "code",
   "execution_count": 111,
   "metadata": {
    "colab": {},
    "colab_type": "code",
    "id": "UrpUcbmfNpYR"
   },
   "outputs": [],
   "source": [
    "df['dish_liked'] = df['dish_liked'].str.replace(',','')\n",
    "df['cuisines'] = df['cuisines'].str.replace(',','')"
   ]
  },
  {
   "cell_type": "code",
   "execution_count": 112,
   "metadata": {
    "colab": {
     "base_uri": "https://localhost:8080/",
     "height": 202
    },
    "colab_type": "code",
    "id": "iK6x26X4zo8N",
    "outputId": "252c9066-13f3-4712-e35e-5337959b6dbd"
   },
   "outputs": [
    {
     "data": {
      "text/html": [
       "<div>\n",
       "<style scoped>\n",
       "    .dataframe tbody tr th:only-of-type {\n",
       "        vertical-align: middle;\n",
       "    }\n",
       "\n",
       "    .dataframe tbody tr th {\n",
       "        vertical-align: top;\n",
       "    }\n",
       "\n",
       "    .dataframe thead th {\n",
       "        text-align: right;\n",
       "    }\n",
       "</style>\n",
       "<table border=\"1\" class=\"dataframe\">\n",
       "  <thead>\n",
       "    <tr style=\"text-align: right;\">\n",
       "      <th></th>\n",
       "      <th>online_order</th>\n",
       "      <th>book_table</th>\n",
       "      <th>rate</th>\n",
       "      <th>votes</th>\n",
       "      <th>location</th>\n",
       "      <th>rest_type</th>\n",
       "      <th>cuisines</th>\n",
       "      <th>approx_cost(for two people)</th>\n",
       "      <th>reviews_list</th>\n",
       "      <th>listed_in(type)</th>\n",
       "      <th>listed_in(city)</th>\n",
       "      <th>dish_liked</th>\n",
       "      <th>number_of_cuisines</th>\n",
       "      <th>number_of_liked_dishes</th>\n",
       "      <th>Facilities_offered</th>\n",
       "      <th>mean_dish_liked</th>\n",
       "      <th>mean_cuisines</th>\n",
       "    </tr>\n",
       "  </thead>\n",
       "  <tbody>\n",
       "    <tr>\n",
       "      <th>6</th>\n",
       "      <td>No</td>\n",
       "      <td>No</td>\n",
       "      <td>3.6</td>\n",
       "      <td>8</td>\n",
       "      <td>Mysore Road</td>\n",
       "      <td>Casual Dining</td>\n",
       "      <td>North Indian South Indian Andhra Chinese</td>\n",
       "      <td>800.0</td>\n",
       "      <td>[('Rated 5.0', 'RATED\\n  Awesome food ??Great ...</td>\n",
       "      <td>Buffet</td>\n",
       "      <td>Banashankari</td>\n",
       "      <td>Kadhai Paneer Ghee Rice Chicken Grill Shawarma...</td>\n",
       "      <td>4</td>\n",
       "      <td>7</td>\n",
       "      <td>0</td>\n",
       "      <td>3.68</td>\n",
       "      <td>3.9</td>\n",
       "    </tr>\n",
       "  </tbody>\n",
       "</table>\n",
       "</div>"
      ],
      "text/plain": [
       "  online_order book_table  ...  mean_dish_liked  mean_cuisines\n",
       "6           No         No  ...             3.68            3.9\n",
       "\n",
       "[1 rows x 17 columns]"
      ]
     },
     "execution_count": 112,
     "metadata": {
      "tags": []
     },
     "output_type": "execute_result"
    }
   ],
   "source": [
    "df.head(1)"
   ]
  },
  {
   "cell_type": "code",
   "execution_count": 113,
   "metadata": {
    "colab": {
     "base_uri": "https://localhost:8080/",
     "height": 51
    },
    "colab_type": "code",
    "id": "zNxrP_rmZWTi",
    "outputId": "3b44d378-53c4-4b01-b97c-99b75fd18857"
   },
   "outputs": [
    {
     "name": "stdout",
     "output_type": "stream",
     "text": [
      "[nltk_data] Downloading package stopwords to /root/nltk_data...\n",
      "[nltk_data]   Unzipping corpora/stopwords.zip.\n"
     ]
    }
   ],
   "source": [
    "# https://gist.github.com/sebleier/554280\n",
    "# we are removing the words from the stop words list: 'no', 'nor', 'not'\n",
    "import nltk\n",
    "nltk.download('stopwords')\n",
    "from nltk.corpus import stopwords\n",
    "\n",
    "stopwords= ['i', 'me', 'my', 'myself', 'we', 'our', 'ours', 'ourselves', 'you', \"you're\", \"you've\",\\\n",
    "            \"you'll\", \"you'd\", 'your', 'yours', 'yourself', 'yourselves', 'he', 'him', 'his', 'himself', \\\n",
    "            'she', \"she's\", 'her', 'hers', 'herself', 'it', \"it's\", 'its', 'itself', 'they', 'them', 'their',\\\n",
    "            'theirs', 'themselves', 'what', 'which', 'who', 'whom', 'this', 'that', \"that'll\", 'these', 'those', \\\n",
    "            'am', 'is', 'are', 'was', 'were', 'be', 'been', 'being', 'have', 'has', 'had', 'having', 'do', 'does', \\\n",
    "            'did', 'doing', 'a', 'an', 'the', 'and', 'but', 'if', 'or', 'because', 'as', 'until', 'while', 'of', \\\n",
    "            'at', 'by', 'for', 'with', 'about', 'against', 'between', 'into', 'through', 'during', 'before', 'after',\\\n",
    "            'above', 'below', 'to', 'from', 'up', 'down', 'in', 'out', 'on', 'off', 'over', 'under', 'again', 'further',\\\n",
    "            'then', 'once', 'here', 'there', 'when', 'where', 'why', 'how', 'all', 'any', 'both', 'each', 'few', 'more',\\\n",
    "            'most', 'other', 'some', 'such', 'only', 'own', 'same', 'so', 'than', 'too', 'very', \\\n",
    "            's', 't', 'can', 'will', 'just', 'don', \"don't\", 'should', \"should've\", 'now', 'd', 'll', 'm', 'o', 're', \\\n",
    "            've', 'y', 'ain', 'aren', \"aren't\", 'couldn', \"couldn't\", 'didn', \"didn't\", 'doesn', \"doesn't\", 'hadn',\\\n",
    "            \"hadn't\", 'hasn', \"hasn't\", 'haven', \"haven't\", 'isn', \"isn't\", 'ma', 'mightn', \"mightn't\", 'mustn',\\\n",
    "            \"mustn't\", 'needn', \"needn't\", 'shan', \"shan't\", 'shouldn', \"shouldn't\", 'wasn', \"wasn't\", 'weren', \"weren't\", \\\n",
    "            'won', \"won't\", 'wouldn', \"wouldn't\"]"
   ]
  },
  {
   "cell_type": "code",
   "execution_count": 114,
   "metadata": {
    "colab": {
     "base_uri": "https://localhost:8080/",
     "height": 154
    },
    "colab_type": "code",
    "id": "I5JJkMx_AwfY",
    "outputId": "2c1394fc-056b-4f26-baa9-445bc53f6f8d"
   },
   "outputs": [
    {
     "name": "stderr",
     "output_type": "stream",
     "text": [
      "100%|██████████| 51717/51717 [1:59:38<00:00,  7.20it/s]\n"
     ]
    },
    {
     "data": {
      "application/vnd.google.colaboratory.intrinsic": {
       "type": "string"
      },
      "text/plain": [
       "'must try chicken biryani ngot delivery ubereats promotion going regarding biryani taste albeit good biryani quantity wise extremely less consider ordering starter usually finish starter biryani alone ur ordering biryani may quantity less coz promotion nanyhow interaction staff fast delivery good food   worst restuatant went check place green glen none even bothered ask needed interested finally call take order take mins get food items pathetic service plates dirty cleanliness maintained food also worst everything half boiled inspite taking mins   honestly restaurant great potential one coolest green glen layout next lot apartments spacious interiors well covered menu nhowever always felt short staff ni tried lunch dinner nbreakfast yes maybe times nthey make delicious cheese masala dosa bread omelette poori sabji masala chai   npathetic place mosquitoes eat well food arrives page menu half things available takes lifetime serve even customers half place empty guess reason   went place nearby bad earlier review ndecent place eating economical food cost around   decided check new restaurant bellandur thoroughly disappointed empty staff even vaguely interested food also good make pathetic service providing feedback matter guy reception unmoved never coming back would recommend place'"
      ]
     },
     "execution_count": 114,
     "metadata": {
      "tags": []
     },
     "output_type": "execute_result"
    }
   ],
   "source": [
    "from bs4 import BeautifulSoup\n",
    "# Combining all the above stundents \n",
    "from tqdm import tqdm\n",
    "import re\n",
    "# tqdm is for printing the status bar\n",
    "word_counter = []\n",
    "\n",
    "from nltk.corpus import stopwords\n",
    "\n",
    "def filterised_text(text):\n",
    "    preprocessed_text = []\n",
    "    for sentance in tqdm(text):\n",
    "        sentance = re.sub('[0-9]+', '', sentance)\n",
    "        sentance = re.sub('[^A-Za-z0-9]+', ' ', sentance)\n",
    "        sentance = re.sub(r\"http\\S+\", \"\", sentance)\n",
    "        sentance = BeautifulSoup(sentance, 'lxml').get_text()\n",
    "        sentance = decontracted(sentance)\n",
    "        sentance = re.sub(\"\\S*\\d\\S*\", \"\", sentance).strip()\n",
    "        sentance = re.sub('[^A-Za-z]+', ' ', sentance)\n",
    "        sentance = ' '.join(word.lower() for word in sentance.split() if len(word)>1 and word.lower() not in stopwords.words('english'))\n",
    "        sentance = re.sub(r\"rated\", \"\", sentance)\n",
    "        count = len(sentance.split())\n",
    "        word_counter.append(count)\n",
    "        preprocessed_text.append(sentance.strip())\n",
    "    return preprocessed_text\n",
    "\n",
    "\n",
    "\n",
    "def decontracted(phrase):\n",
    "    # specific\n",
    "    phrase = re.sub(r\"won't\", \"will not\", phrase)\n",
    "    phrase = re.sub(r\"can\\'t\", \"can not\", phrase)\n",
    "\n",
    "    # general\n",
    "    phrase = re.sub(r\"n\\'t\", \" not\", phrase)\n",
    "    phrase = re.sub(r\"\\'re\", \" are\", phrase)\n",
    "    phrase = re.sub(r\"\\'s\", \" is\", phrase)\n",
    "    phrase = re.sub(r\"\\'d\", \" would\", phrase)\n",
    "    phrase = re.sub(r\"\\'ll\", \" will\", phrase)\n",
    "    phrase = re.sub(r\"\\'t\", \" not\", phrase)\n",
    "    phrase = re.sub(r\"\\'ve\", \" have\", phrase)\n",
    "    phrase = re.sub(r\"\\'m\", \" am\", phrase)\n",
    "    return phrase\n",
    "\n",
    "preprocessed_reviews = filterised_text(df['reviews_list'].astype(str).values)\n",
    "df['preprocessed_reviews']  = preprocessed_reviews\n",
    "preprocessed_reviews[1822]\n",
    "                    "
   ]
  },
  {
   "cell_type": "code",
   "execution_count": 115,
   "metadata": {
    "colab": {},
    "colab_type": "code",
    "id": "eNdhQd8rE88W"
   },
   "outputs": [],
   "source": [
    "y=df['rate']\n",
    "df=df.drop(['rate'],axis=1)\n"
   ]
  },
  {
   "cell_type": "code",
   "execution_count": 116,
   "metadata": {
    "colab": {},
    "colab_type": "code",
    "id": "yeYtsEH_Bb7a"
   },
   "outputs": [],
   "source": [
    "from sklearn.model_selection import train_test_split\n",
    "X_train, X_test, y_train, y_test = train_test_split(df, y, test_size=0.33, stratify=y)\n",
    "X_train, X_cv, y_train, y_cv = train_test_split(X_train, y_train, test_size=0.33, stratify=y_train)"
   ]
  },
  {
   "cell_type": "markdown",
   "metadata": {
    "colab_type": "text",
    "id": "pq_D2QeJDb6T"
   },
   "source": [
    "## Vectorizing categorical fearures"
   ]
  },
  {
   "cell_type": "code",
   "execution_count": 117,
   "metadata": {
    "colab": {
     "base_uri": "https://localhost:8080/",
     "height": 119
    },
    "colab_type": "code",
    "id": "n7exjtIkCrn2",
    "outputId": "487cdb39-f420-4d09-d49d-076fad518112"
   },
   "outputs": [
    {
     "name": "stdout",
     "output_type": "stream",
     "text": [
      "['no', 'yes']\n",
      "Shape of training dataset one hot encoding & corresponding class label  (23215, 2) (23215,)\n",
      "\n",
      "Shape of cv dataset one hot encoding & corresponding class label  (11435, 2) (11435,)\n",
      "\n",
      "Shape of test dataset one hot encoding & corresponding class label  (17067, 2) (17067,)\n"
     ]
    }
   ],
   "source": [
    "from sklearn.feature_extraction.text import CountVectorizer\n",
    "\n",
    "vectorizer = CountVectorizer()\n",
    "vectorizer.fit(df['online_order'].values)\n",
    "print(vectorizer.get_feature_names())\n",
    "\n",
    "X_tr_order_ohe = vectorizer.transform(X_train['online_order'].values)\n",
    "X_cv_order_ohe = vectorizer.transform(X_cv['online_order'].values)\n",
    "X_test_order_ohe = vectorizer.transform(X_test['online_order'].values)\n",
    "print(\"Shape of training dataset one hot encoding & corresponding class label \",X_tr_order_ohe.shape, y_train.shape)\n",
    "print(\"\\nShape of cv dataset one hot encoding & corresponding class label \",X_cv_order_ohe.shape, y_cv.shape)\n",
    "print(\"\\nShape of test dataset one hot encoding & corresponding class label \",X_test_order_ohe.shape, y_test.shape)"
   ]
  },
  {
   "cell_type": "code",
   "execution_count": 118,
   "metadata": {
    "colab": {
     "base_uri": "https://localhost:8080/",
     "height": 54
    },
    "colab_type": "code",
    "id": "yAIzWsLYCeem",
    "outputId": "7c6b3d73-0ed3-4631-93fc-16eed9ae0483"
   },
   "outputs": [
    {
     "name": "stdout",
     "output_type": "stream",
     "text": [
      "['1st', '2nd', '3rd', '4th', '5th', '6th', '7th', '8th', 'airport', 'banashankari', 'banaswadi', 'bangalore', 'bannerghatta', 'basavanagudi', 'basaveshwara', 'bel', 'bellandur', 'bhima', 'block', 'bommanahalli', 'brigade', 'brookefield', 'btm', 'central', 'church', 'city', 'commercial', 'course', 'cunningham', 'cv', 'domlur', 'east', 'ejipura', 'electronic', 'frazer', 'garden', 'hbr', 'hebbal', 'hennur', 'hosur', 'hsr', 'indiranagar', 'infantry', 'itpl', 'jakkur', 'jalahalli', 'jayanagar', 'jeevan', 'jp', 'kaggadasapura', 'kalyan', 'kammanahalli', 'kanakapura', 'kengeri', 'koramangala', 'kr', 'kumaraswamy', 'langford', 'lavelle', 'layout', 'madras', 'magadi', 'main', 'majestic', 'malleshwaram', 'marathahalli', 'market', 'marks', 'mg', 'mysore', 'nagar', 'nagarbhavi', 'nagawara', 'new', 'north', 'old', 'peenya', 'puram', 'race', 'rajajinagar', 'rajarajeshwari', 'raman', 'rammurthy', 'residency', 'richmond', 'road', 'rt', 'sadashiv', 'sahakara', 'sanjay', 'sankey', 'sarjapur', 'seshadripuram', 'shanti', 'shivajinagar', 'south', 'st', 'street', 'thippasandra', 'town', 'ulsoor', 'uttarahalli', 'varthur', 'vasanth', 'vijay', 'west', 'whitefield', 'wilson', 'yelahanka', 'yeshwantpur']\n"
     ]
    }
   ],
   "source": [
    "vectorizer = CountVectorizer()\n",
    "vectorizer.fit(df['location'].values)\n",
    "print(vectorizer.get_feature_names())\n",
    "\n",
    "X_tr_location_ohe = vectorizer.transform(X_train['location'].values)\n",
    "X_cv_location_ohe = vectorizer.transform(X_cv['location'].values)\n",
    "X_test_location_ohe = vectorizer.transform(X_test['location'].values)"
   ]
  },
  {
   "cell_type": "code",
   "execution_count": 119,
   "metadata": {
    "colab": {
     "base_uri": "https://localhost:8080/",
     "height": 34
    },
    "colab_type": "code",
    "id": "eq7T-yuEYRIZ",
    "outputId": "e805a5e6-30cd-4296-9fdf-e333968c08fc"
   },
   "outputs": [
    {
     "name": "stdout",
     "output_type": "stream",
     "text": [
      "['no', 'yes']\n"
     ]
    }
   ],
   "source": [
    "vectorizer = CountVectorizer()\n",
    "vectorizer.fit(df['book_table'].values)\n",
    "print(vectorizer.get_feature_names())\n",
    "\n",
    "X_tr_book_table_ohe = vectorizer.transform(X_train['book_table'].values)\n",
    "X_cv_book_table_ohe = vectorizer.transform(X_cv['book_table'].values)\n",
    "X_test_book_table_ohe = vectorizer.transform(X_test['book_table'].values)"
   ]
  },
  {
   "cell_type": "code",
   "execution_count": 120,
   "metadata": {
    "colab": {
     "base_uri": "https://localhost:8080/",
     "height": 54
    },
    "colab_type": "code",
    "id": "1ZVV9r65YRgh",
    "outputId": "7df70a1f-8383-431c-a3a7-be71a9bfc773"
   },
   "outputs": [
    {
     "name": "stdout",
     "output_type": "stream",
     "text": [
      "['bakery', 'bar', 'beverage', 'bhojanalya', 'bites', 'cafe', 'cafee', 'casual', 'club', 'confectionery', 'court', 'delivery', 'dessert', 'dhaba', 'dining', 'fine', 'food', 'irani', 'kiosk', 'lounge', 'meat', 'mess', 'microbrewery', 'parlor', 'pop', 'pub', 'quick', 'shop', 'sweet', 'takeaway', 'truck', 'up']\n"
     ]
    }
   ],
   "source": [
    "vectorizer = CountVectorizer()\n",
    "vectorizer.fit(df['rest_type'].values)\n",
    "print(vectorizer.get_feature_names())\n",
    "\n",
    "X_tr_rest_type_ohe = vectorizer.transform(X_train['rest_type'].values)\n",
    "X_cv_rest_type_ohe = vectorizer.transform(X_cv['rest_type'].values)\n",
    "X_test_rest_type_ohe = vectorizer.transform(X_test['rest_type'].values)"
   ]
  },
  {
   "cell_type": "code",
   "execution_count": 121,
   "metadata": {
    "colab": {
     "base_uri": "https://localhost:8080/",
     "height": 54
    },
    "colab_type": "code",
    "id": "cJyBh6GnYR4L",
    "outputId": "0c5a4ca6-a3d4-416e-89d9-aa0e13f09d4d"
   },
   "outputs": [
    {
     "name": "stdout",
     "output_type": "stream",
     "text": [
      "['65', 'aalo', 'aam', 'aamras', 'abbabi', 'achari', 'adrak', 'afghan', 'afghani', 'aglio', 'ajwaini', 'akki', 'akuri', 'al', 'alfam', 'alfredo', 'almond', 'almonds', 'aloo', 'alpham', 'alur', 'ambience', 'ambur', 'american', 'americano', 'amritsari', 'anardana', 'ande', 'andhra', 'angara', 'anjal', 'anjeer', 'apollo', 'appam', 'apple', 'appletini', 'arabian', 'arabic', 'arrabiata', 'arrangement', 'arsalan', 'arugula', 'asparagus', 'au', 'augratin', 'avakai', 'avalanche', 'avocado', 'baati', 'babaganush', 'baby', 'babycorn', 'bacon', 'baconator', 'badam', 'badami', 'bagel', 'baguette', 'baida', 'baigan', 'baingan', 'bajji', 'baked', 'baklava', 'ball', 'balls', 'balti', 'bamboo', 'banana', 'bananas', 'bang', 'bangkok', 'bangla', 'banh', 'bannoffee', 'banoffee', 'bao', 'bar', 'barbaresca', 'barbecue', 'barbeque', 'barfi', 'barone', 'bartha', 'basa', 'basanti', 'basil', 'basket', 'basmati', 'bath', 'bati', 'batter', 'bbq', 'beans', 'beda', 'beef', 'beer', 'beetroot', 'begun', 'beijing', 'bele', 'belgian', 'belgium', 'bella', 'bellini', 'benedict', 'bengali', 'benne', 'bento', 'berry', 'berryblast', 'bhaath', 'bhaja', 'bhaji', 'bhajiya', 'bhajji', 'bhalle', 'bhara', 'bharta', 'bharwan', 'bhath', 'bhatti', 'bhature', 'bheja', 'bhel', 'bhetki', 'bhindi', 'bhuna', 'bhurji', 'bibimbap', 'big', 'bingsu', 'biriyani', 'biryani', 'biscuit', 'biscuits', 'bisi', 'biskoot', 'bisque', 'bites', 'blackberry', 'blackcurrant', 'blanc', 'blast', 'bloody', 'blueberry', 'bomb', 'bombay', 'bombil', 'bonanza', 'bonda', 'bone', 'boneless', 'boondi', 'boti', 'bowl', 'bowls', 'box', 'brain', 'bravas', 'bread', 'breads', 'breakfast', 'breast', 'brew', 'brewed', 'brinjal', 'broccoli', 'brosted', 'broth', 'brown', 'brownie', 'brulee', 'brunch', 'brunches', 'bruschetta', 'bruschettas', 'bubble', 'bucket', 'buddha', 'buffalo', 'buffet', 'bukhara', 'bulgogi', 'bun', 'bunglow', 'burger', 'burgers', 'burmese', 'burrito', 'burritos', 'burst', 'butter', 'butterfly', 'buttermilk', 'butterscotch', 'button', 'by', 'cabbage', 'caesar', 'cafe', 'cafreal', 'cajun', 'cake', 'cakes', 'calamari', 'calcutta', 'california', 'calzone', 'candy', 'cannelloni', 'cantonese', 'cappuccino', 'capsicum', 'caramel', 'caramelized', 'caramello', 'carbonara', 'carrot', 'cashew', 'caviar', 'ceaser', 'ceylon', 'chaach', 'chaai', 'chaap', 'chaat', 'chai', 'chamcham', 'chana', 'chapa', 'chapati', 'charcoal', 'charcuterie', 'chat', 'chatni', 'chatpata', 'chawal', 'cheddar', 'cheese', 'cheeseballs', 'cheesecake', 'cheesiano', 'cheesy', 'chelo', 'chenin', 'chestnuts', 'chettinad', 'chhole', 'chicken', 'chiller', 'chilli', 'chimichangas', 'chinese', 'chingri', 'chip', 'chips', 'choco', 'chocochip', 'chocoholic', 'chocolate', 'chocolava', 'chokha', 'chole', 'chop', 'chops', 'chopsuey', 'chorizo', 'choux', 'chowmein', 'chukka', 'chunks', 'chur', 'chura', 'churma', 'churros', 'chutney', 'cider', 'cigars', 'cinnamon', 'clear', 'club', 'cobb', 'cocktail', 'cocktails', 'coconut', 'cod', 'coffee', 'coke', 'cola', 'colada', 'cold', 'coleslaw', 'combo', 'cone', 'cookie', 'cookies', 'cooler', 'coorg', 'coriander', 'corn', 'cosmopolitan', 'cotta', 'cottage', 'cotton', 'country', 'courteous', 'crab', 'crabmeat', 'crackers', 'crackling', 'craft', 'craze', 'cream', 'creamy', 'creme', 'crepe', 'crepes', 'crisp', 'crispy', 'croissant', 'croissants', 'croquettes', 'crumble', 'crunch', 'crunchy', 'crust', 'cuban', 'cucumber', 'cuisine', 'cuon', 'cup', 'cupcake', 'curd', 'curry', 'custard', 'cut', 'cutlet', 'cutlets', 'cutting', 'da', 'daab', 'daal', 'dabeli', 'daddy', 'dahi', 'dahipuri', 'daiquiri', 'dak', 'dal', 'dalna', 'dance', 'dark', 'date', 'death', 'decadence', 'decor', 'deep', 'dehati', 'del', 'delight', 'deluxe', 'designer', 'dessert', 'detox', 'devils', 'devotion', 'dhania', 'dhaniya', 'dhansak', 'dhokar', 'dhokla', 'diced', 'dim', 'dimsum', 'dimsums', 'dindigul', 'disco', 'dish', 'diwani', 'dj', 'dog', 'doi', 'dom', 'donburi', 'doner', 'donne', 'donut', 'dorai', 'dosa', 'double', 'doughnut', 'draft', 'dragon', 'draught', 'dreamcake', 'drink', 'drizzle', 'drums', 'drumstick', 'drumsticks', 'drunken', 'dry', 'duck', 'dum', 'dumpling', 'dumplings', 'dumpukht', 'dunkaccinos', 'dutch', 'dynamite', 'eastern', 'eater', 'eclair', 'eclairs', 'egg', 'eggless', 'eggplant', 'eggs', 'elaichi', 'elaneer', 'empanadas', 'enchiladas', 'english', 'espresso', 'executive', 'exotic', 'extravaganza', 'fafda', 'faham', 'fajita', 'fajitas', 'falafal', 'falafel', 'faluda', 'fantasy', 'farm', 'farmhouse', 'farsan', 'fatayer', 'fattoush', 'feast', 'ferrero', 'feta', 'fiery', 'fiesta', 'fig', 'filet', 'filter', 'finger', 'fingers', 'fire', 'firewood', 'firni', 'fish', 'flakes', 'flan', 'float', 'floor', 'florentine', 'flurry', 'fondue', 'food', 'frankie', 'frappe', 'frappuccino', 'freak', 'french', 'fried', 'friendly', 'fries', 'frittata', 'fritters', 'fruit', 'fruits', 'fry', 'fudge', 'funda', 'fung', 'gadwal', 'gajar', 'galauti', 'ganache', 'ganna', 'gaon', 'gappe', 'garden', 'garlic', 'gassi', 'gateau', 'gatte', 'gelato', 'german', 'ghamandi', 'ghar', 'ghee', 'ghewar', 'ghonto', 'ghost', 'gimbap', 'ginger', 'gini', 'gnocchi', 'goan', 'gobhi', 'gobi', 'gol', 'golden', 'goli', 'gong', 'gongura', 'gooey', 'goreng', 'gosht', 'gourmet', 'grain', 'grand', 'granola', 'grape', 'gratin', 'gravy', 'greek', 'green', 'grill', 'grilled', 'guava', 'gujarati', 'gulab', 'gulkand', 'gum', 'gundappa', 'guntur', 'gur', 'gurer', 'gyoza', 'hakka', 'haleem', 'halwa', 'ham', 'handi', 'hara', 'hariyali', 'hash', 'hatti', 'hawaian', 'hazelnut', 'healthy', 'heaven', 'hefeweizen', 'herbed', 'hibiscus', 'highway', 'holige', 'honey', 'hookah', 'hot', 'hotdog', 'house', 'hrc', 'hummus', 'hunan', 'hush', 'hyderabadi', 'hydrabadi', 'ice', 'icecream', 'icecreams', 'iced', 'idiyappam', 'idli', 'idlis', 'ilish', 'imli', 'indian', 'indori', 'irani', 'irish', 'island', 'italian', 'italiano', 'jackfruit', 'jaipuri', 'jal', 'jalapeno', 'jalebi', 'jam', 'jamun', 'japanese', 'japchae', 'jar', 'jasmine', 'java', 'jeera', 'jerk', 'jhol', 'joint', 'jolada', 'jowar', 'juice', 'juices', 'juicy', 'jujeh', 'jumbo', 'ka', 'kaapi', 'kaaram', 'kabab', 'kachori', 'kadai', 'kadak', 'kadala', 'kadam', 'kadhai', 'kadhi', 'kaffir', 'kahwa', 'kai', 'kaju', 'kala', 'kali', 'kalia', 'kalimirch', 'kallappam', 'kalmi', 'kamikaze', 'kanda', 'kanti', 'kappa', 'karachi', 'karam', 'karara', 'karela', 'karimeen', 'kasha', 'kashmiri', 'kastoori', 'kat', 'kathi', 'katla', 'katli', 'katsu', 'ke', 'kebab', 'kebabs', 'keema', 'kerala', 'kesar', 'kesari', 'kesaria', 'key', 'kha', 'khali', 'khamiri', 'khao', 'khara', 'kharabath', 'khau', 'kheema', 'kheer', 'khichda', 'khichdi', 'khubani', 'khurchan', 'ki', 'kichadi', 'kimchi', 'king', 'kit', 'kitkat', 'kiwi', 'kizhi', 'kodi', 'kofta', 'kokum', 'kola', 'kolhapuri', 'korean', 'kori', 'korma', 'kosha', 'kothu', 'kozhi', 'krisper', 'kshatriya', 'kudu', 'kulcha', 'kulche', 'kulfi', 'kullad', 'kuluki', 'kunafa', 'kung', 'kurkure', 'kurkuri', 'kutchi', 'lababdar', 'laccha', 'ladoo', 'lager', 'laham', 'lahori', 'lajawab', 'laksa', 'lal', 'lamb', 'lasagna', 'lasagne', 'lash', 'lassi', 'latte', 'lauki', 'lava', 'lazeez', 'leaf', 'lebanese', 'legendary', 'lemon', 'lemonade', 'lemongrass', 'liege', 'lime', 'litchi', 'liti', 'litti', 'liver', 'lobster', 'lollipop', 'long', 'lotus', 'luchi', 'lucknowi', 'lunch', 'lung', 'lychee', 'maans', 'maaz', 'mac', 'macaroni', 'macaroon', 'macchiato', 'mackerel', 'madagascar', 'maddur', 'madfoon', 'maggi', 'maharaja', 'mai', 'majestic', 'makhani', 'makhanwala', 'makhni', 'maki', 'makkai', 'makke', 'mala', 'malabar', 'malabari', 'malacca', 'malai', 'malaikari', 'malaysian', 'malgoum', 'malhooth', 'malpua', 'malt', 'malwani', 'manakeesh', 'manali', 'manchow', 'manchurian', 'mandi', 'mango', 'mangsho', 'mapo', 'margarita', 'margherita', 'marshmallow', 'martini', 'marwai', 'mary', 'marzano', 'masala', 'mascarpone', 'mash', 'mashed', 'maskas', 'masoor', 'matar', 'matka', 'maxx', 'mayo', 'mc', 'mcaloo', 'mcflurry', 'mcmuffin', 'mcspicy', 'meal', 'meat', 'meatballs', 'mediterranean', 'medu', 'meen', 'meetha', 'meishan', 'melted', 'memon', 'menu', 'methi', 'mex', 'mexican', 'mezze', 'middle', 'milk', 'milkshake', 'milky', 'millet', 'minced', 'minestrone', 'mini', 'minotaur', 'mint', 'mirch', 'mirchi', 'misal', 'mishti', 'miso', 'missi', 'mississippi', 'mix', 'mixed', 'mla', 'mocha', 'mochar', 'mochi', 'mocktail', 'mocktails', 'mojito', 'molten', 'momo', 'momos', 'monster', 'moo', 'moong', 'morning', 'mosambi', 'motichoor', 'moussaka', 'mousse', 'mozzarella', 'mud', 'mudcake', 'mudde', 'mudpie', 'muffin', 'mughlai', 'multani', 'multi', 'mumbai', 'muradabadi', 'murg', 'murgh', 'murgi', 'mushroom', 'mushrooms', 'mustard', 'mutton', 'mysore', 'naan', 'nacho', 'nachos', 'naga', 'nalli', 'nannari', 'nasi', 'nati', 'nawabi', 'neer', 'nepali', 'new', 'nihari', 'nippat', 'nirvana', 'nitash', 'nitrogen', 'nizami', 'nolen', 'non', 'noodle', 'noodles', 'nuggets', 'nut', 'nutella', 'obbattu', 'octopus', 'of', 'okra', 'olio', 'omelette', 'onion', 'open', 'opera', 'orange', 'oregano', 'oreo', 'outdoor', 'overdose', 'overload', 'oysters', 'paan', 'pad', 'paella', 'pahadi', 'pahari', 'pai', 'pak', 'pakoda', 'pakora', 'pakwan', 'palak', 'pallipalayam', 'palya', 'pan', 'pancake', 'pancakes', 'panchmel', 'pandhra', 'pandi', 'pane', 'paneer', 'pani', 'panipuri', 'panje', 'panna', 'pannacotta', 'panneer', 'panner', 'pao', 'papad', 'papadi', 'papaya', 'papdi', 'paper', 'paprika', 'parantha', 'paratha', 'parfait', 'parmigiana', 'parotta', 'pasanda', 'passion', 'pasta', 'pastry', 'patata', 'patiala', 'patisserie', 'patiyala', 'pattanam', 'patthar', 'pattice', 'pattis', 'patty', 'paturi', 'pav', 'pavbhaji', 'pavs', 'paya', 'payasam', 'payassam', 'pazham', 'peach', 'peanut', 'peanuts', 'pearl', 'peas', 'peda', 'peking', 'penne', 'pepper', 'pepperoni', 'peppy', 'pepsi', 'peri', 'pesarattu', 'peshawari', 'pesto', 'petha', 'phad', 'phirni', 'pho', 'photo', 'phulkas', 'phulke', 'picante', 'pickle', 'pickled', 'pie', 'piece', 'pilaf', 'pili', 'pinacolada', 'pineapple', 'pink', 'pista', 'pita', 'pitika', 'pizza', 'plain', 'plate', 'platter', 'plum', 'pocket', 'pockets', 'podi', 'poha', 'poli', 'pollichathu', 'pomegranate', 'pomfret', 'pongal', 'pool', 'poori', 'popcorn', 'poppers', 'pops', 'pora', 'pori', 'poricha', 'pork', 'posto', 'pot', 'potato', 'potatoes', 'pothichoru', 'potli', 'prawn', 'prawns', 'primavera', 'prompt', 'protein', 'pudding', 'pudina', 'puff', 'pulao', 'pulav', 'pulled', 'pulpy', 'pulusu', 'pumpkin', 'punjabi', 'puppies', 'puran', 'puri', 'puttu', 'pyaz', 'quesadilla', 'quesedillas', 'quiche', 'quinoa', 'raagi', 'raan', 'rabri', 'radhaballavi', 'ragda', 'ragi', 'ragout', 'railway', 'rainbow', 'raita', 'raj', 'rajasthani', 'rajdhani', 'rajma', 'rajugari', 'ramen', 'rara', 'rasam', 'rasgulla', 'rasmalai', 'raspberry', 'rassa', 'ratatouille', 'rava', 'ravioli', 'rawas', 'red', 'rendang', 'reshmi', 'rezala', 'ribs', 'rice', 'rich', 'ricotta', 'rings', 'risotto', 'roast', 'roasted', 'rocher', 'roganjosh', 'roll', 'rolls', 'rooftop', 'rose', 'roti', 'rotis', 'rotti', 'rottis', 'royal', 'royale', 'rumali', 'rusk', 'russian', 'rustica', 'saag', 'saagu', 'saalan', 'sabji', 'sabudana', 'sabzi', 'saffron', 'sagu', 'saha', 'sake', 'salad', 'salads', 'salami', 'sali', 'salmon', 'salsa', 'salt', 'salted', 'sambar', 'samosa', 'sandwich', 'sandwiches', 'sangria', 'sarbat', 'sarso', 'sarson', 'sashimi', 'satay', 'sattu', 'sauce', 'sausage', 'sausages', 'sauteed', 'savoury', 'scallops', 'schezwan', 'schnitzel', 'scrambled', 'sea', 'seafood', 'seaweed', 'seekh', 'sekuwa', 'sensation', 'service', 'sesame', 'set', 'sev', 'shaadi', 'shahi', 'shake', 'shakes', 'shakshouka', 'shami', 'shammi', 'shanghai', 'shanmukha', 'shaptak', 'shaptra', 'sharbat', 'shashlik', 'shawarama', 'shawarma', 'sheermal', 'shephards', 'shikanji', 'shitake', 'sholay', 'sholey', 'shoot', 'shorba', 'shot', 'shotgun', 'shots', 'shrikhand', 'shrimp', 'shwarma', 'sicilian', 'sikandari', 'singapore', 'sitaphal', 'sitting', 'sizzler', 'sizzlers', 'skewer', 'skillet', 'skins', 'slider', 'sling', 'smoked', 'smokey', 'smoothie', 'snacker', 'snapper', 'snicker', 'soan', 'soba', 'soda', 'sol', 'som', 'sooji', 'sorbet', 'souffle', 'soup', 'sour', 'sourdough', 'souvlaki', 'soya', 'spaghetti', 'spice', 'spicy', 'spinach', 'split', 'sponge', 'spring', 'spritzer', 'sprout', 'squid', 'staff', 'starter', 'steak', 'steam', 'steamed', 'stem', 'stew', 'stick', 'sticks', 'stir', 'stout', 'strawberry', 'strips', 'stroganoff', 'stromboli', 'stuffed', 'style', 'sub', 'subz', 'subzi', 'suey', 'sugarcane', 'sukha', 'sukka', 'sulemani', 'sum', 'sums', 'sundae', 'sunday', 'supreme', 'sushi', 'suzette', 'sweet', 'sweets', 'swiss', 'tabakh', 'tabasco', 'tabbouleh', 'table', 'taco', 'tacos', 'tadka', 'tai', 'tak', 'taka', 'takoyaki', 'tam', 'tamarind', 'tamatar', 'tamda', 'tandoor', 'tandoori', 'tangdi', 'tango', 'taquitos', 'tarkari', 'tart', 'tarts', 'tashkent', 'tava', 'tawa', 'tea', 'tempura', 'tender', 'tenderloin', 'tenders', 'tennessee', 'tequila', 'teriyaki', 'terminator', 'tex', 'thai', 'thalassery', 'thali', 'thandai', 'thatte', 'thepla', 'thick', 'thickshake', 'thin', 'thread', 'thukpa', 'thupka', 'tibetan', 'tikka', 'tikki', 'tiramisu', 'tiranga', 'tirupathi', 'toast', 'toffee', 'tofu', 'tokri', 'tom', 'tomato', 'tonkatsu', 'tori', 'tortilla', 'treasure', 'trio', 'triple', 'trouble', 'truffle', 'tuk', 'tukda', 'tuna', 'tundey', 'turkish', 'twister', 'uddin', 'udon', 'ulavacharu', 'ulvacharu', 'upma', 'urundai', 'uttapam', 'vada', 'vadai', 'vanilla', 'vanjiram', 'varuval', 'veg', 'vegetable', 'vegetables', 'vegetarian', 'veggie', 'vellarikka', 'velvet', 'vepudu', 'verdure', 'vietnamese', 'vindaloo', 'virgin', 'volcano', 'waffle', 'waffles', 'wai', 'walnut', 'warqi', 'wasabi', 'water', 'watermelon', 'way', 'wedge', 'wedges', 'wet', 'wheat', 'whisky', 'white', 'whole', 'whopper', 'wild', 'wine', 'wings', 'wit', 'wok', 'wonder', 'wonton', 'wood', 'woodfire', 'wrap', 'yakhni', 'yaki', 'yakisoba', 'yakitori', 'yellow', 'yoghurt', 'yogurt', 'york', 'yum', 'zafrani', 'zaraja', 'zealand', 'zinger']\n"
     ]
    }
   ],
   "source": [
    "vectorizer = CountVectorizer()\n",
    "vectorizer.fit(df['dish_liked'].values)\n",
    "print(vectorizer.get_feature_names())\n",
    "\n",
    "X_tr_dish_liked_ohe = vectorizer.transform(X_train['dish_liked'].values)\n",
    "X_cv_dish_liked_ohe = vectorizer.transform(X_cv['dish_liked'].values)\n",
    "X_test_dish_liked_ohe = vectorizer.transform(X_test['dish_liked'].values)"
   ]
  },
  {
   "cell_type": "code",
   "execution_count": 122,
   "metadata": {
    "colab": {
     "base_uri": "https://localhost:8080/",
     "height": 54
    },
    "colab_type": "code",
    "id": "rHOgX104Y_Mc",
    "outputId": "c8ade440-71eb-485e-fd3c-d04a2b645d98"
   },
   "outputs": [
    {
     "name": "stdout",
     "output_type": "stream",
     "text": [
      "['afghan', 'afghani', 'african', 'american', 'andhra', 'arabian', 'asian', 'assamese', 'australian', 'awadhi', 'bakery', 'bar', 'bbq', 'belgian', 'bengali', 'beverages', 'bihari', 'biryani', 'bohri', 'british', 'bubble', 'burger', 'burmese', 'cafe', 'cantonese', 'charcoal', 'chettinad', 'chicken', 'chinese', 'coffee', 'continental', 'cream', 'desserts', 'dogs', 'drinks', 'eastern', 'european', 'fast', 'finger', 'food', 'french', 'german', 'goan', 'greek', 'grill', 'gujarati', 'healthy', 'hot', 'hyderabadi', 'ice', 'indian', 'indonesian', 'iranian', 'italian', 'japanese', 'jewish', 'juices', 'kashmiri', 'kebab', 'kerala', 'konkan', 'korean', 'lankan', 'lebanese', 'lucknowi', 'maharashtrian', 'malaysian', 'malwani', 'mangalorean', 'meats', 'mediterranean', 'mex', 'mexican', 'middle', 'mithai', 'modern', 'momos', 'mongolian', 'mughlai', 'naga', 'nepalese', 'north', 'only', 'oriya', 'paan', 'pan', 'parsi', 'pizza', 'portuguese', 'rajasthani', 'raw', 'roast', 'rolls', 'russian', 'salad', 'sandwich', 'seafood', 'sindhi', 'singaporean', 'south', 'spanish', 'sri', 'steak', 'street', 'sushi', 'tamil', 'tea', 'tex', 'thai', 'tibetan', 'turkish', 'vegan', 'vietnamese', 'wraps']\n"
     ]
    }
   ],
   "source": [
    "vectorizer = CountVectorizer()\n",
    "vectorizer.fit(df['cuisines'].values)\n",
    "print(vectorizer.get_feature_names())\n",
    "\n",
    "X_tr_cuisines_ohe = vectorizer.transform(X_train['cuisines'].values)\n",
    "X_cv_cuisines_ohe = vectorizer.transform(X_cv['cuisines'].values)\n",
    "X_test_cuisines_ohe = vectorizer.transform(X_test['cuisines'].values)"
   ]
  },
  {
   "cell_type": "code",
   "execution_count": 123,
   "metadata": {
    "colab": {
     "base_uri": "https://localhost:8080/",
     "height": 34
    },
    "colab_type": "code",
    "id": "wG0KM5e0Zj5e",
    "outputId": "3a1db082-b8be-47d4-d766-55dccfa09c9e"
   },
   "outputs": [
    {
     "name": "stdout",
     "output_type": "stream",
     "text": [
      "['and', 'bars', 'buffet', 'cafes', 'delivery', 'desserts', 'dine', 'drinks', 'nightlife', 'out', 'pubs']\n"
     ]
    }
   ],
   "source": [
    "vectorizer = CountVectorizer()\n",
    "vectorizer.fit(df['listed_in(type)'].values)\n",
    "print(vectorizer.get_feature_names())\n",
    "\n",
    "\n",
    "X_tr_listed_in_tp_ohe = vectorizer.transform(X_train['listed_in(type)'].values)\n",
    "X_cv_listed_in_tp_ohe = vectorizer.transform(X_cv['listed_in(type)'].values)\n",
    "X_test_listed_in_tp_ohe = vectorizer.transform(X_test['listed_in(type)'].values)"
   ]
  },
  {
   "cell_type": "code",
   "execution_count": 124,
   "metadata": {
    "colab": {
     "base_uri": "https://localhost:8080/",
     "height": 54
    },
    "colab_type": "code",
    "id": "EhOydsVZaEpe",
    "outputId": "83f9295c-24fc-4ac6-cb13-6ec7beda2bc0"
   },
   "outputs": [
    {
     "name": "stdout",
     "output_type": "stream",
     "text": [
      "['4th', '5th', '6th', '7th', 'airport', 'banashankari', 'bannerghatta', 'basavanagudi', 'bel', 'bellandur', 'block', 'brigade', 'brookefield', 'btm', 'church', 'city', 'electronic', 'frazer', 'hsr', 'indiranagar', 'jayanagar', 'jp', 'kalyan', 'kammanahalli', 'koramangala', 'lavelle', 'malleshwaram', 'marathahalli', 'mg', 'nagar', 'new', 'old', 'rajajinagar', 'residency', 'road', 'sarjapur', 'street', 'town', 'whitefield']\n"
     ]
    }
   ],
   "source": [
    "vectorizer = CountVectorizer()\n",
    "vectorizer.fit(df['listed_in(city)'].values)\n",
    "print(vectorizer.get_feature_names())\n",
    "\n",
    "\n",
    "X_tr_listed_in_ct_ohe = vectorizer.transform(X_train['listed_in(city)'].values)\n",
    "X_cv_listed_in_ct_ohe = vectorizer.transform(X_cv['listed_in(city)'].values)\n",
    "X_test_listed_in_ct_ohe = vectorizer.transform(X_test['listed_in(city)'].values)"
   ]
  },
  {
   "cell_type": "markdown",
   "metadata": {
    "colab_type": "text",
    "id": "cI1bjTrm4e7P"
   },
   "source": [
    "## Vectorizing Numerical Features"
   ]
  },
  {
   "cell_type": "code",
   "execution_count": 125,
   "metadata": {
    "colab": {},
    "colab_type": "code",
    "id": "j_iljAHqeSzh"
   },
   "outputs": [],
   "source": [
    "from sklearn.preprocessing import Normalizer\n",
    "\n",
    "cost_scalar = Normalizer()\n",
    "cost_scalar.fit(X_train['approx_cost(for two people)'].values.reshape(-1,1)) # finding the mean and standard deviation of this data\n",
    "# print(f\"Mean : {price_scalar.mean_[0]}, Standard deviation : {np.sqrt(price_scalar.var_[0])}\")\n",
    "\n",
    "# Now standardize the data with above maen and variance.\n",
    "cost_standardized_train = cost_scalar.transform(X_train['approx_cost(for two people)'].values.reshape(-1, 1))\n",
    "cost_standardized_cv = cost_scalar.transform(X_cv['approx_cost(for two people)'].values.reshape(-1, 1))\n",
    "cost_standardized_test = cost_scalar.transform(X_test['approx_cost(for two people)'].values.reshape(-1, 1))"
   ]
  },
  {
   "cell_type": "code",
   "execution_count": 126,
   "metadata": {
    "colab": {},
    "colab_type": "code",
    "id": "pIqOYAmueneR"
   },
   "outputs": [],
   "source": [
    "number_of_cuisines_scalar = Normalizer()\n",
    "number_of_cuisines_scalar.fit(X_train['number_of_cuisines'].values.reshape(-1,1)) # finding the mean and standard deviation of this data\n",
    "# print(f\"Mean : {price_scalar.mean_[0]}, Standard deviation : {np.sqrt(price_scalar.var_[0])}\")\n",
    "\n",
    "# Now standardize the data with above maen and variance.\n",
    "number_of_cuisines_standardized_train = number_of_cuisines_scalar.transform(X_train['number_of_cuisines'].values.reshape(-1, 1))\n",
    "number_of_cuisines_standardized_cv = number_of_cuisines_scalar.transform(X_cv['number_of_cuisines'].values.reshape(-1, 1))\n",
    "number_of_cuisines_standardized_test = number_of_cuisines_scalar.transform(X_test['number_of_cuisines'].values.reshape(-1, 1))"
   ]
  },
  {
   "cell_type": "code",
   "execution_count": 127,
   "metadata": {
    "colab": {},
    "colab_type": "code",
    "id": "W5-MOJRHfYm5"
   },
   "outputs": [],
   "source": [
    "number_of_liked_dishes_scalar = Normalizer()\n",
    "number_of_liked_dishes_scalar.fit(X_train['number_of_liked_dishes'].values.reshape(-1,1)) # finding the mean and standard deviation of this data\n",
    "# print(f\"Mean : {price_scalar.mean_[0]}, Standard deviation : {np.sqrt(price_scalar.var_[0])}\")\n",
    "\n",
    "# Now standardize the data with above maen and variance.\n",
    "number_of_liked_dishes_standardized_train = number_of_liked_dishes_scalar.transform(X_train['number_of_liked_dishes'].values.reshape(-1, 1))\n",
    "number_of_liked_dishes_standardized_cv = number_of_liked_dishes_scalar.transform(X_cv['number_of_liked_dishes'].values.reshape(-1, 1))\n",
    "number_of_liked_dishes_standardized_test = number_of_liked_dishes_scalar.transform(X_test['number_of_liked_dishes'].values.reshape(-1, 1))"
   ]
  },
  {
   "cell_type": "code",
   "execution_count": 128,
   "metadata": {
    "colab": {},
    "colab_type": "code",
    "id": "W9bDRFXhfZja"
   },
   "outputs": [],
   "source": [
    "from sklearn.preprocessing import Normalizer\n",
    "\n",
    "votes_scalar = Normalizer()\n",
    "votes_scalar.fit(X_train['votes'].values.reshape(-1,1)) \n",
    "\n",
    "votes_standardized_train = votes_scalar.transform(X_train['votes'].values.reshape(-1, 1))\n",
    "votes_standardized_cv = votes_scalar.transform(X_cv['votes'].values.reshape(-1, 1))\n",
    "votes_standardized_test = votes_scalar.transform(X_test['votes'].values.reshape(-1, 1))"
   ]
  },
  {
   "cell_type": "code",
   "execution_count": 129,
   "metadata": {
    "colab": {},
    "colab_type": "code",
    "id": "lt6yCirkfack"
   },
   "outputs": [],
   "source": [
    "from sklearn.preprocessing import Normalizer\n",
    "\n",
    "Facilities_offered_scalar = Normalizer()\n",
    "Facilities_offered_scalar.fit(X_train['Facilities_offered'].values.reshape(-1,1))\n",
    "\n",
    "Facilities_offered_standardized_train = Facilities_offered_scalar.transform(X_train['Facilities_offered'].values.reshape(-1, 1))\n",
    "Facilities_offered_standardized_cv = Facilities_offered_scalar.transform(X_cv['Facilities_offered'].values.reshape(-1, 1))\n",
    "Facilities_offered_standardized_test = Facilities_offered_scalar.transform(X_test['Facilities_offered'].values.reshape(-1, 1))"
   ]
  },
  {
   "cell_type": "code",
   "execution_count": 130,
   "metadata": {
    "colab": {},
    "colab_type": "code",
    "id": "ydnVCZ8AkTez"
   },
   "outputs": [],
   "source": [
    "from sklearn.preprocessing import Normalizer\n",
    "\n",
    "Facilities_offered_scalar = Normalizer()\n",
    "Facilities_offered_scalar.fit(X_train['Facilities_offered'].values.reshape(-1,1))\n",
    "\n",
    "Facilities_offered_standardized_train = Facilities_offered_scalar.transform(X_train['Facilities_offered'].values.reshape(-1, 1))\n",
    "Facilities_offered_standardized_cv = Facilities_offered_scalar.transform(X_cv['Facilities_offered'].values.reshape(-1, 1))\n",
    "Facilities_offered_standardized_test = Facilities_offered_scalar.transform(X_test['Facilities_offered'].values.reshape(-1, 1))"
   ]
  },
  {
   "cell_type": "code",
   "execution_count": 131,
   "metadata": {
    "colab": {},
    "colab_type": "code",
    "id": "UOrtkE3LkTKj"
   },
   "outputs": [],
   "source": [
    "mean_cuisines_scalar = Normalizer()\n",
    "mean_cuisines_scalar.fit(X_train['mean_cuisines'].values.reshape(-1,1)) \n",
    "\n",
    "mean_cuisines_standardized_train = mean_cuisines_scalar.transform(X_train['mean_cuisines'].values.reshape(-1, 1))\n",
    "mean_of_cuisines_standardized_cv = mean_cuisines_scalar.transform(X_cv['mean_cuisines'].values.reshape(-1, 1))\n",
    "mean_of_cuisines_standardized_test = mean_cuisines_scalar.transform(X_test['mean_cuisines'].values.reshape(-1, 1))"
   ]
  },
  {
   "cell_type": "code",
   "execution_count": 132,
   "metadata": {
    "colab": {},
    "colab_type": "code",
    "id": "5avv7BYMVOo1"
   },
   "outputs": [],
   "source": [
    "dish_liked_scalar = Normalizer()\n",
    "dish_liked_scalar.fit(X_train['mean_dish_liked'].values.reshape(-1,1))\n",
    "dish_liked_standardized_train = dish_liked_scalar.transform(X_train['mean_dish_liked'].values.reshape(-1, 1))\n",
    "dish_liked_standardized_cv = dish_liked_scalar.transform(X_cv['mean_dish_liked'].values.reshape(-1, 1))\n",
    "dish_liked_standardized_test = dish_liked_scalar.transform(X_test['mean_dish_liked'].values.reshape(-1, 1))"
   ]
  },
  {
   "cell_type": "markdown",
   "metadata": {
    "colab_type": "text",
    "id": "w9MC-pRq5Cqt"
   },
   "source": [
    "## Vectorizing Text Features"
   ]
  },
  {
   "cell_type": "code",
   "execution_count": 133,
   "metadata": {
    "colab": {},
    "colab_type": "code",
    "id": "x_LAubUuy37J"
   },
   "outputs": [],
   "source": [
    "from sklearn.feature_extraction.text import TfidfVectorizer\n",
    "vectorizer = TfidfVectorizer(min_df=10)\n",
    "vectorizer.fit(X_train['preprocessed_reviews'].values)\n",
    "\n",
    "\n",
    "X_tr_preprocessed_reviews_tfidf = vectorizer.transform(X_train['preprocessed_reviews'].values)\n",
    "X_cv_preprocessed_reviews_tfidf = vectorizer.transform(X_cv['preprocessed_reviews'].values)\n",
    "X_test_preprocessed_reviews_tfidf = vectorizer.transform(X_test['preprocessed_reviews'].values)"
   ]
  },
  {
   "cell_type": "code",
   "execution_count": 134,
   "metadata": {
    "colab": {},
    "colab_type": "code",
    "id": "fT5KYj_4-Rbi"
   },
   "outputs": [],
   "source": [
    "X_tr_total =hstack((X_tr_preprocessed_reviews_tfidf,dish_liked_standardized_train, mean_cuisines_standardized_train,X_tr_order_ohe,X_tr_location_ohe,X_tr_book_table_ohe,X_tr_rest_type_ohe,X_tr_dish_liked_ohe,X_tr_cuisines_ohe,X_tr_listed_in_tp_ohe,X_tr_listed_in_ct_ohe,cost_standardized_train,number_of_liked_dishes_standardized_train)).tocsr()\n",
    "X_test_total = hstack((X_test_preprocessed_reviews_tfidf,dish_liked_standardized_test, mean_of_cuisines_standardized_test,X_test_order_ohe,X_test_location_ohe,X_test_book_table_ohe,X_test_rest_type_ohe,X_test_dish_liked_ohe,X_test_cuisines_ohe,X_test_listed_in_tp_ohe,X_test_listed_in_ct_ohe,cost_standardized_test,number_of_liked_dishes_standardized_test)).tocsr()"
   ]
  },
  {
   "cell_type": "code",
   "execution_count": 135,
   "metadata": {
    "colab": {},
    "colab_type": "code",
    "id": "P-7Uwc2rfUCz"
   },
   "outputs": [],
   "source": [
    "import warnings\n",
    "warnings.filterwarnings('ignore')"
   ]
  },
  {
   "cell_type": "markdown",
   "metadata": {
    "colab_type": "text",
    "id": "rNz2pv6gu3Bx"
   },
   "source": [
    "## Hyperparameter Tuning for Random Forest"
   ]
  },
  {
   "cell_type": "code",
   "execution_count": null,
   "metadata": {
    "colab": {},
    "colab_type": "code",
    "id": "niw4xIL3xR5b"
   },
   "outputs": [],
   "source": [
    "from sklearn.model_selection import RandomizedSearchCV\n",
    "from sklearn.model_selection import cross_val_score\n",
    "from sklearn.tree import DecisionTreeClassifier\n",
    "from sklearn.ensemble import RandomForestRegressor "
   ]
  },
  {
   "cell_type": "code",
   "execution_count": null,
   "metadata": {
    "colab": {
     "base_uri": "https://localhost:8080/",
     "height": 391
    },
    "colab_type": "code",
    "id": "IY9-_vFRjm9j",
    "outputId": "dbfd6a2e-668d-4e66-da2e-2f7a4fcf8608"
   },
   "outputs": [
    {
     "data": {
      "text/plain": [
       "RandomizedSearchCV(cv=10, error_score=nan,\n",
       "                   estimator=RandomForestRegressor(bootstrap=True,\n",
       "                                                   ccp_alpha=0.0,\n",
       "                                                   criterion='mse',\n",
       "                                                   max_depth=None,\n",
       "                                                   max_features='auto',\n",
       "                                                   max_leaf_nodes=None,\n",
       "                                                   max_samples=None,\n",
       "                                                   min_impurity_decrease=0.0,\n",
       "                                                   min_impurity_split=None,\n",
       "                                                   min_samples_leaf=1,\n",
       "                                                   min_samples_split=2,\n",
       "                                                   min_weight_fraction_leaf=0.0,\n",
       "                                                   n_estimators=100,\n",
       "                                                   n_jobs=None, oob_score=False,\n",
       "                                                   random_state=None, verbose=0,\n",
       "                                                   warm_start=False),\n",
       "                   iid='deprecated', n_iter=10, n_jobs=None,\n",
       "                   param_distributions={'max_depth': [5, 10, 20, 75, 100],\n",
       "                                        'n_estimators': [1, 5, 10, 50, 100]},\n",
       "                   pre_dispatch='2*n_jobs', random_state=None, refit=True,\n",
       "                   return_train_score=False, scoring=None, verbose=0)"
      ]
     },
     "execution_count": 180,
     "metadata": {
      "tags": []
     },
     "output_type": "execute_result"
    }
   ],
   "source": [
    "from sklearn.model_selection import RandomizedSearchCV\n",
    "from sklearn.model_selection import cross_val_score\n",
    "from sklearn.tree import DecisionTreeClassifier\n",
    "from sklearn.ensemble import RandomForestRegressor \n",
    "\n",
    "rf = RandomForestRegressor()\n",
    "parameters = {'n_estimators': [1, 5, 10, 50, 100], 'max_depth': [5, 10, 20, 75, 100]} \n",
    "mdl = RandomizedSearchCV(rf, param_distributions =parameters, cv=10)\n",
    "mdl.fit(X_tr_total,y_train)"
   ]
  },
  {
   "cell_type": "code",
   "execution_count": null,
   "metadata": {
    "colab": {
     "base_uri": "https://localhost:8080/",
     "height": 136
    },
    "colab_type": "code",
    "id": "OxG60HCVyVmd",
    "outputId": "f7f51eec-329f-45bb-d8f2-c4ce48e5e23a"
   },
   "outputs": [
    {
     "name": "stdout",
     "output_type": "stream",
     "text": [
      "RandomForestRegressor(bootstrap=True, ccp_alpha=0.0, criterion='mse',\n",
      "                      max_depth=75, max_features='auto', max_leaf_nodes=None,\n",
      "                      max_samples=None, min_impurity_decrease=0.0,\n",
      "                      min_impurity_split=None, min_samples_leaf=1,\n",
      "                      min_samples_split=2, min_weight_fraction_leaf=0.0,\n",
      "                      n_estimators=100, n_jobs=None, oob_score=False,\n",
      "                      random_state=None, verbose=0, warm_start=False)\n"
     ]
    }
   ],
   "source": [
    "print(mdl.best_estimator_)"
   ]
  },
  {
   "cell_type": "markdown",
   "metadata": {
    "colab_type": "text",
    "id": "WnPJV8SbvD9P"
   },
   "source": [
    "## Applying Random Forest Algorithm"
   ]
  },
  {
   "cell_type": "code",
   "execution_count": null,
   "metadata": {
    "colab": {
     "base_uri": "https://localhost:8080/",
     "height": 136
    },
    "colab_type": "code",
    "id": "IJcITLzGyX4R",
    "outputId": "91a9208d-1766-4ab4-e8e6-e3c9f9ed349f"
   },
   "outputs": [
    {
     "data": {
      "text/plain": [
       "RandomForestRegressor(bootstrap=True, ccp_alpha=0.0, criterion='mse',\n",
       "                      max_depth=None, max_features='auto', max_leaf_nodes=None,\n",
       "                      max_samples=None, min_impurity_decrease=0.0,\n",
       "                      min_impurity_split=None, min_samples_leaf=1,\n",
       "                      min_samples_split=2, min_weight_fraction_leaf=0.0,\n",
       "                      n_estimators=100, n_jobs=None, oob_score=False,\n",
       "                      random_state=None, verbose=0, warm_start=False)"
      ]
     },
     "execution_count": 139,
     "metadata": {
      "tags": []
     },
     "output_type": "execute_result"
    }
   ],
   "source": [
    "rfm= RandomForestRegressor(n_estimators=100, criterion='mse', max_depth=None, min_samples_split=2, min_samples_leaf=1)\n",
    "rfm.fit(X_tr_total,y_train)"
   ]
  },
  {
   "cell_type": "code",
   "execution_count": null,
   "metadata": {
    "colab": {
     "base_uri": "https://localhost:8080/",
     "height": 34
    },
    "colab_type": "code",
    "id": "w4qeWi0BTfhO",
    "outputId": "5f4b1f54-fd39-4c5d-ad59-17be16ecfbfd"
   },
   "outputs": [
    {
     "data": {
      "text/plain": [
       "0.027927709527412244"
      ]
     },
     "execution_count": 140,
     "metadata": {
      "tags": []
     },
     "output_type": "execute_result"
    }
   ],
   "source": [
    "from sklearn.metrics import mean_squared_error\n",
    "y_pred_lr = rfm.predict(X_test_total)\n",
    "mean_squared_error(y_test, y_pred_lr)"
   ]
  },
  {
   "cell_type": "markdown",
   "metadata": {
    "colab_type": "text",
    "id": "VXfezS3mWhA-"
   },
   "source": [
    "## Hyperparameter tuning for Decsion tree"
   ]
  },
  {
   "cell_type": "code",
   "execution_count": null,
   "metadata": {
    "colab": {
     "base_uri": "https://localhost:8080/",
     "height": 374
    },
    "colab_type": "code",
    "id": "qcYD8CRrCgV2",
    "outputId": "3467edd4-0fb1-45e2-f21e-bfe0e8bbd294"
   },
   "outputs": [
    {
     "data": {
      "text/plain": [
       "RandomizedSearchCV(cv=None, error_score=nan,\n",
       "                   estimator=DecisionTreeRegressor(ccp_alpha=0.0,\n",
       "                                                   criterion='mse',\n",
       "                                                   max_depth=None,\n",
       "                                                   max_features=None,\n",
       "                                                   max_leaf_nodes=None,\n",
       "                                                   min_impurity_decrease=0.0,\n",
       "                                                   min_impurity_split=None,\n",
       "                                                   min_samples_leaf=1,\n",
       "                                                   min_samples_split=2,\n",
       "                                                   min_weight_fraction_leaf=0.0,\n",
       "                                                   presort='deprecated',\n",
       "                                                   random_state=None,\n",
       "                                                   splitter='best'),\n",
       "                   iid='deprecated', n_iter=10, n_jobs=None,\n",
       "                   param_distributions={'max_depth': [1, 5, 10, 50, 100, 500,\n",
       "                                                      1000],\n",
       "                                        'min_samples_split': [5, 10, 20, 45, 75,\n",
       "                                                              100]},\n",
       "                   pre_dispatch='2*n_jobs', random_state=None, refit=True,\n",
       "                   return_train_score=False, scoring=None, verbose=0)"
      ]
     },
     "execution_count": 166,
     "metadata": {
      "tags": []
     },
     "output_type": "execute_result"
    }
   ],
   "source": [
    "from sklearn.metrics import roc_auc_score\n",
    "import matplotlib.pyplot as plt\n",
    "from sklearn.model_selection import train_test_split\n",
    "from sklearn.model_selection import GridSearchCV\n",
    "from sklearn.model_selection import cross_val_score\n",
    "from sklearn.tree import DecisionTreeRegressor\n",
    "dt1 = DecisionTreeRegressor()\n",
    "parameters = {'max_depth': [1, 5, 10, 50, 100, 500, 1000], 'min_samples_split': [5, 10, 20, 45, 75, 100]}\n",
    "mdl = RandomizedSearchCV(dt1, parameters)\n",
    "mdl.fit(X_tr_total,y_train)"
   ]
  },
  {
   "cell_type": "code",
   "execution_count": null,
   "metadata": {
    "colab": {
     "base_uri": "https://localhost:8080/",
     "height": 34
    },
    "colab_type": "code",
    "id": "N3pyjXNe9Zru",
    "outputId": "c765820f-0be0-4b0a-8e45-32c34ba0daf5"
   },
   "outputs": [
    {
     "data": {
      "text/plain": [
       "{'max_depth': 50, 'min_samples_split': 100}"
      ]
     },
     "execution_count": 169,
     "metadata": {
      "tags": []
     },
     "output_type": "execute_result"
    }
   ],
   "source": [
    "mdl.best_params_"
   ]
  },
  {
   "cell_type": "code",
   "execution_count": null,
   "metadata": {
    "colab": {
     "base_uri": "https://localhost:8080/",
     "height": 119
    },
    "colab_type": "code",
    "id": "CyvSQi9m9mBv",
    "outputId": "39c421be-6374-4338-f740-2ecef75f2cf4"
   },
   "outputs": [
    {
     "data": {
      "text/plain": [
       "DecisionTreeRegressor(ccp_alpha=0.0, criterion='mse', max_depth=50,\n",
       "                      max_features=None, max_leaf_nodes=None,\n",
       "                      min_impurity_decrease=0.0, min_impurity_split=None,\n",
       "                      min_samples_leaf=1, min_samples_split=100,\n",
       "                      min_weight_fraction_leaf=0.0, presort='deprecated',\n",
       "                      random_state=None, splitter='best')"
      ]
     },
     "execution_count": 170,
     "metadata": {
      "tags": []
     },
     "output_type": "execute_result"
    }
   ],
   "source": [
    "mdl.best_estimator_"
   ]
  },
  {
   "cell_type": "markdown",
   "metadata": {
    "colab_type": "text",
    "id": "WRlRyTRgW3i_"
   },
   "source": [
    "## Applying Descision tree regressor"
   ]
  },
  {
   "cell_type": "code",
   "execution_count": null,
   "metadata": {
    "colab": {
     "base_uri": "https://localhost:8080/",
     "height": 119
    },
    "colab_type": "code",
    "id": "F2Nr1Sa79p-D",
    "outputId": "0bd208c1-8657-44ec-b063-8f2f5654401e"
   },
   "outputs": [
    {
     "data": {
      "text/plain": [
       "DecisionTreeRegressor(ccp_alpha=0.0, criterion='mse', max_depth=50,\n",
       "                      max_features=None, max_leaf_nodes=None,\n",
       "                      min_impurity_decrease=0.0, min_impurity_split=None,\n",
       "                      min_samples_leaf=1, min_samples_split=100,\n",
       "                      min_weight_fraction_leaf=0.0, presort='deprecated',\n",
       "                      random_state=None, splitter='best')"
      ]
     },
     "execution_count": 166,
     "metadata": {
      "tags": []
     },
     "output_type": "execute_result"
    }
   ],
   "source": [
    "from sklearn.tree import DecisionTreeRegressor\n",
    "mdl= DecisionTreeRegressor(ccp_alpha=0.0, criterion='mse', max_depth=50,\n",
    "                      max_features=None, max_leaf_nodes=None,\n",
    "                      min_impurity_decrease=0.0, min_impurity_split=None,\n",
    "                      min_samples_leaf=1, min_samples_split=100,\n",
    "                      min_weight_fraction_leaf=0.0, presort='deprecated',\n",
    "                      random_state=None, splitter='best')\n",
    "mdl.fit(X_tr_total,y_train)"
   ]
  },
  {
   "cell_type": "code",
   "execution_count": null,
   "metadata": {
    "colab": {
     "base_uri": "https://localhost:8080/",
     "height": 34
    },
    "colab_type": "code",
    "id": "qhxfcm9d-ChJ",
    "outputId": "75f8a390-b392-493e-f4be-981d99c49fa5"
   },
   "outputs": [
    {
     "data": {
      "text/plain": [
       "0.06577735390392918"
      ]
     },
     "execution_count": 167,
     "metadata": {
      "tags": []
     },
     "output_type": "execute_result"
    }
   ],
   "source": [
    "from sklearn.metrics import mean_squared_error\n",
    "y_pred_lr = mdl.predict(X_test_total)\n",
    "mean_squared_error(y_test, y_pred_lr)"
   ]
  },
  {
   "cell_type": "markdown",
   "metadata": {
    "colab_type": "text",
    "id": "SNT_IbKiXGS5"
   },
   "source": [
    "## Hyperparameter tuning for xgboost"
   ]
  },
  {
   "cell_type": "code",
   "execution_count": null,
   "metadata": {
    "colab": {
     "base_uri": "https://localhost:8080/",
     "height": 1000
    },
    "colab_type": "code",
    "id": "gFhoyAvq0tro",
    "outputId": "2029d2be-2be8-4fed-a260-5c232a04381e"
   },
   "outputs": [
    {
     "name": "stdout",
     "output_type": "stream",
     "text": [
      "[20:57:15] WARNING: /workspace/src/objective/regression_obj.cu:152: reg:linear is now deprecated in favor of reg:squarederror.\n",
      "[20:57:49] WARNING: /workspace/src/objective/regression_obj.cu:152: reg:linear is now deprecated in favor of reg:squarederror.\n",
      "[20:58:23] WARNING: /workspace/src/objective/regression_obj.cu:152: reg:linear is now deprecated in favor of reg:squarederror.\n",
      "[20:58:57] WARNING: /workspace/src/objective/regression_obj.cu:152: reg:linear is now deprecated in favor of reg:squarederror.\n",
      "[20:59:30] WARNING: /workspace/src/objective/regression_obj.cu:152: reg:linear is now deprecated in favor of reg:squarederror.\n",
      "[21:00:04] WARNING: /workspace/src/objective/regression_obj.cu:152: reg:linear is now deprecated in favor of reg:squarederror.\n",
      "[21:00:38] WARNING: /workspace/src/objective/regression_obj.cu:152: reg:linear is now deprecated in favor of reg:squarederror.\n",
      "[21:01:12] WARNING: /workspace/src/objective/regression_obj.cu:152: reg:linear is now deprecated in favor of reg:squarederror.\n",
      "[21:01:45] WARNING: /workspace/src/objective/regression_obj.cu:152: reg:linear is now deprecated in favor of reg:squarederror.\n",
      "[21:02:19] WARNING: /workspace/src/objective/regression_obj.cu:152: reg:linear is now deprecated in favor of reg:squarederror.\n",
      "[21:02:52] WARNING: /workspace/src/objective/regression_obj.cu:152: reg:linear is now deprecated in favor of reg:squarederror.\n",
      "[21:02:58] WARNING: /workspace/src/objective/regression_obj.cu:152: reg:linear is now deprecated in favor of reg:squarederror.\n",
      "[21:03:03] WARNING: /workspace/src/objective/regression_obj.cu:152: reg:linear is now deprecated in favor of reg:squarederror.\n",
      "[21:03:09] WARNING: /workspace/src/objective/regression_obj.cu:152: reg:linear is now deprecated in favor of reg:squarederror.\n",
      "[21:03:14] WARNING: /workspace/src/objective/regression_obj.cu:152: reg:linear is now deprecated in favor of reg:squarederror.\n",
      "[21:03:20] WARNING: /workspace/src/objective/regression_obj.cu:152: reg:linear is now deprecated in favor of reg:squarederror.\n",
      "[21:03:25] WARNING: /workspace/src/objective/regression_obj.cu:152: reg:linear is now deprecated in favor of reg:squarederror.\n",
      "[21:03:30] WARNING: /workspace/src/objective/regression_obj.cu:152: reg:linear is now deprecated in favor of reg:squarederror.\n",
      "[21:03:36] WARNING: /workspace/src/objective/regression_obj.cu:152: reg:linear is now deprecated in favor of reg:squarederror.\n",
      "[21:03:41] WARNING: /workspace/src/objective/regression_obj.cu:152: reg:linear is now deprecated in favor of reg:squarederror.\n",
      "[21:03:47] WARNING: /workspace/src/objective/regression_obj.cu:152: reg:linear is now deprecated in favor of reg:squarederror.\n",
      "[21:04:14] WARNING: /workspace/src/objective/regression_obj.cu:152: reg:linear is now deprecated in favor of reg:squarederror.\n",
      "[21:04:42] WARNING: /workspace/src/objective/regression_obj.cu:152: reg:linear is now deprecated in favor of reg:squarederror.\n",
      "[21:05:09] WARNING: /workspace/src/objective/regression_obj.cu:152: reg:linear is now deprecated in favor of reg:squarederror.\n",
      "[21:05:37] WARNING: /workspace/src/objective/regression_obj.cu:152: reg:linear is now deprecated in favor of reg:squarederror.\n",
      "[21:06:04] WARNING: /workspace/src/objective/regression_obj.cu:152: reg:linear is now deprecated in favor of reg:squarederror.\n",
      "[21:06:32] WARNING: /workspace/src/objective/regression_obj.cu:152: reg:linear is now deprecated in favor of reg:squarederror.\n",
      "[21:06:59] WARNING: /workspace/src/objective/regression_obj.cu:152: reg:linear is now deprecated in favor of reg:squarederror.\n",
      "[21:07:27] WARNING: /workspace/src/objective/regression_obj.cu:152: reg:linear is now deprecated in favor of reg:squarederror.\n",
      "[21:07:54] WARNING: /workspace/src/objective/regression_obj.cu:152: reg:linear is now deprecated in favor of reg:squarederror.\n",
      "[21:08:22] WARNING: /workspace/src/objective/regression_obj.cu:152: reg:linear is now deprecated in favor of reg:squarederror.\n",
      "[21:08:25] WARNING: /workspace/src/objective/regression_obj.cu:152: reg:linear is now deprecated in favor of reg:squarederror.\n",
      "[21:08:28] WARNING: /workspace/src/objective/regression_obj.cu:152: reg:linear is now deprecated in favor of reg:squarederror.\n",
      "[21:08:30] WARNING: /workspace/src/objective/regression_obj.cu:152: reg:linear is now deprecated in favor of reg:squarederror.\n",
      "[21:08:33] WARNING: /workspace/src/objective/regression_obj.cu:152: reg:linear is now deprecated in favor of reg:squarederror.\n",
      "[21:08:36] WARNING: /workspace/src/objective/regression_obj.cu:152: reg:linear is now deprecated in favor of reg:squarederror.\n",
      "[21:08:39] WARNING: /workspace/src/objective/regression_obj.cu:152: reg:linear is now deprecated in favor of reg:squarederror.\n",
      "[21:08:42] WARNING: /workspace/src/objective/regression_obj.cu:152: reg:linear is now deprecated in favor of reg:squarederror.\n",
      "[21:08:45] WARNING: /workspace/src/objective/regression_obj.cu:152: reg:linear is now deprecated in favor of reg:squarederror.\n",
      "[21:08:48] WARNING: /workspace/src/objective/regression_obj.cu:152: reg:linear is now deprecated in favor of reg:squarederror.\n",
      "[21:08:51] WARNING: /workspace/src/objective/regression_obj.cu:152: reg:linear is now deprecated in favor of reg:squarederror.\n",
      "[21:08:53] WARNING: /workspace/src/objective/regression_obj.cu:152: reg:linear is now deprecated in favor of reg:squarederror.\n",
      "[21:08:56] WARNING: /workspace/src/objective/regression_obj.cu:152: reg:linear is now deprecated in favor of reg:squarederror.\n",
      "[21:08:59] WARNING: /workspace/src/objective/regression_obj.cu:152: reg:linear is now deprecated in favor of reg:squarederror.\n",
      "[21:09:01] WARNING: /workspace/src/objective/regression_obj.cu:152: reg:linear is now deprecated in favor of reg:squarederror.\n",
      "[21:09:04] WARNING: /workspace/src/objective/regression_obj.cu:152: reg:linear is now deprecated in favor of reg:squarederror.\n",
      "[21:09:06] WARNING: /workspace/src/objective/regression_obj.cu:152: reg:linear is now deprecated in favor of reg:squarederror.\n",
      "[21:09:09] WARNING: /workspace/src/objective/regression_obj.cu:152: reg:linear is now deprecated in favor of reg:squarederror.\n",
      "[21:09:11] WARNING: /workspace/src/objective/regression_obj.cu:152: reg:linear is now deprecated in favor of reg:squarederror.\n",
      "[21:09:14] WARNING: /workspace/src/objective/regression_obj.cu:152: reg:linear is now deprecated in favor of reg:squarederror.\n",
      "[21:09:16] WARNING: /workspace/src/objective/regression_obj.cu:152: reg:linear is now deprecated in favor of reg:squarederror.\n",
      "[21:09:25] WARNING: /workspace/src/objective/regression_obj.cu:152: reg:linear is now deprecated in favor of reg:squarederror.\n",
      "[21:09:33] WARNING: /workspace/src/objective/regression_obj.cu:152: reg:linear is now deprecated in favor of reg:squarederror.\n",
      "[21:09:42] WARNING: /workspace/src/objective/regression_obj.cu:152: reg:linear is now deprecated in favor of reg:squarederror.\n",
      "[21:09:51] WARNING: /workspace/src/objective/regression_obj.cu:152: reg:linear is now deprecated in favor of reg:squarederror.\n",
      "[21:09:59] WARNING: /workspace/src/objective/regression_obj.cu:152: reg:linear is now deprecated in favor of reg:squarederror.\n",
      "[21:10:08] WARNING: /workspace/src/objective/regression_obj.cu:152: reg:linear is now deprecated in favor of reg:squarederror.\n",
      "[21:10:16] WARNING: /workspace/src/objective/regression_obj.cu:152: reg:linear is now deprecated in favor of reg:squarederror.\n",
      "[21:10:25] WARNING: /workspace/src/objective/regression_obj.cu:152: reg:linear is now deprecated in favor of reg:squarederror.\n",
      "[21:10:33] WARNING: /workspace/src/objective/regression_obj.cu:152: reg:linear is now deprecated in favor of reg:squarederror.\n",
      "[21:10:42] WARNING: /workspace/src/objective/regression_obj.cu:152: reg:linear is now deprecated in favor of reg:squarederror.\n",
      "[21:11:03] WARNING: /workspace/src/objective/regression_obj.cu:152: reg:linear is now deprecated in favor of reg:squarederror.\n",
      "[21:11:25] WARNING: /workspace/src/objective/regression_obj.cu:152: reg:linear is now deprecated in favor of reg:squarederror.\n",
      "[21:11:46] WARNING: /workspace/src/objective/regression_obj.cu:152: reg:linear is now deprecated in favor of reg:squarederror.\n",
      "[21:12:09] WARNING: /workspace/src/objective/regression_obj.cu:152: reg:linear is now deprecated in favor of reg:squarederror.\n",
      "[21:12:31] WARNING: /workspace/src/objective/regression_obj.cu:152: reg:linear is now deprecated in favor of reg:squarederror.\n",
      "[21:12:54] WARNING: /workspace/src/objective/regression_obj.cu:152: reg:linear is now deprecated in favor of reg:squarederror.\n",
      "[21:13:16] WARNING: /workspace/src/objective/regression_obj.cu:152: reg:linear is now deprecated in favor of reg:squarederror.\n",
      "[21:13:38] WARNING: /workspace/src/objective/regression_obj.cu:152: reg:linear is now deprecated in favor of reg:squarederror.\n",
      "[21:14:00] WARNING: /workspace/src/objective/regression_obj.cu:152: reg:linear is now deprecated in favor of reg:squarederror.\n",
      "[21:14:23] WARNING: /workspace/src/objective/regression_obj.cu:152: reg:linear is now deprecated in favor of reg:squarederror.\n",
      "[21:14:26] WARNING: /workspace/src/objective/regression_obj.cu:152: reg:linear is now deprecated in favor of reg:squarederror.\n",
      "[21:14:30] WARNING: /workspace/src/objective/regression_obj.cu:152: reg:linear is now deprecated in favor of reg:squarederror.\n",
      "[21:14:33] WARNING: /workspace/src/objective/regression_obj.cu:152: reg:linear is now deprecated in favor of reg:squarederror.\n",
      "[21:14:37] WARNING: /workspace/src/objective/regression_obj.cu:152: reg:linear is now deprecated in favor of reg:squarederror.\n",
      "[21:14:40] WARNING: /workspace/src/objective/regression_obj.cu:152: reg:linear is now deprecated in favor of reg:squarederror.\n",
      "[21:14:44] WARNING: /workspace/src/objective/regression_obj.cu:152: reg:linear is now deprecated in favor of reg:squarederror.\n",
      "[21:14:47] WARNING: /workspace/src/objective/regression_obj.cu:152: reg:linear is now deprecated in favor of reg:squarederror.\n",
      "[21:14:50] WARNING: /workspace/src/objective/regression_obj.cu:152: reg:linear is now deprecated in favor of reg:squarederror.\n",
      "[21:14:54] WARNING: /workspace/src/objective/regression_obj.cu:152: reg:linear is now deprecated in favor of reg:squarederror.\n",
      "[21:14:57] WARNING: /workspace/src/objective/regression_obj.cu:152: reg:linear is now deprecated in favor of reg:squarederror.\n",
      "[21:15:55] WARNING: /workspace/src/objective/regression_obj.cu:152: reg:linear is now deprecated in favor of reg:squarederror.\n",
      "[21:16:55] WARNING: /workspace/src/objective/regression_obj.cu:152: reg:linear is now deprecated in favor of reg:squarederror.\n",
      "[21:17:54] WARNING: /workspace/src/objective/regression_obj.cu:152: reg:linear is now deprecated in favor of reg:squarederror.\n",
      "[21:18:53] WARNING: /workspace/src/objective/regression_obj.cu:152: reg:linear is now deprecated in favor of reg:squarederror.\n",
      "[21:19:52] WARNING: /workspace/src/objective/regression_obj.cu:152: reg:linear is now deprecated in favor of reg:squarederror.\n",
      "[21:20:51] WARNING: /workspace/src/objective/regression_obj.cu:152: reg:linear is now deprecated in favor of reg:squarederror.\n",
      "[21:21:50] WARNING: /workspace/src/objective/regression_obj.cu:152: reg:linear is now deprecated in favor of reg:squarederror.\n",
      "[21:22:48] WARNING: /workspace/src/objective/regression_obj.cu:152: reg:linear is now deprecated in favor of reg:squarederror.\n",
      "[21:23:47] WARNING: /workspace/src/objective/regression_obj.cu:152: reg:linear is now deprecated in favor of reg:squarederror.\n",
      "[21:24:46] WARNING: /workspace/src/objective/regression_obj.cu:152: reg:linear is now deprecated in favor of reg:squarederror.\n",
      "[21:24:48] WARNING: /workspace/src/objective/regression_obj.cu:152: reg:linear is now deprecated in favor of reg:squarederror.\n",
      "[21:24:50] WARNING: /workspace/src/objective/regression_obj.cu:152: reg:linear is now deprecated in favor of reg:squarederror.\n",
      "[21:24:53] WARNING: /workspace/src/objective/regression_obj.cu:152: reg:linear is now deprecated in favor of reg:squarederror.\n",
      "[21:24:55] WARNING: /workspace/src/objective/regression_obj.cu:152: reg:linear is now deprecated in favor of reg:squarederror.\n",
      "[21:24:57] WARNING: /workspace/src/objective/regression_obj.cu:152: reg:linear is now deprecated in favor of reg:squarederror.\n",
      "[21:24:59] WARNING: /workspace/src/objective/regression_obj.cu:152: reg:linear is now deprecated in favor of reg:squarederror.\n",
      "[21:25:02] WARNING: /workspace/src/objective/regression_obj.cu:152: reg:linear is now deprecated in favor of reg:squarederror.\n",
      "[21:25:04] WARNING: /workspace/src/objective/regression_obj.cu:152: reg:linear is now deprecated in favor of reg:squarederror.\n",
      "[21:25:06] WARNING: /workspace/src/objective/regression_obj.cu:152: reg:linear is now deprecated in favor of reg:squarederror.\n",
      "[21:25:08] WARNING: /workspace/src/objective/regression_obj.cu:152: reg:linear is now deprecated in favor of reg:squarederror.\n",
      "XGBRegressor(base_score=0.5, booster='gbtree', colsample_bylevel=1,\n",
      "             colsample_bynode=1, colsample_bytree=1, gamma=0,\n",
      "             importance_type='gain', learning_rate=0.1, max_delta_step=0,\n",
      "             max_depth=7, min_child_weight=1, missing=None, n_estimators=250,\n",
      "             n_jobs=1, nthread=None, objective='reg:linear', random_state=0,\n",
      "             reg_alpha=0, reg_lambda=1, scale_pos_weight=1, seed=None,\n",
      "             silent=None, subsample=1, verbosity=1)\n"
     ]
    }
   ],
   "source": [
    "import xgboost as xgb\n",
    "model_d = xgb.XGBRegressor()\n",
    "param_grid = {\"n_estimators\":[25, 50, 100, 200, 250, 500], \"max_depth\": [3, 5, 7, 9, 11, 13]}\n",
    "d = RandomizedSearchCV(model_d, param_distributions = param_grid, n_iter=10, cv=10, return_train_score=True)\n",
    "d.fit(X_tr_total, y_train)\n",
    "print(d.best_estimator_)"
   ]
  },
  {
   "cell_type": "markdown",
   "metadata": {
    "colab_type": "text",
    "id": "JXbghUlQXQvB"
   },
   "source": [
    "## Applying xgboost"
   ]
  },
  {
   "cell_type": "code",
   "execution_count": null,
   "metadata": {
    "colab": {
     "base_uri": "https://localhost:8080/",
     "height": 51
    },
    "colab_type": "code",
    "id": "iB2f8KQc-U0q",
    "outputId": "c595282f-e921-4741-8507-0dcb73062a1c"
   },
   "outputs": [
    {
     "name": "stdout",
     "output_type": "stream",
     "text": [
      "[15:52:58] WARNING: /workspace/src/objective/regression_obj.cu:152: reg:linear is now deprecated in favor of reg:squarederror.\n"
     ]
    },
    {
     "data": {
      "text/plain": [
       "0.038084723971161166"
      ]
     },
     "execution_count": 164,
     "metadata": {
      "tags": []
     },
     "output_type": "execute_result"
    }
   ],
   "source": [
    "from xgboost.sklearn import XGBRegressor\n",
    "c=XGBRegressor(base_score=0.5, booster='gbtree', colsample_bylevel=1,\n",
    "             colsample_bynode=1, colsample_bytree=1, gamma=0,\n",
    "             importance_type='gain', learning_rate=0.1, max_delta_step=0,\n",
    "             max_depth=7, min_child_weight=1, missing=None, n_estimators=250,\n",
    "             n_jobs=1, nthread=None, objective='reg:linear', random_state=0,\n",
    "             reg_alpha=0, reg_lambda=1, scale_pos_weight=1, seed=None,\n",
    "             silent=None, subsample=1, verbosity=1)\n",
    "c.fit(X_tr_total,y_train)\n",
    "y_pred_lr = c.predict(X_test_total)\n",
    "mean_squared_error(y_test, y_pred_lr)"
   ]
  },
  {
   "cell_type": "markdown",
   "metadata": {
    "colab_type": "text",
    "id": "HFIA5M6YXUzF"
   },
   "source": [
    "## Hyperparameter tuning for Linear regression"
   ]
  },
  {
   "cell_type": "code",
   "execution_count": null,
   "metadata": {
    "colab": {
     "base_uri": "https://localhost:8080/",
     "height": 119
    },
    "colab_type": "code",
    "id": "Pu7zDyQ5anbp",
    "outputId": "afaf54b1-07e8-4609-c7ae-86ee995475c2"
   },
   "outputs": [
    {
     "name": "stdout",
     "output_type": "stream",
     "text": [
      "SGDRegressor(alpha=0.001, average=False, early_stopping=False, epsilon=0.1,\n",
      "             eta0=0.01, fit_intercept=True, l1_ratio=0.15,\n",
      "             learning_rate='invscaling', loss='squared_loss', max_iter=1000,\n",
      "             n_iter_no_change=5, penalty='l2', power_t=0.25, random_state=None,\n",
      "             shuffle=True, tol=0.001, validation_fraction=0.1, verbose=0,\n",
      "             warm_start=False)\n"
     ]
    }
   ],
   "source": [
    " from sklearn.linear_model import SGDRegressor\n",
    "model_d = SGDRegressor(loss='squared_loss')\n",
    "param_grid = {\"alpha\":[0.001, 0.01,0.1,1,10,100,1000]}\n",
    "d = RandomizedSearchCV(model_d, param_distributions = param_grid, n_iter=10, cv=10, return_train_score=True)\n",
    "d.fit(X_tr_total, y_train)\n",
    "print(d.best_estimator_)"
   ]
  },
  {
   "cell_type": "markdown",
   "metadata": {
    "colab_type": "text",
    "id": "PGmW4j6tXfvs"
   },
   "source": [
    "## Applying linear regression"
   ]
  },
  {
   "cell_type": "code",
   "execution_count": null,
   "metadata": {
    "colab": {},
    "colab_type": "code",
    "id": "tCIrfVa-CLVb"
   },
   "outputs": [],
   "source": [
    "from sklearn.linear_model import SGDRegressor\n",
    "x = SGDRegressor(alpha=0.001, average=False, early_stopping=False, epsilon=0.1,\n",
    "             eta0=0.01, fit_intercept=True, l1_ratio=0.15,\n",
    "             learning_rate='invscaling', loss='squared_loss', max_iter=1000,\n",
    "             n_iter_no_change=5, penalty='l2', power_t=0.25, random_state=None,\n",
    "             shuffle=True, tol=0.001, validation_fraction=0.1, verbose=0,\n",
    "             warm_start=False)"
   ]
  },
  {
   "cell_type": "code",
   "execution_count": null,
   "metadata": {
    "colab": {
     "base_uri": "https://localhost:8080/",
     "height": 119
    },
    "colab_type": "code",
    "id": "zKasQvZnY-_F",
    "outputId": "862c756e-7436-436e-f6b1-8a122e5ef662"
   },
   "outputs": [
    {
     "data": {
      "text/plain": [
       "SGDRegressor(alpha=0.001, average=False, early_stopping=False, epsilon=0.1,\n",
       "             eta0=0.01, fit_intercept=True, l1_ratio=0.15,\n",
       "             learning_rate='invscaling', loss='squared_loss', max_iter=1000,\n",
       "             n_iter_no_change=5, penalty='l2', power_t=0.25, random_state=None,\n",
       "             shuffle=True, tol=0.001, validation_fraction=0.1, verbose=0,\n",
       "             warm_start=False)"
      ]
     },
     "execution_count": 169,
     "metadata": {
      "tags": []
     },
     "output_type": "execute_result"
    }
   ],
   "source": [
    "x.fit(X_tr_total, y_train)"
   ]
  },
  {
   "cell_type": "code",
   "execution_count": null,
   "metadata": {
    "colab": {
     "base_uri": "https://localhost:8080/",
     "height": 34
    },
    "colab_type": "code",
    "id": "x3hSS2dkaZxG",
    "outputId": "7be71e1c-ffd1-4da4-adea-2e9b827f096d"
   },
   "outputs": [
    {
     "data": {
      "text/plain": [
       "0.08059014915125161"
      ]
     },
     "execution_count": 170,
     "metadata": {
      "tags": []
     },
     "output_type": "execute_result"
    }
   ],
   "source": [
    "from sklearn.metrics import mean_squared_error\n",
    "y_pred_lr = x.predict(X_test_total)\n",
    "mean_squared_error(y_test, y_pred_lr)"
   ]
  },
  {
   "cell_type": "markdown",
   "metadata": {
    "colab_type": "text",
    "id": "wO8zV76Mm4DJ"
   },
   "source": [
    "## Deep Learning MODELS"
   ]
  },
  {
   "cell_type": "code",
   "execution_count": 267,
   "metadata": {
    "colab": {},
    "colab_type": "code",
    "id": "yC667EHnpVOL"
   },
   "outputs": [],
   "source": [
    "X=k.copy()\n",
    "Y=y\n",
    "x_train, x_test, y_train, y_test = train_test_split(np.asarray(X), np.asarray(Y), test_size=0.33, shuffle= True)"
   ]
  },
  {
   "cell_type": "code",
   "execution_count": 155,
   "metadata": {
    "colab": {},
    "colab_type": "code",
    "id": "CF7X27CmpUwW"
   },
   "outputs": [],
   "source": [
    "import keras\n",
    "num_classes = 10\n",
    "\n",
    "input_shape = (10,)\n",
    "\n",
    "y_train_binary = keras.utils.to_categorical(y_train, num_classes)\n",
    "y_test_binary = keras.utils.to_categorical(y_test, num_classes)\n",
    "\n",
    "x_train = x_train.reshape(34650, 10,1)\n",
    "x_test = x_test.reshape(17067, 10,1)"
   ]
  },
  {
   "cell_type": "markdown",
   "metadata": {
    "colab_type": "text",
    "id": "x4p89tnftp69"
   },
   "source": [
    "### CNN-LSTM model"
   ]
  },
  {
   "cell_type": "code",
   "execution_count": 217,
   "metadata": {
    "colab": {
     "base_uri": "https://localhost:8080/",
     "height": 493
    },
    "colab_type": "code",
    "id": "8LM7jjaAUasg",
    "outputId": "d8da4a5a-473d-4366-e852-468e9f50ef94"
   },
   "outputs": [
    {
     "name": "stdout",
     "output_type": "stream",
     "text": [
      "Model: \"model_30\"\n",
      "_________________________________________________________________\n",
      "Layer (type)                 Output Shape              Param #   \n",
      "=================================================================\n",
      "input_40 (InputLayer)        (None, 10, 1)             0         \n",
      "_________________________________________________________________\n",
      "conv1d_88 (Conv1D)           (None, 8, 64)             256       \n",
      "_________________________________________________________________\n",
      "dropout_61 (Dropout)         (None, 8, 64)             0         \n",
      "_________________________________________________________________\n",
      "max_pooling1d_79 (MaxPooling (None, 8, 64)             0         \n",
      "_________________________________________________________________\n",
      "dropout_62 (Dropout)         (None, 8, 64)             0         \n",
      "_________________________________________________________________\n",
      "lstm_31 (LSTM)               (None, 8, 64)             33024     \n",
      "_________________________________________________________________\n",
      "conv1d_89 (Conv1D)           (None, 1, 128)            65664     \n",
      "_________________________________________________________________\n",
      "dropout_63 (Dropout)         (None, 1, 128)            0         \n",
      "_________________________________________________________________\n",
      "lstm_32 (LSTM)               (None, 128)               131584    \n",
      "_________________________________________________________________\n",
      "dense_30 (Dense)             (None, 1)                 129       \n",
      "=================================================================\n",
      "Total params: 230,657\n",
      "Trainable params: 230,657\n",
      "Non-trainable params: 0\n",
      "_________________________________________________________________\n"
     ]
    }
   ],
   "source": [
    "from keras.layers import Input, Dense, LSTM, MaxPooling1D, Conv1D,Dropout\n",
    "from keras.models import Model\n",
    "#k = Dropout(0.5)(pool1)\n",
    "\n",
    "input_layer = Input(shape=(10, 1))\n",
    "conv2 = Conv1D(filters=64,\n",
    "               kernel_size=3,\n",
    "               strides=1,\n",
    "               activation='relu')(input_layer)\n",
    "dropout1 = Dropout(0.25)(conv2)\n",
    "pool1 = MaxPooling1D(pool_size=1)(dropout1)\n",
    "dropout1 = Dropout(0.5)(pool1)\n",
    "lstm1 = LSTM(64,return_sequences=True)(dropout1)\n",
    "conv3 = Conv1D(filters=128,\n",
    "               kernel_size=8,\n",
    "               strides=1,\n",
    "               activation='relu')(lstm1)\n",
    "dropout2 = Dropout(0.25)(conv3)\n",
    "lstm2 = LSTM(128,return_sequences=False)(dropout2)\n",
    "output_layer = Dense(1, activation='sigmoid')(lstm2)\n",
    "model = Model(inputs=input_layer, outputs=output_layer)\n",
    "\n",
    "model.summary()\n"
   ]
  },
  {
   "cell_type": "code",
   "execution_count": 255,
   "metadata": {
    "colab": {
     "base_uri": "https://localhost:8080/",
     "height": 391
    },
    "colab_type": "code",
    "id": "nE3BhBCFpUZl",
    "outputId": "bb0c23b0-bfcf-49d4-fa35-4e3c8a8150ba"
   },
   "outputs": [
    {
     "name": "stdout",
     "output_type": "stream",
     "text": [
      "Train on 34650 samples, validate on 17067 samples\n",
      "Epoch 1/10\n",
      "34650/34650 [==============================] - 10s 287us/step - loss: 7.2646 - val_loss: 7.2830\n",
      "Epoch 2/10\n",
      "34650/34650 [==============================] - 9s 252us/step - loss: 7.2646 - val_loss: 7.2830\n",
      "Epoch 3/10\n",
      "34650/34650 [==============================] - 9s 252us/step - loss: 7.2646 - val_loss: 7.2830\n",
      "Epoch 4/10\n",
      "34650/34650 [==============================] - 9s 253us/step - loss: 7.2646 - val_loss: 7.2830\n",
      "Epoch 5/10\n",
      "34650/34650 [==============================] - 9s 251us/step - loss: 7.2646 - val_loss: 7.2830\n",
      "Epoch 6/10\n",
      "34650/34650 [==============================] - 9s 253us/step - loss: 7.2646 - val_loss: 7.2830\n",
      "Epoch 7/10\n",
      "34650/34650 [==============================] - 9s 251us/step - loss: 7.2646 - val_loss: 7.2830\n",
      "Epoch 8/10\n",
      "34650/34650 [==============================] - 9s 254us/step - loss: 7.2646 - val_loss: 7.2830\n",
      "Epoch 9/10\n",
      "34650/34650 [==============================] - 9s 258us/step - loss: 7.2646 - val_loss: 7.2830\n",
      "Epoch 10/10\n",
      "34650/34650 [==============================] - 9s 254us/step - loss: 7.2646 - val_loss: 7.2830\n"
     ]
    },
    {
     "data": {
      "text/plain": [
       "<keras.callbacks.callbacks.History at 0x7efecb305fd0>"
      ]
     },
     "execution_count": 255,
     "metadata": {
      "tags": []
     },
     "output_type": "execute_result"
    }
   ],
   "source": [
    "model.compile(loss='mse',optimizer='adam')\n",
    "model.fit(x_train, y_train,\n",
    "          batch_size=128,\n",
    "          epochs=10,\n",
    "          validation_data=(x_test, y_test), verbose=1)"
   ]
  },
  {
   "cell_type": "code",
   "execution_count": 256,
   "metadata": {
    "colab": {
     "base_uri": "https://localhost:8080/",
     "height": 51
    },
    "colab_type": "code",
    "id": "lDp0km52mxnw",
    "outputId": "f4cb53fa-7915-479c-afa1-db7c94da7c72"
   },
   "outputs": [
    {
     "name": "stdout",
     "output_type": "stream",
     "text": [
      "17067/17067 [==============================] - 1s 76us/step\n"
     ]
    },
    {
     "data": {
      "text/plain": [
       "7.2829501636838385"
      ]
     },
     "execution_count": 256,
     "metadata": {
      "tags": []
     },
     "output_type": "execute_result"
    }
   ],
   "source": [
    "score = model.evaluate(x_test, y_test)\n",
    "score"
   ]
  },
  {
   "cell_type": "code",
   "execution_count": 260,
   "metadata": {
    "colab": {},
    "colab_type": "code",
    "id": "mrXMTTt1pzOG"
   },
   "outputs": [],
   "source": [
    "model.save_weights(\"model_1_weights.h5\")"
   ]
  },
  {
   "cell_type": "markdown",
   "metadata": {
    "colab_type": "text",
    "id": "_bWl8r5rvSNA"
   },
   "source": [
    "### CNN Model"
   ]
  },
  {
   "cell_type": "code",
   "execution_count": 269,
   "metadata": {
    "colab": {
     "base_uri": "https://localhost:8080/",
     "height": 391
    },
    "colab_type": "code",
    "id": "QyeSAoyVuLLg",
    "outputId": "7d907a85-7333-4f17-a1e6-aa7f71c6eb59"
   },
   "outputs": [
    {
     "name": "stdout",
     "output_type": "stream",
     "text": [
      "Train on 34650 samples, validate on 17067 samples\n",
      "Epoch 1/10\n",
      "34650/34650 [==============================] - 4s 103us/step - loss: 7.2887 - val_loss: 7.2830\n",
      "Epoch 2/10\n",
      "34650/34650 [==============================] - 3s 96us/step - loss: 7.2646 - val_loss: 7.2830\n",
      "Epoch 3/10\n",
      "34650/34650 [==============================] - 3s 95us/step - loss: 7.2646 - val_loss: 7.2830\n",
      "Epoch 4/10\n",
      "34650/34650 [==============================] - 3s 97us/step - loss: 7.2646 - val_loss: 7.2830\n",
      "Epoch 5/10\n",
      "34650/34650 [==============================] - 3s 96us/step - loss: 7.2646 - val_loss: 7.2830\n",
      "Epoch 6/10\n",
      "34650/34650 [==============================] - 3s 96us/step - loss: 7.2646 - val_loss: 7.2830\n",
      "Epoch 7/10\n",
      "34650/34650 [==============================] - 3s 96us/step - loss: 7.2646 - val_loss: 7.2830\n",
      "Epoch 8/10\n",
      "34650/34650 [==============================] - 3s 96us/step - loss: 7.2646 - val_loss: 7.2830\n",
      "Epoch 9/10\n",
      "34650/34650 [==============================] - 3s 96us/step - loss: 7.2646 - val_loss: 7.2830\n",
      "Epoch 10/10\n",
      "34650/34650 [==============================] - 3s 96us/step - loss: 7.2646 - val_loss: 7.2830\n"
     ]
    },
    {
     "data": {
      "text/plain": [
       "<keras.callbacks.callbacks.History at 0x7efeca4f4ef0>"
      ]
     },
     "execution_count": 269,
     "metadata": {
      "tags": []
     },
     "output_type": "execute_result"
    }
   ],
   "source": [
    "from keras.layers import Input, Dense, LSTM, MaxPooling1D, Conv1D,Dropout, GlobalMaxPool1D\n",
    "input_layer = Input(shape=(10, 1))\n",
    "conv2 = Conv1D(filters=64,\n",
    "               kernel_size=3,\n",
    "               strides=1,\n",
    "               activation='relu')(input_layer)\n",
    "pool1 = MaxPooling1D(pool_size=1)(conv2)\n",
    "drop1 = Dropout(0.5)(pool1)\n",
    "pool2 = MaxPooling1D(pool_size=1)(drop1)\n",
    "conv3 = Conv1D(filters=64,\n",
    "               kernel_size=3,\n",
    "               strides=1,\n",
    "               activation='relu')(pool2)\n",
    "drop2 = Dropout(0.5)(conv3)\n",
    "conv4 = Conv1D(filters=64,\n",
    "               kernel_size=3,\n",
    "               strides=1,\n",
    "               activation='relu')(drop2)\n",
    "pool3 = MaxPooling1D(pool_size=1)(conv4)\n",
    "conv5 = Conv1D(filters=64,\n",
    "               kernel_size=3,\n",
    "               strides=1,\n",
    "               activation='relu')(pool3)\n",
    "x = GlobalMaxPool1D()(conv5) \n",
    "output_layer = Dense(1, activation='sigmoid')(x)\n",
    "model_2 = Model(inputs=input_layer, outputs=output_layer)\n",
    "\n",
    "model_2.compile(loss='mse',optimizer='adam')\n",
    "model_2.fit(x_train, y_train,\n",
    "          batch_size=128,\n",
    "          epochs=10,\n",
    "          validation_data=(x_test, y_test), verbose=1)"
   ]
  },
  {
   "cell_type": "code",
   "execution_count": 270,
   "metadata": {
    "colab": {
     "base_uri": "https://localhost:8080/",
     "height": 51
    },
    "colab_type": "code",
    "id": "KwyYVgKqqV9B",
    "outputId": "9c2a6647-5e7a-4d4e-9325-6e2c6cccfed1"
   },
   "outputs": [
    {
     "name": "stdout",
     "output_type": "stream",
     "text": [
      "34650/34650 [==============================] - 1s 38us/step\n"
     ]
    },
    {
     "data": {
      "text/plain": [
       "7.264551804750341"
      ]
     },
     "execution_count": 270,
     "metadata": {
      "tags": []
     },
     "output_type": "execute_result"
    }
   ],
   "source": [
    "model_2.evaluate(x_train,y_train)"
   ]
  },
  {
   "cell_type": "code",
   "execution_count": 271,
   "metadata": {
    "colab": {},
    "colab_type": "code",
    "id": "nrW3pepJrMtW"
   },
   "outputs": [],
   "source": [
    "model_2.save_weights('model_2_weights.h5')"
   ]
  },
  {
   "cell_type": "markdown",
   "metadata": {
    "colab_type": "text",
    "id": "PpK3Uryhvl2r"
   },
   "source": [
    "### LSTM Model"
   ]
  },
  {
   "cell_type": "code",
   "execution_count": 272,
   "metadata": {
    "colab": {
     "base_uri": "https://localhost:8080/",
     "height": 391
    },
    "colab_type": "code",
    "id": "3Q-eC8shvpfv",
    "outputId": "de407277-bd0f-4b79-f2e6-a086645f50fd"
   },
   "outputs": [
    {
     "name": "stdout",
     "output_type": "stream",
     "text": [
      "Train on 34650 samples, validate on 17067 samples\n",
      "Epoch 1/10\n",
      "34650/34650 [==============================] - 31s 901us/step - loss: 7.4128 - val_loss: 7.2932\n",
      "Epoch 2/10\n",
      "34650/34650 [==============================] - 30s 857us/step - loss: 7.2707 - val_loss: 7.2865\n",
      "Epoch 3/10\n",
      "34650/34650 [==============================] - 30s 856us/step - loss: 7.2665 - val_loss: 7.2836\n",
      "Epoch 4/10\n",
      "34650/34650 [==============================] - 29s 850us/step - loss: 7.2650 - val_loss: 7.2831\n",
      "Epoch 5/10\n",
      "34650/34650 [==============================] - 29s 846us/step - loss: 7.2647 - val_loss: 7.2830\n",
      "Epoch 6/10\n",
      "34650/34650 [==============================] - 29s 848us/step - loss: 7.2646 - val_loss: 7.2830\n",
      "Epoch 7/10\n",
      "34650/34650 [==============================] - 30s 865us/step - loss: 7.2646 - val_loss: 7.2830\n",
      "Epoch 8/10\n",
      "34650/34650 [==============================] - 29s 851us/step - loss: 7.2646 - val_loss: 7.2830\n",
      "Epoch 9/10\n",
      "34650/34650 [==============================] - 29s 847us/step - loss: 7.2646 - val_loss: 7.2830\n",
      "Epoch 10/10\n",
      "34650/34650 [==============================] - 29s 843us/step - loss: 7.2646 - val_loss: 7.2830\n"
     ]
    },
    {
     "data": {
      "text/plain": [
       "<keras.callbacks.callbacks.History at 0x7efeca1a5c18>"
      ]
     },
     "execution_count": 272,
     "metadata": {
      "tags": []
     },
     "output_type": "execute_result"
    }
   ],
   "source": [
    "from keras.layers import Input, Dense, LSTM, MaxPooling1D, Conv1D,Dropout, GlobalMaxPool1D\n",
    "input_layer = Input(shape=(10, 1))\n",
    "lstm1 = LSTM(64,return_sequences=True)(input_layer)\n",
    "pool1 = MaxPooling1D(pool_size=1)(lstm1)\n",
    "drop1 = Dropout(0.5)(pool1)\n",
    "pool2 = MaxPooling1D(pool_size=1)(drop1)\n",
    "lstm2 = LSTM(128,return_sequences=True)(pool2)\n",
    "drop2 = Dropout(0.5)(lstm2)\n",
    "lstm3 = LSTM(64,return_sequences=True)(drop2)\n",
    "pool3 = MaxPooling1D(pool_size=1)(lstm3)\n",
    "lstm4 = LSTM(64,return_sequences=True)(pool3)\n",
    "x = GlobalMaxPool1D()(lstm4)\n",
    "output_layer = Dense(1, activation='sigmoid')(x)\n",
    "model_3 = Model(inputs=input_layer, outputs=output_layer)\n",
    "\n",
    "model_3.compile(loss='mse',optimizer='adam')\n",
    "model_3.fit(x_train, y_train,\n",
    "          batch_size=128,\n",
    "          epochs=10,\n",
    "          validation_data=(x_test, y_test), verbose=1)"
   ]
  },
  {
   "cell_type": "code",
   "execution_count": 273,
   "metadata": {
    "colab": {
     "base_uri": "https://localhost:8080/",
     "height": 51
    },
    "colab_type": "code",
    "id": "NCP7tvqIr8xD",
    "outputId": "122c8708-f52a-41ab-ec58-9f1b23609124"
   },
   "outputs": [
    {
     "name": "stdout",
     "output_type": "stream",
     "text": [
      "17067/17067 [==============================] - 4s 256us/step\n"
     ]
    },
    {
     "data": {
      "text/plain": [
       "7.282953401102768"
      ]
     },
     "execution_count": 273,
     "metadata": {
      "tags": []
     },
     "output_type": "execute_result"
    }
   ],
   "source": [
    "model_3.evaluate(x_test,y_test)"
   ]
  },
  {
   "cell_type": "code",
   "execution_count": null,
   "metadata": {
    "colab": {},
    "colab_type": "code",
    "id": "v9lsbJIJsDN5"
   },
   "outputs": [],
   "source": [
    "model_3.save_weights('model_3_weights.h5')"
   ]
  },
  {
   "cell_type": "markdown",
   "metadata": {
    "colab_type": "text",
    "id": "jRCsRM3NYIWu"
   },
   "source": [
    "# Conclusion"
   ]
  },
  {
   "cell_type": "code",
   "execution_count": 275,
   "metadata": {
    "colab": {
     "base_uri": "https://localhost:8080/",
     "height": 204
    },
    "colab_type": "code",
    "id": "XrlxD3n7X-0F",
    "outputId": "0ad274e8-e324-4c85-ec70-ebc4361d67e4"
   },
   "outputs": [
    {
     "name": "stdout",
     "output_type": "stream",
     "text": [
      "+-------------------------+-------------------+\n",
      "|          Model          | Mean Squared Loss |\n",
      "+-------------------------+-------------------+\n",
      "| Random forest Regressor |        0.02       |\n",
      "| Decision tree Regressor |        0.06       |\n",
      "|         CNN-LSTM        |        0.07       |\n",
      "|        CNN Model        |        0.07       |\n",
      "|         CNN-LSTM        |        0.07       |\n",
      "|    XGboost Regressor    |        0.03       |\n",
      "|     Linear Regressor    |        0.08       |\n",
      "+-------------------------+-------------------+\n"
     ]
    }
   ],
   "source": [
    "from prettytable import PrettyTable\n",
    "ptable = PrettyTable()\n",
    "ptable.title = \" Model Comparision \"\n",
    "ptable.field_names = [\"Model\",'Mean Squared Loss']\n",
    "ptable.add_row([\"Random forest Regressor\",\"0.02\"])\n",
    "ptable.add_row([\"Decision tree Regressor\",\"0.06\"])\n",
    "ptable.add_row([\"CNN-LSTM\",\"0.07\"])\n",
    "ptable.add_row([\"CNN Model\",\"0.07\"])\n",
    "ptable.add_row([\"CNN-LSTM\",\"0.07\"])\n",
    "ptable.add_row([\"XGboost Regressor\",\"0.03\"])\n",
    "ptable.add_row([\"Linear Regressor\",\"0.08\"])\n",
    "print(ptable)"
   ]
  },
  {
   "cell_type": "markdown",
   "metadata": {
    "colab_type": "text",
    "id": "fR8Wz4OJT4Uf"
   },
   "source": [
    "#### Random Forest Regressor Model is giving the Best MSE Value of 0.02"
   ]
  }
 ],
 "metadata": {
  "colab": {
   "collapsed_sections": [],
   "name": "Self_case_st.ipynb",
   "provenance": []
  },
  "kernelspec": {
   "display_name": "Python 3",
   "language": "python",
   "name": "python3"
  },
  "language_info": {
   "codemirror_mode": {
    "name": "ipython",
    "version": 3
   },
   "file_extension": ".py",
   "mimetype": "text/x-python",
   "name": "python",
   "nbconvert_exporter": "python",
   "pygments_lexer": "ipython3",
   "version": "3.6.5"
  }
 },
 "nbformat": 4,
 "nbformat_minor": 1
}
